{
 "cells": [
  {
   "cell_type": "code",
   "execution_count": 83,
   "id": "bb030a66",
   "metadata": {},
   "outputs": [],
   "source": [
    "using Pkg\n",
    "#Pkg.add(\"PDFIO\")\n",
    "using PDFIO\n",
    "using DataFrames\n",
    "using CSV\n",
    "using Cascadia\n",
    "using Gumbo\n",
    "using HTTP\n",
    "#Pkg.add(\"Cascadia\")\n",
    "#Pkg.add(\"Statistics\")\n",
    "#Pkg.add(\"Metrics\")\n",
    "using ScikitLearn: fit!\n",
    "using ScikitLearn: predict\n",
    "using ScikitLearn\n",
    "using CSV, DataFrames\n",
    "using TextAnalysis\n",
    "using CSV\n",
    "using DataFrames\n",
    "using Pipe\n",
    "using Plots\n",
    "using TypedTables\n",
    "using PlutoUI\n",
    "using MLJBase\n",
    "using Tables\n",
    "using Markdown\n",
    "using Metrics\n",
    "using Statistics"
   ]
  },
  {
   "cell_type": "code",
   "execution_count": 84,
   "id": "62b38a41",
   "metadata": {},
   "outputs": [
    {
     "data": {
      "text/html": [
       "<div class=\"data-frame\"><p>0 rows × 5 columns</p><table class=\"data-frame\"><thead><tr><th></th><th>Email</th><th>Country</th><th>VAT</th><th>Telephone</th><th>Total_€</th></tr><tr><th></th><th title=\"Any\">Any</th><th title=\"Any\">Any</th><th title=\"Any\">Any</th><th title=\"Any\">Any</th><th title=\"Any\">Any</th></tr></thead><tbody></tbody></table></div>"
      ],
      "text/latex": [
       "\\begin{tabular}{r|ccccc}\n",
       "\t& Email & Country & VAT & Telephone & Total\\_€\\\\\n",
       "\t\\hline\n",
       "\t& Any & Any & Any & Any & Any\\\\\n",
       "\t\\hline\n",
       "\\end{tabular}\n"
      ],
      "text/plain": [
       "\u001b[1m0×5 DataFrame\u001b[0m"
      ]
     },
     "execution_count": 84,
     "metadata": {},
     "output_type": "execute_result"
    }
   ],
   "source": [
    "dataset = DataFrame(\n",
    "  Email=[] ,\n",
    "  Country=[],\n",
    "  VAT=[],\n",
    "  Telephone=[],\n",
    "  Total_€=[]\n",
    ")"
   ]
  },
  {
   "cell_type": "code",
   "execution_count": 85,
   "id": "dc7838bd",
   "metadata": {},
   "outputs": [
    {
     "data": {
      "text/plain": [
       "PDFIO.PD.PDPageImpl(\n",
       "PDDoc ==>\n",
       "\n",
       "CosDoc ==>\n",
       "\tfilepath:\t\t/Users/casper/Desktop/Bachelorproef/facturen/FACTUUR LACUS.pdf\n",
       "\tsize:\t\t\t152059\n",
       "\thasNativeXRefStm:\t false\n",
       "\tTrailer dictionaries: \n",
       "\t<<\n",
       "\t/Root\t31 0 R\n",
       "\t/Size\t63\n",
       "\t/Info\t62 0 R\n",
       "\t/ID\t[<f7a8a58d557b45042219ab89075e2a31> <f7a8a58d557b45042219ab89075e2a31> ]\n",
       ">>\n",
       "\n",
       "Catalog:\n",
       "31 0 obj\n",
       "<<\n",
       "\t/Version\t/1.4\n",
       "\t/Pages\t2 0 R\n",
       "\t/Type\t/Catalog\n",
       ">>\n",
       "endobj\n",
       "\n",
       "isTagged: none\n",
       ", \n",
       "1 0 obj\n",
       "<<\n",
       "\t/MediaBox\t[0 0 595 842 ]\n",
       "\t/Resources\t4 0 R\n",
       "\t/Contents\t3 0 R\n",
       "\t/Parent\t2 0 R\n",
       "\t/Type\t/Page\n",
       ">>\n",
       "endobj\n",
       "\n",
       ", null, nothing, Dict{CosName, PDFIO.PD.PDFont}(), Dict{CosName, PDFIO.PD.PDXObject}())"
      ]
     },
     "execution_count": 85,
     "metadata": {},
     "output_type": "execute_result"
    }
   ],
   "source": [
    "page = pdDocGetPage(doc, 1)"
   ]
  },
  {
   "cell_type": "code",
   "execution_count": 86,
   "id": "d823391b",
   "metadata": {},
   "outputs": [
    {
     "name": "stdout",
     "output_type": "stream",
     "text": [
      "     \n",
      "\n",
      "    GOFACTUUR                                                     \n",
      "\n",
      "\n",
      "\n",
      "\n",
      "   DATUM                 FACTUURNUMMER       STRNGR.C \n",
      "\n",
      "   23/1/2021               6                        Heuzelstraat 34 \n",
      "                                                      9790 Wortegem-Petegem \n",
      "                                                     0494664981 \n",
      "                                                     Fax: / \n",
      "                                                     Strngrclothingcompany@gmail.com \n",
      "   FACTUUR AAN:                                        BTW nr. 0729909558 \n",
      "   LACUS BV                                        BE62 1030 6202 1161 \n",
      "   BE0776625055 \n",
      "   LACUS@GMAIL.COM \n",
      "   Jan-baptiste davidstraat \n",
      "   1 Belgium \n",
      "     \n",
      "     VERKOPER      FUNCTIE         BETALINGSVOORWAARDEN   VERVALDATUM \n",
      "\n",
      "                                     Te betalen bij ontvangst               \n",
      "\n",
      "     \n",
      "     AANTAL          OMSCHRIJVING     PRIJS PER EENHEID  REGELTOTAAL \n",
      "     \n",
      "     \n",
      "     1                Bedrukking Trui       €  55                €  55 \n",
      "\n",
      "\n",
      "     1                Bedrukking tshirt       € 20                 € 20 \n",
      "\n",
      "\n",
      "                                                              \n",
      "\n",
      "\n",
      "                                                     Subtotaal                75€ \n",
      "                                                            Vrijstelling BTW volgens artikel Btw     56 van het btw wetboek \n",
      "                                                       Totaal                75€ \n",
      "     \n",
      "     \n",
      "\n",
      "\n",
      "\n",
      "\n",
      "\n",
      "\n",
      "\n",
      "                                                                                      \n",
      "     "
     ]
    }
   ],
   "source": [
    "info2=pdPageExtractText(stdout, page);"
   ]
  },
  {
   "cell_type": "code",
   "execution_count": 87,
   "id": "fe4f0d2e",
   "metadata": {},
   "outputs": [
    {
     "data": {
      "text/plain": [
       "getPDFText (generic function with 1 method)"
      ]
     },
     "execution_count": 87,
     "metadata": {},
     "output_type": "execute_result"
    }
   ],
   "source": [
    "function getPDFText(src, out)\n",
    "    # handle that can be used for subsequence operations on the document.\n",
    "    doc = pdDocOpen(src)\n",
    "    \n",
    "    # Metadata extracted from the PDF document. \n",
    "    # This value is retained and returned as the return from the function. \n",
    "    docinfo = pdDocGetInfo(doc) \n",
    "    open(out, \"w\") do io\n",
    "    \n",
    "        # Returns number of pages in the document       \n",
    "        npage = pdDocGetPageCount(doc)\n",
    "        #println(npage)\n",
    "\n",
    "        for i=1:npage\n",
    "        \n",
    "            # handle to the specific page given the number index. \n",
    "            page = pdDocGetPage(doc, i)\n",
    "            #println(i)\n",
    "            # Extract text from the page and write it to the output file.\n",
    "            d=pdPageExtractText(io, page)\n",
    "            println(d)\n",
    "            #println(io)\n",
    "\n",
    "        end\n",
    "    end\n",
    "    # Close the document handle. \n",
    "    # The doc handle should not be used after this call\n",
    "    pdDocClose(doc)\n",
    "    return docinfo\n",
    "end"
   ]
  },
  {
   "cell_type": "code",
   "execution_count": 88,
   "id": "83c4f970",
   "metadata": {},
   "outputs": [
    {
     "data": {
      "text/plain": [
       "\n",
       "PDDoc ==>\n",
       "\n",
       "CosDoc ==>\n",
       "\tfilepath:\t\t/Users/casper/Desktop/Bachelorproef/facturen/FACTUUR LACUS.pdf\n",
       "\tsize:\t\t\t152059\n",
       "\thasNativeXRefStm:\t false\n",
       "\tTrailer dictionaries: \n",
       "\t<<\n",
       "\t/Root\t31 0 R\n",
       "\t/Size\t63\n",
       "\t/Info\t62 0 R\n",
       "\t/ID\t[<f7a8a58d557b45042219ab89075e2a31> <f7a8a58d557b45042219ab89075e2a31> ]\n",
       ">>\n",
       "\n",
       "Catalog:\n",
       "31 0 obj\n",
       "<<\n",
       "\t/Version\t/1.4\n",
       "\t/Pages\t2 0 R\n",
       "\t/Type\t/Catalog\n",
       ">>\n",
       "endobj\n",
       "\n",
       "isTagged: none\n"
      ]
     },
     "execution_count": 88,
     "metadata": {},
     "output_type": "execute_result"
    }
   ],
   "source": [
    "doc = pdDocOpen(\"/Users/casper/Desktop/Bachelorproef/facturen/FACTUUR LACUS.pdf\")"
   ]
  },
  {
   "cell_type": "code",
   "execution_count": 89,
   "id": "210736d3",
   "metadata": {},
   "outputs": [
    {
     "data": {
      "text/plain": [
       "PDFIO.PD.PDPageImpl(\n",
       "PDDoc ==>\n",
       "\n",
       "CosDoc ==>\n",
       "\tfilepath:\t\t/Users/casper/Desktop/Bachelorproef/facturen/FACTUUR LACUS.pdf\n",
       "\tsize:\t\t\t152059\n",
       "\thasNativeXRefStm:\t false\n",
       "\tTrailer dictionaries: \n",
       "\t<<\n",
       "\t/Root\t31 0 R\n",
       "\t/Size\t63\n",
       "\t/Info\t62 0 R\n",
       "\t/ID\t[<f7a8a58d557b45042219ab89075e2a31> <f7a8a58d557b45042219ab89075e2a31> ]\n",
       ">>\n",
       "\n",
       "Catalog:\n",
       "31 0 obj\n",
       "<<\n",
       "\t/Version\t/1.4\n",
       "\t/Pages\t2 0 R\n",
       "\t/Type\t/Catalog\n",
       ">>\n",
       "endobj\n",
       "\n",
       "isTagged: none\n",
       ", \n",
       "1 0 obj\n",
       "<<\n",
       "\t/MediaBox\t[0 0 595 842 ]\n",
       "\t/Resources\t4 0 R\n",
       "\t/Contents\t3 0 R\n",
       "\t/Parent\t2 0 R\n",
       "\t/Type\t/Page\n",
       ">>\n",
       "endobj\n",
       "\n",
       ", null, nothing, Dict{CosName, PDFIO.PD.PDFont}(), Dict{CosName, PDFIO.PD.PDXObject}())"
      ]
     },
     "execution_count": 89,
     "metadata": {},
     "output_type": "execute_result"
    }
   ],
   "source": [
    "page = pdDocGetPage(doc, 1)\n"
   ]
  },
  {
   "cell_type": "code",
   "execution_count": 90,
   "id": "c5e4984e",
   "metadata": {},
   "outputs": [
    {
     "name": "stdout",
     "output_type": "stream",
     "text": [
      "     \n",
      "\n",
      "    GOFACTUUR                                                     \n",
      "\n",
      "\n",
      "\n",
      "\n",
      "   DATUM                 FACTUURNUMMER       STRNGR.C \n",
      "\n",
      "   23/1/2021               6                        Heuzelstraat 34 \n",
      "                                                      9790 Wortegem-Petegem \n",
      "                                                     0494664981 \n",
      "                                                     Fax: / \n",
      "                                                     Strngrclothingcompany@gmail.com \n",
      "   FACTUUR AAN:                                        BTW nr. 0729909558 \n",
      "   LACUS BV                                        BE62 1030 6202 1161 \n",
      "   BE0776625055 \n",
      "   LACUS@GMAIL.COM \n",
      "   Jan-baptiste davidstraat \n",
      "   1 Belgium \n",
      "     \n",
      "     VERKOPER      FUNCTIE         BETALINGSVOORWAARDEN   VERVALDATUM \n",
      "\n",
      "                                     Te betalen bij ontvangst               \n",
      "\n",
      "     \n",
      "     AANTAL          OMSCHRIJVING     PRIJS PER EENHEID  REGELTOTAAL \n",
      "     \n",
      "     \n",
      "     1                Bedrukking Trui       €  55                €  55 \n",
      "\n",
      "\n",
      "     1                Bedrukking tshirt       € 20                 € 20 \n",
      "\n",
      "\n",
      "                                                              \n",
      "\n",
      "\n",
      "                                                     Subtotaal                75€ \n",
      "                                                            Vrijstelling BTW volgens artikel Btw     56 van het btw wetboek \n",
      "                                                       Totaal                75€ \n",
      "     \n",
      "     \n",
      "\n",
      "\n",
      "\n",
      "\n",
      "\n",
      "\n",
      "\n",
      "                                                                                      \n",
      "     "
     ]
    },
    {
     "data": {
      "text/plain": [
       "IJulia.IJuliaStdio{Base.PipeEndpoint}(IOContext(Base.PipeEndpoint(RawFD(44) open, 0 bytes waiting)))"
      ]
     },
     "execution_count": 90,
     "metadata": {},
     "output_type": "execute_result"
    }
   ],
   "source": [
    "data=pdPageExtractText(stdout,page)"
   ]
  },
  {
   "cell_type": "markdown",
   "id": "3779c575",
   "metadata": {},
   "source": [
    "# DATA PREPERATION"
   ]
  },
  {
   "cell_type": "code",
   "execution_count": 91,
   "id": "93b3ed24",
   "metadata": {},
   "outputs": [
    {
     "data": {
      "text/html": [
       "<div class=\"data-frame\"><p>0 rows × 6 columns</p><table class=\"data-frame\"><thead><tr><th></th><th>Email</th><th>Date</th><th>Country</th><th>VAT</th><th>Telephone</th><th>Total_€</th></tr><tr><th></th><th title=\"Any\">Any</th><th title=\"Any\">Any</th><th title=\"Any\">Any</th><th title=\"Any\">Any</th><th title=\"Any\">Any</th><th title=\"Any\">Any</th></tr></thead><tbody></tbody></table></div>"
      ],
      "text/latex": [
       "\\begin{tabular}{r|cccccc}\n",
       "\t& Email & Date & Country & VAT & Telephone & Total\\_€\\\\\n",
       "\t\\hline\n",
       "\t& Any & Any & Any & Any & Any & Any\\\\\n",
       "\t\\hline\n",
       "\\end{tabular}\n"
      ],
      "text/plain": [
       "\u001b[1m0×6 DataFrame\u001b[0m"
      ]
     },
     "execution_count": 91,
     "metadata": {},
     "output_type": "execute_result"
    }
   ],
   "source": [
    "dataset = DataFrame(\n",
    "  Email=[] ,\n",
    "  Date=[],\n",
    "  Country=[],\n",
    "  VAT=[],\n",
    "  Telephone=[],\n",
    "  Total_€=[]\n",
    ")"
   ]
  },
  {
   "cell_type": "code",
   "execution_count": 92,
   "id": "e58e1b3d",
   "metadata": {},
   "outputs": [
    {
     "data": {
      "text/html": [
       "<div class=\"data-frame\"><p>227 rows × 20 columns (omitted printing of 16 columns)</p><table class=\"data-frame\"><thead><tr><th></th><th>Country</th><th>Region</th><th>Population</th><th>Area (sq. mi.)</th></tr><tr><th></th><th title=\"String\">String</th><th title=\"String\">String</th><th title=\"Int64\">Int64</th><th title=\"Int64\">Int64</th></tr></thead><tbody><tr><th>1</th><td>Afghanistan </td><td>ASIA (EX. NEAR EAST)         </td><td>31056997</td><td>647500</td></tr><tr><th>2</th><td>Albania </td><td>EASTERN EUROPE                     </td><td>3581655</td><td>28748</td></tr><tr><th>3</th><td>Algeria </td><td>NORTHERN AFRICA                    </td><td>32930091</td><td>2381740</td></tr><tr><th>4</th><td>American Samoa </td><td>OCEANIA                            </td><td>57794</td><td>199</td></tr><tr><th>5</th><td>Andorra </td><td>WESTERN EUROPE                     </td><td>71201</td><td>468</td></tr><tr><th>6</th><td>Angola </td><td>SUB-SAHARAN AFRICA                 </td><td>12127071</td><td>1246700</td></tr><tr><th>7</th><td>Anguilla </td><td>LATIN AMER. &amp; CARIB    </td><td>13477</td><td>102</td></tr><tr><th>8</th><td>Antigua &amp; Barbuda </td><td>LATIN AMER. &amp; CARIB    </td><td>69108</td><td>443</td></tr><tr><th>9</th><td>Argentina </td><td>LATIN AMER. &amp; CARIB    </td><td>39921833</td><td>2766890</td></tr><tr><th>10</th><td>Armenia </td><td>C.W. OF IND. STATES </td><td>2976372</td><td>29800</td></tr><tr><th>11</th><td>Aruba </td><td>LATIN AMER. &amp; CARIB    </td><td>71891</td><td>193</td></tr><tr><th>12</th><td>Australia </td><td>OCEANIA                            </td><td>20264082</td><td>7686850</td></tr><tr><th>13</th><td>Austria </td><td>WESTERN EUROPE                     </td><td>8192880</td><td>83870</td></tr><tr><th>14</th><td>Azerbaijan </td><td>C.W. OF IND. STATES </td><td>7961619</td><td>86600</td></tr><tr><th>15</th><td>Bahamas, The </td><td>LATIN AMER. &amp; CARIB    </td><td>303770</td><td>13940</td></tr><tr><th>16</th><td>Bahrain </td><td>NEAR EAST                          </td><td>698585</td><td>665</td></tr><tr><th>17</th><td>Bangladesh </td><td>ASIA (EX. NEAR EAST)         </td><td>147365352</td><td>144000</td></tr><tr><th>18</th><td>Barbados </td><td>LATIN AMER. &amp; CARIB    </td><td>279912</td><td>431</td></tr><tr><th>19</th><td>Belarus </td><td>C.W. OF IND. STATES </td><td>10293011</td><td>207600</td></tr><tr><th>20</th><td>Belgium </td><td>WESTERN EUROPE                     </td><td>10379067</td><td>30528</td></tr><tr><th>21</th><td>Belize </td><td>LATIN AMER. &amp; CARIB    </td><td>287730</td><td>22966</td></tr><tr><th>22</th><td>Benin </td><td>SUB-SAHARAN AFRICA                 </td><td>7862944</td><td>112620</td></tr><tr><th>23</th><td>Bermuda </td><td>NORTHERN AMERICA                   </td><td>65773</td><td>53</td></tr><tr><th>24</th><td>Bhutan </td><td>ASIA (EX. NEAR EAST)         </td><td>2279723</td><td>47000</td></tr><tr><th>25</th><td>Bolivia </td><td>LATIN AMER. &amp; CARIB    </td><td>8989046</td><td>1098580</td></tr><tr><th>26</th><td>Bosnia &amp; Herzegovina </td><td>EASTERN EUROPE                     </td><td>4498976</td><td>51129</td></tr><tr><th>27</th><td>Botswana </td><td>SUB-SAHARAN AFRICA                 </td><td>1639833</td><td>600370</td></tr><tr><th>28</th><td>Brazil </td><td>LATIN AMER. &amp; CARIB    </td><td>188078227</td><td>8511965</td></tr><tr><th>29</th><td>British Virgin Is. </td><td>LATIN AMER. &amp; CARIB    </td><td>23098</td><td>153</td></tr><tr><th>30</th><td>Brunei </td><td>ASIA (EX. NEAR EAST)         </td><td>379444</td><td>5770</td></tr><tr><th>&vellip;</th><td>&vellip;</td><td>&vellip;</td><td>&vellip;</td><td>&vellip;</td></tr></tbody></table></div>"
      ],
      "text/latex": [
       "\\begin{tabular}{r|ccccc}\n",
       "\t& Country & Region & Population & Area (sq. mi.) & \\\\\n",
       "\t\\hline\n",
       "\t& String & String & Int64 & Int64 & \\\\\n",
       "\t\\hline\n",
       "\t1 & Afghanistan  & ASIA (EX. NEAR EAST)          & 31056997 & 647500 & $\\dots$ \\\\\n",
       "\t2 & Albania  & EASTERN EUROPE                      & 3581655 & 28748 & $\\dots$ \\\\\n",
       "\t3 & Algeria  & NORTHERN AFRICA                     & 32930091 & 2381740 & $\\dots$ \\\\\n",
       "\t4 & American Samoa  & OCEANIA                             & 57794 & 199 & $\\dots$ \\\\\n",
       "\t5 & Andorra  & WESTERN EUROPE                      & 71201 & 468 & $\\dots$ \\\\\n",
       "\t6 & Angola  & SUB-SAHARAN AFRICA                  & 12127071 & 1246700 & $\\dots$ \\\\\n",
       "\t7 & Anguilla  & LATIN AMER. \\& CARIB     & 13477 & 102 & $\\dots$ \\\\\n",
       "\t8 & Antigua \\& Barbuda  & LATIN AMER. \\& CARIB     & 69108 & 443 & $\\dots$ \\\\\n",
       "\t9 & Argentina  & LATIN AMER. \\& CARIB     & 39921833 & 2766890 & $\\dots$ \\\\\n",
       "\t10 & Armenia  & C.W. OF IND. STATES  & 2976372 & 29800 & $\\dots$ \\\\\n",
       "\t11 & Aruba  & LATIN AMER. \\& CARIB     & 71891 & 193 & $\\dots$ \\\\\n",
       "\t12 & Australia  & OCEANIA                             & 20264082 & 7686850 & $\\dots$ \\\\\n",
       "\t13 & Austria  & WESTERN EUROPE                      & 8192880 & 83870 & $\\dots$ \\\\\n",
       "\t14 & Azerbaijan  & C.W. OF IND. STATES  & 7961619 & 86600 & $\\dots$ \\\\\n",
       "\t15 & Bahamas, The  & LATIN AMER. \\& CARIB     & 303770 & 13940 & $\\dots$ \\\\\n",
       "\t16 & Bahrain  & NEAR EAST                           & 698585 & 665 & $\\dots$ \\\\\n",
       "\t17 & Bangladesh  & ASIA (EX. NEAR EAST)          & 147365352 & 144000 & $\\dots$ \\\\\n",
       "\t18 & Barbados  & LATIN AMER. \\& CARIB     & 279912 & 431 & $\\dots$ \\\\\n",
       "\t19 & Belarus  & C.W. OF IND. STATES  & 10293011 & 207600 & $\\dots$ \\\\\n",
       "\t20 & Belgium  & WESTERN EUROPE                      & 10379067 & 30528 & $\\dots$ \\\\\n",
       "\t21 & Belize  & LATIN AMER. \\& CARIB     & 287730 & 22966 & $\\dots$ \\\\\n",
       "\t22 & Benin  & SUB-SAHARAN AFRICA                  & 7862944 & 112620 & $\\dots$ \\\\\n",
       "\t23 & Bermuda  & NORTHERN AMERICA                    & 65773 & 53 & $\\dots$ \\\\\n",
       "\t24 & Bhutan  & ASIA (EX. NEAR EAST)          & 2279723 & 47000 & $\\dots$ \\\\\n",
       "\t25 & Bolivia  & LATIN AMER. \\& CARIB     & 8989046 & 1098580 & $\\dots$ \\\\\n",
       "\t26 & Bosnia \\& Herzegovina  & EASTERN EUROPE                      & 4498976 & 51129 & $\\dots$ \\\\\n",
       "\t27 & Botswana  & SUB-SAHARAN AFRICA                  & 1639833 & 600370 & $\\dots$ \\\\\n",
       "\t28 & Brazil  & LATIN AMER. \\& CARIB     & 188078227 & 8511965 & $\\dots$ \\\\\n",
       "\t29 & British Virgin Is.  & LATIN AMER. \\& CARIB     & 23098 & 153 & $\\dots$ \\\\\n",
       "\t30 & Brunei  & ASIA (EX. NEAR EAST)          & 379444 & 5770 & $\\dots$ \\\\\n",
       "\t$\\dots$ & $\\dots$ & $\\dots$ & $\\dots$ & $\\dots$ &  \\\\\n",
       "\\end{tabular}\n"
      ],
      "text/plain": [
       "\u001b[1m227×20 DataFrame\u001b[0m\n",
       "\u001b[1m Row \u001b[0m│\u001b[1m Country            \u001b[0m\u001b[1m Region                            \u001b[0m\u001b[1m Population \u001b[0m\u001b[1m Area\u001b[0m ⋯\n",
       "\u001b[1m     \u001b[0m│\u001b[90m String             \u001b[0m\u001b[90m String                            \u001b[0m\u001b[90m Int64      \u001b[0m\u001b[90m Int6\u001b[0m ⋯\n",
       "─────┼──────────────────────────────────────────────────────────────────────────\n",
       "   1 │ Afghanistan         ASIA (EX. NEAR EAST)                 31056997       ⋯\n",
       "   2 │ Albania             EASTERN EUROPE                  …     3581655\n",
       "   3 │ Algeria             NORTHERN AFRICA                 …    32930091\n",
       "   4 │ American Samoa      OCEANIA                         …       57794\n",
       "   5 │ Andorra             WESTERN EUROPE                  …       71201       ⋯\n",
       "   6 │ Angola              SUB-SAHARAN AFRICA              …    12127071\n",
       "   7 │ Anguilla            LATIN AMER. & CARIB                     13477\n",
       "   8 │ Antigua & Barbuda   LATIN AMER. & CARIB                     69108\n",
       "   9 │ Argentina           LATIN AMER. & CARIB                  39921833       ⋯\n",
       "  10 │ Armenia             C.W. OF IND. STATES                   2976372\n",
       "  11 │ Aruba               LATIN AMER. & CARIB                     71891\n",
       "  ⋮  │         ⋮                           ⋮                      ⋮            ⋱\n",
       " 218 │ Vanuatu             OCEANIA                         …      208869\n",
       " 219 │ Venezuela           LATIN AMER. & CARIB                  25730435       ⋯\n",
       " 220 │ Vietnam             ASIA (EX. NEAR EAST)                 84402966\n",
       " 221 │ Virgin Islands      LATIN AMER. & CARIB                    108605\n",
       " 222 │ Wallis and Futuna   OCEANIA                         …       16025\n",
       " 223 │ West Bank           NEAR EAST                       …     2460492       ⋯\n",
       " 224 │ Western Sahara      NORTHERN AFRICA                 …      273008\n",
       " 225 │ Yemen               NEAR EAST                       …    21456188\n",
       " 226 │ Zambia              SUB-SAHARAN AFRICA              …    11502010\n",
       " 227 │ Zimbabwe            SUB-SAHARAN AFRICA              …    12236805       ⋯\n",
       "\u001b[36m                                                 17 columns and 206 rows omitted\u001b[0m"
      ]
     },
     "execution_count": 92,
     "metadata": {},
     "output_type": "execute_result"
    }
   ],
   "source": [
    "countries= CSV.read(\"/Users/casper/Desktop/Bachelorproef/countries of the world.csv\",DataFrame)"
   ]
  },
  {
   "cell_type": "code",
   "execution_count": 96,
   "id": "e10d6895",
   "metadata": {},
   "outputs": [
    {
     "data": {
      "text/plain": [
       "9-element Vector{String}:\n",
       " \".DS_Store\"\n",
       " \"FACTUUR LACUS.pdf\"\n",
       " \"FACTUUR- ARNO OCKERMAN2.pdf\"\n",
       " \"FACTUUR- ARNO OCKERMAN3.pdf\"\n",
       " \"FACTUUR- SIEBE.pdf\"\n",
       " \"FACTUUR- VitalVanWelden2.pdf\"\n",
       " \"FACTUURBALVANWAREGEM.pdf\"\n",
       " \"factuur acast.pdf\"\n",
       " \"factuur bal van waregem.pdf\""
      ]
     },
     "execution_count": 96,
     "metadata": {},
     "output_type": "execute_result"
    }
   ],
   "source": [
    "pwd()\n",
    "cd(\"/Users/casper/Desktop/Bachelorproef/facturen\")\n",
    "pwd()\n",
    "\n",
    "files=cd(readdir, \"/Users/casper/Desktop/Bachelorproef/facturen\")"
   ]
  },
  {
   "cell_type": "code",
   "execution_count": 97,
   "id": "cdec8a00",
   "metadata": {},
   "outputs": [
    {
     "data": {
      "text/plain": [
       "9-element Vector{String}:\n",
       " \".DS_Store\"\n",
       " \"FACTUUR LACUS.pdf\"\n",
       " \"FACTUUR- ARNO OCKERMAN2.pdf\"\n",
       " \"FACTUUR- ARNO OCKERMAN3.pdf\"\n",
       " \"FACTUUR- SIEBE.pdf\"\n",
       " \"FACTUUR- VitalVanWelden2.pdf\"\n",
       " \"FACTUURBALVANWAREGEM.pdf\"\n",
       " \"factuur acast.pdf\"\n",
       " \"factuur bal van waregem.pdf\""
      ]
     },
     "execution_count": 97,
     "metadata": {},
     "output_type": "execute_result"
    }
   ],
   "source": [
    "files"
   ]
  },
  {
   "cell_type": "code",
   "execution_count": 98,
   "id": "7f3bceb9",
   "metadata": {},
   "outputs": [
    {
     "data": {
      "text/plain": [
       "\".DS_Store\""
      ]
     },
     "execution_count": 98,
     "metadata": {},
     "output_type": "execute_result"
    }
   ],
   "source": [
    "popfirst!(files)"
   ]
  },
  {
   "cell_type": "code",
   "execution_count": 99,
   "id": "6f6dd851",
   "metadata": {},
   "outputs": [
    {
     "data": {
      "text/plain": [
       "\"/Users/casper/Desktop/Bachelorproef/facturen/\""
      ]
     },
     "execution_count": 99,
     "metadata": {},
     "output_type": "execute_result"
    }
   ],
   "source": [
    "y=pwd()\n",
    "y=y*'/'"
   ]
  },
  {
   "cell_type": "code",
   "execution_count": 100,
   "id": "56492b11",
   "metadata": {},
   "outputs": [
    {
     "data": {
      "text/plain": [
       "\"/Users/casper/Desktop/Bachelorproef/facturen/FACTUUR LACUS.pdf\""
      ]
     },
     "execution_count": 100,
     "metadata": {},
     "output_type": "execute_result"
    }
   ],
   "source": [
    "y*files[1]"
   ]
  },
  {
   "cell_type": "code",
   "execution_count": 101,
   "id": "11d2c993",
   "metadata": {},
   "outputs": [
    {
     "name": "stdout",
     "output_type": "stream",
     "text": [
      "/Users/casper/Desktop/Bachelorproef/facturen/FACTUUR LACUS.pdf\n",
      "/Users/casper/Desktop/Bachelorproef/facturen/FACTUUR- ARNO OCKERMAN2.pdf\n",
      "/Users/casper/Desktop/Bachelorproef/facturen/FACTUUR- ARNO OCKERMAN3.pdf\n",
      "/Users/casper/Desktop/Bachelorproef/facturen/FACTUUR- SIEBE.pdf\n",
      "/Users/casper/Desktop/Bachelorproef/facturen/FACTUUR- VitalVanWelden2.pdf\n",
      "/Users/casper/Desktop/Bachelorproef/facturen/FACTUURBALVANWAREGEM.pdf\n",
      "/Users/casper/Desktop/Bachelorproef/facturen/factuur acast.pdf\n",
      "/Users/casper/Desktop/Bachelorproef/facturen/factuur bal van waregem.pdf\n"
     ]
    }
   ],
   "source": [
    "x=1\n",
    "for i in files\n",
    "    println(y*i)\n",
    "    if i!=\".DS_Store\"\n",
    "        getPDFText(y*i,\"text$x\")\n",
    "        x=x+1\n",
    "    else \n",
    "        x=x-1\n",
    "    end\n",
    "end"
   ]
  },
  {
   "cell_type": "code",
   "execution_count": 75,
   "id": "4d13dbae",
   "metadata": {},
   "outputs": [
    {
     "data": {
      "text/plain": [
       "Dict{String, Union{CDDate, String, CosObject}} with 5 entries:\n",
       "  \"Producer\"     => \"macOS Versie 12.1 (build 21C52) Quartz PDFContext\"\n",
       "  \"CreationDate\" => D:20220404083438Z\n",
       "  \"ModDate\"      => D:20220404083438Z\n",
       "  \"Creator\"      => \"Word\"\n",
       "  \"Title\"        => \"Microsoft Word - FACTUUR LACUS.docx\""
      ]
     },
     "execution_count": 75,
     "metadata": {},
     "output_type": "execute_result"
    }
   ],
   "source": [
    "getPDFText(\"/Users/casper/Desktop/Bachelorproef/facturen/FACTUUR- ARNO OCKERMAN3.pdf\",\"text1\")\n",
    "getPDFText(\"/Users/casper/Desktop/Bachelorproef/facturen/FACTUUR- ARNO OCKERMAN2.pdf\",\"text2\")\n",
    "getPDFText(\"/Users/casper/Desktop/Bachelorproef/facturen/FACTUUR- SIEBE.pdf\",\"text3\")\n",
    "getPDFText(\"/Users/casper/Desktop/Bachelorproef/facturen/factuur acast.pdf\",\"text4\")\n",
    "getPDFText(\"/Users/casper/Desktop/Bachelorproef/facturen/FACTUURBALVANWAREGEM.pdf\",\"text5\")\n",
    "getPDFText(\"/Users/casper/Desktop/Bachelorproef/facturen/FACTUUR- VitalVanWelden2.pdf\",\"text6\")\n",
    "getPDFText(\"/Users/casper/Desktop/Bachelorproef/facturen/factuur bal van waregem.pdf\",\"text7\")\n",
    "getPDFText(\"/Users/casper/Desktop/Bachelorproef/facturen/FACTUUR LACUS.pdf\",\"text8\")\n"
   ]
  },
  {
   "cell_type": "code",
   "execution_count": 102,
   "id": "f30e87ed",
   "metadata": {},
   "outputs": [
    {
     "data": {
      "text/plain": [
       "8"
      ]
     },
     "execution_count": 102,
     "metadata": {},
     "output_type": "execute_result"
    }
   ],
   "source": [
    "length(files)"
   ]
  },
  {
   "cell_type": "code",
   "execution_count": 103,
   "id": "e4c00908",
   "metadata": {},
   "outputs": [
    {
     "name": "stdout",
     "output_type": "stream",
     "text": [
      "1\n",
      "     \n",
      "\n",
      "    GOFACTUUR                                                     \n",
      "\n",
      "\n",
      "\n",
      "\n",
      "   DATUM                 FACTUURNUMMER       STRNGR.C \n",
      "\n",
      "   23/1/2021               6                        Heuzelstraat 34 \n",
      "                                                      9790 Wortegem-Petegem \n",
      "                                                     0494664981 \n",
      "                                                     Fax: / \n",
      "                                                     Strngrclothingcompany@gmail.com \n",
      "   FACTUUR AAN:                                        BTW nr. 0729909558 \n",
      "   LACUS BV                                        BE62 1030 6202 1161 \n",
      "   BE0776625055 \n",
      "   LACUS@GMAIL.COM \n",
      "   Jan-baptiste davidstraat \n",
      "   1 Belgium \n",
      "     \n",
      "     VERKOPER      FUNCTIE         BETALINGSVOORWAARDEN   VERVALDATUM \n",
      "\n",
      "                                     Te betalen bij ontvangst               \n",
      "\n",
      "     \n",
      "     AANTAL          OMSCHRIJVING     PRIJS PER EENHEID  REGELTOTAAL \n",
      "     \n",
      "     \n",
      "     1                Bedrukking Trui       €  55                €  55 \n",
      "\n",
      "\n",
      "     1                Bedrukking tshirt       € 20                 € 20 \n",
      "\n",
      "\n",
      "                                                              \n",
      "\n",
      "\n",
      "                                                     Subtotaal                75€ \n",
      "                                                            Vrijstelling BTW volgens artikel Btw     56 van het btw wetboek \n",
      "                                                       Totaal                75€ \n",
      "     \n",
      "     \n",
      "\n",
      "\n",
      "\n",
      "\n",
      "\n",
      "\n",
      "\n",
      "                                                                                      \n",
      "     \n",
      "\n",
      "         GOFACTUUR                                                        DATUM                 FACTUURNUMMER       STRNGR.C    23/1/2021               6                        Heuzelstraat 34                                                       9790 Wortegem-Petegem                                                      0494664981                                                      Fax: /                                                      Strngrclothingcompany@gmail.com    FACTUUR AAN:                                        BTW nr. 0729909558    LACUS BV                                        BE62 1030 6202 1161    BE0776625055    LACUS@GMAIL.COM    Jan-baptiste davidstraat    1 Belgium           VERKOPER      FUNCTIE         BETALINGSVOORWAARDEN   VERVALDATUM                                      Te betalen bij ontvangst                         AANTAL          OMSCHRIJVING     PRIJS PER EENHEID  REGELTOTAAL                1                Bedrukking Trui       €  55                €  55      1                Bedrukking tshirt       € 20                 € 20                                                                                                                    Subtotaal                75€                                                             Vrijstelling BTW volgens artikel Btw     56 van het btw wetboek                                                        Totaal                75€                                                                                                      \n",
      "2\n",
      "     \n",
      "\n",
      "     FACTUUR                                                        \n",
      "\n",
      "\n",
      "\n",
      "\n",
      "     DATUM               FACTUURNUMMER     STRNGR.C \n",
      "\n",
      "     26/12/2022            8                      Heuzelstraat 34 \n",
      "                                                  9790 Wortegem-Petegem \n",
      "                                                   0494664981 \n",
      "                                                   Fax: / \n",
      "                                                   Strngrclothingcompany@gmail.com \n",
      "     FACTUUR AAN:                                   BTW nr. 0729909558 \n",
      "     Ockerman Arno                                   BE62 1030 6202 1161 \n",
      "     Martijn van Torhoutstraat 32 \n",
      "     201, 9700 Oudenaarde, \n",
      "     Belgium \n",
      "     BE0771433476 \n",
      "     Arno@gmail.com    \n",
      "     VERKOPER      FUNCTIE         BETALINGSVOORWAARDEN   VERVALDATUM \n",
      "\n",
      "                                     Te betalen bij ontvangst              1 MEI ANDERS 20% OP \n",
      "                                                               DE PRIJS \n",
      "     \n",
      "     AANTAL          OMSCHRIJVING     PRIJS PER EENHEID  REGELTOTAAL \n",
      "     \n",
      "     \n",
      "     5                HOODIE            €  32                €  160 \n",
      "\n",
      "\n",
      "                                                     Subtotaal                160€ \n",
      "                                                            Vrijstelling BTW volgens artikel Btw     56 van het btw wetboek \n",
      "                                                       Totaal                160€ \n",
      "     \n",
      "     \n",
      "     \n",
      "     \n",
      "     \n",
      "     \n",
      "     \n",
      "     \n",
      "     \n",
      "     \n",
      "                                                                                      \n",
      "     \n",
      "     \n",
      "     \n",
      "                             ALGEMENE VOORWAARDEN \n",
      "\n",
      "\n",
      "\n",
      "\n",
      "\n",
      "\n",
      "\n",
      "\n",
      "\n",
      "\n",
      "\n",
      "\n",
      "\n",
      "\n",
      "\n",
      "\n",
      "\n",
      "\n",
      "\n",
      "\n",
      "\n",
      "\n",
      "\n",
      "\n",
      "\n",
      "\n",
      "\n",
      "\n",
      "\n",
      "\n",
      "\n",
      "\n",
      "\n",
      "\n",
      "\n",
      "\n",
      "\n",
      "\n",
      "\n",
      "\n",
      "\n",
      "\n",
      "\n",
      "\n",
      "\n",
      "\n",
      "\n",
      "\n",
      "\n",
      "\n",
      "\n",
      "\n",
      "\n",
      "\n",
      "\n",
      "\n",
      "\n",
      "\n",
      "     \n",
      "     \n",
      "\n",
      "          FACTUUR                                                             DATUM               FACTUURNUMMER     STRNGR.C      26/12/2022            8                      Heuzelstraat 34                                                   9790 Wortegem-Petegem                                                    0494664981                                                    Fax: /                                                    Strngrclothingcompany@gmail.com      FACTUUR AAN:                                   BTW nr. 0729909558      Ockerman Arno                                   BE62 1030 6202 1161      Martijn van Torhoutstraat 32      201, 9700 Oudenaarde,      Belgium      BE0771433476      Arno@gmail.com         VERKOPER      FUNCTIE         BETALINGSVOORWAARDEN   VERVALDATUM                                      Te betalen bij ontvangst              1 MEI ANDERS 20% OP                                                                DE PRIJS           AANTAL          OMSCHRIJVING     PRIJS PER EENHEID  REGELTOTAAL                5                HOODIE            €  32                €  160                                                      Subtotaal                160€                                                             Vrijstelling BTW volgens artikel Btw     56 van het btw wetboek                                                        Totaal                160€                                                                                                                                                                                     ALGEMENE VOORWAARDEN           \n",
      "3\n",
      "     \n",
      "\n",
      "     FACTUUR                                                        \n",
      "\n",
      "\n",
      "\n",
      "\n",
      "     DATUM               FACTUURNUMMER     STRNGR.C \n",
      "\n",
      "     26/12/2022            18                     Heuzelstraat 34 \n",
      "                                                  9790 Wortegem-Petegem \n",
      "                                                   0494664981 \n",
      "                                                   Fax: / \n",
      "                                                   Strngrclothingcompany@gmail.com \n",
      "     FACTUUR AAN:                                   BTW nr. 0729909558 \n",
      "     Ockerman Arno                                   BE62 1030 6202 1161 \n",
      "     Martijn van Torhoutstraat 32 \n",
      "     201, 9700 Oudenaarde, \n",
      "     Belgium \n",
      "     0474448833 \n",
      "     BE0771433476    \n",
      "     VERKOPER     FUNCTIE         BETALINGSVOORWAARDEN   VERVALDATUM \n",
      "\n",
      "                                     Te betalen bij ontvangst              1 MEI ANDERS 20% OP \n",
      "                                                               DE PRIJS \n",
      "     \n",
      "     AANTAL          OMSCHRIJVING     PRIJS PER EENHEID  REGELTOTAAL \n",
      "     \n",
      "     \n",
      "     7                HOODIE            €  32                €  224 \n",
      "\n",
      "\n",
      "                                                     Subtotaal                €224 \n",
      "                                                           Vrijstelling BTW volgens artikel Btw     56 van het btw wetboek \n",
      "                                                       Totaal                €224 \n",
      "     \n",
      "     \n",
      "     \n",
      "     \n",
      "     \n",
      "     \n",
      "     \n",
      "     \n",
      "     \n",
      "     \n",
      "                                                                                      \n",
      "     \n",
      "     \n",
      "     \n",
      "                             ALGEMENE VOORWAARDEN \n",
      "\n",
      "\n",
      "\n",
      "\n",
      "\n",
      "\n",
      "\n",
      "\n",
      "\n",
      "\n",
      "\n",
      "\n",
      "\n",
      "\n",
      "\n",
      "\n",
      "\n",
      "\n",
      "\n",
      "\n",
      "\n",
      "\n",
      "\n",
      "\n",
      "\n",
      "\n",
      "\n",
      "\n",
      "\n",
      "\n",
      "\n",
      "\n",
      "\n",
      "\n",
      "\n",
      "\n",
      "\n",
      "\n",
      "\n",
      "\n",
      "\n",
      "\n",
      "\n",
      "\n",
      "\n",
      "\n",
      "\n",
      "\n",
      "\n",
      "\n",
      "\n",
      "\n",
      "\n",
      "\n",
      "\n",
      "\n",
      "\n",
      "\n",
      "     \n",
      "     \n",
      "\n",
      "          FACTUUR                                                             DATUM               FACTUURNUMMER     STRNGR.C      26/12/2022            18                     Heuzelstraat 34                                                   9790 Wortegem-Petegem                                                    0494664981                                                    Fax: /                                                    Strngrclothingcompany@gmail.com      FACTUUR AAN:                                   BTW nr. 0729909558      Ockerman Arno                                   BE62 1030 6202 1161      Martijn van Torhoutstraat 32      201, 9700 Oudenaarde,      Belgium      0474448833      BE0771433476         VERKOPER     FUNCTIE         BETALINGSVOORWAARDEN   VERVALDATUM                                      Te betalen bij ontvangst              1 MEI ANDERS 20% OP                                                                DE PRIJS           AANTAL          OMSCHRIJVING     PRIJS PER EENHEID  REGELTOTAAL                7                HOODIE            €  32                €  224                                                      Subtotaal                €224                                                            Vrijstelling BTW volgens artikel Btw     56 van het btw wetboek                                                        Totaal                €224                                                                                                                                                                                     ALGEMENE VOORWAARDEN           \n",
      "4\n",
      "     \n",
      "\n",
      "     FACTUUR                                                          \n",
      "\n",
      "\n",
      "\n",
      "\n",
      "     DATUM                FACTUURNUMMER    STRNGR.C \n",
      "\n",
      "     10/2/2022              12                    Heuzelstraat 34 \n",
      "                                                   9790 Wortegem-Petegem \n",
      "                                                   0494664981 \n",
      "                                                   Fax: / \n",
      "                                                   Strngrclothingcompany@gmail.com \n",
      "     FACTUUR AAN:                                   BTW nr. 0729909558 \n",
      "     Sbridoux.business@gmail.com                          BE62103062021161 \n",
      "     $B Accountancy  \n",
      "     BE0775755025 \n",
      "     +32483446663 \n",
      "     Tuinwijk 82 8760 Meulebeke \n",
      "     Belgium \n",
      "     \n",
      "     VERKOPER      FUNCTIE         BETALINGSVOORWAARDEN   VERVALDATUM \n",
      "\n",
      "                                     Te betalen bij ontvangst              1 MEI ANDERS 20% OP \n",
      "                                                               DE PRIJS \n",
      "     \n",
      "     AANTAL          OMSCHRIJVING     PRIJS PER EENHEID  REGELTOTAAL \n",
      "     \n",
      "     \n",
      "     1                HOODIE            €  54,99              €  54,99 \n",
      "\n",
      "\n",
      "                                                     Subtotaal               54,99€ \n",
      "                                                            Vrijstelling BTW volgens artikel Btw     56 van het btw wetboek \n",
      "                                                       Totaal               54,99€ \n",
      "     \n",
      "     \n",
      "     \n",
      "     \n",
      "     \n",
      "     \n",
      "     \n",
      "     \n",
      "     \n",
      "     \n",
      "                                                                                      \n",
      "     \n",
      "     \n",
      "     \n",
      "                             ALGEMENE VOORWAARDEN \n",
      "\n",
      "\n",
      "\n",
      "\n",
      "\n",
      "\n",
      "\n",
      "\n",
      "\n",
      "\n",
      "\n",
      "\n",
      "\n",
      "\n",
      "\n",
      "\n",
      "\n",
      "\n",
      "\n",
      "\n",
      "\n",
      "\n",
      "\n",
      "\n",
      "\n",
      "\n",
      "\n",
      "\n",
      "\n",
      "\n",
      "\n",
      "\n",
      "\n",
      "\n",
      "\n",
      "\n",
      "\n",
      "\n",
      "\n",
      "\n",
      "\n",
      "\n",
      "\n",
      "\n",
      "\n",
      "\n",
      "\n",
      "\n",
      "\n",
      "\n",
      "\n",
      "\n",
      "\n",
      "\n",
      "\n",
      "\n",
      "\n",
      "\n",
      "     \n",
      "     \n",
      "\n"
     ]
    },
    {
     "name": "stdout",
     "output_type": "stream",
     "text": [
      "          FACTUUR                                                               DATUM                FACTUURNUMMER    STRNGR.C      10/2/2022              12                    Heuzelstraat 34                                                    9790 Wortegem-Petegem                                                    0494664981                                                    Fax: /                                                    Strngrclothingcompany@gmail.com      FACTUUR AAN:                                   BTW nr. 0729909558      Sbridoux.business@gmail.com                          BE62103062021161      $B Accountancy       BE0775755025      +32483446663      Tuinwijk 82 8760 Meulebeke      Belgium           VERKOPER      FUNCTIE         BETALINGSVOORWAARDEN   VERVALDATUM                                      Te betalen bij ontvangst              1 MEI ANDERS 20% OP                                                                DE PRIJS           AANTAL          OMSCHRIJVING     PRIJS PER EENHEID  REGELTOTAAL                1                HOODIE            €  54,99              €  54,99                                                      Subtotaal               54,99€                                                             Vrijstelling BTW volgens artikel Btw     56 van het btw wetboek                                                        Totaal               54,99€                                                                                                                                                                                     ALGEMENE VOORWAARDEN           \n",
      "5\n",
      "     \n",
      "\n",
      "     FACTUUR                                                        \n",
      "\n",
      "\n",
      "\n",
      "\n",
      "     DATUM               FACTUURNUMMER     STRNGR.C \n",
      "\n",
      "     3/12/2021             153                    Heuzelstraat 34 \n",
      "                                                  9790 Wortegem-Petegem \n",
      "                                                   0494664981 \n",
      "                                                   Fax: / \n",
      "                                                   Strngrclothingcompany@gmail.com \n",
      "     FACTUUR AAN:                                   BTW nr. 0729909558 \n",
      "     Vital Van Welden                                  BE62 1030 6202 1161 \n",
      "     Steenbakkerstraat 9 MOEN \n",
      "     8552 Belgium \n",
      "     vital@gmail.com \n",
      "     BE0753524209 \n",
      "         \n",
      "     VERKOPER      FUNCTIE         BETALINGSVOORWAARDEN   VERVALDATUM \n",
      "\n",
      "                                     Te betalen bij ontvangst              1 MEI ANDERS 20% OP \n",
      "                                                               DE PRIJS \n",
      "     \n",
      "     AANTAL          OMSCHRIJVING     PRIJS PER EENHEID  REGELTOTAAL \n",
      "     \n",
      "     \n",
      "     1                HOODIE            €  55                €  55 \n",
      "\n",
      "\n",
      "                                                     Subtotaal                55€ \n",
      "                                                            Vrijstelling BTW volgens artikel Btw     56 van het btw wetboek \n",
      "                                                       Totaal                55€ \n",
      "     \n",
      "     \n",
      "\n",
      "\n",
      "\n",
      "\n",
      "\n",
      "\n",
      "\n",
      "\n",
      "\n",
      "\n",
      "\n",
      "\n",
      "                                                                                      \n",
      "     \n",
      "\n",
      "          FACTUUR                                                             DATUM               FACTUURNUMMER     STRNGR.C      3/12/2021             153                    Heuzelstraat 34                                                   9790 Wortegem-Petegem                                                    0494664981                                                    Fax: /                                                    Strngrclothingcompany@gmail.com      FACTUUR AAN:                                   BTW nr. 0729909558      Vital Van Welden                                  BE62 1030 6202 1161      Steenbakkerstraat 9 MOEN      8552 Belgium      vital@gmail.com      BE0753524209               VERKOPER      FUNCTIE         BETALINGSVOORWAARDEN   VERVALDATUM                                      Te betalen bij ontvangst              1 MEI ANDERS 20% OP                                                                DE PRIJS           AANTAL          OMSCHRIJVING     PRIJS PER EENHEID  REGELTOTAAL                1                HOODIE            €  55                €  55                                                      Subtotaal                55€                                                             Vrijstelling BTW volgens artikel Btw     56 van het btw wetboek                                                        Totaal                55€                                                                                                      \n",
      "6\n",
      "     \n",
      "\n",
      "     FACTUUR                                                        \n",
      "\n",
      "\n",
      "\n",
      "\n",
      "     DATUM               FACTUURNUMMER     STRNGR.C \n",
      "\n",
      "     1/2/2022              9                      Heuzelstraat 34 \n",
      "                                                  9790 Wortegem-Petegem \n",
      "                                                   0494664981 \n",
      "                                                   Fax: / \n",
      "                                                   Strngrclothingcompany@gmail.com \n",
      "     FACTUUR AAN:                                   BTW nr. 0729909558 \n",
      "     LACUS BV                                       BE62 1030 6202 1161 \n",
      "     BE0776625055 \n",
      "     Jan-baptiste davidstraat 1  \n",
      "     LACUS@gmail.com \n",
      "     Belgie \n",
      "     \n",
      "     VERKOPER      FUNCTIE         BETALINGSVOORWAARDEN   VERVALDATUM \n",
      "\n",
      "                                     Te betalen bij ontvangst              1 MEI ANDERS 20% OP \n",
      "                                                               DE PRIJS \n",
      "     \n",
      "     AANTAL          OMSCHRIJVING     PRIJS PER EENHEID  REGELTOTAAL \n",
      "     \n",
      "     \n",
      "     4                MONDMASKER       €  4                 €  16 \n",
      "\n",
      "\n",
      "                                                     Subtotaal                16€ \n",
      "                                                            Vrijstelling BTW volgens artikel Btw     56 van het btw wetboek \n",
      "                                                       Totaal                16€ \n",
      "     \n",
      "     \n",
      "     \n",
      "     \n",
      "     \n",
      "     \n",
      "     \n",
      "     \n",
      "     \n",
      "     \n",
      "                             ALGEMENE VOORWAARDEN \n",
      "                                                                                      \n",
      "     \n",
      "\n",
      "          FACTUUR                                                             DATUM               FACTUURNUMMER     STRNGR.C      1/2/2022              9                      Heuzelstraat 34                                                   9790 Wortegem-Petegem                                                    0494664981                                                    Fax: /                                                    Strngrclothingcompany@gmail.com      FACTUUR AAN:                                   BTW nr. 0729909558      LACUS BV                                       BE62 1030 6202 1161      BE0776625055      Jan-baptiste davidstraat 1       LACUS@gmail.com      Belgie           VERKOPER      FUNCTIE         BETALINGSVOORWAARDEN   VERVALDATUM                                      Te betalen bij ontvangst              1 MEI ANDERS 20% OP                                                                DE PRIJS           AANTAL          OMSCHRIJVING     PRIJS PER EENHEID  REGELTOTAAL                4                MONDMASKER       €  4                 €  16                                                      Subtotaal                16€                                                             Vrijstelling BTW volgens artikel Btw     56 van het btw wetboek                                                        Totaal                16€                                                                                ALGEMENE VOORWAARDEN                                                                                            \n",
      "7\n",
      "     \n",
      "\n",
      "   GOFACTUUR                                                          \n",
      "\n",
      "\n",
      "\n",
      "\n",
      "   DATUM                     FACTUURNUMMER   STRNGR.C \n",
      "\n",
      "   23/1/2021                   7                     Heuzelstraat 34 \n",
      "                                                     9790 Wortegem-Petegem \n",
      "                                                     0494664981 \n",
      "                                                     Fax: / \n",
      "                                                     Strngrclothingcompany@gmail.com \n",
      "   FACTUUR AAN:                                        BTW nr. 0729909558 \n",
      "                                                     BE62 1030 6202 1161 \n",
      "   lennertgrootaerd@gmail.com \n",
      "    \n",
      "   Lennert Grootaerd  \n",
      "   Sterrestraat 77 \n",
      "   8680 Koekelare \n",
      "   BE0725470720 \n",
      "    \n",
      "   Belgie \n",
      "     \n",
      "     VERKOPER      FUNCTIE          BETALINGSVOORWAARDEN   VERVALDATUM \n",
      "\n",
      "\n",
      "                                      Te Betaling binnen 14 dagen. In geval van     \n",
      "                                      overschrijding, 5% intrest op het totaalbedrag. \n",
      "     \n",
      "     AANTAL          OMSCHRIJVING     PRIJS PER EENHEID  REGELTOTAAL \n",
      "     \n",
      "     \n",
      "     13               TSHIRT             €  15                €  195 \n",
      "\n",
      "\n",
      "                                                              \n",
      "\n",
      "\n",
      "                                                     Subtotaal                195€ \n",
      "                                                            Vrijstelling BTW volgens artikel Btw     56 van het btw wetboek \n",
      "                                                       Totaal                195€ \n",
      "     \n",
      "     \n",
      "     \n",
      "     \n",
      "     \n",
      "                                                                                      \n",
      "     \n",
      "     \n",
      "     \n",
      "     \n",
      "                             ALGEMENE VOORWAARDEN \n",
      "\n",
      "\n",
      "\n",
      "\n",
      "\n",
      "\n",
      "\n",
      "\n",
      "\n",
      "\n",
      "\n",
      "\n",
      "\n",
      "\n",
      "\n",
      "\n",
      "\n",
      "\n",
      "\n",
      "\n",
      "\n",
      "\n",
      "\n",
      "\n",
      "\n",
      "\n",
      "\n",
      "\n",
      "\n",
      "\n",
      "\n",
      "\n",
      "\n",
      "\n",
      "\n",
      "\n",
      "\n",
      "\n",
      "\n",
      "\n",
      "\n",
      "\n",
      "\n",
      "\n",
      "\n",
      "\n",
      "\n",
      "\n",
      "\n",
      "\n",
      "\n",
      "\n",
      "\n",
      "\n",
      "\n",
      "\n",
      "     \n",
      "     \n",
      "\n",
      "        GOFACTUUR                                                             DATUM                     FACTUURNUMMER   STRNGR.C    23/1/2021                   7                     Heuzelstraat 34                                                      9790 Wortegem-Petegem                                                      0494664981                                                      Fax: /                                                      Strngrclothingcompany@gmail.com    FACTUUR AAN:                                        BTW nr. 0729909558                                                      BE62 1030 6202 1161    lennertgrootaerd@gmail.com        Lennert Grootaerd     Sterrestraat 77    8680 Koekelare    BE0725470720        Belgie           VERKOPER      FUNCTIE          BETALINGSVOORWAARDEN   VERVALDATUM                                       Te Betaling binnen 14 dagen. In geval van                                           overschrijding, 5% intrest op het totaalbedrag.           AANTAL          OMSCHRIJVING     PRIJS PER EENHEID  REGELTOTAAL                13               TSHIRT             €  15                €  195                                                                                                                    Subtotaal                195€                                                             Vrijstelling BTW volgens artikel Btw     56 van het btw wetboek                                                        Totaal                195€                                                                                                                                                                 ALGEMENE VOORWAARDEN           \n"
     ]
    },
    {
     "name": "stdout",
     "output_type": "stream",
     "text": [
      "8\n",
      "     \n",
      "\n",
      "     FACTUUR                                                        \n",
      "\n",
      "\n",
      "\n",
      "\n",
      "     DATUM                FACTUURNUMMER    STRNGR.C \n",
      "\n",
      "     10/1/2021             4                      Heuzelstraat 34 \n",
      "                                                   9790 Wortegem-Petegem \n",
      "                                                   0494664981 \n",
      "                                                   Fax: / \n",
      "                                                   Strngrclothingcompany@gmail.com \n",
      "     FACTUUR AAN:                                   BTW nr. 0729909558 \n",
      "     Lacus BV                                        BE62 1030 6202 1161 \n",
      "     T.a.v. Quinten Foulon \n",
      "     Jan-Baptiste Davidstraat 1 \n",
      "     8793 Sint-Eloois-Vijve \n",
      "     Belgium \n",
      "     BE0776.625.055 \n",
      "     Info@balvantwaregemse.be \n",
      "     \n",
      "     VERKOPER      FUNCTIE         BETALINGSVOORWAARDEN   VERVALDATUM \n",
      "\n",
      "                                     Te betalen bij ontvangst               \n",
      "\n",
      "     \n",
      "     AANTAL          OMSCHRIJVING     PRIJS PER EENHEID  REGELTOTAAL \n",
      "     \n",
      "     \n",
      "     60               POLO              €  9,95               €  597 \n",
      "\n",
      "\n",
      "     16               HEMD              €0                  €0 \n",
      "\n",
      "\n",
      "                                                     Subtotaal                597€ \n",
      "                                                            Vrijstelling BTW volgens artikel Btw     56 van het btw wetboek \n",
      "                                                       Totaal                597€ \n",
      "     \n",
      "     \n",
      "\n",
      "\n",
      "\n",
      "\n",
      "\n",
      "\n",
      "\n",
      "                                                                                      \n",
      "     \n",
      "\n",
      "          FACTUUR                                                             DATUM                FACTUURNUMMER    STRNGR.C      10/1/2021             4                      Heuzelstraat 34                                                    9790 Wortegem-Petegem                                                    0494664981                                                    Fax: /                                                    Strngrclothingcompany@gmail.com      FACTUUR AAN:                                   BTW nr. 0729909558      Lacus BV                                        BE62 1030 6202 1161      T.a.v. Quinten Foulon      Jan-Baptiste Davidstraat 1      8793 Sint-Eloois-Vijve      Belgium      BE0776.625.055      Info@balvantwaregemse.be           VERKOPER      FUNCTIE         BETALINGSVOORWAARDEN   VERVALDATUM                                      Te betalen bij ontvangst                         AANTAL          OMSCHRIJVING     PRIJS PER EENHEID  REGELTOTAAL                60               POLO              €  9,95               €  597      16               HEMD              €0                  €0                                                      Subtotaal                597€                                                             Vrijstelling BTW volgens artikel Btw     56 van het btw wetboek                                                        Totaal                597€                                                                                                      \n"
     ]
    }
   ],
   "source": [
    "l1st=[]\n",
    "for i in 1:length(files)\n",
    "    println(i)\n",
    "    data=open(f->read(f, String), \"text$i\")\n",
    "    println(data)\n",
    "    data=replace.(data, r\"\\n\"=>\"\")\n",
    "    println(data)\n",
    "    rm(\"text$i\")\n",
    "    push!(l1st,data)\n",
    "    \n",
    "end"
   ]
  },
  {
   "cell_type": "code",
   "execution_count": 104,
   "id": "a591f907",
   "metadata": {},
   "outputs": [
    {
     "data": {
      "text/plain": [
       "8-element Vector{Any}:\n",
       " \"         GOFACTUUR            \" ⋯ 1479 bytes ⋯ \"                              \"\n",
       " \"          FACTUUR             \" ⋯ 1562 bytes ⋯ \"LGEMENE VOORWAARDEN           \"\n",
       " \"          FACTUUR             \" ⋯ 1556 bytes ⋯ \"LGEMENE VOORWAARDEN           \"\n",
       " \"          FACTUUR             \" ⋯ 1564 bytes ⋯ \"LGEMENE VOORWAARDEN           \"\n",
       " \"          FACTUUR             \" ⋯ 1432 bytes ⋯ \"                              \"\n",
       " \"          FACTUUR             \" ⋯ 1511 bytes ⋯ \"                              \"\n",
       " \"        GOFACTUUR             \" ⋯ 1641 bytes ⋯ \"LGEMENE VOORWAARDEN           \"\n",
       " \"          FACTUUR             \" ⋯ 1470 bytes ⋯ \"                              \""
      ]
     },
     "execution_count": 104,
     "metadata": {},
     "output_type": "execute_result"
    }
   ],
   "source": [
    "l1st"
   ]
  },
  {
   "cell_type": "code",
   "execution_count": 105,
   "id": "d0e52c42",
   "metadata": {},
   "outputs": [
    {
     "data": {
      "text/plain": [
       "227-element Vector{String}:\n",
       " \"Afghanistan\"\n",
       " \"Albania\"\n",
       " \"Algeria\"\n",
       " \"AmericanSamoa\"\n",
       " \"Andorra\"\n",
       " \"Angola\"\n",
       " \"Anguilla\"\n",
       " \"Antigua&Barbuda\"\n",
       " \"Argentina\"\n",
       " \"Armenia\"\n",
       " \"Aruba\"\n",
       " \"Australia\"\n",
       " \"Austria\"\n",
       " ⋮\n",
       " \"Uruguay\"\n",
       " \"Uzbekistan\"\n",
       " \"Vanuatu\"\n",
       " \"Venezuela\"\n",
       " \"Vietnam\"\n",
       " \"VirginIslands\"\n",
       " \"WallisandFutuna\"\n",
       " \"WestBank\"\n",
       " \"WesternSahara\"\n",
       " \"Yemen\"\n",
       " \"Zambia\"\n",
       " \"Zimbabwe\""
      ]
     },
     "execution_count": 105,
     "metadata": {},
     "output_type": "execute_result"
    }
   ],
   "source": [
    "countries=countries[!,1]\n",
    "countries=replace.(countries, r\" \"=>\"\")"
   ]
  },
  {
   "cell_type": "code",
   "execution_count": null,
   "id": "e751cc8a",
   "metadata": {},
   "outputs": [],
   "source": []
  },
  {
   "cell_type": "code",
   "execution_count": 106,
   "id": "75734067",
   "metadata": {},
   "outputs": [
    {
     "name": "stdout",
     "output_type": "stream",
     "text": [
      "SubString{String}[\"23/1/2021\", \"/\"]\n",
      "Belgium\n",
      "SubString{String}[\"26/12/2022\", \"/\"]\n",
      "Belgium\n",
      "SubString{String}[\"26/12/2022\", \"/\"]\n",
      "Belgium\n",
      "SubString{String}[\"10/2/2022\", \"/\"]\n",
      "Belgium\n",
      "SubString{String}[\"3/12/2021\", \"/\"]\n",
      "Belgium\n",
      "SubString{String}[\"1/2/2022\", \"/\"]\n",
      "Unknown\n",
      "SubString{String}[\"23/1/2021\", \"/\"]\n",
      "Unknown\n",
      "SubString{String}[\"10/1/2021\", \"/\"]\n",
      "Belgium\n"
     ]
    }
   ],
   "source": [
    "\n",
    "for i in 1:length(l1st)\n",
    "    list_1=split(l1st[i])\n",
    "\n",
    "    words=filter(contains(r\"a|b|c|d|e|f|g|h|i|j|k|l|m|n|o|p|q|r|s|t|u|v|w|x|y|z\"), list_1)\n",
    " \n",
    "    euro=filter(contains(r\"[€]\"), list_1)\n",
    "    email=filter(contains(r\"[@]\"), list_1)\n",
    "    datum=filter(contains(r\"/\"), list_1)\n",
    "    println(datum)\n",
    "    k=1\n",
    "    for i in datum\n",
    "        if i==\"/\"  \n",
    "            splice!(datum,k) \n",
    "        end\n",
    "        k=k+1\n",
    "    end\n",
    "        \n",
    "    x=0\n",
    "    postcode=[]\n",
    "    tel=[]\n",
    "    BTW=[]\n",
    "    land=\"\"\n",
    "    bool=false\n",
    "\n",
    "\n",
    "\n",
    "\n",
    "    \n",
    "    for i in list_1\n",
    "        for x in values(countries)\n",
    "            i=replace.(i, r\" \"=>\"\")\n",
    "            #println(i)\n",
    "            if uppercase(x)==uppercase(i)\n",
    "                land=x\n",
    "                bool=true\n",
    "            else \n",
    "            end\n",
    "        end           \n",
    "\n",
    "        if length(i)== 4\n",
    "                push!(postcode,i)\n",
    "        end\n",
    "        \n",
    "\n",
    "        if length(i)==10 || length(i)==12\n",
    "           if startswith(i,\"+32\") ==true || startswith(i,\"04\") ==true \n",
    "                push!(tel,i)\n",
    "            end \n",
    "            if startswith(i,\"BE\") ==true \n",
    "                push!(BTW,i)\n",
    "            end\n",
    "\n",
    "            if startswith(i,\"07\")==true \n",
    "                push!(BTW,\"BE$i\") \n",
    "            end \n",
    "        end \n",
    "    end\n",
    "    if uppercase(last(email))==\"STRNGRCLOTHINGCOMPANY@GMAIL.COM\"\n",
    "        push!(email,\"Unknown\")\n",
    "    end\n",
    "    if uppercase(last(tel))==\"0494664981\"\n",
    "        push!(tel,\"Unknown\")\n",
    "    end\n",
    "    if uppercase(last(BTW))==\"BE0771433476\"\n",
    "        push!(BTW,\"Unknown\")\n",
    "    \n",
    "    end\n",
    "    if bool==false\n",
    "        land=\"Unknown\"\n",
    "    end\n",
    "    println(land)\n",
    "    push!(dataset,[last(email),last(datum),land,last(BTW),last(tel),last(euro)])\n",
    "\n",
    "\n",
    "\n",
    "end"
   ]
  },
  {
   "cell_type": "code",
   "execution_count": 107,
   "id": "fe525e28",
   "metadata": {},
   "outputs": [
    {
     "data": {
      "text/html": [
       "<div class=\"data-frame\"><p>8 rows × 6 columns</p><table class=\"data-frame\"><thead><tr><th></th><th>Email</th><th>Date</th><th>Country</th><th>VAT</th><th>Telephone</th><th>Total_€</th></tr><tr><th></th><th title=\"Any\">Any</th><th title=\"Any\">Any</th><th title=\"Any\">Any</th><th title=\"Any\">Any</th><th title=\"Any\">Any</th><th title=\"Any\">Any</th></tr></thead><tbody><tr><th>1</th><td>LACUS@GMAIL.COM</td><td>23/1/2021</td><td>Belgium</td><td>BE0776625055</td><td>Unknown</td><td>75€</td></tr><tr><th>2</th><td>Arno@gmail.com</td><td>26/12/2022</td><td>Belgium</td><td>Unknown</td><td>Unknown</td><td>160€</td></tr><tr><th>3</th><td>Unknown</td><td>26/12/2022</td><td>Belgium</td><td>Unknown</td><td>0474448833</td><td>€224</td></tr><tr><th>4</th><td>Sbridoux.business@gmail.com</td><td>10/2/2022</td><td>Belgium</td><td>BE0775755025</td><td>+32483446663</td><td>54,99€</td></tr><tr><th>5</th><td>vital@gmail.com</td><td>3/12/2021</td><td>Belgium</td><td>BE0753524209</td><td>Unknown</td><td>55€</td></tr><tr><th>6</th><td>LACUS@gmail.com</td><td>1/2/2022</td><td>Unknown</td><td>BE0776625055</td><td>Unknown</td><td>16€</td></tr><tr><th>7</th><td>lennertgrootaerd@gmail.com</td><td>23/1/2021</td><td>Unknown</td><td>BE0725470720</td><td>Unknown</td><td>195€</td></tr><tr><th>8</th><td>Info@balvantwaregemse.be</td><td>10/1/2021</td><td>Belgium</td><td>BE0729909558</td><td>Unknown</td><td>597€</td></tr></tbody></table></div>"
      ],
      "text/latex": [
       "\\begin{tabular}{r|cccccc}\n",
       "\t& Email & Date & Country & VAT & Telephone & Total\\_€\\\\\n",
       "\t\\hline\n",
       "\t& Any & Any & Any & Any & Any & Any\\\\\n",
       "\t\\hline\n",
       "\t1 & LACUS@GMAIL.COM & 23/1/2021 & Belgium & BE0776625055 & Unknown & 75€ \\\\\n",
       "\t2 & Arno@gmail.com & 26/12/2022 & Belgium & Unknown & Unknown & 160€ \\\\\n",
       "\t3 & Unknown & 26/12/2022 & Belgium & Unknown & 0474448833 & €224 \\\\\n",
       "\t4 & Sbridoux.business@gmail.com & 10/2/2022 & Belgium & BE0775755025 & +32483446663 & 54,99€ \\\\\n",
       "\t5 & vital@gmail.com & 3/12/2021 & Belgium & BE0753524209 & Unknown & 55€ \\\\\n",
       "\t6 & LACUS@gmail.com & 1/2/2022 & Unknown & BE0776625055 & Unknown & 16€ \\\\\n",
       "\t7 & lennertgrootaerd@gmail.com & 23/1/2021 & Unknown & BE0725470720 & Unknown & 195€ \\\\\n",
       "\t8 & Info@balvantwaregemse.be & 10/1/2021 & Belgium & BE0729909558 & Unknown & 597€ \\\\\n",
       "\\end{tabular}\n"
      ],
      "text/plain": [
       "\u001b[1m8×6 DataFrame\u001b[0m\n",
       "\u001b[1m Row \u001b[0m│\u001b[1m Email                       \u001b[0m\u001b[1m Date       \u001b[0m\u001b[1m Country \u001b[0m\u001b[1m VAT          \u001b[0m\u001b[1m Telepho\u001b[0m ⋯\n",
       "\u001b[1m     \u001b[0m│\u001b[90m Any                         \u001b[0m\u001b[90m Any        \u001b[0m\u001b[90m Any     \u001b[0m\u001b[90m Any          \u001b[0m\u001b[90m Any    \u001b[0m ⋯\n",
       "─────┼──────────────────────────────────────────────────────────────────────────\n",
       "   1 │ LACUS@GMAIL.COM              23/1/2021   Belgium  BE0776625055  Unknown ⋯\n",
       "   2 │ Arno@gmail.com               26/12/2022  Belgium  Unknown       Unknown\n",
       "   3 │ Unknown                      26/12/2022  Belgium  Unknown       0474448\n",
       "   4 │ Sbridoux.business@gmail.com  10/2/2022   Belgium  BE0775755025  +324834\n",
       "   5 │ vital@gmail.com              3/12/2021   Belgium  BE0753524209  Unknown ⋯\n",
       "   6 │ LACUS@gmail.com              1/2/2022    Unknown  BE0776625055  Unknown\n",
       "   7 │ lennertgrootaerd@gmail.com   23/1/2021   Unknown  BE0725470720  Unknown\n",
       "   8 │ Info@balvantwaregemse.be     10/1/2021   Belgium  BE0729909558  Unknown\n",
       "\u001b[36m                                                               2 columns omitted\u001b[0m"
      ]
     },
     "execution_count": 107,
     "metadata": {},
     "output_type": "execute_result"
    }
   ],
   "source": [
    "dataset"
   ]
  },
  {
   "cell_type": "markdown",
   "id": "dbcd11d2",
   "metadata": {},
   "source": [
    "# ANALYSE"
   ]
  },
  {
   "cell_type": "code",
   "execution_count": 108,
   "id": "18aed2ee",
   "metadata": {},
   "outputs": [],
   "source": [
    "x=1\n",
    "for i in values(dataset[!,\"Email\"])\n",
    "    if i==\"Unknown\"\n",
    "        delete!(dataset,x)        \n",
    "    end\n",
    "\n",
    "    x=x+1\n",
    "end"
   ]
  },
  {
   "cell_type": "code",
   "execution_count": 109,
   "id": "d7c5eacf",
   "metadata": {},
   "outputs": [
    {
     "data": {
      "text/html": [
       "<div class=\"data-frame\"><p>7 rows × 6 columns</p><table class=\"data-frame\"><thead><tr><th></th><th>Email</th><th>Date</th><th>Country</th><th>VAT</th><th>Telephone</th><th>Total_€</th></tr><tr><th></th><th title=\"Any\">Any</th><th title=\"Any\">Any</th><th title=\"Any\">Any</th><th title=\"Any\">Any</th><th title=\"Any\">Any</th><th title=\"Any\">Any</th></tr></thead><tbody><tr><th>1</th><td>LACUS@GMAIL.COM</td><td>23/1/2021</td><td>Belgium</td><td>BE0776625055</td><td>Unknown</td><td>75€</td></tr><tr><th>2</th><td>Arno@gmail.com</td><td>26/12/2022</td><td>Belgium</td><td>Unknown</td><td>Unknown</td><td>160€</td></tr><tr><th>3</th><td>Sbridoux.business@gmail.com</td><td>10/2/2022</td><td>Belgium</td><td>BE0775755025</td><td>+32483446663</td><td>54,99€</td></tr><tr><th>4</th><td>vital@gmail.com</td><td>3/12/2021</td><td>Belgium</td><td>BE0753524209</td><td>Unknown</td><td>55€</td></tr><tr><th>5</th><td>LACUS@gmail.com</td><td>1/2/2022</td><td>Unknown</td><td>BE0776625055</td><td>Unknown</td><td>16€</td></tr><tr><th>6</th><td>lennertgrootaerd@gmail.com</td><td>23/1/2021</td><td>Unknown</td><td>BE0725470720</td><td>Unknown</td><td>195€</td></tr><tr><th>7</th><td>Info@balvantwaregemse.be</td><td>10/1/2021</td><td>Belgium</td><td>BE0729909558</td><td>Unknown</td><td>597€</td></tr></tbody></table></div>"
      ],
      "text/latex": [
       "\\begin{tabular}{r|cccccc}\n",
       "\t& Email & Date & Country & VAT & Telephone & Total\\_€\\\\\n",
       "\t\\hline\n",
       "\t& Any & Any & Any & Any & Any & Any\\\\\n",
       "\t\\hline\n",
       "\t1 & LACUS@GMAIL.COM & 23/1/2021 & Belgium & BE0776625055 & Unknown & 75€ \\\\\n",
       "\t2 & Arno@gmail.com & 26/12/2022 & Belgium & Unknown & Unknown & 160€ \\\\\n",
       "\t3 & Sbridoux.business@gmail.com & 10/2/2022 & Belgium & BE0775755025 & +32483446663 & 54,99€ \\\\\n",
       "\t4 & vital@gmail.com & 3/12/2021 & Belgium & BE0753524209 & Unknown & 55€ \\\\\n",
       "\t5 & LACUS@gmail.com & 1/2/2022 & Unknown & BE0776625055 & Unknown & 16€ \\\\\n",
       "\t6 & lennertgrootaerd@gmail.com & 23/1/2021 & Unknown & BE0725470720 & Unknown & 195€ \\\\\n",
       "\t7 & Info@balvantwaregemse.be & 10/1/2021 & Belgium & BE0729909558 & Unknown & 597€ \\\\\n",
       "\\end{tabular}\n"
      ],
      "text/plain": [
       "\u001b[1m7×6 DataFrame\u001b[0m\n",
       "\u001b[1m Row \u001b[0m│\u001b[1m Email                       \u001b[0m\u001b[1m Date       \u001b[0m\u001b[1m Country \u001b[0m\u001b[1m VAT          \u001b[0m\u001b[1m Telepho\u001b[0m ⋯\n",
       "\u001b[1m     \u001b[0m│\u001b[90m Any                         \u001b[0m\u001b[90m Any        \u001b[0m\u001b[90m Any     \u001b[0m\u001b[90m Any          \u001b[0m\u001b[90m Any    \u001b[0m ⋯\n",
       "─────┼──────────────────────────────────────────────────────────────────────────\n",
       "   1 │ LACUS@GMAIL.COM              23/1/2021   Belgium  BE0776625055  Unknown ⋯\n",
       "   2 │ Arno@gmail.com               26/12/2022  Belgium  Unknown       Unknown\n",
       "   3 │ Sbridoux.business@gmail.com  10/2/2022   Belgium  BE0775755025  +324834\n",
       "   4 │ vital@gmail.com              3/12/2021   Belgium  BE0753524209  Unknown\n",
       "   5 │ LACUS@gmail.com              1/2/2022    Unknown  BE0776625055  Unknown ⋯\n",
       "   6 │ lennertgrootaerd@gmail.com   23/1/2021   Unknown  BE0725470720  Unknown\n",
       "   7 │ Info@balvantwaregemse.be     10/1/2021   Belgium  BE0729909558  Unknown\n",
       "\u001b[36m                                                               2 columns omitted\u001b[0m"
      ]
     },
     "execution_count": 109,
     "metadata": {},
     "output_type": "execute_result"
    }
   ],
   "source": [
    "dataset"
   ]
  },
  {
   "cell_type": "code",
   "execution_count": 193,
   "id": "8ff65c01",
   "metadata": {},
   "outputs": [],
   "source": [
    "float_eur=[]\n",
    "for i in dataset[!,6]\n",
    "    i=replace(i, \"€\" => \"\")\n",
    "    i=replace(i, \",\" => \".\")\n",
    "    push!(float_eur,parse(Float64,i))\n",
    "end"
   ]
  },
  {
   "cell_type": "code",
   "execution_count": 194,
   "id": "5845ed0f",
   "metadata": {},
   "outputs": [
    {
     "data": {
      "text/plain": [
       "77-element Vector{Any}:\n",
       " 160.0\n",
       "  54.99\n",
       " 195.0\n",
       "  16.0\n",
       "  55.0\n",
       " 597.0\n",
       "  75.0\n",
       " 160.0\n",
       "  54.99\n",
       " 195.0\n",
       "  16.0\n",
       "  55.0\n",
       " 597.0\n",
       "   ⋮\n",
       " 195.0\n",
       "  16.0\n",
       "  55.0\n",
       " 597.0\n",
       "  75.0\n",
       " 160.0\n",
       "  54.99\n",
       " 195.0\n",
       "  16.0\n",
       "  55.0\n",
       " 597.0\n",
       "  75.0"
      ]
     },
     "execution_count": 194,
     "metadata": {},
     "output_type": "execute_result"
    }
   ],
   "source": [
    "float_eur"
   ]
  },
  {
   "cell_type": "code",
   "execution_count": 195,
   "id": "04d612cb",
   "metadata": {},
   "outputs": [
    {
     "data": {
      "text/plain": [
       "77-element Vector{Any}:\n",
       " 160.0\n",
       "  54.99\n",
       " 195.0\n",
       "  16.0\n",
       "  55.0\n",
       " 597.0\n",
       "  75.0\n",
       " 160.0\n",
       "  54.99\n",
       " 195.0\n",
       "  16.0\n",
       "  55.0\n",
       " 597.0\n",
       "   ⋮\n",
       " 195.0\n",
       "  16.0\n",
       "  55.0\n",
       " 597.0\n",
       "  75.0\n",
       " 160.0\n",
       "  54.99\n",
       " 195.0\n",
       "  16.0\n",
       "  55.0\n",
       " 597.0\n",
       "  75.0"
      ]
     },
     "execution_count": 195,
     "metadata": {},
     "output_type": "execute_result"
    }
   ],
   "source": [
    "dataset.Total_€=float_eur"
   ]
  },
  {
   "cell_type": "code",
   "execution_count": 196,
   "id": "cd343b1c",
   "metadata": {},
   "outputs": [
    {
     "data": {
      "text/html": [
       "<div class=\"data-frame\"><p>77 rows × 6 columns</p><table class=\"data-frame\"><thead><tr><th></th><th>Email</th><th>Date</th><th>Country</th><th>VAT</th><th>Telephone</th><th>Total_€</th></tr><tr><th></th><th title=\"Any\">Any</th><th title=\"Any\">Any</th><th title=\"Any\">Any</th><th title=\"Any\">Any</th><th title=\"Any\">Any</th><th title=\"Any\">Any</th></tr></thead><tbody><tr><th>1</th><td>Arno@gmail.com</td><td>26/12/2022</td><td>Belgium</td><td>Unknown</td><td>Unknown</td><td>160.0</td></tr><tr><th>2</th><td>Sbridoux.business@gmail.com</td><td>10/2/2022</td><td>Belgium</td><td>BE0775755025</td><td>+32483446663</td><td>54.99</td></tr><tr><th>3</th><td>lennertgrootaerd@gmail.com</td><td>23/1/2021</td><td>Unknown</td><td>BE0725470720</td><td>Unknown</td><td>195.0</td></tr><tr><th>4</th><td>LACUS@gmail.com</td><td>1/2/2022</td><td>Unknown</td><td>BE0776625055</td><td>Unknown</td><td>16.0</td></tr><tr><th>5</th><td>vital@gmail.com</td><td>3/12/2021</td><td>Belgium</td><td>BE0753524209</td><td>Unknown</td><td>55.0</td></tr><tr><th>6</th><td>Info@balvantwaregemse.be</td><td>10/1/2021</td><td>Belgium</td><td>BE0729909558</td><td>Unknown</td><td>597.0</td></tr><tr><th>7</th><td>LACUS@GMAIL.COM</td><td>23/1/2021</td><td>Belgium</td><td>BE0776625055</td><td>Unknown</td><td>75.0</td></tr><tr><th>8</th><td>Arno@gmail.com</td><td>26/12/2022</td><td>Belgium</td><td>Unknown</td><td>Unknown</td><td>160.0</td></tr><tr><th>9</th><td>Sbridoux.business@gmail.com</td><td>10/2/2022</td><td>Belgium</td><td>BE0775755025</td><td>+32483446663</td><td>54.99</td></tr><tr><th>10</th><td>lennertgrootaerd@gmail.com</td><td>23/1/2021</td><td>Unknown</td><td>BE0725470720</td><td>Unknown</td><td>195.0</td></tr><tr><th>11</th><td>LACUS@gmail.com</td><td>1/2/2022</td><td>Unknown</td><td>BE0776625055</td><td>Unknown</td><td>16.0</td></tr><tr><th>12</th><td>vital@gmail.com</td><td>3/12/2021</td><td>Belgium</td><td>BE0753524209</td><td>Unknown</td><td>55.0</td></tr><tr><th>13</th><td>Info@balvantwaregemse.be</td><td>10/1/2021</td><td>Belgium</td><td>BE0729909558</td><td>Unknown</td><td>597.0</td></tr><tr><th>14</th><td>LACUS@GMAIL.COM</td><td>23/1/2021</td><td>Belgium</td><td>BE0776625055</td><td>Unknown</td><td>75.0</td></tr><tr><th>15</th><td>Arno@gmail.com</td><td>26/12/2022</td><td>Belgium</td><td>Unknown</td><td>Unknown</td><td>160.0</td></tr><tr><th>16</th><td>Sbridoux.business@gmail.com</td><td>10/2/2022</td><td>Belgium</td><td>BE0775755025</td><td>+32483446663</td><td>54.99</td></tr><tr><th>17</th><td>lennertgrootaerd@gmail.com</td><td>23/1/2021</td><td>Unknown</td><td>BE0725470720</td><td>Unknown</td><td>195.0</td></tr><tr><th>18</th><td>LACUS@gmail.com</td><td>1/2/2022</td><td>Unknown</td><td>BE0776625055</td><td>Unknown</td><td>16.0</td></tr><tr><th>19</th><td>vital@gmail.com</td><td>3/12/2021</td><td>Belgium</td><td>BE0753524209</td><td>Unknown</td><td>55.0</td></tr><tr><th>20</th><td>Info@balvantwaregemse.be</td><td>10/1/2021</td><td>Belgium</td><td>BE0729909558</td><td>Unknown</td><td>597.0</td></tr><tr><th>21</th><td>LACUS@GMAIL.COM</td><td>23/1/2021</td><td>Belgium</td><td>BE0776625055</td><td>Unknown</td><td>75.0</td></tr><tr><th>22</th><td>Arno@gmail.com</td><td>26/12/2022</td><td>Belgium</td><td>Unknown</td><td>Unknown</td><td>160.0</td></tr><tr><th>23</th><td>Sbridoux.business@gmail.com</td><td>10/2/2022</td><td>Belgium</td><td>BE0775755025</td><td>+32483446663</td><td>54.99</td></tr><tr><th>24</th><td>lennertgrootaerd@gmail.com</td><td>23/1/2021</td><td>Unknown</td><td>BE0725470720</td><td>Unknown</td><td>195.0</td></tr><tr><th>25</th><td>LACUS@gmail.com</td><td>1/2/2022</td><td>Unknown</td><td>BE0776625055</td><td>Unknown</td><td>16.0</td></tr><tr><th>26</th><td>vital@gmail.com</td><td>3/12/2021</td><td>Belgium</td><td>BE0753524209</td><td>Unknown</td><td>55.0</td></tr><tr><th>27</th><td>Info@balvantwaregemse.be</td><td>10/1/2021</td><td>Belgium</td><td>BE0729909558</td><td>Unknown</td><td>597.0</td></tr><tr><th>28</th><td>LACUS@GMAIL.COM</td><td>23/1/2021</td><td>Belgium</td><td>BE0776625055</td><td>Unknown</td><td>75.0</td></tr><tr><th>29</th><td>Arno@gmail.com</td><td>26/12/2022</td><td>Belgium</td><td>Unknown</td><td>Unknown</td><td>160.0</td></tr><tr><th>30</th><td>Sbridoux.business@gmail.com</td><td>10/2/2022</td><td>Belgium</td><td>BE0775755025</td><td>+32483446663</td><td>54.99</td></tr><tr><th>&vellip;</th><td>&vellip;</td><td>&vellip;</td><td>&vellip;</td><td>&vellip;</td><td>&vellip;</td><td>&vellip;</td></tr></tbody></table></div>"
      ],
      "text/latex": [
       "\\begin{tabular}{r|cccccc}\n",
       "\t& Email & Date & Country & VAT & Telephone & Total\\_€\\\\\n",
       "\t\\hline\n",
       "\t& Any & Any & Any & Any & Any & Any\\\\\n",
       "\t\\hline\n",
       "\t1 & Arno@gmail.com & 26/12/2022 & Belgium & Unknown & Unknown & 160.0 \\\\\n",
       "\t2 & Sbridoux.business@gmail.com & 10/2/2022 & Belgium & BE0775755025 & +32483446663 & 54.99 \\\\\n",
       "\t3 & lennertgrootaerd@gmail.com & 23/1/2021 & Unknown & BE0725470720 & Unknown & 195.0 \\\\\n",
       "\t4 & LACUS@gmail.com & 1/2/2022 & Unknown & BE0776625055 & Unknown & 16.0 \\\\\n",
       "\t5 & vital@gmail.com & 3/12/2021 & Belgium & BE0753524209 & Unknown & 55.0 \\\\\n",
       "\t6 & Info@balvantwaregemse.be & 10/1/2021 & Belgium & BE0729909558 & Unknown & 597.0 \\\\\n",
       "\t7 & LACUS@GMAIL.COM & 23/1/2021 & Belgium & BE0776625055 & Unknown & 75.0 \\\\\n",
       "\t8 & Arno@gmail.com & 26/12/2022 & Belgium & Unknown & Unknown & 160.0 \\\\\n",
       "\t9 & Sbridoux.business@gmail.com & 10/2/2022 & Belgium & BE0775755025 & +32483446663 & 54.99 \\\\\n",
       "\t10 & lennertgrootaerd@gmail.com & 23/1/2021 & Unknown & BE0725470720 & Unknown & 195.0 \\\\\n",
       "\t11 & LACUS@gmail.com & 1/2/2022 & Unknown & BE0776625055 & Unknown & 16.0 \\\\\n",
       "\t12 & vital@gmail.com & 3/12/2021 & Belgium & BE0753524209 & Unknown & 55.0 \\\\\n",
       "\t13 & Info@balvantwaregemse.be & 10/1/2021 & Belgium & BE0729909558 & Unknown & 597.0 \\\\\n",
       "\t14 & LACUS@GMAIL.COM & 23/1/2021 & Belgium & BE0776625055 & Unknown & 75.0 \\\\\n",
       "\t15 & Arno@gmail.com & 26/12/2022 & Belgium & Unknown & Unknown & 160.0 \\\\\n",
       "\t16 & Sbridoux.business@gmail.com & 10/2/2022 & Belgium & BE0775755025 & +32483446663 & 54.99 \\\\\n",
       "\t17 & lennertgrootaerd@gmail.com & 23/1/2021 & Unknown & BE0725470720 & Unknown & 195.0 \\\\\n",
       "\t18 & LACUS@gmail.com & 1/2/2022 & Unknown & BE0776625055 & Unknown & 16.0 \\\\\n",
       "\t19 & vital@gmail.com & 3/12/2021 & Belgium & BE0753524209 & Unknown & 55.0 \\\\\n",
       "\t20 & Info@balvantwaregemse.be & 10/1/2021 & Belgium & BE0729909558 & Unknown & 597.0 \\\\\n",
       "\t21 & LACUS@GMAIL.COM & 23/1/2021 & Belgium & BE0776625055 & Unknown & 75.0 \\\\\n",
       "\t22 & Arno@gmail.com & 26/12/2022 & Belgium & Unknown & Unknown & 160.0 \\\\\n",
       "\t23 & Sbridoux.business@gmail.com & 10/2/2022 & Belgium & BE0775755025 & +32483446663 & 54.99 \\\\\n",
       "\t24 & lennertgrootaerd@gmail.com & 23/1/2021 & Unknown & BE0725470720 & Unknown & 195.0 \\\\\n",
       "\t25 & LACUS@gmail.com & 1/2/2022 & Unknown & BE0776625055 & Unknown & 16.0 \\\\\n",
       "\t26 & vital@gmail.com & 3/12/2021 & Belgium & BE0753524209 & Unknown & 55.0 \\\\\n",
       "\t27 & Info@balvantwaregemse.be & 10/1/2021 & Belgium & BE0729909558 & Unknown & 597.0 \\\\\n",
       "\t28 & LACUS@GMAIL.COM & 23/1/2021 & Belgium & BE0776625055 & Unknown & 75.0 \\\\\n",
       "\t29 & Arno@gmail.com & 26/12/2022 & Belgium & Unknown & Unknown & 160.0 \\\\\n",
       "\t30 & Sbridoux.business@gmail.com & 10/2/2022 & Belgium & BE0775755025 & +32483446663 & 54.99 \\\\\n",
       "\t$\\dots$ & $\\dots$ & $\\dots$ & $\\dots$ & $\\dots$ & $\\dots$ & $\\dots$ \\\\\n",
       "\\end{tabular}\n"
      ],
      "text/plain": [
       "\u001b[1m77×6 DataFrame\u001b[0m\n",
       "\u001b[1m Row \u001b[0m│\u001b[1m Email                       \u001b[0m\u001b[1m Date       \u001b[0m\u001b[1m Country \u001b[0m\u001b[1m VAT          \u001b[0m\u001b[1m Telepho\u001b[0m ⋯\n",
       "\u001b[1m     \u001b[0m│\u001b[90m Any                         \u001b[0m\u001b[90m Any        \u001b[0m\u001b[90m Any     \u001b[0m\u001b[90m Any          \u001b[0m\u001b[90m Any    \u001b[0m ⋯\n",
       "─────┼──────────────────────────────────────────────────────────────────────────\n",
       "   1 │ Arno@gmail.com               26/12/2022  Belgium  Unknown       Unknown ⋯\n",
       "   2 │ Sbridoux.business@gmail.com  10/2/2022   Belgium  BE0775755025  +324834\n",
       "   3 │ lennertgrootaerd@gmail.com   23/1/2021   Unknown  BE0725470720  Unknown\n",
       "   4 │ LACUS@gmail.com              1/2/2022    Unknown  BE0776625055  Unknown\n",
       "   5 │ vital@gmail.com              3/12/2021   Belgium  BE0753524209  Unknown ⋯\n",
       "   6 │ Info@balvantwaregemse.be     10/1/2021   Belgium  BE0729909558  Unknown\n",
       "   7 │ LACUS@GMAIL.COM              23/1/2021   Belgium  BE0776625055  Unknown\n",
       "   8 │ Arno@gmail.com               26/12/2022  Belgium  Unknown       Unknown\n",
       "   9 │ Sbridoux.business@gmail.com  10/2/2022   Belgium  BE0775755025  +324834 ⋯\n",
       "  10 │ lennertgrootaerd@gmail.com   23/1/2021   Unknown  BE0725470720  Unknown\n",
       "  11 │ LACUS@gmail.com              1/2/2022    Unknown  BE0776625055  Unknown\n",
       "  ⋮  │              ⋮                   ⋮          ⋮          ⋮             ⋮  ⋱\n",
       "  68 │ vital@gmail.com              3/12/2021   Belgium  BE0753524209  Unknown\n",
       "  69 │ Info@balvantwaregemse.be     10/1/2021   Belgium  BE0729909558  Unknown ⋯\n",
       "  70 │ LACUS@GMAIL.COM              23/1/2021   Belgium  BE0776625055  Unknown\n",
       "  71 │ Arno@gmail.com               26/12/2022  Belgium  Unknown       Unknown\n",
       "  72 │ Sbridoux.business@gmail.com  10/2/2022   Belgium  BE0775755025  +324834\n",
       "  73 │ lennertgrootaerd@gmail.com   23/1/2021   Unknown  BE0725470720  Unknown ⋯\n",
       "  74 │ LACUS@gmail.com              1/2/2022    Unknown  BE0776625055  Unknown\n",
       "  75 │ vital@gmail.com              3/12/2021   Belgium  BE0753524209  Unknown\n",
       "  76 │ Info@balvantwaregemse.be     10/1/2021   Belgium  BE0729909558  Unknown\n",
       "  77 │ LACUS@GMAIL.COM              23/1/2021   Belgium  BE0776625055  Unknown ⋯\n",
       "\u001b[36m                                                   2 columns and 56 rows omitted\u001b[0m"
      ]
     },
     "execution_count": 196,
     "metadata": {},
     "output_type": "execute_result"
    }
   ],
   "source": [
    "dataset"
   ]
  },
  {
   "cell_type": "code",
   "execution_count": 205,
   "id": "c9042266",
   "metadata": {},
   "outputs": [
    {
     "data": {
      "text/html": [
       "<div class=\"data-frame\"><p>125 rows × 6 columns</p><table class=\"data-frame\"><thead><tr><th></th><th>Email</th><th>Date</th><th>Country</th><th>VAT</th><th>Telephone</th><th>Total_€</th></tr><tr><th></th><th title=\"Any\">Any</th><th title=\"Any\">Any</th><th title=\"Any\">Any</th><th title=\"Any\">Any</th><th title=\"Any\">Any</th><th title=\"Any\">Any</th></tr></thead><tbody><tr><th>1</th><td>Arno@gmail.com</td><td>26/12/2022</td><td>Belgium</td><td>Unknown</td><td>Unknown</td><td>160.0</td></tr><tr><th>2</th><td>Sbridoux.business@gmail.com</td><td>10/2/2022</td><td>Belgium</td><td>BE0775755025</td><td>+32483446663</td><td>54.99</td></tr><tr><th>3</th><td>lennertgrootaerd@gmail.com</td><td>23/1/2021</td><td>Unknown</td><td>BE0725470720</td><td>Unknown</td><td>195.0</td></tr><tr><th>4</th><td>LACUS@gmail.com</td><td>1/2/2022</td><td>Unknown</td><td>BE0776625055</td><td>Unknown</td><td>16.0</td></tr><tr><th>5</th><td>vital@gmail.com</td><td>3/12/2021</td><td>Belgium</td><td>BE0753524209</td><td>Unknown</td><td>55.0</td></tr><tr><th>6</th><td>Info@balvantwaregemse.be</td><td>10/1/2021</td><td>Belgium</td><td>BE0729909558</td><td>Unknown</td><td>597.0</td></tr><tr><th>7</th><td>LACUS@GMAIL.COM</td><td>23/1/2021</td><td>Belgium</td><td>BE0776625055</td><td>Unknown</td><td>75.0</td></tr><tr><th>8</th><td>Arno@gmail.com</td><td>26/12/2022</td><td>Belgium</td><td>Unknown</td><td>Unknown</td><td>160.0</td></tr><tr><th>9</th><td>Sbridoux.business@gmail.com</td><td>10/2/2022</td><td>Belgium</td><td>BE0775755025</td><td>+32483446663</td><td>54.99</td></tr><tr><th>10</th><td>lennertgrootaerd@gmail.com</td><td>23/1/2021</td><td>Unknown</td><td>BE0725470720</td><td>Unknown</td><td>195.0</td></tr><tr><th>11</th><td>LACUS@gmail.com</td><td>1/2/2022</td><td>Unknown</td><td>BE0776625055</td><td>Unknown</td><td>16.0</td></tr><tr><th>12</th><td>vital@gmail.com</td><td>3/12/2021</td><td>Belgium</td><td>BE0753524209</td><td>Unknown</td><td>55.0</td></tr><tr><th>13</th><td>Info@balvantwaregemse.be</td><td>10/1/2021</td><td>Belgium</td><td>BE0729909558</td><td>Unknown</td><td>597.0</td></tr><tr><th>14</th><td>LACUS@GMAIL.COM</td><td>23/1/2021</td><td>Belgium</td><td>BE0776625055</td><td>Unknown</td><td>75.0</td></tr><tr><th>15</th><td>Arno@gmail.com</td><td>26/12/2022</td><td>Belgium</td><td>Unknown</td><td>Unknown</td><td>160.0</td></tr><tr><th>16</th><td>Sbridoux.business@gmail.com</td><td>10/2/2022</td><td>Belgium</td><td>BE0775755025</td><td>+32483446663</td><td>54.99</td></tr><tr><th>17</th><td>lennertgrootaerd@gmail.com</td><td>23/1/2021</td><td>Unknown</td><td>BE0725470720</td><td>Unknown</td><td>195.0</td></tr><tr><th>18</th><td>LACUS@gmail.com</td><td>1/2/2022</td><td>Unknown</td><td>BE0776625055</td><td>Unknown</td><td>16.0</td></tr><tr><th>19</th><td>vital@gmail.com</td><td>3/12/2021</td><td>Belgium</td><td>BE0753524209</td><td>Unknown</td><td>55.0</td></tr><tr><th>20</th><td>Info@balvantwaregemse.be</td><td>10/1/2021</td><td>Belgium</td><td>BE0729909558</td><td>Unknown</td><td>597.0</td></tr><tr><th>21</th><td>LACUS@GMAIL.COM</td><td>23/1/2021</td><td>Belgium</td><td>BE0776625055</td><td>Unknown</td><td>75.0</td></tr><tr><th>22</th><td>Arno@gmail.com</td><td>26/12/2022</td><td>Belgium</td><td>Unknown</td><td>Unknown</td><td>160.0</td></tr><tr><th>23</th><td>Sbridoux.business@gmail.com</td><td>10/2/2022</td><td>Belgium</td><td>BE0775755025</td><td>+32483446663</td><td>54.99</td></tr><tr><th>24</th><td>lennertgrootaerd@gmail.com</td><td>23/1/2021</td><td>Unknown</td><td>BE0725470720</td><td>Unknown</td><td>195.0</td></tr><tr><th>25</th><td>LACUS@gmail.com</td><td>1/2/2022</td><td>Unknown</td><td>BE0776625055</td><td>Unknown</td><td>16.0</td></tr><tr><th>26</th><td>vital@gmail.com</td><td>3/12/2021</td><td>Belgium</td><td>BE0753524209</td><td>Unknown</td><td>55.0</td></tr><tr><th>27</th><td>Info@balvantwaregemse.be</td><td>10/1/2021</td><td>Belgium</td><td>BE0729909558</td><td>Unknown</td><td>597.0</td></tr><tr><th>28</th><td>LACUS@GMAIL.COM</td><td>23/1/2021</td><td>Belgium</td><td>BE0776625055</td><td>Unknown</td><td>75.0</td></tr><tr><th>29</th><td>Arno@gmail.com</td><td>26/12/2022</td><td>Belgium</td><td>Unknown</td><td>Unknown</td><td>160.0</td></tr><tr><th>30</th><td>Sbridoux.business@gmail.com</td><td>10/2/2022</td><td>Belgium</td><td>BE0775755025</td><td>+32483446663</td><td>54.99</td></tr><tr><th>&vellip;</th><td>&vellip;</td><td>&vellip;</td><td>&vellip;</td><td>&vellip;</td><td>&vellip;</td><td>&vellip;</td></tr></tbody></table></div>"
      ],
      "text/latex": [
       "\\begin{tabular}{r|cccccc}\n",
       "\t& Email & Date & Country & VAT & Telephone & Total\\_€\\\\\n",
       "\t\\hline\n",
       "\t& Any & Any & Any & Any & Any & Any\\\\\n",
       "\t\\hline\n",
       "\t1 & Arno@gmail.com & 26/12/2022 & Belgium & Unknown & Unknown & 160.0 \\\\\n",
       "\t2 & Sbridoux.business@gmail.com & 10/2/2022 & Belgium & BE0775755025 & +32483446663 & 54.99 \\\\\n",
       "\t3 & lennertgrootaerd@gmail.com & 23/1/2021 & Unknown & BE0725470720 & Unknown & 195.0 \\\\\n",
       "\t4 & LACUS@gmail.com & 1/2/2022 & Unknown & BE0776625055 & Unknown & 16.0 \\\\\n",
       "\t5 & vital@gmail.com & 3/12/2021 & Belgium & BE0753524209 & Unknown & 55.0 \\\\\n",
       "\t6 & Info@balvantwaregemse.be & 10/1/2021 & Belgium & BE0729909558 & Unknown & 597.0 \\\\\n",
       "\t7 & LACUS@GMAIL.COM & 23/1/2021 & Belgium & BE0776625055 & Unknown & 75.0 \\\\\n",
       "\t8 & Arno@gmail.com & 26/12/2022 & Belgium & Unknown & Unknown & 160.0 \\\\\n",
       "\t9 & Sbridoux.business@gmail.com & 10/2/2022 & Belgium & BE0775755025 & +32483446663 & 54.99 \\\\\n",
       "\t10 & lennertgrootaerd@gmail.com & 23/1/2021 & Unknown & BE0725470720 & Unknown & 195.0 \\\\\n",
       "\t11 & LACUS@gmail.com & 1/2/2022 & Unknown & BE0776625055 & Unknown & 16.0 \\\\\n",
       "\t12 & vital@gmail.com & 3/12/2021 & Belgium & BE0753524209 & Unknown & 55.0 \\\\\n",
       "\t13 & Info@balvantwaregemse.be & 10/1/2021 & Belgium & BE0729909558 & Unknown & 597.0 \\\\\n",
       "\t14 & LACUS@GMAIL.COM & 23/1/2021 & Belgium & BE0776625055 & Unknown & 75.0 \\\\\n",
       "\t15 & Arno@gmail.com & 26/12/2022 & Belgium & Unknown & Unknown & 160.0 \\\\\n",
       "\t16 & Sbridoux.business@gmail.com & 10/2/2022 & Belgium & BE0775755025 & +32483446663 & 54.99 \\\\\n",
       "\t17 & lennertgrootaerd@gmail.com & 23/1/2021 & Unknown & BE0725470720 & Unknown & 195.0 \\\\\n",
       "\t18 & LACUS@gmail.com & 1/2/2022 & Unknown & BE0776625055 & Unknown & 16.0 \\\\\n",
       "\t19 & vital@gmail.com & 3/12/2021 & Belgium & BE0753524209 & Unknown & 55.0 \\\\\n",
       "\t20 & Info@balvantwaregemse.be & 10/1/2021 & Belgium & BE0729909558 & Unknown & 597.0 \\\\\n",
       "\t21 & LACUS@GMAIL.COM & 23/1/2021 & Belgium & BE0776625055 & Unknown & 75.0 \\\\\n",
       "\t22 & Arno@gmail.com & 26/12/2022 & Belgium & Unknown & Unknown & 160.0 \\\\\n",
       "\t23 & Sbridoux.business@gmail.com & 10/2/2022 & Belgium & BE0775755025 & +32483446663 & 54.99 \\\\\n",
       "\t24 & lennertgrootaerd@gmail.com & 23/1/2021 & Unknown & BE0725470720 & Unknown & 195.0 \\\\\n",
       "\t25 & LACUS@gmail.com & 1/2/2022 & Unknown & BE0776625055 & Unknown & 16.0 \\\\\n",
       "\t26 & vital@gmail.com & 3/12/2021 & Belgium & BE0753524209 & Unknown & 55.0 \\\\\n",
       "\t27 & Info@balvantwaregemse.be & 10/1/2021 & Belgium & BE0729909558 & Unknown & 597.0 \\\\\n",
       "\t28 & LACUS@GMAIL.COM & 23/1/2021 & Belgium & BE0776625055 & Unknown & 75.0 \\\\\n",
       "\t29 & Arno@gmail.com & 26/12/2022 & Belgium & Unknown & Unknown & 160.0 \\\\\n",
       "\t30 & Sbridoux.business@gmail.com & 10/2/2022 & Belgium & BE0775755025 & +32483446663 & 54.99 \\\\\n",
       "\t$\\dots$ & $\\dots$ & $\\dots$ & $\\dots$ & $\\dots$ & $\\dots$ & $\\dots$ \\\\\n",
       "\\end{tabular}\n"
      ],
      "text/plain": [
       "\u001b[1m125×6 DataFrame\u001b[0m\n",
       "\u001b[1m Row \u001b[0m│\u001b[1m Email                       \u001b[0m\u001b[1m Date       \u001b[0m\u001b[1m Country \u001b[0m\u001b[1m VAT           \u001b[0m\u001b[1m Teleph\u001b[0m ⋯\n",
       "\u001b[1m     \u001b[0m│\u001b[90m Any                         \u001b[0m\u001b[90m Any        \u001b[0m\u001b[90m Any     \u001b[0m\u001b[90m Any           \u001b[0m\u001b[90m Any   \u001b[0m ⋯\n",
       "─────┼──────────────────────────────────────────────────────────────────────────\n",
       "   1 │ Arno@gmail.com               26/12/2022  Belgium  Unknown        Unknow ⋯\n",
       "   2 │ Sbridoux.business@gmail.com  10/2/2022   Belgium  BE0775755025   +32483\n",
       "   3 │ lennertgrootaerd@gmail.com   23/1/2021   Unknown  BE0725470720   Unknow\n",
       "   4 │ LACUS@gmail.com              1/2/2022    Unknown  BE0776625055   Unknow\n",
       "   5 │ vital@gmail.com              3/12/2021   Belgium  BE0753524209   Unknow ⋯\n",
       "   6 │ Info@balvantwaregemse.be     10/1/2021   Belgium  BE0729909558   Unknow\n",
       "   7 │ LACUS@GMAIL.COM              23/1/2021   Belgium  BE0776625055   Unknow\n",
       "   8 │ Arno@gmail.com               26/12/2022  Belgium  Unknown        Unknow\n",
       "   9 │ Sbridoux.business@gmail.com  10/2/2022   Belgium  BE0775755025   +32483 ⋯\n",
       "  10 │ lennertgrootaerd@gmail.com   23/1/2021   Unknown  BE0725470720   Unknow\n",
       "  11 │ LACUS@gmail.com              1/2/2022    Unknown  BE0776625055   Unknow\n",
       "  ⋮  │              ⋮                   ⋮          ⋮           ⋮             ⋮ ⋱\n",
       " 116 │ Melody@outlook.fr            01/3/2021   France   FR4847260373   +33447\n",
       " 117 │ Henk@gmail.fr                22/1/2021   France   FR424750077    +33987 ⋯\n",
       " 118 │ Kyani@DPD.fr                 12/2/2021   France   FR48272250357  +33987\n",
       " 119 │ Hugo@hotmail.fr              24/2/2021   France   FR13472243077  +33987\n",
       " 120 │ Richard@hotmail.fr           22/3/2021   France   FR4847220377   +33984\n",
       " 121 │ Victor@hotmail.fr            31/3/2021   France   FR4847220373   +33987 ⋯\n",
       " 122 │ Melody@outlook.fr            01/3/2021   France   FR4847260373   +33447\n",
       " 123 │ Henk@gmail.fr                22/1/2021   France   FR424750077    +33987\n",
       " 124 │ Kyani@DPD.fr                 12/2/2021   France   FR48272250357  +33987\n",
       " 125 │ Hugo@hotmail.fr              24/2/2021   France   FR13472243077  +33987 ⋯\n",
       "\u001b[36m                                                  2 columns and 104 rows omitted\u001b[0m"
      ]
     },
     "execution_count": 205,
     "metadata": {},
     "output_type": "execute_result"
    }
   ],
   "source": [
    "push!(dataset,[\"Richard@hotmail.fr\",\"22/3/2021\",\"France\",\"FR4847220377\",\"+33984535111\",120.5])\n",
    "push!(dataset,[\"Victor@hotmail.fr\",\"31/3/2021\",\"France\",\"FR4847220373\",\"+33987337111\",100.5])\n",
    "push!(dataset,[\"Melody@outlook.fr\",\"01/3/2021\",\"France\",\"FR4847260373\",\"+33447337111\",119.5])\n",
    "push!(dataset,[\"Henk@gmail.fr\",\"22/1/2021\",\"France\",\"FR424750077\",\"+33987336611\",15.5])\n",
    "push!(dataset,[\"Kyani@DPD.fr\",\"12/2/2021\",\"France\",\"FR48272250357\",\"+33987337151\",59.5])\n",
    "push!(dataset,[\"Hugo@hotmail.fr\",\"24/2/2021\",\"France\",\"FR13472243077\",\"+33987337131\",29.8])"
   ]
  },
  {
   "cell_type": "code",
   "execution_count": 206,
   "id": "79589bb2",
   "metadata": {},
   "outputs": [
    {
     "data": {
      "text/html": [
       "<div class=\"data-frame\"><p>6 rows × 7 columns</p><table class=\"data-frame\"><thead><tr><th></th><th>variable</th><th>mean</th><th>min</th><th>median</th><th>max</th><th>nmissing</th><th>eltype</th></tr><tr><th></th><th title=\"Symbol\">Symbol</th><th title=\"Union{Nothing, Float64}\">Union…</th><th title=\"Any\">Any</th><th title=\"Union{Nothing, Float64}\">Union…</th><th title=\"Any\">Any</th><th title=\"Int64\">Int64</th><th title=\"DataType\">DataType</th></tr></thead><tbody><tr><th>1</th><td>Email</td><td></td><td>Arno@gmail.com</td><td></td><td>vital@gmail.com</td><td>0</td><td>Any</td></tr><tr><th>2</th><td>Date</td><td></td><td>01/3/2021</td><td></td><td>31/3/2021</td><td>0</td><td>Any</td></tr><tr><th>3</th><td>Country</td><td></td><td>Belgium</td><td></td><td>Unknown</td><td>0</td><td>Any</td></tr><tr><th>4</th><td>VAT</td><td></td><td>BE0725470720</td><td></td><td>Unknown</td><td>0</td><td>Any</td></tr><tr><th>5</th><td>Telephone</td><td></td><td>+32483446663</td><td></td><td>Unknown</td><td>0</td><td>Any</td></tr><tr><th>6</th><td>Total_€</td><td>129.962</td><td>15.5</td><td>75.0</td><td>597.0</td><td>0</td><td>Any</td></tr></tbody></table></div>"
      ],
      "text/latex": [
       "\\begin{tabular}{r|ccccccc}\n",
       "\t& variable & mean & min & median & max & nmissing & eltype\\\\\n",
       "\t\\hline\n",
       "\t& Symbol & Union… & Any & Union… & Any & Int64 & DataType\\\\\n",
       "\t\\hline\n",
       "\t1 & Email &  & Arno@gmail.com &  & vital@gmail.com & 0 & Any \\\\\n",
       "\t2 & Date &  & 01/3/2021 &  & 31/3/2021 & 0 & Any \\\\\n",
       "\t3 & Country &  & Belgium &  & Unknown & 0 & Any \\\\\n",
       "\t4 & VAT &  & BE0725470720 &  & Unknown & 0 & Any \\\\\n",
       "\t5 & Telephone &  & +32483446663 &  & Unknown & 0 & Any \\\\\n",
       "\t6 & Total\\_€ & 129.962 & 15.5 & 75.0 & 597.0 & 0 & Any \\\\\n",
       "\\end{tabular}\n"
      ],
      "text/plain": [
       "\u001b[1m6×7 DataFrame\u001b[0m\n",
       "\u001b[1m Row \u001b[0m│\u001b[1m variable  \u001b[0m\u001b[1m mean    \u001b[0m\u001b[1m min            \u001b[0m\u001b[1m median \u001b[0m\u001b[1m max             \u001b[0m\u001b[1m nmissing \u001b[0m\u001b[1m \u001b[0m ⋯\n",
       "\u001b[1m     \u001b[0m│\u001b[90m Symbol    \u001b[0m\u001b[90m Union…  \u001b[0m\u001b[90m Any            \u001b[0m\u001b[90m Union… \u001b[0m\u001b[90m Any             \u001b[0m\u001b[90m Int64    \u001b[0m\u001b[90m \u001b[0m ⋯\n",
       "─────┼──────────────────────────────────────────────────────────────────────────\n",
       "   1 │ Email     \u001b[90m         \u001b[0m Arno@gmail.com \u001b[90m        \u001b[0m vital@gmail.com         0   ⋯\n",
       "   2 │ Date      \u001b[90m         \u001b[0m 01/3/2021      \u001b[90m        \u001b[0m 31/3/2021               0\n",
       "   3 │ Country   \u001b[90m         \u001b[0m Belgium        \u001b[90m        \u001b[0m Unknown                 0\n",
       "   4 │ VAT       \u001b[90m         \u001b[0m BE0725470720   \u001b[90m        \u001b[0m Unknown                 0\n",
       "   5 │ Telephone \u001b[90m         \u001b[0m +32483446663   \u001b[90m        \u001b[0m Unknown                 0   ⋯\n",
       "   6 │ Total_€    129.962  15.5            75.0    597.0                   0\n",
       "\u001b[36m                                                                1 column omitted\u001b[0m"
      ]
     },
     "execution_count": 206,
     "metadata": {},
     "output_type": "execute_result"
    }
   ],
   "source": [
    "describe(dataset)"
   ]
  },
  {
   "cell_type": "code",
   "execution_count": 207,
   "id": "ba659f60",
   "metadata": {},
   "outputs": [
    {
     "data": {
      "text/plain": [
       "125-element Vector{Any}:\n",
       " \"Belgium\"\n",
       " \"Belgium\"\n",
       " \"Unknown\"\n",
       " \"Unknown\"\n",
       " \"Belgium\"\n",
       " \"Belgium\"\n",
       " \"Belgium\"\n",
       " \"Belgium\"\n",
       " \"Belgium\"\n",
       " \"Unknown\"\n",
       " \"Unknown\"\n",
       " \"Belgium\"\n",
       " \"Belgium\"\n",
       " ⋮\n",
       " \"France\"\n",
       " \"France\"\n",
       " \"France\"\n",
       " \"France\"\n",
       " \"France\"\n",
       " \"France\"\n",
       " \"France\"\n",
       " \"France\"\n",
       " \"France\"\n",
       " \"France\"\n",
       " \"France\"\n",
       " \"France\""
      ]
     },
     "execution_count": 207,
     "metadata": {},
     "output_type": "execute_result"
    }
   ],
   "source": [
    "dataset.Country"
   ]
  },
  {
   "cell_type": "code",
   "execution_count": 208,
   "id": "b913ade2",
   "metadata": {},
   "outputs": [
    {
     "data": {
      "text/html": [
       "<div class=\"data-frame\"><p>125 rows × 6 columns</p><table class=\"data-frame\"><thead><tr><th></th><th>Email</th><th>Date</th><th>Country</th><th>VAT</th><th>Telephone</th><th>Total_€</th></tr><tr><th></th><th title=\"Any\">Any</th><th title=\"Any\">Any</th><th title=\"Any\">Any</th><th title=\"Any\">Any</th><th title=\"Any\">Any</th><th title=\"Any\">Any</th></tr></thead><tbody><tr><th>1</th><td>Arno@gmail.com</td><td>26/12/2022</td><td>Belgium</td><td>Unknown</td><td>Unknown</td><td>160.0</td></tr><tr><th>2</th><td>Sbridoux.business@gmail.com</td><td>10/2/2022</td><td>Belgium</td><td>BE0775755025</td><td>+32483446663</td><td>54.99</td></tr><tr><th>3</th><td>lennertgrootaerd@gmail.com</td><td>23/1/2021</td><td>Unknown</td><td>BE0725470720</td><td>Unknown</td><td>195.0</td></tr><tr><th>4</th><td>LACUS@gmail.com</td><td>1/2/2022</td><td>Unknown</td><td>BE0776625055</td><td>Unknown</td><td>16.0</td></tr><tr><th>5</th><td>vital@gmail.com</td><td>3/12/2021</td><td>Belgium</td><td>BE0753524209</td><td>Unknown</td><td>55.0</td></tr><tr><th>6</th><td>Info@balvantwaregemse.be</td><td>10/1/2021</td><td>Belgium</td><td>BE0729909558</td><td>Unknown</td><td>597.0</td></tr><tr><th>7</th><td>LACUS@GMAIL.COM</td><td>23/1/2021</td><td>Belgium</td><td>BE0776625055</td><td>Unknown</td><td>75.0</td></tr><tr><th>8</th><td>Arno@gmail.com</td><td>26/12/2022</td><td>Belgium</td><td>Unknown</td><td>Unknown</td><td>160.0</td></tr><tr><th>9</th><td>Sbridoux.business@gmail.com</td><td>10/2/2022</td><td>Belgium</td><td>BE0775755025</td><td>+32483446663</td><td>54.99</td></tr><tr><th>10</th><td>lennertgrootaerd@gmail.com</td><td>23/1/2021</td><td>Unknown</td><td>BE0725470720</td><td>Unknown</td><td>195.0</td></tr><tr><th>11</th><td>LACUS@gmail.com</td><td>1/2/2022</td><td>Unknown</td><td>BE0776625055</td><td>Unknown</td><td>16.0</td></tr><tr><th>12</th><td>vital@gmail.com</td><td>3/12/2021</td><td>Belgium</td><td>BE0753524209</td><td>Unknown</td><td>55.0</td></tr><tr><th>13</th><td>Info@balvantwaregemse.be</td><td>10/1/2021</td><td>Belgium</td><td>BE0729909558</td><td>Unknown</td><td>597.0</td></tr><tr><th>14</th><td>LACUS@GMAIL.COM</td><td>23/1/2021</td><td>Belgium</td><td>BE0776625055</td><td>Unknown</td><td>75.0</td></tr><tr><th>15</th><td>Arno@gmail.com</td><td>26/12/2022</td><td>Belgium</td><td>Unknown</td><td>Unknown</td><td>160.0</td></tr><tr><th>16</th><td>Sbridoux.business@gmail.com</td><td>10/2/2022</td><td>Belgium</td><td>BE0775755025</td><td>+32483446663</td><td>54.99</td></tr><tr><th>17</th><td>lennertgrootaerd@gmail.com</td><td>23/1/2021</td><td>Unknown</td><td>BE0725470720</td><td>Unknown</td><td>195.0</td></tr><tr><th>18</th><td>LACUS@gmail.com</td><td>1/2/2022</td><td>Unknown</td><td>BE0776625055</td><td>Unknown</td><td>16.0</td></tr><tr><th>19</th><td>vital@gmail.com</td><td>3/12/2021</td><td>Belgium</td><td>BE0753524209</td><td>Unknown</td><td>55.0</td></tr><tr><th>20</th><td>Info@balvantwaregemse.be</td><td>10/1/2021</td><td>Belgium</td><td>BE0729909558</td><td>Unknown</td><td>597.0</td></tr><tr><th>21</th><td>LACUS@GMAIL.COM</td><td>23/1/2021</td><td>Belgium</td><td>BE0776625055</td><td>Unknown</td><td>75.0</td></tr><tr><th>22</th><td>Arno@gmail.com</td><td>26/12/2022</td><td>Belgium</td><td>Unknown</td><td>Unknown</td><td>160.0</td></tr><tr><th>23</th><td>Sbridoux.business@gmail.com</td><td>10/2/2022</td><td>Belgium</td><td>BE0775755025</td><td>+32483446663</td><td>54.99</td></tr><tr><th>24</th><td>lennertgrootaerd@gmail.com</td><td>23/1/2021</td><td>Unknown</td><td>BE0725470720</td><td>Unknown</td><td>195.0</td></tr><tr><th>25</th><td>LACUS@gmail.com</td><td>1/2/2022</td><td>Unknown</td><td>BE0776625055</td><td>Unknown</td><td>16.0</td></tr><tr><th>26</th><td>vital@gmail.com</td><td>3/12/2021</td><td>Belgium</td><td>BE0753524209</td><td>Unknown</td><td>55.0</td></tr><tr><th>27</th><td>Info@balvantwaregemse.be</td><td>10/1/2021</td><td>Belgium</td><td>BE0729909558</td><td>Unknown</td><td>597.0</td></tr><tr><th>28</th><td>LACUS@GMAIL.COM</td><td>23/1/2021</td><td>Belgium</td><td>BE0776625055</td><td>Unknown</td><td>75.0</td></tr><tr><th>29</th><td>Arno@gmail.com</td><td>26/12/2022</td><td>Belgium</td><td>Unknown</td><td>Unknown</td><td>160.0</td></tr><tr><th>30</th><td>Sbridoux.business@gmail.com</td><td>10/2/2022</td><td>Belgium</td><td>BE0775755025</td><td>+32483446663</td><td>54.99</td></tr><tr><th>&vellip;</th><td>&vellip;</td><td>&vellip;</td><td>&vellip;</td><td>&vellip;</td><td>&vellip;</td><td>&vellip;</td></tr></tbody></table></div>"
      ],
      "text/latex": [
       "\\begin{tabular}{r|cccccc}\n",
       "\t& Email & Date & Country & VAT & Telephone & Total\\_€\\\\\n",
       "\t\\hline\n",
       "\t& Any & Any & Any & Any & Any & Any\\\\\n",
       "\t\\hline\n",
       "\t1 & Arno@gmail.com & 26/12/2022 & Belgium & Unknown & Unknown & 160.0 \\\\\n",
       "\t2 & Sbridoux.business@gmail.com & 10/2/2022 & Belgium & BE0775755025 & +32483446663 & 54.99 \\\\\n",
       "\t3 & lennertgrootaerd@gmail.com & 23/1/2021 & Unknown & BE0725470720 & Unknown & 195.0 \\\\\n",
       "\t4 & LACUS@gmail.com & 1/2/2022 & Unknown & BE0776625055 & Unknown & 16.0 \\\\\n",
       "\t5 & vital@gmail.com & 3/12/2021 & Belgium & BE0753524209 & Unknown & 55.0 \\\\\n",
       "\t6 & Info@balvantwaregemse.be & 10/1/2021 & Belgium & BE0729909558 & Unknown & 597.0 \\\\\n",
       "\t7 & LACUS@GMAIL.COM & 23/1/2021 & Belgium & BE0776625055 & Unknown & 75.0 \\\\\n",
       "\t8 & Arno@gmail.com & 26/12/2022 & Belgium & Unknown & Unknown & 160.0 \\\\\n",
       "\t9 & Sbridoux.business@gmail.com & 10/2/2022 & Belgium & BE0775755025 & +32483446663 & 54.99 \\\\\n",
       "\t10 & lennertgrootaerd@gmail.com & 23/1/2021 & Unknown & BE0725470720 & Unknown & 195.0 \\\\\n",
       "\t11 & LACUS@gmail.com & 1/2/2022 & Unknown & BE0776625055 & Unknown & 16.0 \\\\\n",
       "\t12 & vital@gmail.com & 3/12/2021 & Belgium & BE0753524209 & Unknown & 55.0 \\\\\n",
       "\t13 & Info@balvantwaregemse.be & 10/1/2021 & Belgium & BE0729909558 & Unknown & 597.0 \\\\\n",
       "\t14 & LACUS@GMAIL.COM & 23/1/2021 & Belgium & BE0776625055 & Unknown & 75.0 \\\\\n",
       "\t15 & Arno@gmail.com & 26/12/2022 & Belgium & Unknown & Unknown & 160.0 \\\\\n",
       "\t16 & Sbridoux.business@gmail.com & 10/2/2022 & Belgium & BE0775755025 & +32483446663 & 54.99 \\\\\n",
       "\t17 & lennertgrootaerd@gmail.com & 23/1/2021 & Unknown & BE0725470720 & Unknown & 195.0 \\\\\n",
       "\t18 & LACUS@gmail.com & 1/2/2022 & Unknown & BE0776625055 & Unknown & 16.0 \\\\\n",
       "\t19 & vital@gmail.com & 3/12/2021 & Belgium & BE0753524209 & Unknown & 55.0 \\\\\n",
       "\t20 & Info@balvantwaregemse.be & 10/1/2021 & Belgium & BE0729909558 & Unknown & 597.0 \\\\\n",
       "\t21 & LACUS@GMAIL.COM & 23/1/2021 & Belgium & BE0776625055 & Unknown & 75.0 \\\\\n",
       "\t22 & Arno@gmail.com & 26/12/2022 & Belgium & Unknown & Unknown & 160.0 \\\\\n",
       "\t23 & Sbridoux.business@gmail.com & 10/2/2022 & Belgium & BE0775755025 & +32483446663 & 54.99 \\\\\n",
       "\t24 & lennertgrootaerd@gmail.com & 23/1/2021 & Unknown & BE0725470720 & Unknown & 195.0 \\\\\n",
       "\t25 & LACUS@gmail.com & 1/2/2022 & Unknown & BE0776625055 & Unknown & 16.0 \\\\\n",
       "\t26 & vital@gmail.com & 3/12/2021 & Belgium & BE0753524209 & Unknown & 55.0 \\\\\n",
       "\t27 & Info@balvantwaregemse.be & 10/1/2021 & Belgium & BE0729909558 & Unknown & 597.0 \\\\\n",
       "\t28 & LACUS@GMAIL.COM & 23/1/2021 & Belgium & BE0776625055 & Unknown & 75.0 \\\\\n",
       "\t29 & Arno@gmail.com & 26/12/2022 & Belgium & Unknown & Unknown & 160.0 \\\\\n",
       "\t30 & Sbridoux.business@gmail.com & 10/2/2022 & Belgium & BE0775755025 & +32483446663 & 54.99 \\\\\n",
       "\t$\\dots$ & $\\dots$ & $\\dots$ & $\\dots$ & $\\dots$ & $\\dots$ & $\\dots$ \\\\\n",
       "\\end{tabular}\n"
      ],
      "text/plain": [
       "\u001b[1m125×6 DataFrame\u001b[0m\n",
       "\u001b[1m Row \u001b[0m│\u001b[1m Email                       \u001b[0m\u001b[1m Date       \u001b[0m\u001b[1m Country \u001b[0m\u001b[1m VAT           \u001b[0m\u001b[1m Teleph\u001b[0m ⋯\n",
       "\u001b[1m     \u001b[0m│\u001b[90m Any                         \u001b[0m\u001b[90m Any        \u001b[0m\u001b[90m Any     \u001b[0m\u001b[90m Any           \u001b[0m\u001b[90m Any   \u001b[0m ⋯\n",
       "─────┼──────────────────────────────────────────────────────────────────────────\n",
       "   1 │ Arno@gmail.com               26/12/2022  Belgium  Unknown        Unknow ⋯\n",
       "   2 │ Sbridoux.business@gmail.com  10/2/2022   Belgium  BE0775755025   +32483\n",
       "   3 │ lennertgrootaerd@gmail.com   23/1/2021   Unknown  BE0725470720   Unknow\n",
       "   4 │ LACUS@gmail.com              1/2/2022    Unknown  BE0776625055   Unknow\n",
       "   5 │ vital@gmail.com              3/12/2021   Belgium  BE0753524209   Unknow ⋯\n",
       "   6 │ Info@balvantwaregemse.be     10/1/2021   Belgium  BE0729909558   Unknow\n",
       "   7 │ LACUS@GMAIL.COM              23/1/2021   Belgium  BE0776625055   Unknow\n",
       "   8 │ Arno@gmail.com               26/12/2022  Belgium  Unknown        Unknow\n",
       "   9 │ Sbridoux.business@gmail.com  10/2/2022   Belgium  BE0775755025   +32483 ⋯\n",
       "  10 │ lennertgrootaerd@gmail.com   23/1/2021   Unknown  BE0725470720   Unknow\n",
       "  11 │ LACUS@gmail.com              1/2/2022    Unknown  BE0776625055   Unknow\n",
       "  ⋮  │              ⋮                   ⋮          ⋮           ⋮             ⋮ ⋱\n",
       " 116 │ Melody@outlook.fr            01/3/2021   France   FR4847260373   +33447\n",
       " 117 │ Henk@gmail.fr                22/1/2021   France   FR424750077    +33987 ⋯\n",
       " 118 │ Kyani@DPD.fr                 12/2/2021   France   FR48272250357  +33987\n",
       " 119 │ Hugo@hotmail.fr              24/2/2021   France   FR13472243077  +33987\n",
       " 120 │ Richard@hotmail.fr           22/3/2021   France   FR4847220377   +33984\n",
       " 121 │ Victor@hotmail.fr            31/3/2021   France   FR4847220373   +33987 ⋯\n",
       " 122 │ Melody@outlook.fr            01/3/2021   France   FR4847260373   +33447\n",
       " 123 │ Henk@gmail.fr                22/1/2021   France   FR424750077    +33987\n",
       " 124 │ Kyani@DPD.fr                 12/2/2021   France   FR48272250357  +33987\n",
       " 125 │ Hugo@hotmail.fr              24/2/2021   France   FR13472243077  +33987 ⋯\n",
       "\u001b[36m                                                  2 columns and 104 rows omitted\u001b[0m"
      ]
     },
     "execution_count": 208,
     "metadata": {},
     "output_type": "execute_result"
    }
   ],
   "source": [
    "dataset"
   ]
  },
  {
   "cell_type": "code",
   "execution_count": 209,
   "id": "8a6aec79",
   "metadata": {},
   "outputs": [
    {
     "data": {
      "text/plain": [
       "125-element Vector{Date}:\n",
       " 2022-12-26\n",
       " 2022-02-10\n",
       " 2021-01-23\n",
       " 2022-02-01\n",
       " 2021-12-03\n",
       " 2021-01-10\n",
       " 2021-01-23\n",
       " 2022-12-26\n",
       " 2022-02-10\n",
       " 2021-01-23\n",
       " 2022-02-01\n",
       " 2021-12-03\n",
       " 2021-01-10\n",
       " ⋮\n",
       " 2021-03-22\n",
       " 2021-03-31\n",
       " 2021-03-01\n",
       " 2021-01-22\n",
       " 2021-02-12\n",
       " 2021-02-24\n",
       " 2021-03-22\n",
       " 2021-03-31\n",
       " 2021-03-01\n",
       " 2021-01-22\n",
       " 2021-02-12\n",
       " 2021-02-24"
      ]
     },
     "execution_count": 209,
     "metadata": {},
     "output_type": "execute_result"
    }
   ],
   "source": [
    "using Dates\n",
    "dataset.Date = Date.(dataset.Date, \"dd/mm/yyyy\")"
   ]
  },
  {
   "cell_type": "code",
   "execution_count": 210,
   "id": "1f54577a",
   "metadata": {},
   "outputs": [
    {
     "data": {
      "text/html": [
       "<div class=\"data-frame\"><p>125 rows × 6 columns</p><table class=\"data-frame\"><thead><tr><th></th><th>Email</th><th>Date</th><th>Country</th><th>VAT</th><th>Telephone</th><th>Total_€</th></tr><tr><th></th><th title=\"Any\">Any</th><th title=\"Date\">Date</th><th title=\"Any\">Any</th><th title=\"Any\">Any</th><th title=\"Any\">Any</th><th title=\"Any\">Any</th></tr></thead><tbody><tr><th>1</th><td>Arno@gmail.com</td><td>2022-12-26</td><td>Belgium</td><td>Unknown</td><td>Unknown</td><td>160.0</td></tr><tr><th>2</th><td>Sbridoux.business@gmail.com</td><td>2022-02-10</td><td>Belgium</td><td>BE0775755025</td><td>+32483446663</td><td>54.99</td></tr><tr><th>3</th><td>lennertgrootaerd@gmail.com</td><td>2021-01-23</td><td>Unknown</td><td>BE0725470720</td><td>Unknown</td><td>195.0</td></tr><tr><th>4</th><td>LACUS@gmail.com</td><td>2022-02-01</td><td>Unknown</td><td>BE0776625055</td><td>Unknown</td><td>16.0</td></tr><tr><th>5</th><td>vital@gmail.com</td><td>2021-12-03</td><td>Belgium</td><td>BE0753524209</td><td>Unknown</td><td>55.0</td></tr><tr><th>6</th><td>Info@balvantwaregemse.be</td><td>2021-01-10</td><td>Belgium</td><td>BE0729909558</td><td>Unknown</td><td>597.0</td></tr><tr><th>7</th><td>LACUS@GMAIL.COM</td><td>2021-01-23</td><td>Belgium</td><td>BE0776625055</td><td>Unknown</td><td>75.0</td></tr><tr><th>8</th><td>Arno@gmail.com</td><td>2022-12-26</td><td>Belgium</td><td>Unknown</td><td>Unknown</td><td>160.0</td></tr><tr><th>9</th><td>Sbridoux.business@gmail.com</td><td>2022-02-10</td><td>Belgium</td><td>BE0775755025</td><td>+32483446663</td><td>54.99</td></tr><tr><th>10</th><td>lennertgrootaerd@gmail.com</td><td>2021-01-23</td><td>Unknown</td><td>BE0725470720</td><td>Unknown</td><td>195.0</td></tr><tr><th>11</th><td>LACUS@gmail.com</td><td>2022-02-01</td><td>Unknown</td><td>BE0776625055</td><td>Unknown</td><td>16.0</td></tr><tr><th>12</th><td>vital@gmail.com</td><td>2021-12-03</td><td>Belgium</td><td>BE0753524209</td><td>Unknown</td><td>55.0</td></tr><tr><th>13</th><td>Info@balvantwaregemse.be</td><td>2021-01-10</td><td>Belgium</td><td>BE0729909558</td><td>Unknown</td><td>597.0</td></tr><tr><th>14</th><td>LACUS@GMAIL.COM</td><td>2021-01-23</td><td>Belgium</td><td>BE0776625055</td><td>Unknown</td><td>75.0</td></tr><tr><th>15</th><td>Arno@gmail.com</td><td>2022-12-26</td><td>Belgium</td><td>Unknown</td><td>Unknown</td><td>160.0</td></tr><tr><th>16</th><td>Sbridoux.business@gmail.com</td><td>2022-02-10</td><td>Belgium</td><td>BE0775755025</td><td>+32483446663</td><td>54.99</td></tr><tr><th>17</th><td>lennertgrootaerd@gmail.com</td><td>2021-01-23</td><td>Unknown</td><td>BE0725470720</td><td>Unknown</td><td>195.0</td></tr><tr><th>18</th><td>LACUS@gmail.com</td><td>2022-02-01</td><td>Unknown</td><td>BE0776625055</td><td>Unknown</td><td>16.0</td></tr><tr><th>19</th><td>vital@gmail.com</td><td>2021-12-03</td><td>Belgium</td><td>BE0753524209</td><td>Unknown</td><td>55.0</td></tr><tr><th>20</th><td>Info@balvantwaregemse.be</td><td>2021-01-10</td><td>Belgium</td><td>BE0729909558</td><td>Unknown</td><td>597.0</td></tr><tr><th>21</th><td>LACUS@GMAIL.COM</td><td>2021-01-23</td><td>Belgium</td><td>BE0776625055</td><td>Unknown</td><td>75.0</td></tr><tr><th>22</th><td>Arno@gmail.com</td><td>2022-12-26</td><td>Belgium</td><td>Unknown</td><td>Unknown</td><td>160.0</td></tr><tr><th>23</th><td>Sbridoux.business@gmail.com</td><td>2022-02-10</td><td>Belgium</td><td>BE0775755025</td><td>+32483446663</td><td>54.99</td></tr><tr><th>24</th><td>lennertgrootaerd@gmail.com</td><td>2021-01-23</td><td>Unknown</td><td>BE0725470720</td><td>Unknown</td><td>195.0</td></tr><tr><th>25</th><td>LACUS@gmail.com</td><td>2022-02-01</td><td>Unknown</td><td>BE0776625055</td><td>Unknown</td><td>16.0</td></tr><tr><th>26</th><td>vital@gmail.com</td><td>2021-12-03</td><td>Belgium</td><td>BE0753524209</td><td>Unknown</td><td>55.0</td></tr><tr><th>27</th><td>Info@balvantwaregemse.be</td><td>2021-01-10</td><td>Belgium</td><td>BE0729909558</td><td>Unknown</td><td>597.0</td></tr><tr><th>28</th><td>LACUS@GMAIL.COM</td><td>2021-01-23</td><td>Belgium</td><td>BE0776625055</td><td>Unknown</td><td>75.0</td></tr><tr><th>29</th><td>Arno@gmail.com</td><td>2022-12-26</td><td>Belgium</td><td>Unknown</td><td>Unknown</td><td>160.0</td></tr><tr><th>30</th><td>Sbridoux.business@gmail.com</td><td>2022-02-10</td><td>Belgium</td><td>BE0775755025</td><td>+32483446663</td><td>54.99</td></tr><tr><th>&vellip;</th><td>&vellip;</td><td>&vellip;</td><td>&vellip;</td><td>&vellip;</td><td>&vellip;</td><td>&vellip;</td></tr></tbody></table></div>"
      ],
      "text/latex": [
       "\\begin{tabular}{r|cccccc}\n",
       "\t& Email & Date & Country & VAT & Telephone & Total\\_€\\\\\n",
       "\t\\hline\n",
       "\t& Any & Date & Any & Any & Any & Any\\\\\n",
       "\t\\hline\n",
       "\t1 & Arno@gmail.com & 2022-12-26 & Belgium & Unknown & Unknown & 160.0 \\\\\n",
       "\t2 & Sbridoux.business@gmail.com & 2022-02-10 & Belgium & BE0775755025 & +32483446663 & 54.99 \\\\\n",
       "\t3 & lennertgrootaerd@gmail.com & 2021-01-23 & Unknown & BE0725470720 & Unknown & 195.0 \\\\\n",
       "\t4 & LACUS@gmail.com & 2022-02-01 & Unknown & BE0776625055 & Unknown & 16.0 \\\\\n",
       "\t5 & vital@gmail.com & 2021-12-03 & Belgium & BE0753524209 & Unknown & 55.0 \\\\\n",
       "\t6 & Info@balvantwaregemse.be & 2021-01-10 & Belgium & BE0729909558 & Unknown & 597.0 \\\\\n",
       "\t7 & LACUS@GMAIL.COM & 2021-01-23 & Belgium & BE0776625055 & Unknown & 75.0 \\\\\n",
       "\t8 & Arno@gmail.com & 2022-12-26 & Belgium & Unknown & Unknown & 160.0 \\\\\n",
       "\t9 & Sbridoux.business@gmail.com & 2022-02-10 & Belgium & BE0775755025 & +32483446663 & 54.99 \\\\\n",
       "\t10 & lennertgrootaerd@gmail.com & 2021-01-23 & Unknown & BE0725470720 & Unknown & 195.0 \\\\\n",
       "\t11 & LACUS@gmail.com & 2022-02-01 & Unknown & BE0776625055 & Unknown & 16.0 \\\\\n",
       "\t12 & vital@gmail.com & 2021-12-03 & Belgium & BE0753524209 & Unknown & 55.0 \\\\\n",
       "\t13 & Info@balvantwaregemse.be & 2021-01-10 & Belgium & BE0729909558 & Unknown & 597.0 \\\\\n",
       "\t14 & LACUS@GMAIL.COM & 2021-01-23 & Belgium & BE0776625055 & Unknown & 75.0 \\\\\n",
       "\t15 & Arno@gmail.com & 2022-12-26 & Belgium & Unknown & Unknown & 160.0 \\\\\n",
       "\t16 & Sbridoux.business@gmail.com & 2022-02-10 & Belgium & BE0775755025 & +32483446663 & 54.99 \\\\\n",
       "\t17 & lennertgrootaerd@gmail.com & 2021-01-23 & Unknown & BE0725470720 & Unknown & 195.0 \\\\\n",
       "\t18 & LACUS@gmail.com & 2022-02-01 & Unknown & BE0776625055 & Unknown & 16.0 \\\\\n",
       "\t19 & vital@gmail.com & 2021-12-03 & Belgium & BE0753524209 & Unknown & 55.0 \\\\\n",
       "\t20 & Info@balvantwaregemse.be & 2021-01-10 & Belgium & BE0729909558 & Unknown & 597.0 \\\\\n",
       "\t21 & LACUS@GMAIL.COM & 2021-01-23 & Belgium & BE0776625055 & Unknown & 75.0 \\\\\n",
       "\t22 & Arno@gmail.com & 2022-12-26 & Belgium & Unknown & Unknown & 160.0 \\\\\n",
       "\t23 & Sbridoux.business@gmail.com & 2022-02-10 & Belgium & BE0775755025 & +32483446663 & 54.99 \\\\\n",
       "\t24 & lennertgrootaerd@gmail.com & 2021-01-23 & Unknown & BE0725470720 & Unknown & 195.0 \\\\\n",
       "\t25 & LACUS@gmail.com & 2022-02-01 & Unknown & BE0776625055 & Unknown & 16.0 \\\\\n",
       "\t26 & vital@gmail.com & 2021-12-03 & Belgium & BE0753524209 & Unknown & 55.0 \\\\\n",
       "\t27 & Info@balvantwaregemse.be & 2021-01-10 & Belgium & BE0729909558 & Unknown & 597.0 \\\\\n",
       "\t28 & LACUS@GMAIL.COM & 2021-01-23 & Belgium & BE0776625055 & Unknown & 75.0 \\\\\n",
       "\t29 & Arno@gmail.com & 2022-12-26 & Belgium & Unknown & Unknown & 160.0 \\\\\n",
       "\t30 & Sbridoux.business@gmail.com & 2022-02-10 & Belgium & BE0775755025 & +32483446663 & 54.99 \\\\\n",
       "\t$\\dots$ & $\\dots$ & $\\dots$ & $\\dots$ & $\\dots$ & $\\dots$ & $\\dots$ \\\\\n",
       "\\end{tabular}\n"
      ],
      "text/plain": [
       "\u001b[1m125×6 DataFrame\u001b[0m\n",
       "\u001b[1m Row \u001b[0m│\u001b[1m Email                       \u001b[0m\u001b[1m Date       \u001b[0m\u001b[1m Country \u001b[0m\u001b[1m VAT           \u001b[0m\u001b[1m Teleph\u001b[0m ⋯\n",
       "\u001b[1m     \u001b[0m│\u001b[90m Any                         \u001b[0m\u001b[90m Date       \u001b[0m\u001b[90m Any     \u001b[0m\u001b[90m Any           \u001b[0m\u001b[90m Any   \u001b[0m ⋯\n",
       "─────┼──────────────────────────────────────────────────────────────────────────\n",
       "   1 │ Arno@gmail.com               2022-12-26  Belgium  Unknown        Unknow ⋯\n",
       "   2 │ Sbridoux.business@gmail.com  2022-02-10  Belgium  BE0775755025   +32483\n",
       "   3 │ lennertgrootaerd@gmail.com   2021-01-23  Unknown  BE0725470720   Unknow\n",
       "   4 │ LACUS@gmail.com              2022-02-01  Unknown  BE0776625055   Unknow\n",
       "   5 │ vital@gmail.com              2021-12-03  Belgium  BE0753524209   Unknow ⋯\n",
       "   6 │ Info@balvantwaregemse.be     2021-01-10  Belgium  BE0729909558   Unknow\n",
       "   7 │ LACUS@GMAIL.COM              2021-01-23  Belgium  BE0776625055   Unknow\n",
       "   8 │ Arno@gmail.com               2022-12-26  Belgium  Unknown        Unknow\n",
       "   9 │ Sbridoux.business@gmail.com  2022-02-10  Belgium  BE0775755025   +32483 ⋯\n",
       "  10 │ lennertgrootaerd@gmail.com   2021-01-23  Unknown  BE0725470720   Unknow\n",
       "  11 │ LACUS@gmail.com              2022-02-01  Unknown  BE0776625055   Unknow\n",
       "  ⋮  │              ⋮                   ⋮          ⋮           ⋮             ⋮ ⋱\n",
       " 116 │ Melody@outlook.fr            2021-03-01  France   FR4847260373   +33447\n",
       " 117 │ Henk@gmail.fr                2021-01-22  France   FR424750077    +33987 ⋯\n",
       " 118 │ Kyani@DPD.fr                 2021-02-12  France   FR48272250357  +33987\n",
       " 119 │ Hugo@hotmail.fr              2021-02-24  France   FR13472243077  +33987\n",
       " 120 │ Richard@hotmail.fr           2021-03-22  France   FR4847220377   +33984\n",
       " 121 │ Victor@hotmail.fr            2021-03-31  France   FR4847220373   +33987 ⋯\n",
       " 122 │ Melody@outlook.fr            2021-03-01  France   FR4847260373   +33447\n",
       " 123 │ Henk@gmail.fr                2021-01-22  France   FR424750077    +33987\n",
       " 124 │ Kyani@DPD.fr                 2021-02-12  France   FR48272250357  +33987\n",
       " 125 │ Hugo@hotmail.fr              2021-02-24  France   FR13472243077  +33987 ⋯\n",
       "\u001b[36m                                                  2 columns and 104 rows omitted\u001b[0m"
      ]
     },
     "execution_count": 210,
     "metadata": {},
     "output_type": "execute_result"
    }
   ],
   "source": [
    "dataset"
   ]
  },
  {
   "cell_type": "markdown",
   "id": "41e8eacf",
   "metadata": {},
   "source": [
    "# LOGISTIC REGRESSION"
   ]
  },
  {
   "cell_type": "code",
   "execution_count": 211,
   "id": "4373c08c",
   "metadata": {},
   "outputs": [
    {
     "name": "stderr",
     "output_type": "stream",
     "text": [
      "WARNING: redefinition of constant LogisticRegression. This may fail, cause incorrect answers, or produce other errors.\n"
     ]
    },
    {
     "data": {
      "text/plain": [
       "PyObject <class 'sklearn.linear_model._logistic.LogisticRegression'>"
      ]
     },
     "execution_count": 211,
     "metadata": {},
     "output_type": "execute_result"
    }
   ],
   "source": [
    "@sk_import linear_model: LogisticRegression"
   ]
  },
  {
   "cell_type": "code",
   "execution_count": 212,
   "id": "896bb88c",
   "metadata": {},
   "outputs": [
    {
     "data": {
      "text/plain": [
       "125×1 Matrix{Any}:\n",
       " 160.0\n",
       "  54.99\n",
       " 195.0\n",
       "  16.0\n",
       "  55.0\n",
       " 597.0\n",
       "  75.0\n",
       " 160.0\n",
       "  54.99\n",
       " 195.0\n",
       "  16.0\n",
       "  55.0\n",
       " 597.0\n",
       "   ⋮\n",
       " 120.5\n",
       " 100.5\n",
       " 119.5\n",
       "  15.5\n",
       "  59.5\n",
       "  29.8\n",
       " 120.5\n",
       " 100.5\n",
       " 119.5\n",
       "  15.5\n",
       "  59.5\n",
       "  29.8"
      ]
     },
     "execution_count": 212,
     "metadata": {},
     "output_type": "execute_result"
    }
   ],
   "source": [
    "#irs_x=Matrix(dataset[!,[1,2,4,5,6]])\n",
    "irs_x=Matrix(dataset[!,[6]])"
   ]
  },
  {
   "cell_type": "code",
   "execution_count": 213,
   "id": "1e8a79b7",
   "metadata": {},
   "outputs": [],
   "source": [
    "X_1= convert(Array,irs_x)\n",
    "Y_1= convert(Array,dataset[!,3]);# Target"
   ]
  },
  {
   "cell_type": "code",
   "execution_count": 214,
   "id": "412e1235",
   "metadata": {},
   "outputs": [
    {
     "name": "stderr",
     "output_type": "stream",
     "text": [
      "┌ Warning: Module model_selection has been ported to Julia - try `import ScikitLearn: CrossValidation` instead\n",
      "└ @ ScikitLearn.Skcore /Users/casper/.julia/packages/ScikitLearn/ssekP/src/Skcore.jl:179\n",
      "WARNING: redefinition of constant train_test_split. This may fail, cause incorrect answers, or produce other errors.\n"
     ]
    },
    {
     "data": {
      "text/plain": [
       "PyObject <function train_test_split at 0x16c245550>"
      ]
     },
     "execution_count": 214,
     "metadata": {},
     "output_type": "execute_result"
    }
   ],
   "source": [
    "@sk_import model_selection: train_test_split"
   ]
  },
  {
   "cell_type": "code",
   "execution_count": 215,
   "id": "b850dbf6",
   "metadata": {},
   "outputs": [
    {
     "data": {
      "text/plain": [
       "4-element Vector{Array}:\n",
       " [15.5; 16.0; … ; 120.5; 195.0;;]\n",
       " [55.0; 16.0; … ; 75.0; 59.5;;]\n",
       " [\"France\", \"Unknown\", \"Unknown\", \"Unknown\", \"Belgium\", \"France\", \"Unknown\", \"Belgium\", \"France\", \"Belgium\"  …  \"Unknown\", \"Belgium\", \"France\", \"Belgium\", \"Belgium\", \"Unknown\", \"Unknown\", \"Belgium\", \"France\", \"Unknown\"]\n",
       " [\"Belgium\", \"Unknown\", \"Belgium\", \"Unknown\", \"Unknown\", \"Unknown\", \"France\", \"France\", \"France\", \"Belgium\"  …  \"France\", \"France\", \"Belgium\", \"Belgium\", \"Belgium\", \"Belgium\", \"France\", \"France\", \"Belgium\", \"France\"]"
      ]
     },
     "execution_count": 215,
     "metadata": {},
     "output_type": "execute_result"
    }
   ],
   "source": [
    "x_train,x_test,y_train,y_test=train_test_split(X_1,Y_1,test_size=.3,random_state=1)"
   ]
  },
  {
   "cell_type": "code",
   "execution_count": 216,
   "id": "c4c67a0a",
   "metadata": {},
   "outputs": [
    {
     "name": "stdout",
     "output_type": "stream",
     "text": [
      "Trainingset= 87,Testset= 38\n"
     ]
    }
   ],
   "source": [
    "println(\"Trainingset= \",nrows(x_train),\",Testset= \", nrows(y_test))\n"
   ]
  },
  {
   "cell_type": "code",
   "execution_count": 217,
   "id": "14c78598",
   "metadata": {},
   "outputs": [
    {
     "data": {
      "text/plain": [
       "PyObject LogisticRegression()"
      ]
     },
     "execution_count": 217,
     "metadata": {},
     "output_type": "execute_result"
    }
   ],
   "source": [
    "log_reg2= LogisticRegression()"
   ]
  },
  {
   "cell_type": "code",
   "execution_count": 218,
   "id": "0414974b",
   "metadata": {},
   "outputs": [
    {
     "data": {
      "text/plain": [
       "PyObject LogisticRegression()"
      ]
     },
     "execution_count": 218,
     "metadata": {},
     "output_type": "execute_result"
    }
   ],
   "source": [
    "fit!(log_reg2,x_train,y_train)"
   ]
  },
  {
   "cell_type": "code",
   "execution_count": 219,
   "id": "b7efde34",
   "metadata": {},
   "outputs": [
    {
     "data": {
      "text/plain": [
       "38-element Vector{Any}:\n",
       " \"France\"\n",
       " \"France\"\n",
       " \"Belgium\"\n",
       " \"France\"\n",
       " \"Belgium\"\n",
       " \"France\"\n",
       " \"France\"\n",
       " \"France\"\n",
       " \"Belgium\"\n",
       " \"Belgium\"\n",
       " \"Belgium\"\n",
       " \"Belgium\"\n",
       " \"France\"\n",
       " ⋮\n",
       " \"Belgium\"\n",
       " \"France\"\n",
       " \"Belgium\"\n",
       " \"Belgium\"\n",
       " \"France\"\n",
       " \"Belgium\"\n",
       " \"Belgium\"\n",
       " \"Belgium\"\n",
       " \"Belgium\"\n",
       " \"France\"\n",
       " \"Belgium\"\n",
       " \"France\""
      ]
     },
     "execution_count": 219,
     "metadata": {},
     "output_type": "execute_result"
    }
   ],
   "source": [
    "predictions=predict(log_reg2,x_test)"
   ]
  },
  {
   "cell_type": "code",
   "execution_count": 220,
   "id": "363f090d",
   "metadata": {},
   "outputs": [
    {
     "name": "stderr",
     "output_type": "stream",
     "text": [
      "WARNING: redefinition of constant accuracy_score. This may fail, cause incorrect answers, or produce other errors.\n"
     ]
    },
    {
     "data": {
      "text/plain": [
       "0.5"
      ]
     },
     "execution_count": 220,
     "metadata": {},
     "output_type": "execute_result"
    }
   ],
   "source": [
    "@sk_import metrics: accuracy_score\n",
    "log_reg_2_accuracy= accuracy_score(predictions,y_test)"
   ]
  },
  {
   "cell_type": "markdown",
   "id": "36da4d88",
   "metadata": {},
   "source": [
    "# DECISION TREES"
   ]
  },
  {
   "cell_type": "code",
   "execution_count": 221,
   "id": "b5f17517",
   "metadata": {},
   "outputs": [
    {
     "name": "stderr",
     "output_type": "stream",
     "text": [
      "WARNING: redefinition of constant DecisionTreeClassifier. This may fail, cause incorrect answers, or produce other errors.\n"
     ]
    },
    {
     "data": {
      "text/plain": [
       "PyObject DecisionTreeClassifier(max_depth=3)"
      ]
     },
     "execution_count": 221,
     "metadata": {},
     "output_type": "execute_result"
    }
   ],
   "source": [
    "@sk_import tree:DecisionTreeClassifier\n",
    "tree_model= DecisionTreeClassifier(max_depth=3)"
   ]
  },
  {
   "cell_type": "code",
   "execution_count": 222,
   "id": "95758e43",
   "metadata": {},
   "outputs": [
    {
     "data": {
      "text/plain": [
       "PyObject DecisionTreeClassifier(max_depth=3)"
      ]
     },
     "execution_count": 222,
     "metadata": {},
     "output_type": "execute_result"
    }
   ],
   "source": [
    "fit!(tree_model,x_train,y_train)"
   ]
  },
  {
   "cell_type": "code",
   "execution_count": 223,
   "id": "017bf92e",
   "metadata": {},
   "outputs": [
    {
     "data": {
      "text/plain": [
       "38-element Vector{Any}:\n",
       " \"Belgium\"\n",
       " \"Unknown\"\n",
       " \"France\"\n",
       " \"Unknown\"\n",
       " \"Belgium\"\n",
       " \"Unknown\"\n",
       " \"France\"\n",
       " \"France\"\n",
       " \"France\"\n",
       " \"Belgium\"\n",
       " \"France\"\n",
       " \"Belgium\"\n",
       " \"France\"\n",
       " ⋮\n",
       " \"France\"\n",
       " \"Unknown\"\n",
       " \"France\"\n",
       " \"France\"\n",
       " \"Belgium\"\n",
       " \"France\"\n",
       " \"Belgium\"\n",
       " \"Belgium\"\n",
       " \"France\"\n",
       " \"France\"\n",
       " \"France\"\n",
       " \"France\""
      ]
     },
     "execution_count": 223,
     "metadata": {},
     "output_type": "execute_result"
    }
   ],
   "source": [
    "predictions=predict(tree_model,x_test)"
   ]
  },
  {
   "cell_type": "code",
   "execution_count": 224,
   "id": "9bc69fce",
   "metadata": {},
   "outputs": [
    {
     "data": {
      "text/plain": [
       "0.7894736842105263"
      ]
     },
     "execution_count": 224,
     "metadata": {},
     "output_type": "execute_result"
    }
   ],
   "source": [
    "tree_model_acc_score= accuracy_score(predictions,y_test)"
   ]
  },
  {
   "cell_type": "code",
   "execution_count": 151,
   "id": "039cbd7b",
   "metadata": {},
   "outputs": [
    {
     "data": {
      "text/html": [
       "<div class=\"data-frame\"><p>13 rows × 6 columns</p><table class=\"data-frame\"><thead><tr><th></th><th>Email</th><th>Date</th><th>Country</th><th>VAT</th><th>Telephone</th><th>Total_€</th></tr><tr><th></th><th title=\"Any\">Any</th><th title=\"Date\">Date</th><th title=\"Any\">Any</th><th title=\"Any\">Any</th><th title=\"Any\">Any</th><th title=\"Any\">Any</th></tr></thead><tbody><tr><th>1</th><td>Arno@gmail.com</td><td>2022-12-26</td><td>Belgium</td><td>Unknown</td><td>Unknown</td><td>160.0</td></tr><tr><th>2</th><td>Sbridoux.business@gmail.com</td><td>2022-02-10</td><td>Belgium</td><td>BE0775755025</td><td>+32483446663</td><td>54.99</td></tr><tr><th>3</th><td>lennertgrootaerd@gmail.com</td><td>2021-01-23</td><td>Unknown</td><td>BE0725470720</td><td>Unknown</td><td>195.0</td></tr><tr><th>4</th><td>LACUS@gmail.com</td><td>2022-02-01</td><td>Unknown</td><td>BE0776625055</td><td>Unknown</td><td>16.0</td></tr><tr><th>5</th><td>vital@gmail.com</td><td>2021-12-03</td><td>Belgium</td><td>BE0753524209</td><td>Unknown</td><td>55.0</td></tr><tr><th>6</th><td>Info@balvantwaregemse.be</td><td>2021-01-10</td><td>Belgium</td><td>BE0729909558</td><td>Unknown</td><td>597.0</td></tr><tr><th>7</th><td>LACUS@GMAIL.COM</td><td>2021-01-23</td><td>Belgium</td><td>BE0776625055</td><td>Unknown</td><td>75.0</td></tr><tr><th>8</th><td>Richard@hotmail.fr</td><td>2021-03-22</td><td>France</td><td>FR4847220377</td><td>+33984535111</td><td>120.5</td></tr><tr><th>9</th><td>Victor@hotmail.fr</td><td>2021-03-31</td><td>France</td><td>FR4847220373</td><td>+33987337111</td><td>100.5</td></tr><tr><th>10</th><td>Melody@outlook.fr</td><td>2021-03-01</td><td>France</td><td>FR4847260373</td><td>+33447337111</td><td>119.5</td></tr><tr><th>11</th><td>Henk@gmail.fr</td><td>2021-01-22</td><td>France</td><td>FR424750077</td><td>+33987336611</td><td>15.5</td></tr><tr><th>12</th><td>Kyani@DPD.fr</td><td>2021-02-12</td><td>France</td><td>FR48272250357</td><td>+33987337151</td><td>59.5</td></tr><tr><th>13</th><td>Hugo@hotmail.fr</td><td>2021-02-24</td><td>France</td><td>FR13472243077</td><td>+33987337131</td><td>29.8</td></tr></tbody></table></div>"
      ],
      "text/latex": [
       "\\begin{tabular}{r|cccccc}\n",
       "\t& Email & Date & Country & VAT & Telephone & Total\\_€\\\\\n",
       "\t\\hline\n",
       "\t& Any & Date & Any & Any & Any & Any\\\\\n",
       "\t\\hline\n",
       "\t1 & Arno@gmail.com & 2022-12-26 & Belgium & Unknown & Unknown & 160.0 \\\\\n",
       "\t2 & Sbridoux.business@gmail.com & 2022-02-10 & Belgium & BE0775755025 & +32483446663 & 54.99 \\\\\n",
       "\t3 & lennertgrootaerd@gmail.com & 2021-01-23 & Unknown & BE0725470720 & Unknown & 195.0 \\\\\n",
       "\t4 & LACUS@gmail.com & 2022-02-01 & Unknown & BE0776625055 & Unknown & 16.0 \\\\\n",
       "\t5 & vital@gmail.com & 2021-12-03 & Belgium & BE0753524209 & Unknown & 55.0 \\\\\n",
       "\t6 & Info@balvantwaregemse.be & 2021-01-10 & Belgium & BE0729909558 & Unknown & 597.0 \\\\\n",
       "\t7 & LACUS@GMAIL.COM & 2021-01-23 & Belgium & BE0776625055 & Unknown & 75.0 \\\\\n",
       "\t8 & Richard@hotmail.fr & 2021-03-22 & France & FR4847220377 & +33984535111 & 120.5 \\\\\n",
       "\t9 & Victor@hotmail.fr & 2021-03-31 & France & FR4847220373 & +33987337111 & 100.5 \\\\\n",
       "\t10 & Melody@outlook.fr & 2021-03-01 & France & FR4847260373 & +33447337111 & 119.5 \\\\\n",
       "\t11 & Henk@gmail.fr & 2021-01-22 & France & FR424750077 & +33987336611 & 15.5 \\\\\n",
       "\t12 & Kyani@DPD.fr & 2021-02-12 & France & FR48272250357 & +33987337151 & 59.5 \\\\\n",
       "\t13 & Hugo@hotmail.fr & 2021-02-24 & France & FR13472243077 & +33987337131 & 29.8 \\\\\n",
       "\\end{tabular}\n"
      ],
      "text/plain": [
       "\u001b[1m13×6 DataFrame\u001b[0m\n",
       "\u001b[1m Row \u001b[0m│\u001b[1m Email                       \u001b[0m\u001b[1m Date       \u001b[0m\u001b[1m Country \u001b[0m\u001b[1m VAT           \u001b[0m\u001b[1m Teleph\u001b[0m ⋯\n",
       "\u001b[1m     \u001b[0m│\u001b[90m Any                         \u001b[0m\u001b[90m Date       \u001b[0m\u001b[90m Any     \u001b[0m\u001b[90m Any           \u001b[0m\u001b[90m Any   \u001b[0m ⋯\n",
       "─────┼──────────────────────────────────────────────────────────────────────────\n",
       "   1 │ Arno@gmail.com               2022-12-26  Belgium  Unknown        Unknow ⋯\n",
       "   2 │ Sbridoux.business@gmail.com  2022-02-10  Belgium  BE0775755025   +32483\n",
       "   3 │ lennertgrootaerd@gmail.com   2021-01-23  Unknown  BE0725470720   Unknow\n",
       "   4 │ LACUS@gmail.com              2022-02-01  Unknown  BE0776625055   Unknow\n",
       "   5 │ vital@gmail.com              2021-12-03  Belgium  BE0753524209   Unknow ⋯\n",
       "   6 │ Info@balvantwaregemse.be     2021-01-10  Belgium  BE0729909558   Unknow\n",
       "   7 │ LACUS@GMAIL.COM              2021-01-23  Belgium  BE0776625055   Unknow\n",
       "   8 │ Richard@hotmail.fr           2021-03-22  France   FR4847220377   +33984\n",
       "   9 │ Victor@hotmail.fr            2021-03-31  France   FR4847220373   +33987 ⋯\n",
       "  10 │ Melody@outlook.fr            2021-03-01  France   FR4847260373   +33447\n",
       "  11 │ Henk@gmail.fr                2021-01-22  France   FR424750077    +33987\n",
       "  12 │ Kyani@DPD.fr                 2021-02-12  France   FR48272250357  +33987\n",
       "  13 │ Hugo@hotmail.fr              2021-02-24  France   FR13472243077  +33987 ⋯\n",
       "\u001b[36m                                                               2 columns omitted\u001b[0m"
      ]
     },
     "execution_count": 151,
     "metadata": {},
     "output_type": "execute_result"
    }
   ],
   "source": [
    "dataset"
   ]
  },
  {
   "cell_type": "code",
   "execution_count": 152,
   "id": "4a6c4b2f",
   "metadata": {},
   "outputs": [
    {
     "data": {
      "image/svg+xml": [
       "<?xml version=\"1.0\" encoding=\"utf-8\"?>\n",
       "<svg xmlns=\"http://www.w3.org/2000/svg\" xmlns:xlink=\"http://www.w3.org/1999/xlink\" width=\"600\" height=\"400\" viewBox=\"0 0 2400 1600\">\n",
       "<defs>\n",
       "  <clipPath id=\"clip830\">\n",
       "    <rect x=\"0\" y=\"0\" width=\"2400\" height=\"1600\"/>\n",
       "  </clipPath>\n",
       "</defs>\n",
       "<path clip-path=\"url(#clip830)\" d=\"\n",
       "M0 1600 L2400 1600 L2400 0 L0 0  Z\n",
       "  \" fill=\"#ffffff\" fill-rule=\"evenodd\" fill-opacity=\"1\"/>\n",
       "<defs>\n",
       "  <clipPath id=\"clip831\">\n",
       "    <rect x=\"480\" y=\"0\" width=\"1681\" height=\"1600\"/>\n",
       "  </clipPath>\n",
       "</defs>\n",
       "<path clip-path=\"url(#clip830)\" d=\"\n",
       "M175.445 1423.18 L2352.76 1423.18 L2352.76 123.472 L175.445 123.472  Z\n",
       "  \" fill=\"#ffffff\" fill-rule=\"evenodd\" fill-opacity=\"1\"/>\n",
       "<defs>\n",
       "  <clipPath id=\"clip832\">\n",
       "    <rect x=\"175\" y=\"123\" width=\"2178\" height=\"1301\"/>\n",
       "  </clipPath>\n",
       "</defs>\n",
       "<polyline clip-path=\"url(#clip832)\" style=\"stroke:#000000; stroke-linecap:butt; stroke-linejoin:round; stroke-width:2; stroke-opacity:0.1; fill:none\" points=\"\n",
       "  295.201,1423.18 295.201,123.472 \n",
       "  \"/>\n",
       "<polyline clip-path=\"url(#clip832)\" style=\"stroke:#000000; stroke-linecap:butt; stroke-linejoin:round; stroke-width:2; stroke-opacity:0.1; fill:none\" points=\"\n",
       "  618.168,1423.18 618.168,123.472 \n",
       "  \"/>\n",
       "<polyline clip-path=\"url(#clip832)\" style=\"stroke:#000000; stroke-linecap:butt; stroke-linejoin:round; stroke-width:2; stroke-opacity:0.1; fill:none\" points=\"\n",
       "  941.134,1423.18 941.134,123.472 \n",
       "  \"/>\n",
       "<polyline clip-path=\"url(#clip832)\" style=\"stroke:#000000; stroke-linecap:butt; stroke-linejoin:round; stroke-width:2; stroke-opacity:0.1; fill:none\" points=\"\n",
       "  1264.1,1423.18 1264.1,123.472 \n",
       "  \"/>\n",
       "<polyline clip-path=\"url(#clip832)\" style=\"stroke:#000000; stroke-linecap:butt; stroke-linejoin:round; stroke-width:2; stroke-opacity:0.1; fill:none\" points=\"\n",
       "  1587.07,1423.18 1587.07,123.472 \n",
       "  \"/>\n",
       "<polyline clip-path=\"url(#clip832)\" style=\"stroke:#000000; stroke-linecap:butt; stroke-linejoin:round; stroke-width:2; stroke-opacity:0.1; fill:none\" points=\"\n",
       "  1910.03,1423.18 1910.03,123.472 \n",
       "  \"/>\n",
       "<polyline clip-path=\"url(#clip832)\" style=\"stroke:#000000; stroke-linecap:butt; stroke-linejoin:round; stroke-width:2; stroke-opacity:0.1; fill:none\" points=\"\n",
       "  2233,1423.18 2233,123.472 \n",
       "  \"/>\n",
       "<polyline clip-path=\"url(#clip830)\" style=\"stroke:#000000; stroke-linecap:butt; stroke-linejoin:round; stroke-width:4; stroke-opacity:1; fill:none\" points=\"\n",
       "  175.445,1423.18 2352.76,1423.18 \n",
       "  \"/>\n",
       "<polyline clip-path=\"url(#clip830)\" style=\"stroke:#000000; stroke-linecap:butt; stroke-linejoin:round; stroke-width:4; stroke-opacity:1; fill:none\" points=\"\n",
       "  295.201,1423.18 295.201,1404.28 \n",
       "  \"/>\n",
       "<polyline clip-path=\"url(#clip830)\" style=\"stroke:#000000; stroke-linecap:butt; stroke-linejoin:round; stroke-width:4; stroke-opacity:1; fill:none\" points=\"\n",
       "  618.168,1423.18 618.168,1404.28 \n",
       "  \"/>\n",
       "<polyline clip-path=\"url(#clip830)\" style=\"stroke:#000000; stroke-linecap:butt; stroke-linejoin:round; stroke-width:4; stroke-opacity:1; fill:none\" points=\"\n",
       "  941.134,1423.18 941.134,1404.28 \n",
       "  \"/>\n",
       "<polyline clip-path=\"url(#clip830)\" style=\"stroke:#000000; stroke-linecap:butt; stroke-linejoin:round; stroke-width:4; stroke-opacity:1; fill:none\" points=\"\n",
       "  1264.1,1423.18 1264.1,1404.28 \n",
       "  \"/>\n",
       "<polyline clip-path=\"url(#clip830)\" style=\"stroke:#000000; stroke-linecap:butt; stroke-linejoin:round; stroke-width:4; stroke-opacity:1; fill:none\" points=\"\n",
       "  1587.07,1423.18 1587.07,1404.28 \n",
       "  \"/>\n",
       "<polyline clip-path=\"url(#clip830)\" style=\"stroke:#000000; stroke-linecap:butt; stroke-linejoin:round; stroke-width:4; stroke-opacity:1; fill:none\" points=\"\n",
       "  1910.03,1423.18 1910.03,1404.28 \n",
       "  \"/>\n",
       "<polyline clip-path=\"url(#clip830)\" style=\"stroke:#000000; stroke-linecap:butt; stroke-linejoin:round; stroke-width:4; stroke-opacity:1; fill:none\" points=\"\n",
       "  2233,1423.18 2233,1404.28 \n",
       "  \"/>\n",
       "<path clip-path=\"url(#clip830)\" d=\"M295.201 1454.1 Q291.59 1454.1 289.761 1457.66 Q287.956 1461.2 287.956 1468.33 Q287.956 1475.44 289.761 1479.01 Q291.59 1482.55 295.201 1482.55 Q298.835 1482.55 300.641 1479.01 Q302.47 1475.44 302.47 1468.33 Q302.47 1461.2 300.641 1457.66 Q298.835 1454.1 295.201 1454.1 M295.201 1450.39 Q301.011 1450.39 304.067 1455 Q307.146 1459.58 307.146 1468.33 Q307.146 1477.06 304.067 1481.67 Q301.011 1486.25 295.201 1486.25 Q289.391 1486.25 286.312 1481.67 Q283.257 1477.06 283.257 1468.33 Q283.257 1459.58 286.312 1455 Q289.391 1450.39 295.201 1450.39 Z\" fill=\"#000000\" fill-rule=\"evenodd\" fill-opacity=\"1\" /><path clip-path=\"url(#clip830)\" d=\"M577.774 1481.64 L585.413 1481.64 L585.413 1455.28 L577.103 1456.95 L577.103 1452.69 L585.367 1451.02 L590.043 1451.02 L590.043 1481.64 L597.682 1481.64 L597.682 1485.58 L577.774 1485.58 L577.774 1481.64 Z\" fill=\"#000000\" fill-rule=\"evenodd\" fill-opacity=\"1\" /><path clip-path=\"url(#clip830)\" d=\"M617.126 1454.1 Q613.515 1454.1 611.686 1457.66 Q609.881 1461.2 609.881 1468.33 Q609.881 1475.44 611.686 1479.01 Q613.515 1482.55 617.126 1482.55 Q620.76 1482.55 622.566 1479.01 Q624.394 1475.44 624.394 1468.33 Q624.394 1461.2 622.566 1457.66 Q620.76 1454.1 617.126 1454.1 M617.126 1450.39 Q622.936 1450.39 625.992 1455 Q629.07 1459.58 629.07 1468.33 Q629.07 1477.06 625.992 1481.67 Q622.936 1486.25 617.126 1486.25 Q611.316 1486.25 608.237 1481.67 Q605.182 1477.06 605.182 1468.33 Q605.182 1459.58 608.237 1455 Q611.316 1450.39 617.126 1450.39 Z\" fill=\"#000000\" fill-rule=\"evenodd\" fill-opacity=\"1\" /><path clip-path=\"url(#clip830)\" d=\"M647.288 1454.1 Q643.677 1454.1 641.848 1457.66 Q640.043 1461.2 640.043 1468.33 Q640.043 1475.44 641.848 1479.01 Q643.677 1482.55 647.288 1482.55 Q650.922 1482.55 652.728 1479.01 Q654.556 1475.44 654.556 1468.33 Q654.556 1461.2 652.728 1457.66 Q650.922 1454.1 647.288 1454.1 M647.288 1450.39 Q653.098 1450.39 656.154 1455 Q659.232 1459.58 659.232 1468.33 Q659.232 1477.06 656.154 1481.67 Q653.098 1486.25 647.288 1486.25 Q641.478 1486.25 638.399 1481.67 Q635.343 1477.06 635.343 1468.33 Q635.343 1459.58 638.399 1455 Q641.478 1450.39 647.288 1450.39 Z\" fill=\"#000000\" fill-rule=\"evenodd\" fill-opacity=\"1\" /><path clip-path=\"url(#clip830)\" d=\"M904.826 1481.64 L921.146 1481.64 L921.146 1485.58 L899.201 1485.58 L899.201 1481.64 Q901.863 1478.89 906.447 1474.26 Q911.053 1469.61 912.234 1468.27 Q914.479 1465.74 915.359 1464.01 Q916.262 1462.25 916.262 1460.56 Q916.262 1457.8 914.317 1456.07 Q912.396 1454.33 909.294 1454.33 Q907.095 1454.33 904.641 1455.09 Q902.211 1455.86 899.433 1457.41 L899.433 1452.69 Q902.257 1451.55 904.711 1450.97 Q907.164 1450.39 909.201 1450.39 Q914.572 1450.39 917.766 1453.08 Q920.961 1455.77 920.961 1460.26 Q920.961 1462.39 920.15 1464.31 Q919.363 1466.2 917.257 1468.8 Q916.678 1469.47 913.576 1472.69 Q910.475 1475.88 904.826 1481.64 Z\" fill=\"#000000\" fill-rule=\"evenodd\" fill-opacity=\"1\" /><path clip-path=\"url(#clip830)\" d=\"M940.96 1454.1 Q937.349 1454.1 935.521 1457.66 Q933.715 1461.2 933.715 1468.33 Q933.715 1475.44 935.521 1479.01 Q937.349 1482.55 940.96 1482.55 Q944.595 1482.55 946.4 1479.01 Q948.229 1475.44 948.229 1468.33 Q948.229 1461.2 946.4 1457.66 Q944.595 1454.1 940.96 1454.1 M940.96 1450.39 Q946.771 1450.39 949.826 1455 Q952.905 1459.58 952.905 1468.33 Q952.905 1477.06 949.826 1481.67 Q946.771 1486.25 940.96 1486.25 Q935.15 1486.25 932.072 1481.67 Q929.016 1477.06 929.016 1468.33 Q929.016 1459.58 932.072 1455 Q935.15 1450.39 940.96 1450.39 Z\" fill=\"#000000\" fill-rule=\"evenodd\" fill-opacity=\"1\" /><path clip-path=\"url(#clip830)\" d=\"M971.122 1454.1 Q967.511 1454.1 965.683 1457.66 Q963.877 1461.2 963.877 1468.33 Q963.877 1475.44 965.683 1479.01 Q967.511 1482.55 971.122 1482.55 Q974.757 1482.55 976.562 1479.01 Q978.391 1475.44 978.391 1468.33 Q978.391 1461.2 976.562 1457.66 Q974.757 1454.1 971.122 1454.1 M971.122 1450.39 Q976.933 1450.39 979.988 1455 Q983.067 1459.58 983.067 1468.33 Q983.067 1477.06 979.988 1481.67 Q976.933 1486.25 971.122 1486.25 Q965.312 1486.25 962.234 1481.67 Q959.178 1477.06 959.178 1468.33 Q959.178 1459.58 962.234 1455 Q965.312 1450.39 971.122 1450.39 Z\" fill=\"#000000\" fill-rule=\"evenodd\" fill-opacity=\"1\" /><path clip-path=\"url(#clip830)\" d=\"M1237.86 1466.95 Q1241.22 1467.66 1243.09 1469.93 Q1244.99 1472.2 1244.99 1475.53 Q1244.99 1480.65 1241.47 1483.45 Q1237.95 1486.25 1231.47 1486.25 Q1229.3 1486.25 1226.98 1485.81 Q1224.69 1485.39 1222.24 1484.54 L1222.24 1480.02 Q1224.18 1481.16 1226.5 1481.74 Q1228.81 1482.32 1231.33 1482.32 Q1235.73 1482.32 1238.02 1480.58 Q1240.34 1478.84 1240.34 1475.53 Q1240.34 1472.48 1238.19 1470.77 Q1236.06 1469.03 1232.24 1469.03 L1228.21 1469.03 L1228.21 1465.19 L1232.42 1465.19 Q1235.87 1465.19 1237.7 1463.82 Q1239.53 1462.43 1239.53 1459.84 Q1239.53 1457.18 1237.63 1455.77 Q1235.76 1454.33 1232.24 1454.33 Q1230.32 1454.33 1228.12 1454.75 Q1225.92 1455.16 1223.28 1456.04 L1223.28 1451.88 Q1225.94 1451.14 1228.26 1450.77 Q1230.59 1450.39 1232.65 1450.39 Q1237.98 1450.39 1241.08 1452.83 Q1244.18 1455.23 1244.18 1459.35 Q1244.18 1462.22 1242.54 1464.21 Q1240.89 1466.18 1237.86 1466.95 Z\" fill=\"#000000\" fill-rule=\"evenodd\" fill-opacity=\"1\" /><path clip-path=\"url(#clip830)\" d=\"M1263.86 1454.1 Q1260.25 1454.1 1258.42 1457.66 Q1256.61 1461.2 1256.61 1468.33 Q1256.61 1475.44 1258.42 1479.01 Q1260.25 1482.55 1263.86 1482.55 Q1267.49 1482.55 1269.3 1479.01 Q1271.13 1475.44 1271.13 1468.33 Q1271.13 1461.2 1269.3 1457.66 Q1267.49 1454.1 1263.86 1454.1 M1263.86 1450.39 Q1269.67 1450.39 1272.72 1455 Q1275.8 1459.58 1275.8 1468.33 Q1275.8 1477.06 1272.72 1481.67 Q1269.67 1486.25 1263.86 1486.25 Q1258.05 1486.25 1254.97 1481.67 Q1251.91 1477.06 1251.91 1468.33 Q1251.91 1459.58 1254.97 1455 Q1258.05 1450.39 1263.86 1450.39 Z\" fill=\"#000000\" fill-rule=\"evenodd\" fill-opacity=\"1\" /><path clip-path=\"url(#clip830)\" d=\"M1294.02 1454.1 Q1290.41 1454.1 1288.58 1457.66 Q1286.77 1461.2 1286.77 1468.33 Q1286.77 1475.44 1288.58 1479.01 Q1290.41 1482.55 1294.02 1482.55 Q1297.65 1482.55 1299.46 1479.01 Q1301.29 1475.44 1301.29 1468.33 Q1301.29 1461.2 1299.46 1457.66 Q1297.65 1454.1 1294.02 1454.1 M1294.02 1450.39 Q1299.83 1450.39 1302.89 1455 Q1305.96 1459.58 1305.96 1468.33 Q1305.96 1477.06 1302.89 1481.67 Q1299.83 1486.25 1294.02 1486.25 Q1288.21 1486.25 1285.13 1481.67 Q1282.07 1477.06 1282.07 1468.33 Q1282.07 1459.58 1285.13 1455 Q1288.21 1450.39 1294.02 1450.39 Z\" fill=\"#000000\" fill-rule=\"evenodd\" fill-opacity=\"1\" /><path clip-path=\"url(#clip830)\" d=\"M1560.16 1455.09 L1548.35 1473.54 L1560.16 1473.54 L1560.16 1455.09 M1558.93 1451.02 L1564.81 1451.02 L1564.81 1473.54 L1569.74 1473.54 L1569.74 1477.43 L1564.81 1477.43 L1564.81 1485.58 L1560.16 1485.58 L1560.16 1477.43 L1544.56 1477.43 L1544.56 1472.92 L1558.93 1451.02 Z\" fill=\"#000000\" fill-rule=\"evenodd\" fill-opacity=\"1\" /><path clip-path=\"url(#clip830)\" d=\"M1587.47 1454.1 Q1583.86 1454.1 1582.03 1457.66 Q1580.23 1461.2 1580.23 1468.33 Q1580.23 1475.44 1582.03 1479.01 Q1583.86 1482.55 1587.47 1482.55 Q1591.11 1482.55 1592.91 1479.01 Q1594.74 1475.44 1594.74 1468.33 Q1594.74 1461.2 1592.91 1457.66 Q1591.11 1454.1 1587.47 1454.1 M1587.47 1450.39 Q1593.28 1450.39 1596.34 1455 Q1599.42 1459.58 1599.42 1468.33 Q1599.42 1477.06 1596.34 1481.67 Q1593.28 1486.25 1587.47 1486.25 Q1581.66 1486.25 1578.58 1481.67 Q1575.53 1477.06 1575.53 1468.33 Q1575.53 1459.58 1578.58 1455 Q1581.66 1450.39 1587.47 1450.39 Z\" fill=\"#000000\" fill-rule=\"evenodd\" fill-opacity=\"1\" /><path clip-path=\"url(#clip830)\" d=\"M1617.63 1454.1 Q1614.02 1454.1 1612.19 1457.66 Q1610.39 1461.2 1610.39 1468.33 Q1610.39 1475.44 1612.19 1479.01 Q1614.02 1482.55 1617.63 1482.55 Q1621.27 1482.55 1623.07 1479.01 Q1624.9 1475.44 1624.9 1468.33 Q1624.9 1461.2 1623.07 1457.66 Q1621.27 1454.1 1617.63 1454.1 M1617.63 1450.39 Q1623.44 1450.39 1626.5 1455 Q1629.58 1459.58 1629.58 1468.33 Q1629.58 1477.06 1626.5 1481.67 Q1623.44 1486.25 1617.63 1486.25 Q1611.82 1486.25 1608.75 1481.67 Q1605.69 1477.06 1605.69 1468.33 Q1605.69 1459.58 1608.75 1455 Q1611.82 1450.39 1617.63 1450.39 Z\" fill=\"#000000\" fill-rule=\"evenodd\" fill-opacity=\"1\" /><path clip-path=\"url(#clip830)\" d=\"M1869.65 1451.02 L1888.01 1451.02 L1888.01 1454.96 L1873.93 1454.96 L1873.93 1463.43 Q1874.95 1463.08 1875.97 1462.92 Q1876.99 1462.73 1878.01 1462.73 Q1883.8 1462.73 1887.17 1465.9 Q1890.55 1469.08 1890.55 1474.49 Q1890.55 1480.07 1887.08 1483.17 Q1883.61 1486.25 1877.29 1486.25 Q1875.11 1486.25 1872.85 1485.88 Q1870.6 1485.51 1868.19 1484.77 L1868.19 1480.07 Q1870.28 1481.2 1872.5 1481.76 Q1874.72 1482.32 1877.2 1482.32 Q1881.2 1482.32 1883.54 1480.21 Q1885.88 1478.1 1885.88 1474.49 Q1885.88 1470.88 1883.54 1468.77 Q1881.2 1466.67 1877.2 1466.67 Q1875.32 1466.67 1873.45 1467.08 Q1871.6 1467.5 1869.65 1468.38 L1869.65 1451.02 Z\" fill=\"#000000\" fill-rule=\"evenodd\" fill-opacity=\"1\" /><path clip-path=\"url(#clip830)\" d=\"M1909.77 1454.1 Q1906.16 1454.1 1904.33 1457.66 Q1902.52 1461.2 1902.52 1468.33 Q1902.52 1475.44 1904.33 1479.01 Q1906.16 1482.55 1909.77 1482.55 Q1913.4 1482.55 1915.21 1479.01 Q1917.04 1475.44 1917.04 1468.33 Q1917.04 1461.2 1915.21 1457.66 Q1913.4 1454.1 1909.77 1454.1 M1909.77 1450.39 Q1915.58 1450.39 1918.63 1455 Q1921.71 1459.58 1921.71 1468.33 Q1921.71 1477.06 1918.63 1481.67 Q1915.58 1486.25 1909.77 1486.25 Q1903.96 1486.25 1900.88 1481.67 Q1897.82 1477.06 1897.82 1468.33 Q1897.82 1459.58 1900.88 1455 Q1903.96 1450.39 1909.77 1450.39 Z\" fill=\"#000000\" fill-rule=\"evenodd\" fill-opacity=\"1\" /><path clip-path=\"url(#clip830)\" d=\"M1939.93 1454.1 Q1936.32 1454.1 1934.49 1457.66 Q1932.68 1461.2 1932.68 1468.33 Q1932.68 1475.44 1934.49 1479.01 Q1936.32 1482.55 1939.93 1482.55 Q1943.56 1482.55 1945.37 1479.01 Q1947.2 1475.44 1947.2 1468.33 Q1947.2 1461.2 1945.37 1457.66 Q1943.56 1454.1 1939.93 1454.1 M1939.93 1450.39 Q1945.74 1450.39 1948.79 1455 Q1951.87 1459.58 1951.87 1468.33 Q1951.87 1477.06 1948.79 1481.67 Q1945.74 1486.25 1939.93 1486.25 Q1934.12 1486.25 1931.04 1481.67 Q1927.98 1477.06 1927.98 1468.33 Q1927.98 1459.58 1931.04 1455 Q1934.12 1450.39 1939.93 1450.39 Z\" fill=\"#000000\" fill-rule=\"evenodd\" fill-opacity=\"1\" /><path clip-path=\"url(#clip830)\" d=\"M2203.32 1466.44 Q2200.18 1466.44 2198.32 1468.59 Q2196.5 1470.74 2196.5 1474.49 Q2196.5 1478.22 2198.32 1480.39 Q2200.18 1482.55 2203.32 1482.55 Q2206.47 1482.55 2208.3 1480.39 Q2210.15 1478.22 2210.15 1474.49 Q2210.15 1470.74 2208.3 1468.59 Q2206.47 1466.44 2203.32 1466.44 M2212.61 1451.78 L2212.61 1456.04 Q2210.85 1455.21 2209.04 1454.77 Q2207.26 1454.33 2205.5 1454.33 Q2200.87 1454.33 2198.42 1457.45 Q2195.99 1460.58 2195.64 1466.9 Q2197 1464.89 2199.06 1463.82 Q2201.13 1462.73 2203.6 1462.73 Q2208.81 1462.73 2211.82 1465.9 Q2214.85 1469.05 2214.85 1474.49 Q2214.85 1479.82 2211.7 1483.03 Q2208.56 1486.25 2203.32 1486.25 Q2197.33 1486.25 2194.16 1481.67 Q2190.99 1477.06 2190.99 1468.33 Q2190.99 1460.14 2194.88 1455.28 Q2198.76 1450.39 2205.31 1450.39 Q2207.07 1450.39 2208.86 1450.74 Q2210.66 1451.09 2212.61 1451.78 Z\" fill=\"#000000\" fill-rule=\"evenodd\" fill-opacity=\"1\" /><path clip-path=\"url(#clip830)\" d=\"M2232.91 1454.1 Q2229.3 1454.1 2227.47 1457.66 Q2225.66 1461.2 2225.66 1468.33 Q2225.66 1475.44 2227.47 1479.01 Q2229.3 1482.55 2232.91 1482.55 Q2236.54 1482.55 2238.35 1479.01 Q2240.18 1475.44 2240.18 1468.33 Q2240.18 1461.2 2238.35 1457.66 Q2236.54 1454.1 2232.91 1454.1 M2232.91 1450.39 Q2238.72 1450.39 2241.77 1455 Q2244.85 1459.58 2244.85 1468.33 Q2244.85 1477.06 2241.77 1481.67 Q2238.72 1486.25 2232.91 1486.25 Q2227.1 1486.25 2224.02 1481.67 Q2220.96 1477.06 2220.96 1468.33 Q2220.96 1459.58 2224.02 1455 Q2227.1 1450.39 2232.91 1450.39 Z\" fill=\"#000000\" fill-rule=\"evenodd\" fill-opacity=\"1\" /><path clip-path=\"url(#clip830)\" d=\"M2263.07 1454.1 Q2259.46 1454.1 2257.63 1457.66 Q2255.82 1461.2 2255.82 1468.33 Q2255.82 1475.44 2257.63 1479.01 Q2259.46 1482.55 2263.07 1482.55 Q2266.7 1482.55 2268.51 1479.01 Q2270.34 1475.44 2270.34 1468.33 Q2270.34 1461.2 2268.51 1457.66 Q2266.7 1454.1 2263.07 1454.1 M2263.07 1450.39 Q2268.88 1450.39 2271.93 1455 Q2275.01 1459.58 2275.01 1468.33 Q2275.01 1477.06 2271.93 1481.67 Q2268.88 1486.25 2263.07 1486.25 Q2257.26 1486.25 2254.18 1481.67 Q2251.12 1477.06 2251.12 1468.33 Q2251.12 1459.58 2254.18 1455 Q2257.26 1450.39 2263.07 1450.39 Z\" fill=\"#000000\" fill-rule=\"evenodd\" fill-opacity=\"1\" /><path clip-path=\"url(#clip830)\" d=\"M1149.1 1520.52 L1155.53 1520.52 L1155.53 1568.04 L1149.1 1568.04 L1149.1 1520.52 Z\" fill=\"#000000\" fill-rule=\"evenodd\" fill-opacity=\"1\" /><path clip-path=\"url(#clip830)\" d=\"M1197.71 1546.53 L1197.71 1568.04 L1191.85 1568.04 L1191.85 1546.72 Q1191.85 1541.66 1189.88 1539.14 Q1187.9 1536.63 1183.96 1536.63 Q1179.21 1536.63 1176.48 1539.65 Q1173.74 1542.68 1173.74 1547.9 L1173.74 1568.04 L1167.85 1568.04 L1167.85 1532.4 L1173.74 1532.4 L1173.74 1537.93 Q1175.84 1534.72 1178.67 1533.13 Q1181.54 1531.54 1185.26 1531.54 Q1191.4 1531.54 1194.56 1535.36 Q1197.71 1539.14 1197.71 1546.53 Z\" fill=\"#000000\" fill-rule=\"evenodd\" fill-opacity=\"1\" /><path clip-path=\"url(#clip830)\" d=\"M1235.04 1533.76 L1235.04 1539.24 Q1232.56 1537.87 1230.04 1537.2 Q1227.56 1536.5 1225.02 1536.5 Q1219.32 1536.5 1216.17 1540.13 Q1213.02 1543.73 1213.02 1550.25 Q1213.02 1556.78 1216.17 1560.4 Q1219.32 1564 1225.02 1564 Q1227.56 1564 1230.04 1563.33 Q1232.56 1562.63 1235.04 1561.26 L1235.04 1566.68 Q1232.59 1567.82 1229.95 1568.39 Q1227.34 1568.97 1224.38 1568.97 Q1216.33 1568.97 1211.58 1563.91 Q1206.84 1558.85 1206.84 1550.25 Q1206.84 1541.53 1211.62 1536.53 Q1216.42 1531.54 1224.76 1531.54 Q1227.47 1531.54 1230.04 1532.11 Q1232.62 1532.65 1235.04 1533.76 Z\" fill=\"#000000\" fill-rule=\"evenodd\" fill-opacity=\"1\" /><path clip-path=\"url(#clip830)\" d=\"M1259.04 1536.5 Q1254.33 1536.5 1251.59 1540.19 Q1248.85 1543.85 1248.85 1550.25 Q1248.85 1556.65 1251.56 1560.34 Q1254.3 1564 1259.04 1564 Q1263.72 1564 1266.46 1560.31 Q1269.19 1556.62 1269.19 1550.25 Q1269.19 1543.92 1266.46 1540.23 Q1263.72 1536.5 1259.04 1536.5 M1259.04 1531.54 Q1266.68 1531.54 1271.04 1536.5 Q1275.4 1541.47 1275.4 1550.25 Q1275.4 1559 1271.04 1564 Q1266.68 1568.97 1259.04 1568.97 Q1251.37 1568.97 1247.01 1564 Q1242.68 1559 1242.68 1550.25 Q1242.68 1541.47 1247.01 1536.5 Q1251.37 1531.54 1259.04 1531.54 Z\" fill=\"#000000\" fill-rule=\"evenodd\" fill-opacity=\"1\" /><path clip-path=\"url(#clip830)\" d=\"M1312.86 1539.24 Q1315.06 1535.29 1318.11 1533.41 Q1321.17 1531.54 1325.31 1531.54 Q1330.88 1531.54 1333.9 1535.45 Q1336.92 1539.33 1336.92 1546.53 L1336.92 1568.04 L1331.04 1568.04 L1331.04 1546.72 Q1331.04 1541.59 1329.22 1539.11 Q1327.41 1536.63 1323.68 1536.63 Q1319.13 1536.63 1316.49 1539.65 Q1313.85 1542.68 1313.85 1547.9 L1313.85 1568.04 L1307.96 1568.04 L1307.96 1546.72 Q1307.96 1541.56 1306.15 1539.11 Q1304.33 1536.63 1300.54 1536.63 Q1296.06 1536.63 1293.41 1539.68 Q1290.77 1542.71 1290.77 1547.9 L1290.77 1568.04 L1284.88 1568.04 L1284.88 1532.4 L1290.77 1532.4 L1290.77 1537.93 Q1292.78 1534.66 1295.58 1533.1 Q1298.38 1531.54 1302.23 1531.54 Q1306.11 1531.54 1308.82 1533.51 Q1311.56 1535.48 1312.86 1539.24 Z\" fill=\"#000000\" fill-rule=\"evenodd\" fill-opacity=\"1\" /><path clip-path=\"url(#clip830)\" d=\"M1379.1 1548.76 L1379.1 1551.62 L1352.17 1551.62 Q1352.55 1557.67 1355.8 1560.85 Q1359.08 1564 1364.9 1564 Q1368.28 1564 1371.43 1563.17 Q1374.61 1562.35 1377.73 1560.69 L1377.73 1566.23 Q1374.58 1567.57 1371.27 1568.27 Q1367.96 1568.97 1364.55 1568.97 Q1356.02 1568.97 1351.02 1564 Q1346.06 1559.04 1346.06 1550.57 Q1346.06 1541.82 1350.77 1536.69 Q1355.51 1531.54 1363.53 1531.54 Q1370.73 1531.54 1374.9 1536.18 Q1379.1 1540.8 1379.1 1548.76 M1373.24 1547.04 Q1373.18 1542.23 1370.54 1539.37 Q1367.93 1536.5 1363.6 1536.5 Q1358.69 1536.5 1355.73 1539.27 Q1352.81 1542.04 1352.36 1547.07 L1373.24 1547.04 Z\" fill=\"#000000\" fill-rule=\"evenodd\" fill-opacity=\"1\" /><polyline clip-path=\"url(#clip832)\" style=\"stroke:#000000; stroke-linecap:butt; stroke-linejoin:round; stroke-width:2; stroke-opacity:0.1; fill:none\" points=\"\n",
       "  175.445,1386.4 2352.76,1386.4 \n",
       "  \"/>\n",
       "<polyline clip-path=\"url(#clip832)\" style=\"stroke:#000000; stroke-linecap:butt; stroke-linejoin:round; stroke-width:2; stroke-opacity:0.1; fill:none\" points=\"\n",
       "  175.445,1079.86 2352.76,1079.86 \n",
       "  \"/>\n",
       "<polyline clip-path=\"url(#clip832)\" style=\"stroke:#000000; stroke-linecap:butt; stroke-linejoin:round; stroke-width:2; stroke-opacity:0.1; fill:none\" points=\"\n",
       "  175.445,773.326 2352.76,773.326 \n",
       "  \"/>\n",
       "<polyline clip-path=\"url(#clip832)\" style=\"stroke:#000000; stroke-linecap:butt; stroke-linejoin:round; stroke-width:2; stroke-opacity:0.1; fill:none\" points=\"\n",
       "  175.445,466.791 2352.76,466.791 \n",
       "  \"/>\n",
       "<polyline clip-path=\"url(#clip832)\" style=\"stroke:#000000; stroke-linecap:butt; stroke-linejoin:round; stroke-width:2; stroke-opacity:0.1; fill:none\" points=\"\n",
       "  175.445,160.256 2352.76,160.256 \n",
       "  \"/>\n",
       "<polyline clip-path=\"url(#clip830)\" style=\"stroke:#000000; stroke-linecap:butt; stroke-linejoin:round; stroke-width:4; stroke-opacity:1; fill:none\" points=\"\n",
       "  175.445,1423.18 175.445,123.472 \n",
       "  \"/>\n",
       "<polyline clip-path=\"url(#clip830)\" style=\"stroke:#000000; stroke-linecap:butt; stroke-linejoin:round; stroke-width:4; stroke-opacity:1; fill:none\" points=\"\n",
       "  175.445,1386.4 194.343,1386.4 \n",
       "  \"/>\n",
       "<polyline clip-path=\"url(#clip830)\" style=\"stroke:#000000; stroke-linecap:butt; stroke-linejoin:round; stroke-width:4; stroke-opacity:1; fill:none\" points=\"\n",
       "  175.445,1079.86 194.343,1079.86 \n",
       "  \"/>\n",
       "<polyline clip-path=\"url(#clip830)\" style=\"stroke:#000000; stroke-linecap:butt; stroke-linejoin:round; stroke-width:4; stroke-opacity:1; fill:none\" points=\"\n",
       "  175.445,773.326 194.343,773.326 \n",
       "  \"/>\n",
       "<polyline clip-path=\"url(#clip830)\" style=\"stroke:#000000; stroke-linecap:butt; stroke-linejoin:round; stroke-width:4; stroke-opacity:1; fill:none\" points=\"\n",
       "  175.445,466.791 194.343,466.791 \n",
       "  \"/>\n",
       "<polyline clip-path=\"url(#clip830)\" style=\"stroke:#000000; stroke-linecap:butt; stroke-linejoin:round; stroke-width:4; stroke-opacity:1; fill:none\" points=\"\n",
       "  175.445,160.256 194.343,160.256 \n",
       "  \"/>\n",
       "<path clip-path=\"url(#clip830)\" d=\"M127.501 1372.19 Q123.89 1372.19 122.061 1375.76 Q120.255 1379.3 120.255 1386.43 Q120.255 1393.54 122.061 1397.1 Q123.89 1400.64 127.501 1400.64 Q131.135 1400.64 132.941 1397.1 Q134.769 1393.54 134.769 1386.43 Q134.769 1379.3 132.941 1375.76 Q131.135 1372.19 127.501 1372.19 M127.501 1368.49 Q133.311 1368.49 136.367 1373.1 Q139.445 1377.68 139.445 1386.43 Q139.445 1395.16 136.367 1399.76 Q133.311 1404.35 127.501 1404.35 Q121.691 1404.35 118.612 1399.76 Q115.556 1395.16 115.556 1386.43 Q115.556 1377.68 118.612 1373.1 Q121.691 1368.49 127.501 1368.49 Z\" fill=\"#000000\" fill-rule=\"evenodd\" fill-opacity=\"1\" /><path clip-path=\"url(#clip830)\" d=\"M119.538 1093.21 L127.177 1093.21 L127.177 1066.84 L118.867 1068.51 L118.867 1064.25 L127.13 1062.58 L131.806 1062.58 L131.806 1093.21 L139.445 1093.21 L139.445 1097.14 L119.538 1097.14 L119.538 1093.21 Z\" fill=\"#000000\" fill-rule=\"evenodd\" fill-opacity=\"1\" /><path clip-path=\"url(#clip830)\" d=\"M123.126 786.671 L139.445 786.671 L139.445 790.606 L117.501 790.606 L117.501 786.671 Q120.163 783.916 124.746 779.287 Q129.353 774.634 130.533 773.291 Q132.779 770.768 133.658 769.032 Q134.561 767.273 134.561 765.583 Q134.561 762.828 132.617 761.092 Q130.695 759.356 127.593 759.356 Q125.394 759.356 122.941 760.12 Q120.51 760.884 117.732 762.435 L117.732 757.713 Q120.556 756.578 123.01 756 Q125.464 755.421 127.501 755.421 Q132.871 755.421 136.066 758.106 Q139.26 760.791 139.26 765.282 Q139.26 767.412 138.45 769.333 Q137.663 771.231 135.556 773.824 Q134.978 774.495 131.876 777.713 Q128.774 780.907 123.126 786.671 Z\" fill=\"#000000\" fill-rule=\"evenodd\" fill-opacity=\"1\" /><path clip-path=\"url(#clip830)\" d=\"M132.316 465.437 Q135.672 466.155 137.547 468.423 Q139.445 470.692 139.445 474.025 Q139.445 479.141 135.927 481.942 Q132.408 484.742 125.927 484.742 Q123.751 484.742 121.436 484.303 Q119.144 483.886 116.691 483.029 L116.691 478.516 Q118.635 479.65 120.95 480.229 Q123.265 480.807 125.788 480.807 Q130.186 480.807 132.478 479.071 Q134.792 477.335 134.792 474.025 Q134.792 470.969 132.64 469.256 Q130.51 467.52 126.691 467.52 L122.663 467.52 L122.663 463.678 L126.876 463.678 Q130.325 463.678 132.154 462.312 Q133.982 460.923 133.982 458.331 Q133.982 455.669 132.084 454.256 Q130.209 452.821 126.691 452.821 Q124.769 452.821 122.57 453.238 Q120.371 453.655 117.732 454.534 L117.732 450.368 Q120.394 449.627 122.709 449.257 Q125.047 448.886 127.107 448.886 Q132.431 448.886 135.533 451.317 Q138.635 453.724 138.635 457.844 Q138.635 460.715 136.992 462.706 Q135.348 464.673 132.316 465.437 Z\" fill=\"#000000\" fill-rule=\"evenodd\" fill-opacity=\"1\" /><path clip-path=\"url(#clip830)\" d=\"M129.862 147.05 L118.056 165.499 L129.862 165.499 L129.862 147.05 M128.635 142.976 L134.515 142.976 L134.515 165.499 L139.445 165.499 L139.445 169.388 L134.515 169.388 L134.515 177.536 L129.862 177.536 L129.862 169.388 L114.26 169.388 L114.26 164.874 L128.635 142.976 Z\" fill=\"#000000\" fill-rule=\"evenodd\" fill-opacity=\"1\" /><path clip-path=\"url(#clip830)\" d=\"M20.1444 829.185 L26.9239 829.185 Q23.9002 832.432 22.4043 836.124 Q20.9083 839.784 20.9083 843.922 Q20.9083 852.07 25.9054 856.398 Q30.8707 860.727 40.2919 860.727 Q49.6813 860.727 54.6784 856.398 Q59.6436 852.07 59.6436 843.922 Q59.6436 839.784 58.1477 836.124 Q56.6518 832.432 53.6281 829.185 L60.3439 829.185 Q62.6355 832.559 63.7814 836.346 Q64.9272 840.102 64.9272 844.304 Q64.9272 855.093 58.3387 861.3 Q51.7183 867.507 40.2919 867.507 Q28.8336 867.507 22.2451 861.3 Q15.6248 855.093 15.6248 844.304 Q15.6248 840.039 16.7706 836.283 Q17.8846 832.495 20.1444 829.185 Z\" fill=\"#000000\" fill-rule=\"evenodd\" fill-opacity=\"1\" /><path clip-path=\"url(#clip830)\" d=\"M32.4621 805.696 Q32.4621 810.406 36.1542 813.143 Q39.8145 815.881 46.212 815.881 Q52.6095 815.881 56.3017 813.175 Q59.9619 810.438 59.9619 805.696 Q59.9619 801.017 56.2698 798.28 Q52.5777 795.542 46.212 795.542 Q39.8781 795.542 36.186 798.28 Q32.4621 801.017 32.4621 805.696 M27.4968 805.696 Q27.4968 798.057 32.4621 793.696 Q37.4273 789.336 46.212 789.336 Q54.9649 789.336 59.9619 793.696 Q64.9272 798.057 64.9272 805.696 Q64.9272 813.366 59.9619 817.727 Q54.9649 822.055 46.212 822.055 Q37.4273 822.055 32.4621 817.727 Q27.4968 813.366 27.4968 805.696 Z\" fill=\"#000000\" fill-rule=\"evenodd\" fill-opacity=\"1\" /><path clip-path=\"url(#clip830)\" d=\"M49.9359 780.233 L28.3562 780.233 L28.3562 774.376 L49.7131 774.376 Q54.7739 774.376 57.3202 772.403 Q59.8346 770.43 59.8346 766.483 Q59.8346 761.74 56.8109 759.003 Q53.7872 756.234 48.5673 756.234 L28.3562 756.234 L28.3562 750.378 L64.0042 750.378 L64.0042 756.234 L58.5296 756.234 Q61.7762 758.367 63.3676 761.199 Q64.9272 764 64.9272 767.724 Q64.9272 773.867 61.1078 777.05 Q57.2883 780.233 49.9359 780.233 M27.4968 765.496 L27.4968 765.496 Z\" fill=\"#000000\" fill-rule=\"evenodd\" fill-opacity=\"1\" /><path clip-path=\"url(#clip830)\" d=\"M42.4881 708.682 L64.0042 708.682 L64.0042 714.539 L42.679 714.539 Q37.6183 714.539 35.1038 716.512 Q32.5894 718.485 32.5894 722.432 Q32.5894 727.175 35.6131 729.912 Q38.6368 732.649 43.8567 732.649 L64.0042 732.649 L64.0042 738.537 L28.3562 738.537 L28.3562 732.649 L33.8944 732.649 Q30.6797 730.548 29.0883 727.716 Q27.4968 724.851 27.4968 721.127 Q27.4968 714.984 31.3163 711.833 Q35.1038 708.682 42.4881 708.682 Z\" fill=\"#000000\" fill-rule=\"evenodd\" fill-opacity=\"1\" /><path clip-path=\"url(#clip830)\" d=\"M18.2347 691.208 L28.3562 691.208 L28.3562 679.145 L32.9077 679.145 L32.9077 691.208 L52.2594 691.208 Q56.6199 691.208 57.8613 690.031 Q59.1026 688.821 59.1026 685.161 L59.1026 679.145 L64.0042 679.145 L64.0042 685.161 Q64.0042 691.94 61.4897 694.519 Q58.9434 697.097 52.2594 697.097 L32.9077 697.097 L32.9077 701.393 L28.3562 701.393 L28.3562 697.097 L18.2347 697.097 L18.2347 691.208 Z\" fill=\"#000000\" fill-rule=\"evenodd\" fill-opacity=\"1\" /><path clip-path=\"url(#clip830)\" d=\"M1193.01 16.7545 L1193.01 25.383 Q1188.88 21.5346 1184.18 19.6307 Q1179.52 17.7268 1174.25 17.7268 Q1163.88 17.7268 1158.37 24.0867 Q1152.86 30.4061 1152.86 42.3968 Q1152.86 54.3469 1158.37 60.7069 Q1163.88 67.0263 1174.25 67.0263 Q1179.52 67.0263 1184.18 65.1223 Q1188.88 63.2184 1193.01 59.3701 L1193.01 67.9175 Q1188.71 70.8341 1183.89 72.2924 Q1179.11 73.7508 1173.77 73.7508 Q1160.03 73.7508 1152.13 65.3654 Q1144.23 56.9395 1144.23 42.3968 Q1144.23 27.8135 1152.13 19.4281 Q1160.03 11.0023 1173.77 11.0023 Q1179.19 11.0023 1183.97 12.4606 Q1188.79 13.8784 1193.01 16.7545 Z\" fill=\"#000000\" fill-rule=\"evenodd\" fill-opacity=\"1\" /><path clip-path=\"url(#clip830)\" d=\"M1222.9 32.4315 Q1216.91 32.4315 1213.42 37.1306 Q1209.94 41.7891 1209.94 49.9314 Q1209.94 58.0738 1213.38 62.7728 Q1216.87 67.4314 1222.9 67.4314 Q1228.86 67.4314 1232.34 62.7323 Q1235.83 58.0333 1235.83 49.9314 Q1235.83 41.8701 1232.34 37.1711 Q1228.86 32.4315 1222.9 32.4315 M1222.9 26.1121 Q1232.63 26.1121 1238.17 32.4315 Q1243.72 38.7509 1243.72 49.9314 Q1243.72 61.0714 1238.17 67.4314 Q1232.63 73.7508 1222.9 73.7508 Q1213.14 73.7508 1207.59 67.4314 Q1202.08 61.0714 1202.08 49.9314 Q1202.08 38.7509 1207.59 32.4315 Q1213.14 26.1121 1222.9 26.1121 Z\" fill=\"#000000\" fill-rule=\"evenodd\" fill-opacity=\"1\" /><path clip-path=\"url(#clip830)\" d=\"M1255.31 54.671 L1255.31 27.2059 L1262.76 27.2059 L1262.76 54.3874 Q1262.76 60.8284 1265.28 64.0691 Q1267.79 67.2693 1272.81 67.2693 Q1278.85 67.2693 1282.33 63.421 Q1285.85 59.5726 1285.85 52.9291 L1285.85 27.2059 L1293.31 27.2059 L1293.31 72.576 L1285.85 72.576 L1285.85 65.6084 Q1283.14 69.7404 1279.53 71.7658 Q1275.97 73.7508 1271.23 73.7508 Q1263.41 73.7508 1259.36 68.8897 Q1255.31 64.0286 1255.31 54.671 M1274.07 26.1121 L1274.07 26.1121 Z\" fill=\"#000000\" fill-rule=\"evenodd\" fill-opacity=\"1\" /><path clip-path=\"url(#clip830)\" d=\"M1346.37 45.1919 L1346.37 72.576 L1338.92 72.576 L1338.92 45.4349 Q1338.92 38.994 1336.41 35.7938 Q1333.9 32.5936 1328.87 32.5936 Q1322.84 32.5936 1319.35 36.4419 Q1315.87 40.2903 1315.87 46.9338 L1315.87 72.576 L1308.38 72.576 L1308.38 27.2059 L1315.87 27.2059 L1315.87 34.2544 Q1318.54 30.163 1322.15 28.1376 Q1325.8 26.1121 1330.54 26.1121 Q1338.35 26.1121 1342.36 30.9732 Q1346.37 35.7938 1346.37 45.1919 Z\" fill=\"#000000\" fill-rule=\"evenodd\" fill-opacity=\"1\" /><path clip-path=\"url(#clip830)\" d=\"M1368.61 14.324 L1368.61 27.2059 L1383.97 27.2059 L1383.97 32.9987 L1368.61 32.9987 L1368.61 57.6282 Q1368.61 63.1779 1370.11 64.7578 Q1371.65 66.3376 1376.31 66.3376 L1383.97 66.3376 L1383.97 72.576 L1376.31 72.576 Q1367.68 72.576 1364.4 69.3758 Q1361.12 66.1351 1361.12 57.6282 L1361.12 32.9987 L1355.65 32.9987 L1355.65 27.2059 L1361.12 27.2059 L1361.12 14.324 L1368.61 14.324 Z\" fill=\"#000000\" fill-rule=\"evenodd\" fill-opacity=\"1\" /><path clip-path=\"url(#clip832)\" d=\"\n",
       "M295.201 466.791 L295.201 1386.4 L456.684 1386.4 L456.684 466.791 L295.201 466.791 L295.201 466.791  Z\n",
       "  \" fill=\"#008000\" fill-rule=\"evenodd\" fill-opacity=\"1\"/>\n",
       "<polyline clip-path=\"url(#clip832)\" style=\"stroke:#000000; stroke-linecap:butt; stroke-linejoin:round; stroke-width:4; stroke-opacity:1; fill:none\" points=\"\n",
       "  295.201,466.791 295.201,1386.4 456.684,1386.4 456.684,466.791 295.201,466.791 \n",
       "  \"/>\n",
       "<path clip-path=\"url(#clip832)\" d=\"\n",
       "M456.684 160.256 L456.684 1386.4 L618.168 1386.4 L618.168 160.256 L456.684 160.256 L456.684 160.256  Z\n",
       "  \" fill=\"#008000\" fill-rule=\"evenodd\" fill-opacity=\"1\"/>\n",
       "<polyline clip-path=\"url(#clip832)\" style=\"stroke:#000000; stroke-linecap:butt; stroke-linejoin:round; stroke-width:4; stroke-opacity:1; fill:none\" points=\"\n",
       "  456.684,160.256 456.684,1386.4 618.168,1386.4 618.168,160.256 456.684,160.256 \n",
       "  \"/>\n",
       "<path clip-path=\"url(#clip832)\" d=\"\n",
       "M618.168 466.791 L618.168 1386.4 L779.651 1386.4 L779.651 466.791 L618.168 466.791 L618.168 466.791  Z\n",
       "  \" fill=\"#008000\" fill-rule=\"evenodd\" fill-opacity=\"1\"/>\n",
       "<polyline clip-path=\"url(#clip832)\" style=\"stroke:#000000; stroke-linecap:butt; stroke-linejoin:round; stroke-width:4; stroke-opacity:1; fill:none\" points=\"\n",
       "  618.168,466.791 618.168,1386.4 779.651,1386.4 779.651,466.791 618.168,466.791 \n",
       "  \"/>\n",
       "<path clip-path=\"url(#clip832)\" d=\"\n",
       "M779.651 773.326 L779.651 1386.4 L941.134 1386.4 L941.134 773.326 L779.651 773.326 L779.651 773.326  Z\n",
       "  \" fill=\"#008000\" fill-rule=\"evenodd\" fill-opacity=\"1\"/>\n",
       "<polyline clip-path=\"url(#clip832)\" style=\"stroke:#000000; stroke-linecap:butt; stroke-linejoin:round; stroke-width:4; stroke-opacity:1; fill:none\" points=\"\n",
       "  779.651,773.326 779.651,1386.4 941.134,1386.4 941.134,773.326 779.651,773.326 \n",
       "  \"/>\n",
       "<path clip-path=\"url(#clip832)\" d=\"\n",
       "M941.134 1386.4 L941.134 1386.4 L1102.62 1386.4 L1102.62 1386.4 L941.134 1386.4 L941.134 1386.4  Z\n",
       "  \" fill=\"#008000\" fill-rule=\"evenodd\" fill-opacity=\"1\"/>\n",
       "<polyline clip-path=\"url(#clip832)\" style=\"stroke:#000000; stroke-linecap:butt; stroke-linejoin:round; stroke-width:4; stroke-opacity:1; fill:none\" points=\"\n",
       "  941.134,1386.4 941.134,1386.4 1102.62,1386.4 941.134,1386.4 \n",
       "  \"/>\n",
       "<path clip-path=\"url(#clip832)\" d=\"\n",
       "M1102.62 1386.4 L1102.62 1386.4 L1264.1 1386.4 L1264.1 1386.4 L1102.62 1386.4 L1102.62 1386.4  Z\n",
       "  \" fill=\"#008000\" fill-rule=\"evenodd\" fill-opacity=\"1\"/>\n",
       "<polyline clip-path=\"url(#clip832)\" style=\"stroke:#000000; stroke-linecap:butt; stroke-linejoin:round; stroke-width:4; stroke-opacity:1; fill:none\" points=\"\n",
       "  1102.62,1386.4 1102.62,1386.4 1264.1,1386.4 1102.62,1386.4 \n",
       "  \"/>\n",
       "<path clip-path=\"url(#clip832)\" d=\"\n",
       "M1264.1 1386.4 L1264.1 1386.4 L1425.58 1386.4 L1425.58 1386.4 L1264.1 1386.4 L1264.1 1386.4  Z\n",
       "  \" fill=\"#008000\" fill-rule=\"evenodd\" fill-opacity=\"1\"/>\n",
       "<polyline clip-path=\"url(#clip832)\" style=\"stroke:#000000; stroke-linecap:butt; stroke-linejoin:round; stroke-width:4; stroke-opacity:1; fill:none\" points=\"\n",
       "  1264.1,1386.4 1264.1,1386.4 1425.58,1386.4 1264.1,1386.4 \n",
       "  \"/>\n",
       "<path clip-path=\"url(#clip832)\" d=\"\n",
       "M1425.58 1386.4 L1425.58 1386.4 L1587.07 1386.4 L1587.07 1386.4 L1425.58 1386.4 L1425.58 1386.4  Z\n",
       "  \" fill=\"#008000\" fill-rule=\"evenodd\" fill-opacity=\"1\"/>\n",
       "<polyline clip-path=\"url(#clip832)\" style=\"stroke:#000000; stroke-linecap:butt; stroke-linejoin:round; stroke-width:4; stroke-opacity:1; fill:none\" points=\"\n",
       "  1425.58,1386.4 1425.58,1386.4 1587.07,1386.4 1425.58,1386.4 \n",
       "  \"/>\n",
       "<path clip-path=\"url(#clip832)\" d=\"\n",
       "M1587.07 1386.4 L1587.07 1386.4 L1748.55 1386.4 L1748.55 1386.4 L1587.07 1386.4 L1587.07 1386.4  Z\n",
       "  \" fill=\"#008000\" fill-rule=\"evenodd\" fill-opacity=\"1\"/>\n",
       "<polyline clip-path=\"url(#clip832)\" style=\"stroke:#000000; stroke-linecap:butt; stroke-linejoin:round; stroke-width:4; stroke-opacity:1; fill:none\" points=\"\n",
       "  1587.07,1386.4 1587.07,1386.4 1748.55,1386.4 1587.07,1386.4 \n",
       "  \"/>\n",
       "<path clip-path=\"url(#clip832)\" d=\"\n",
       "M1748.55 1386.4 L1748.55 1386.4 L1910.03 1386.4 L1910.03 1386.4 L1748.55 1386.4 L1748.55 1386.4  Z\n",
       "  \" fill=\"#008000\" fill-rule=\"evenodd\" fill-opacity=\"1\"/>\n",
       "<polyline clip-path=\"url(#clip832)\" style=\"stroke:#000000; stroke-linecap:butt; stroke-linejoin:round; stroke-width:4; stroke-opacity:1; fill:none\" points=\"\n",
       "  1748.55,1386.4 1748.55,1386.4 1910.03,1386.4 1748.55,1386.4 \n",
       "  \"/>\n",
       "<path clip-path=\"url(#clip832)\" d=\"\n",
       "M1910.03 1386.4 L1910.03 1386.4 L2071.52 1386.4 L2071.52 1386.4 L1910.03 1386.4 L1910.03 1386.4  Z\n",
       "  \" fill=\"#008000\" fill-rule=\"evenodd\" fill-opacity=\"1\"/>\n",
       "<polyline clip-path=\"url(#clip832)\" style=\"stroke:#000000; stroke-linecap:butt; stroke-linejoin:round; stroke-width:4; stroke-opacity:1; fill:none\" points=\"\n",
       "  1910.03,1386.4 1910.03,1386.4 2071.52,1386.4 1910.03,1386.4 \n",
       "  \"/>\n",
       "<path clip-path=\"url(#clip832)\" d=\"\n",
       "M2071.52 1079.86 L2071.52 1386.4 L2233 1386.4 L2233 1079.86 L2071.52 1079.86 L2071.52 1079.86  Z\n",
       "  \" fill=\"#008000\" fill-rule=\"evenodd\" fill-opacity=\"1\"/>\n",
       "<polyline clip-path=\"url(#clip832)\" style=\"stroke:#000000; stroke-linecap:butt; stroke-linejoin:round; stroke-width:4; stroke-opacity:1; fill:none\" points=\"\n",
       "  2071.52,1079.86 2071.52,1386.4 2233,1386.4 2233,1079.86 2071.52,1079.86 \n",
       "  \"/>\n",
       "<circle clip-path=\"url(#clip832)\" style=\"fill:#008000; stroke:none; fill-opacity:0\" cx=\"375.943\" cy=\"466.791\" r=\"2\"/>\n",
       "<circle clip-path=\"url(#clip832)\" style=\"fill:#008000; stroke:none; fill-opacity:0\" cx=\"537.426\" cy=\"160.256\" r=\"2\"/>\n",
       "<circle clip-path=\"url(#clip832)\" style=\"fill:#008000; stroke:none; fill-opacity:0\" cx=\"698.909\" cy=\"466.791\" r=\"2\"/>\n",
       "<circle clip-path=\"url(#clip832)\" style=\"fill:#008000; stroke:none; fill-opacity:0\" cx=\"860.392\" cy=\"773.326\" r=\"2\"/>\n",
       "<circle clip-path=\"url(#clip832)\" style=\"fill:#008000; stroke:none; fill-opacity:0\" cx=\"1021.88\" cy=\"1386.4\" r=\"2\"/>\n",
       "<circle clip-path=\"url(#clip832)\" style=\"fill:#008000; stroke:none; fill-opacity:0\" cx=\"1183.36\" cy=\"1386.4\" r=\"2\"/>\n",
       "<circle clip-path=\"url(#clip832)\" style=\"fill:#008000; stroke:none; fill-opacity:0\" cx=\"1344.84\" cy=\"1386.4\" r=\"2\"/>\n",
       "<circle clip-path=\"url(#clip832)\" style=\"fill:#008000; stroke:none; fill-opacity:0\" cx=\"1506.33\" cy=\"1386.4\" r=\"2\"/>\n",
       "<circle clip-path=\"url(#clip832)\" style=\"fill:#008000; stroke:none; fill-opacity:0\" cx=\"1667.81\" cy=\"1386.4\" r=\"2\"/>\n",
       "<circle clip-path=\"url(#clip832)\" style=\"fill:#008000; stroke:none; fill-opacity:0\" cx=\"1829.29\" cy=\"1386.4\" r=\"2\"/>\n",
       "<circle clip-path=\"url(#clip832)\" style=\"fill:#008000; stroke:none; fill-opacity:0\" cx=\"1990.78\" cy=\"1386.4\" r=\"2\"/>\n",
       "<circle clip-path=\"url(#clip832)\" style=\"fill:#008000; stroke:none; fill-opacity:0\" cx=\"2152.26\" cy=\"1079.86\" r=\"2\"/>\n",
       "</svg>\n"
      ]
     },
     "execution_count": 152,
     "metadata": {},
     "output_type": "execute_result"
    }
   ],
   "source": [
    "histogram(\n",
    "    dataset[!,:Date],\n",
    "    dataset[!, :Total_€],\n",
    "    title = \"Count\",\n",
    "    xlabel = \"Income\",\n",
    "    ylabel = \"Count\",\n",
    "    color=\"green\",\n",
    "    legend = false) \n"
   ]
  },
  {
   "cell_type": "code",
   "execution_count": 79,
   "id": "a78341c6",
   "metadata": {},
   "outputs": [
    {
     "data": {
      "text/html": [
       "<div class=\"data-frame\"><p>3 rows × 2 columns</p><table class=\"data-frame\"><thead><tr><th></th><th>Country</th><th>count</th></tr><tr><th></th><th title=\"Any\">Any</th><th title=\"Int64\">Int64</th></tr></thead><tbody><tr><th>1</th><td>Belgium</td><td>5</td></tr><tr><th>2</th><td>Unknown</td><td>2</td></tr><tr><th>3</th><td>France</td><td>6</td></tr></tbody></table></div>"
      ],
      "text/latex": [
       "\\begin{tabular}{r|cc}\n",
       "\t& Country & count\\\\\n",
       "\t\\hline\n",
       "\t& Any & Int64\\\\\n",
       "\t\\hline\n",
       "\t1 & Belgium & 5 \\\\\n",
       "\t2 & Unknown & 2 \\\\\n",
       "\t3 & France & 6 \\\\\n",
       "\\end{tabular}\n"
      ],
      "text/plain": [
       "\u001b[1m3×2 DataFrame\u001b[0m\n",
       "\u001b[1m Row \u001b[0m│\u001b[1m Country \u001b[0m\u001b[1m count \u001b[0m\n",
       "\u001b[1m     \u001b[0m│\u001b[90m Any     \u001b[0m\u001b[90m Int64 \u001b[0m\n",
       "─────┼────────────────\n",
       "   1 │ Belgium      5\n",
       "   2 │ Unknown      2\n",
       "   3 │ France       6"
      ]
     },
     "execution_count": 79,
     "metadata": {},
     "output_type": "execute_result"
    }
   ],
   "source": [
    "df=combine(groupby(dataset,:Country), nrow => :count)"
   ]
  },
  {
   "cell_type": "code",
   "execution_count": 80,
   "id": "5064ffb9",
   "metadata": {},
   "outputs": [
    {
     "data": {
      "text/html": [
       "<div class=\"data-frame\"><p>3 rows × 2 columns</p><table class=\"data-frame\"><thead><tr><th></th><th>Country</th><th>count</th></tr><tr><th></th><th title=\"Any\">Any</th><th title=\"Int64\">Int64</th></tr></thead><tbody><tr><th>1</th><td>Belgium</td><td>5</td></tr><tr><th>2</th><td>Unknown</td><td>2</td></tr><tr><th>3</th><td>France</td><td>6</td></tr></tbody></table></div>"
      ],
      "text/latex": [
       "\\begin{tabular}{r|cc}\n",
       "\t& Country & count\\\\\n",
       "\t\\hline\n",
       "\t& Any & Int64\\\\\n",
       "\t\\hline\n",
       "\t1 & Belgium & 5 \\\\\n",
       "\t2 & Unknown & 2 \\\\\n",
       "\t3 & France & 6 \\\\\n",
       "\\end{tabular}\n"
      ],
      "text/plain": [
       "\u001b[1m3×2 DataFrame\u001b[0m\n",
       "\u001b[1m Row \u001b[0m│\u001b[1m Country \u001b[0m\u001b[1m count \u001b[0m\n",
       "\u001b[1m     \u001b[0m│\u001b[90m Any     \u001b[0m\u001b[90m Int64 \u001b[0m\n",
       "─────┼────────────────\n",
       "   1 │ Belgium      5\n",
       "   2 │ Unknown      2\n",
       "   3 │ France       6"
      ]
     },
     "execution_count": 80,
     "metadata": {},
     "output_type": "execute_result"
    }
   ],
   "source": [
    "df"
   ]
  },
  {
   "cell_type": "code",
   "execution_count": 81,
   "id": "4bc9a815",
   "metadata": {},
   "outputs": [
    {
     "data": {
      "image/svg+xml": [
       "<?xml version=\"1.0\" encoding=\"utf-8\"?>\n",
       "<svg xmlns=\"http://www.w3.org/2000/svg\" xmlns:xlink=\"http://www.w3.org/1999/xlink\" width=\"600\" height=\"400\" viewBox=\"0 0 2400 1600\">\n",
       "<defs>\n",
       "  <clipPath id=\"clip790\">\n",
       "    <rect x=\"0\" y=\"0\" width=\"2400\" height=\"1600\"/>\n",
       "  </clipPath>\n",
       "</defs>\n",
       "<path clip-path=\"url(#clip790)\" d=\"\n",
       "M0 1600 L2400 1600 L2400 0 L0 0  Z\n",
       "  \" fill=\"#ffffff\" fill-rule=\"evenodd\" fill-opacity=\"1\"/>\n",
       "<defs>\n",
       "  <clipPath id=\"clip791\">\n",
       "    <rect x=\"480\" y=\"0\" width=\"1681\" height=\"1600\"/>\n",
       "  </clipPath>\n",
       "</defs>\n",
       "<path clip-path=\"url(#clip790)\" d=\"\n",
       "M175.445 1423.18 L2352.76 1423.18 L2352.76 47.2441 L175.445 47.2441  Z\n",
       "  \" fill=\"#ffffff\" fill-rule=\"evenodd\" fill-opacity=\"1\"/>\n",
       "<defs>\n",
       "  <clipPath id=\"clip792\">\n",
       "    <rect x=\"175\" y=\"47\" width=\"2178\" height=\"1377\"/>\n",
       "  </clipPath>\n",
       "</defs>\n",
       "<polyline clip-path=\"url(#clip792)\" style=\"stroke:#000000; stroke-linecap:butt; stroke-linejoin:round; stroke-width:2; stroke-opacity:0.1; fill:none\" points=\"\n",
       "  572.03,1423.18 572.03,47.2441 \n",
       "  \"/>\n",
       "<polyline clip-path=\"url(#clip792)\" style=\"stroke:#000000; stroke-linecap:butt; stroke-linejoin:round; stroke-width:2; stroke-opacity:0.1; fill:none\" points=\"\n",
       "  1264.1,1423.18 1264.1,47.2441 \n",
       "  \"/>\n",
       "<polyline clip-path=\"url(#clip792)\" style=\"stroke:#000000; stroke-linecap:butt; stroke-linejoin:round; stroke-width:2; stroke-opacity:0.1; fill:none\" points=\"\n",
       "  1956.17,1423.18 1956.17,47.2441 \n",
       "  \"/>\n",
       "<polyline clip-path=\"url(#clip790)\" style=\"stroke:#000000; stroke-linecap:butt; stroke-linejoin:round; stroke-width:4; stroke-opacity:1; fill:none\" points=\"\n",
       "  175.445,1423.18 2352.76,1423.18 \n",
       "  \"/>\n",
       "<polyline clip-path=\"url(#clip790)\" style=\"stroke:#000000; stroke-linecap:butt; stroke-linejoin:round; stroke-width:4; stroke-opacity:1; fill:none\" points=\"\n",
       "  572.03,1423.18 572.03,1404.28 \n",
       "  \"/>\n",
       "<polyline clip-path=\"url(#clip790)\" style=\"stroke:#000000; stroke-linecap:butt; stroke-linejoin:round; stroke-width:4; stroke-opacity:1; fill:none\" points=\"\n",
       "  1264.1,1423.18 1264.1,1404.28 \n",
       "  \"/>\n",
       "<polyline clip-path=\"url(#clip790)\" style=\"stroke:#000000; stroke-linecap:butt; stroke-linejoin:round; stroke-width:4; stroke-opacity:1; fill:none\" points=\"\n",
       "  1956.17,1423.18 1956.17,1404.28 \n",
       "  \"/>\n",
       "<path clip-path=\"url(#clip790)\" d=\"M483.87 1469.08 L483.87 1481.74 L491.37 1481.74 Q495.143 1481.74 496.949 1480.19 Q498.778 1478.61 498.778 1475.39 Q498.778 1472.15 496.949 1470.63 Q495.143 1469.08 491.37 1469.08 L483.87 1469.08 M483.87 1454.86 L483.87 1465.28 L490.792 1465.28 Q494.217 1465.28 495.884 1464.01 Q497.574 1462.71 497.574 1460.07 Q497.574 1457.45 495.884 1456.16 Q494.217 1454.86 490.792 1454.86 L483.87 1454.86 M479.194 1451.02 L491.139 1451.02 Q496.486 1451.02 499.379 1453.24 Q502.273 1455.46 502.273 1459.56 Q502.273 1462.73 500.792 1464.61 Q499.31 1466.48 496.44 1466.95 Q499.889 1467.69 501.787 1470.05 Q503.708 1472.39 503.708 1475.9 Q503.708 1480.53 500.56 1483.06 Q497.412 1485.58 491.602 1485.58 L479.194 1485.58 L479.194 1451.02 Z\" fill=\"#000000\" fill-rule=\"evenodd\" fill-opacity=\"1\" /><path clip-path=\"url(#clip790)\" d=\"M533.708 1471.55 L533.708 1473.64 L514.125 1473.64 Q514.403 1478.03 516.764 1480.35 Q519.148 1482.64 523.384 1482.64 Q525.838 1482.64 528.129 1482.04 Q530.444 1481.44 532.713 1480.23 L532.713 1484.26 Q530.421 1485.23 528.014 1485.74 Q525.606 1486.25 523.129 1486.25 Q516.926 1486.25 513.291 1482.64 Q509.68 1479.03 509.68 1472.87 Q509.68 1466.51 513.106 1462.78 Q516.555 1459.03 522.389 1459.03 Q527.62 1459.03 530.652 1462.41 Q533.708 1465.77 533.708 1471.55 M529.449 1470.3 Q529.402 1466.81 527.481 1464.72 Q525.583 1462.64 522.435 1462.64 Q518.87 1462.64 516.717 1464.65 Q514.588 1466.67 514.264 1470.33 L529.449 1470.3 Z\" fill=\"#000000\" fill-rule=\"evenodd\" fill-opacity=\"1\" /><path clip-path=\"url(#clip790)\" d=\"M540.699 1449.56 L544.958 1449.56 L544.958 1485.58 L540.699 1485.58 L540.699 1449.56 Z\" fill=\"#000000\" fill-rule=\"evenodd\" fill-opacity=\"1\" /><path clip-path=\"url(#clip790)\" d=\"M570.93 1472.32 Q570.93 1467.69 569.009 1465.14 Q567.111 1462.59 563.662 1462.59 Q560.236 1462.59 558.314 1465.14 Q556.416 1467.69 556.416 1472.32 Q556.416 1476.92 558.314 1479.47 Q560.236 1482.02 563.662 1482.02 Q567.111 1482.02 569.009 1479.47 Q570.93 1476.92 570.93 1472.32 M575.189 1482.36 Q575.189 1488.98 572.249 1492.2 Q569.31 1495.44 563.245 1495.44 Q561 1495.44 559.009 1495.09 Q557.018 1494.77 555.143 1494.08 L555.143 1489.93 Q557.018 1490.95 558.847 1491.44 Q560.675 1491.92 562.574 1491.92 Q566.763 1491.92 568.847 1489.72 Q570.93 1487.55 570.93 1483.13 L570.93 1481.02 Q569.611 1483.31 567.55 1484.45 Q565.49 1485.58 562.62 1485.58 Q557.851 1485.58 554.935 1481.95 Q552.018 1478.31 552.018 1472.32 Q552.018 1466.3 554.935 1462.66 Q557.851 1459.03 562.62 1459.03 Q565.49 1459.03 567.55 1460.16 Q569.611 1461.3 570.93 1463.59 L570.93 1459.65 L575.189 1459.65 L575.189 1482.36 Z\" fill=\"#000000\" fill-rule=\"evenodd\" fill-opacity=\"1\" /><path clip-path=\"url(#clip790)\" d=\"M583.962 1459.65 L588.222 1459.65 L588.222 1485.58 L583.962 1485.58 L583.962 1459.65 M583.962 1449.56 L588.222 1449.56 L588.222 1454.96 L583.962 1454.96 L583.962 1449.56 Z\" fill=\"#000000\" fill-rule=\"evenodd\" fill-opacity=\"1\" /><path clip-path=\"url(#clip790)\" d=\"M596.694 1475.35 L596.694 1459.65 L600.953 1459.65 L600.953 1475.19 Q600.953 1478.87 602.388 1480.72 Q603.823 1482.55 606.694 1482.55 Q610.143 1482.55 612.134 1480.35 Q614.147 1478.15 614.147 1474.35 L614.147 1459.65 L618.407 1459.65 L618.407 1485.58 L614.147 1485.58 L614.147 1481.6 Q612.596 1483.96 610.536 1485.12 Q608.499 1486.25 605.791 1486.25 Q601.323 1486.25 599.009 1483.47 Q596.694 1480.7 596.694 1475.35 M607.411 1459.03 L607.411 1459.03 Z\" fill=\"#000000\" fill-rule=\"evenodd\" fill-opacity=\"1\" /><path clip-path=\"url(#clip790)\" d=\"M647.365 1464.63 Q648.962 1461.76 651.184 1460.39 Q653.406 1459.03 656.416 1459.03 Q660.467 1459.03 662.666 1461.88 Q664.865 1464.7 664.865 1469.93 L664.865 1485.58 L660.582 1485.58 L660.582 1470.07 Q660.582 1466.34 659.263 1464.54 Q657.943 1462.73 655.235 1462.73 Q651.925 1462.73 650.004 1464.93 Q648.082 1467.13 648.082 1470.93 L648.082 1485.58 L643.8 1485.58 L643.8 1470.07 Q643.8 1466.32 642.481 1464.54 Q641.161 1462.73 638.407 1462.73 Q635.143 1462.73 633.221 1464.95 Q631.3 1467.15 631.3 1470.93 L631.3 1485.58 L627.018 1485.58 L627.018 1459.65 L631.3 1459.65 L631.3 1463.68 Q632.758 1461.3 634.795 1460.16 Q636.832 1459.03 639.633 1459.03 Q642.457 1459.03 644.425 1460.46 Q646.416 1461.9 647.365 1464.63 Z\" fill=\"#000000\" fill-rule=\"evenodd\" fill-opacity=\"1\" /><path clip-path=\"url(#clip790)\" d=\"M1158.14 1451.02 L1162.84 1451.02 L1162.84 1472.02 Q1162.84 1477.57 1164.85 1480.02 Q1166.87 1482.45 1171.38 1482.45 Q1175.87 1482.45 1177.89 1480.02 Q1179.9 1477.57 1179.9 1472.02 L1179.9 1451.02 L1184.6 1451.02 L1184.6 1472.59 Q1184.6 1479.35 1181.24 1482.8 Q1177.91 1486.25 1171.38 1486.25 Q1164.83 1486.25 1161.47 1482.8 Q1158.14 1479.35 1158.14 1472.59 L1158.14 1451.02 Z\" fill=\"#000000\" fill-rule=\"evenodd\" fill-opacity=\"1\" /><path clip-path=\"url(#clip790)\" d=\"M1214.74 1469.93 L1214.74 1485.58 L1210.48 1485.58 L1210.48 1470.07 Q1210.48 1466.39 1209.04 1464.56 Q1207.61 1462.73 1204.74 1462.73 Q1201.29 1462.73 1199.3 1464.93 Q1197.31 1467.13 1197.31 1470.93 L1197.31 1485.58 L1193.02 1485.58 L1193.02 1459.65 L1197.31 1459.65 L1197.31 1463.68 Q1198.83 1461.34 1200.89 1460.19 Q1202.98 1459.03 1205.69 1459.03 Q1210.15 1459.03 1212.45 1461.81 Q1214.74 1464.56 1214.74 1469.93 Z\" fill=\"#000000\" fill-rule=\"evenodd\" fill-opacity=\"1\" /><path clip-path=\"url(#clip790)\" d=\"M1223.07 1449.56 L1227.35 1449.56 L1227.35 1470.83 L1240.06 1459.65 L1245.5 1459.65 L1231.75 1471.78 L1246.08 1485.58 L1240.52 1485.58 L1227.35 1472.92 L1227.35 1485.58 L1223.07 1485.58 L1223.07 1449.56 Z\" fill=\"#000000\" fill-rule=\"evenodd\" fill-opacity=\"1\" /><path clip-path=\"url(#clip790)\" d=\"M1272.24 1469.93 L1272.24 1485.58 L1267.98 1485.58 L1267.98 1470.07 Q1267.98 1466.39 1266.54 1464.56 Q1265.11 1462.73 1262.24 1462.73 Q1258.79 1462.73 1256.8 1464.93 Q1254.81 1467.13 1254.81 1470.93 L1254.81 1485.58 L1250.52 1485.58 L1250.52 1459.65 L1254.81 1459.65 L1254.81 1463.68 Q1256.33 1461.34 1258.39 1460.19 Q1260.48 1459.03 1263.19 1459.03 Q1267.65 1459.03 1269.95 1461.81 Q1272.24 1464.56 1272.24 1469.93 Z\" fill=\"#000000\" fill-rule=\"evenodd\" fill-opacity=\"1\" /><path clip-path=\"url(#clip790)\" d=\"M1290.78 1462.64 Q1287.35 1462.64 1285.36 1465.33 Q1283.37 1467.99 1283.37 1472.64 Q1283.37 1477.29 1285.34 1479.98 Q1287.33 1482.64 1290.78 1482.64 Q1294.18 1482.64 1296.17 1479.95 Q1298.16 1477.27 1298.16 1472.64 Q1298.16 1468.03 1296.17 1465.35 Q1294.18 1462.64 1290.78 1462.64 M1290.78 1459.03 Q1296.33 1459.03 1299.51 1462.64 Q1302.68 1466.25 1302.68 1472.64 Q1302.68 1479.01 1299.51 1482.64 Q1296.33 1486.25 1290.78 1486.25 Q1285.2 1486.25 1282.03 1482.64 Q1278.88 1479.01 1278.88 1472.64 Q1278.88 1466.25 1282.03 1462.64 Q1285.2 1459.03 1290.78 1459.03 Z\" fill=\"#000000\" fill-rule=\"evenodd\" fill-opacity=\"1\" /><path clip-path=\"url(#clip790)\" d=\"M1307.26 1459.65 L1311.52 1459.65 L1316.84 1479.89 L1322.14 1459.65 L1327.17 1459.65 L1332.49 1479.89 L1337.79 1459.65 L1342.05 1459.65 L1335.27 1485.58 L1330.25 1485.58 L1324.67 1464.33 L1319.07 1485.58 L1314.04 1485.58 L1307.26 1459.65 Z\" fill=\"#000000\" fill-rule=\"evenodd\" fill-opacity=\"1\" /><path clip-path=\"url(#clip790)\" d=\"M1370.06 1469.93 L1370.06 1485.58 L1365.8 1485.58 L1365.8 1470.07 Q1365.8 1466.39 1364.37 1464.56 Q1362.93 1462.73 1360.06 1462.73 Q1356.61 1462.73 1354.62 1464.93 Q1352.63 1467.13 1352.63 1470.93 L1352.63 1485.58 L1348.35 1485.58 L1348.35 1459.65 L1352.63 1459.65 L1352.63 1463.68 Q1354.16 1461.34 1356.22 1460.19 Q1358.3 1459.03 1361.01 1459.03 Q1365.48 1459.03 1367.77 1461.81 Q1370.06 1464.56 1370.06 1469.93 Z\" fill=\"#000000\" fill-rule=\"evenodd\" fill-opacity=\"1\" /><path clip-path=\"url(#clip790)\" d=\"M1880.94 1451.02 L1900.8 1451.02 L1900.8 1454.96 L1885.62 1454.96 L1885.62 1465.14 L1899.32 1465.14 L1899.32 1469.08 L1885.62 1469.08 L1885.62 1485.58 L1880.94 1485.58 L1880.94 1451.02 Z\" fill=\"#000000\" fill-rule=\"evenodd\" fill-opacity=\"1\" /><path clip-path=\"url(#clip790)\" d=\"M1919.6 1463.64 Q1918.88 1463.22 1918.02 1463.03 Q1917.19 1462.83 1916.17 1462.83 Q1912.56 1462.83 1910.62 1465.19 Q1908.69 1467.52 1908.69 1471.92 L1908.69 1485.58 L1904.41 1485.58 L1904.41 1459.65 L1908.69 1459.65 L1908.69 1463.68 Q1910.04 1461.32 1912.19 1460.19 Q1914.34 1459.03 1917.42 1459.03 Q1917.86 1459.03 1918.39 1459.1 Q1918.93 1459.14 1919.57 1459.26 L1919.6 1463.64 Z\" fill=\"#000000\" fill-rule=\"evenodd\" fill-opacity=\"1\" /><path clip-path=\"url(#clip790)\" d=\"M1935.85 1472.55 Q1930.69 1472.55 1928.69 1473.73 Q1926.7 1474.91 1926.7 1477.76 Q1926.7 1480.02 1928.19 1481.37 Q1929.69 1482.69 1932.26 1482.69 Q1935.8 1482.69 1937.93 1480.19 Q1940.08 1477.66 1940.08 1473.5 L1940.08 1472.55 L1935.85 1472.55 M1944.34 1470.79 L1944.34 1485.58 L1940.08 1485.58 L1940.08 1481.64 Q1938.63 1484.01 1936.45 1485.14 Q1934.27 1486.25 1931.13 1486.25 Q1927.14 1486.25 1924.78 1484.03 Q1922.44 1481.78 1922.44 1478.03 Q1922.44 1473.66 1925.36 1471.44 Q1928.3 1469.21 1934.11 1469.21 L1940.08 1469.21 L1940.08 1468.8 Q1940.08 1465.86 1938.14 1464.26 Q1936.22 1462.64 1932.72 1462.64 Q1930.5 1462.64 1928.39 1463.17 Q1926.29 1463.7 1924.34 1464.77 L1924.34 1460.83 Q1926.68 1459.93 1928.88 1459.49 Q1931.08 1459.03 1933.16 1459.03 Q1938.79 1459.03 1941.57 1461.95 Q1944.34 1464.86 1944.34 1470.79 Z\" fill=\"#000000\" fill-rule=\"evenodd\" fill-opacity=\"1\" /><path clip-path=\"url(#clip790)\" d=\"M1974.67 1469.93 L1974.67 1485.58 L1970.41 1485.58 L1970.41 1470.07 Q1970.41 1466.39 1968.97 1464.56 Q1967.54 1462.73 1964.67 1462.73 Q1961.22 1462.73 1959.23 1464.93 Q1957.24 1467.13 1957.24 1470.93 L1957.24 1485.58 L1952.95 1485.58 L1952.95 1459.65 L1957.24 1459.65 L1957.24 1463.68 Q1958.76 1461.34 1960.82 1460.19 Q1962.91 1459.03 1965.62 1459.03 Q1970.08 1459.03 1972.38 1461.81 Q1974.67 1464.56 1974.67 1469.93 Z\" fill=\"#000000\" fill-rule=\"evenodd\" fill-opacity=\"1\" /><path clip-path=\"url(#clip790)\" d=\"M2001.82 1460.65 L2001.82 1464.63 Q2000.01 1463.64 1998.19 1463.15 Q1996.38 1462.64 1994.53 1462.64 Q1990.38 1462.64 1988.09 1465.28 Q1985.8 1467.89 1985.8 1472.64 Q1985.8 1477.39 1988.09 1480.02 Q1990.38 1482.64 1994.53 1482.64 Q1996.38 1482.64 1998.19 1482.15 Q2000.01 1481.64 2001.82 1480.65 L2001.82 1484.58 Q2000.04 1485.42 1998.12 1485.83 Q1996.22 1486.25 1994.06 1486.25 Q1988.21 1486.25 1984.76 1482.57 Q1981.31 1478.89 1981.31 1472.64 Q1981.31 1466.3 1984.78 1462.66 Q1988.28 1459.03 1994.34 1459.03 Q1996.31 1459.03 1998.19 1459.45 Q2000.06 1459.84 2001.82 1460.65 Z\" fill=\"#000000\" fill-rule=\"evenodd\" fill-opacity=\"1\" /><path clip-path=\"url(#clip790)\" d=\"M2031.4 1471.55 L2031.4 1473.64 L2011.82 1473.64 Q2012.1 1478.03 2014.46 1480.35 Q2016.84 1482.64 2021.08 1482.64 Q2023.53 1482.64 2025.82 1482.04 Q2028.14 1481.44 2030.41 1480.23 L2030.41 1484.26 Q2028.12 1485.23 2025.71 1485.74 Q2023.3 1486.25 2020.82 1486.25 Q2014.62 1486.25 2010.99 1482.64 Q2007.37 1479.03 2007.37 1472.87 Q2007.37 1466.51 2010.8 1462.78 Q2014.25 1459.03 2020.08 1459.03 Q2025.31 1459.03 2028.35 1462.41 Q2031.4 1465.77 2031.4 1471.55 M2027.14 1470.3 Q2027.1 1466.81 2025.18 1464.72 Q2023.28 1462.64 2020.13 1462.64 Q2016.56 1462.64 2014.41 1464.65 Q2012.28 1466.67 2011.96 1470.33 L2027.14 1470.3 Z\" fill=\"#000000\" fill-rule=\"evenodd\" fill-opacity=\"1\" /><path clip-path=\"url(#clip790)\" d=\"M1149.57 1524.18 L1149.57 1530.96 Q1146.32 1527.94 1142.63 1526.44 Q1138.97 1524.95 1134.83 1524.95 Q1126.68 1524.95 1122.35 1529.95 Q1118.02 1534.91 1118.02 1544.33 Q1118.02 1553.72 1122.35 1558.72 Q1126.68 1563.68 1134.83 1563.68 Q1138.97 1563.68 1142.63 1562.19 Q1146.32 1560.69 1149.57 1557.67 L1149.57 1564.38 Q1146.19 1566.68 1142.4 1567.82 Q1138.65 1568.97 1134.45 1568.97 Q1123.66 1568.97 1117.45 1562.38 Q1111.24 1555.76 1111.24 1544.33 Q1111.24 1532.87 1117.45 1526.28 Q1123.66 1519.66 1134.45 1519.66 Q1138.71 1519.66 1142.47 1520.81 Q1146.26 1521.92 1149.57 1524.18 Z\" fill=\"#000000\" fill-rule=\"evenodd\" fill-opacity=\"1\" /><path clip-path=\"url(#clip790)\" d=\"M1173.06 1536.5 Q1168.34 1536.5 1165.61 1540.19 Q1162.87 1543.85 1162.87 1550.25 Q1162.87 1556.65 1165.58 1560.34 Q1168.31 1564 1173.06 1564 Q1177.73 1564 1180.47 1560.31 Q1183.21 1556.62 1183.21 1550.25 Q1183.21 1543.92 1180.47 1540.23 Q1177.73 1536.5 1173.06 1536.5 M1173.06 1531.54 Q1180.69 1531.54 1185.05 1536.5 Q1189.41 1541.47 1189.41 1550.25 Q1189.41 1559 1185.05 1564 Q1180.69 1568.97 1173.06 1568.97 Q1165.38 1568.97 1161.02 1564 Q1156.7 1559 1156.7 1550.25 Q1156.7 1541.47 1161.02 1536.5 Q1165.38 1531.54 1173.06 1531.54 Z\" fill=\"#000000\" fill-rule=\"evenodd\" fill-opacity=\"1\" /><path clip-path=\"url(#clip790)\" d=\"M1198.52 1553.98 L1198.52 1532.4 L1204.37 1532.4 L1204.37 1553.75 Q1204.37 1558.81 1206.35 1561.36 Q1208.32 1563.87 1212.27 1563.87 Q1217.01 1563.87 1219.75 1560.85 Q1222.52 1557.83 1222.52 1552.61 L1222.52 1532.4 L1228.37 1532.4 L1228.37 1568.04 L1222.52 1568.04 L1222.52 1562.57 Q1220.38 1565.82 1217.55 1567.41 Q1214.75 1568.97 1211.03 1568.97 Q1204.88 1568.97 1201.7 1565.15 Q1198.52 1561.33 1198.52 1553.98 M1213.25 1531.54 L1213.25 1531.54 Z\" fill=\"#000000\" fill-rule=\"evenodd\" fill-opacity=\"1\" /><path clip-path=\"url(#clip790)\" d=\"M1270.07 1546.53 L1270.07 1568.04 L1264.21 1568.04 L1264.21 1546.72 Q1264.21 1541.66 1262.24 1539.14 Q1260.27 1536.63 1256.32 1536.63 Q1251.58 1536.63 1248.84 1539.65 Q1246.1 1542.68 1246.1 1547.9 L1246.1 1568.04 L1240.21 1568.04 L1240.21 1532.4 L1246.1 1532.4 L1246.1 1537.93 Q1248.2 1534.72 1251.03 1533.13 Q1253.9 1531.54 1257.62 1531.54 Q1263.77 1531.54 1266.92 1535.36 Q1270.07 1539.14 1270.07 1546.53 Z\" fill=\"#000000\" fill-rule=\"evenodd\" fill-opacity=\"1\" /><path clip-path=\"url(#clip790)\" d=\"M1287.54 1522.27 L1287.54 1532.4 L1299.61 1532.4 L1299.61 1536.95 L1287.54 1536.95 L1287.54 1556.3 Q1287.54 1560.66 1288.72 1561.9 Q1289.93 1563.14 1293.59 1563.14 L1299.61 1563.14 L1299.61 1568.04 L1293.59 1568.04 Q1286.81 1568.04 1284.23 1565.53 Q1281.65 1562.98 1281.65 1556.3 L1281.65 1536.95 L1277.36 1536.95 L1277.36 1532.4 L1281.65 1532.4 L1281.65 1522.27 L1287.54 1522.27 Z\" fill=\"#000000\" fill-rule=\"evenodd\" fill-opacity=\"1\" /><path clip-path=\"url(#clip790)\" d=\"M1327.96 1537.87 Q1326.98 1537.3 1325.8 1537.04 Q1324.65 1536.76 1323.25 1536.76 Q1318.29 1536.76 1315.62 1540 Q1312.97 1543.22 1312.97 1549.27 L1312.97 1568.04 L1307.08 1568.04 L1307.08 1532.4 L1312.97 1532.4 L1312.97 1537.93 Q1314.82 1534.69 1317.78 1533.13 Q1320.74 1531.54 1324.97 1531.54 Q1325.58 1531.54 1326.31 1531.63 Q1327.04 1531.7 1327.93 1531.85 L1327.96 1537.87 Z\" fill=\"#000000\" fill-rule=\"evenodd\" fill-opacity=\"1\" /><path clip-path=\"url(#clip790)\" d=\"M1334.11 1532.4 L1339.96 1532.4 L1339.96 1568.04 L1334.11 1568.04 L1334.11 1532.4 M1334.11 1518.52 L1339.96 1518.52 L1339.96 1525.93 L1334.11 1525.93 L1334.11 1518.52 Z\" fill=\"#000000\" fill-rule=\"evenodd\" fill-opacity=\"1\" /><path clip-path=\"url(#clip790)\" d=\"M1382.71 1548.76 L1382.71 1551.62 L1355.78 1551.62 Q1356.16 1557.67 1359.41 1560.85 Q1362.69 1564 1368.51 1564 Q1371.89 1564 1375.04 1563.17 Q1378.22 1562.35 1381.34 1560.69 L1381.34 1566.23 Q1378.19 1567.57 1374.88 1568.27 Q1371.57 1568.97 1368.16 1568.97 Q1359.63 1568.97 1354.64 1564 Q1349.67 1559.04 1349.67 1550.57 Q1349.67 1541.82 1354.38 1536.69 Q1359.12 1531.54 1367.15 1531.54 Q1374.34 1531.54 1378.51 1536.18 Q1382.71 1540.8 1382.71 1548.76 M1376.85 1547.04 Q1376.79 1542.23 1374.15 1539.37 Q1371.54 1536.5 1367.21 1536.5 Q1362.31 1536.5 1359.35 1539.27 Q1356.42 1542.04 1355.97 1547.07 L1376.85 1547.04 Z\" fill=\"#000000\" fill-rule=\"evenodd\" fill-opacity=\"1\" /><path clip-path=\"url(#clip790)\" d=\"M1415.05 1533.45 L1415.05 1538.98 Q1412.56 1537.71 1409.89 1537.07 Q1407.22 1536.44 1404.35 1536.44 Q1399.99 1536.44 1397.8 1537.77 Q1395.63 1539.11 1395.63 1541.79 Q1395.63 1543.82 1397.19 1545 Q1398.75 1546.15 1403.46 1547.2 L1405.47 1547.64 Q1411.71 1548.98 1414.32 1551.43 Q1416.96 1553.85 1416.96 1558.21 Q1416.96 1563.17 1413.01 1566.07 Q1409.1 1568.97 1402.22 1568.97 Q1399.36 1568.97 1396.24 1568.39 Q1393.15 1567.85 1389.71 1566.74 L1389.71 1560.69 Q1392.96 1562.38 1396.11 1563.24 Q1399.26 1564.07 1402.35 1564.07 Q1406.49 1564.07 1408.71 1562.66 Q1410.94 1561.23 1410.94 1558.65 Q1410.94 1556.27 1409.32 1554.99 Q1407.73 1553.72 1402.28 1552.54 L1400.25 1552.07 Q1394.8 1550.92 1392.39 1548.56 Q1389.97 1546.18 1389.97 1542.04 Q1389.97 1537.01 1393.53 1534.27 Q1397.1 1531.54 1403.65 1531.54 Q1406.9 1531.54 1409.76 1532.01 Q1412.63 1532.49 1415.05 1533.45 Z\" fill=\"#000000\" fill-rule=\"evenodd\" fill-opacity=\"1\" /><polyline clip-path=\"url(#clip792)\" style=\"stroke:#000000; stroke-linecap:butt; stroke-linejoin:round; stroke-width:2; stroke-opacity:0.1; fill:none\" points=\"\n",
       "  175.445,1384.24 2352.76,1384.24 \n",
       "  \"/>\n",
       "<polyline clip-path=\"url(#clip792)\" style=\"stroke:#000000; stroke-linecap:butt; stroke-linejoin:round; stroke-width:2; stroke-opacity:0.1; fill:none\" points=\"\n",
       "  175.445,1167.9 2352.76,1167.9 \n",
       "  \"/>\n",
       "<polyline clip-path=\"url(#clip792)\" style=\"stroke:#000000; stroke-linecap:butt; stroke-linejoin:round; stroke-width:2; stroke-opacity:0.1; fill:none\" points=\"\n",
       "  175.445,951.554 2352.76,951.554 \n",
       "  \"/>\n",
       "<polyline clip-path=\"url(#clip792)\" style=\"stroke:#000000; stroke-linecap:butt; stroke-linejoin:round; stroke-width:2; stroke-opacity:0.1; fill:none\" points=\"\n",
       "  175.445,735.212 2352.76,735.212 \n",
       "  \"/>\n",
       "<polyline clip-path=\"url(#clip792)\" style=\"stroke:#000000; stroke-linecap:butt; stroke-linejoin:round; stroke-width:2; stroke-opacity:0.1; fill:none\" points=\"\n",
       "  175.445,518.87 2352.76,518.87 \n",
       "  \"/>\n",
       "<polyline clip-path=\"url(#clip792)\" style=\"stroke:#000000; stroke-linecap:butt; stroke-linejoin:round; stroke-width:2; stroke-opacity:0.1; fill:none\" points=\"\n",
       "  175.445,302.528 2352.76,302.528 \n",
       "  \"/>\n",
       "<polyline clip-path=\"url(#clip792)\" style=\"stroke:#000000; stroke-linecap:butt; stroke-linejoin:round; stroke-width:2; stroke-opacity:0.1; fill:none\" points=\"\n",
       "  175.445,86.1857 2352.76,86.1857 \n",
       "  \"/>\n",
       "<polyline clip-path=\"url(#clip790)\" style=\"stroke:#000000; stroke-linecap:butt; stroke-linejoin:round; stroke-width:4; stroke-opacity:1; fill:none\" points=\"\n",
       "  175.445,1423.18 175.445,47.2441 \n",
       "  \"/>\n",
       "<polyline clip-path=\"url(#clip790)\" style=\"stroke:#000000; stroke-linecap:butt; stroke-linejoin:round; stroke-width:4; stroke-opacity:1; fill:none\" points=\"\n",
       "  175.445,1384.24 194.343,1384.24 \n",
       "  \"/>\n",
       "<polyline clip-path=\"url(#clip790)\" style=\"stroke:#000000; stroke-linecap:butt; stroke-linejoin:round; stroke-width:4; stroke-opacity:1; fill:none\" points=\"\n",
       "  175.445,1167.9 194.343,1167.9 \n",
       "  \"/>\n",
       "<polyline clip-path=\"url(#clip790)\" style=\"stroke:#000000; stroke-linecap:butt; stroke-linejoin:round; stroke-width:4; stroke-opacity:1; fill:none\" points=\"\n",
       "  175.445,951.554 194.343,951.554 \n",
       "  \"/>\n",
       "<polyline clip-path=\"url(#clip790)\" style=\"stroke:#000000; stroke-linecap:butt; stroke-linejoin:round; stroke-width:4; stroke-opacity:1; fill:none\" points=\"\n",
       "  175.445,735.212 194.343,735.212 \n",
       "  \"/>\n",
       "<polyline clip-path=\"url(#clip790)\" style=\"stroke:#000000; stroke-linecap:butt; stroke-linejoin:round; stroke-width:4; stroke-opacity:1; fill:none\" points=\"\n",
       "  175.445,518.87 194.343,518.87 \n",
       "  \"/>\n",
       "<polyline clip-path=\"url(#clip790)\" style=\"stroke:#000000; stroke-linecap:butt; stroke-linejoin:round; stroke-width:4; stroke-opacity:1; fill:none\" points=\"\n",
       "  175.445,302.528 194.343,302.528 \n",
       "  \"/>\n",
       "<polyline clip-path=\"url(#clip790)\" style=\"stroke:#000000; stroke-linecap:butt; stroke-linejoin:round; stroke-width:4; stroke-opacity:1; fill:none\" points=\"\n",
       "  175.445,86.1857 194.343,86.1857 \n",
       "  \"/>\n",
       "<path clip-path=\"url(#clip790)\" d=\"M127.501 1370.04 Q123.89 1370.04 122.061 1373.6 Q120.255 1377.14 120.255 1384.27 Q120.255 1391.38 122.061 1394.94 Q123.89 1398.49 127.501 1398.49 Q131.135 1398.49 132.941 1394.94 Q134.769 1391.38 134.769 1384.27 Q134.769 1377.14 132.941 1373.6 Q131.135 1370.04 127.501 1370.04 M127.501 1366.33 Q133.311 1366.33 136.367 1370.94 Q139.445 1375.52 139.445 1384.27 Q139.445 1393 136.367 1397.61 Q133.311 1402.19 127.501 1402.19 Q121.691 1402.19 118.612 1397.61 Q115.556 1393 115.556 1384.27 Q115.556 1375.52 118.612 1370.94 Q121.691 1366.33 127.501 1366.33 Z\" fill=\"#000000\" fill-rule=\"evenodd\" fill-opacity=\"1\" /><path clip-path=\"url(#clip790)\" d=\"M119.538 1181.24 L127.177 1181.24 L127.177 1154.88 L118.867 1156.54 L118.867 1152.28 L127.13 1150.62 L131.806 1150.62 L131.806 1181.24 L139.445 1181.24 L139.445 1185.18 L119.538 1185.18 L119.538 1181.24 Z\" fill=\"#000000\" fill-rule=\"evenodd\" fill-opacity=\"1\" /><path clip-path=\"url(#clip790)\" d=\"M123.126 964.899 L139.445 964.899 L139.445 968.834 L117.501 968.834 L117.501 964.899 Q120.163 962.144 124.746 957.515 Q129.353 952.862 130.533 951.519 Q132.779 948.996 133.658 947.26 Q134.561 945.501 134.561 943.811 Q134.561 941.056 132.617 939.32 Q130.695 937.584 127.593 937.584 Q125.394 937.584 122.941 938.348 Q120.51 939.112 117.732 940.663 L117.732 935.941 Q120.556 934.806 123.01 934.228 Q125.464 933.649 127.501 933.649 Q132.871 933.649 136.066 936.334 Q139.26 939.019 139.26 943.51 Q139.26 945.64 138.45 947.561 Q137.663 949.459 135.556 952.052 Q134.978 952.723 131.876 955.941 Q128.774 959.135 123.126 964.899 Z\" fill=\"#000000\" fill-rule=\"evenodd\" fill-opacity=\"1\" /><path clip-path=\"url(#clip790)\" d=\"M132.316 733.858 Q135.672 734.575 137.547 736.844 Q139.445 739.112 139.445 742.446 Q139.445 747.561 135.927 750.362 Q132.408 753.163 125.927 753.163 Q123.751 753.163 121.436 752.723 Q119.144 752.307 116.691 751.45 L116.691 746.936 Q118.635 748.071 120.95 748.649 Q123.265 749.228 125.788 749.228 Q130.186 749.228 132.478 747.492 Q134.792 745.756 134.792 742.446 Q134.792 739.39 132.64 737.677 Q130.51 735.941 126.691 735.941 L122.663 735.941 L122.663 732.099 L126.876 732.099 Q130.325 732.099 132.154 730.733 Q133.982 729.344 133.982 726.751 Q133.982 724.089 132.084 722.677 Q130.209 721.242 126.691 721.242 Q124.769 721.242 122.57 721.659 Q120.371 722.075 117.732 722.955 L117.732 718.788 Q120.394 718.048 122.709 717.677 Q125.047 717.307 127.107 717.307 Q132.431 717.307 135.533 719.738 Q138.635 722.145 138.635 726.265 Q138.635 729.136 136.992 731.126 Q135.348 733.094 132.316 733.858 Z\" fill=\"#000000\" fill-rule=\"evenodd\" fill-opacity=\"1\" /><path clip-path=\"url(#clip790)\" d=\"M129.862 505.664 L118.056 524.113 L129.862 524.113 L129.862 505.664 M128.635 501.59 L134.515 501.59 L134.515 524.113 L139.445 524.113 L139.445 528.002 L134.515 528.002 L134.515 536.15 L129.862 536.15 L129.862 528.002 L114.26 528.002 L114.26 523.488 L128.635 501.59 Z\" fill=\"#000000\" fill-rule=\"evenodd\" fill-opacity=\"1\" /><path clip-path=\"url(#clip790)\" d=\"M118.543 285.248 L136.899 285.248 L136.899 289.183 L122.825 289.183 L122.825 297.655 Q123.843 297.308 124.862 297.146 Q125.88 296.961 126.899 296.961 Q132.686 296.961 136.066 300.132 Q139.445 303.303 139.445 308.72 Q139.445 314.299 135.973 317.4 Q132.501 320.479 126.181 320.479 Q124.005 320.479 121.737 320.109 Q119.492 319.738 117.084 318.998 L117.084 314.299 Q119.168 315.433 121.39 315.988 Q123.612 316.544 126.089 316.544 Q130.093 316.544 132.431 314.437 Q134.769 312.331 134.769 308.72 Q134.769 305.109 132.431 303.002 Q130.093 300.896 126.089 300.896 Q124.214 300.896 122.339 301.312 Q120.487 301.729 118.543 302.609 L118.543 285.248 Z\" fill=\"#000000\" fill-rule=\"evenodd\" fill-opacity=\"1\" /><path clip-path=\"url(#clip790)\" d=\"M127.917 84.3223 Q124.769 84.3223 122.918 86.475 Q121.089 88.6278 121.089 92.3778 Q121.089 96.1046 122.918 98.2805 Q124.769 100.433 127.917 100.433 Q131.066 100.433 132.894 98.2805 Q134.746 96.1046 134.746 92.3778 Q134.746 88.6278 132.894 86.475 Q131.066 84.3223 127.917 84.3223 M137.2 69.6696 L137.2 73.9288 Q135.441 73.0955 133.635 72.6557 Q131.853 72.2158 130.093 72.2158 Q125.464 72.2158 123.01 75.3408 Q120.58 78.4658 120.232 84.7852 Q121.598 82.7713 123.658 81.7065 Q125.718 80.6186 128.195 80.6186 Q133.404 80.6186 136.413 83.7899 Q139.445 86.938 139.445 92.3778 Q139.445 97.7018 136.297 100.919 Q133.149 104.137 127.917 104.137 Q121.922 104.137 118.751 99.5537 Q115.58 94.9472 115.58 86.2204 Q115.58 78.026 119.468 73.1649 Q123.357 68.2807 129.908 68.2807 Q131.667 68.2807 133.45 68.6279 Q135.255 68.9751 137.2 69.6696 Z\" fill=\"#000000\" fill-rule=\"evenodd\" fill-opacity=\"1\" /><path clip-path=\"url(#clip790)\" d=\"M20.1444 791.071 L26.9239 791.071 Q23.9002 794.318 22.4043 798.01 Q20.9083 801.67 20.9083 805.808 Q20.9083 813.956 25.9054 818.284 Q30.8707 822.613 40.2919 822.613 Q49.6813 822.613 54.6784 818.284 Q59.6436 813.956 59.6436 805.808 Q59.6436 801.67 58.1477 798.01 Q56.6518 794.318 53.6281 791.071 L60.3439 791.071 Q62.6355 794.445 63.7814 798.232 Q64.9272 801.988 64.9272 806.19 Q64.9272 816.979 58.3387 823.186 Q51.7183 829.393 40.2919 829.393 Q28.8336 829.393 22.2451 823.186 Q15.6248 816.979 15.6248 806.19 Q15.6248 801.925 16.7706 798.169 Q17.8846 794.381 20.1444 791.071 Z\" fill=\"#000000\" fill-rule=\"evenodd\" fill-opacity=\"1\" /><path clip-path=\"url(#clip790)\" d=\"M32.4621 767.582 Q32.4621 772.292 36.1542 775.029 Q39.8145 777.767 46.212 777.767 Q52.6095 777.767 56.3017 775.061 Q59.9619 772.324 59.9619 767.582 Q59.9619 762.903 56.2698 760.166 Q52.5777 757.428 46.212 757.428 Q39.8781 757.428 36.186 760.166 Q32.4621 762.903 32.4621 767.582 M27.4968 767.582 Q27.4968 759.943 32.4621 755.582 Q37.4273 751.222 46.212 751.222 Q54.9649 751.222 59.9619 755.582 Q64.9272 759.943 64.9272 767.582 Q64.9272 775.252 59.9619 779.613 Q54.9649 783.941 46.212 783.941 Q37.4273 783.941 32.4621 779.613 Q27.4968 775.252 27.4968 767.582 Z\" fill=\"#000000\" fill-rule=\"evenodd\" fill-opacity=\"1\" /><path clip-path=\"url(#clip790)\" d=\"M49.9359 742.119 L28.3562 742.119 L28.3562 736.262 L49.7131 736.262 Q54.7739 736.262 57.3202 734.289 Q59.8346 732.316 59.8346 728.369 Q59.8346 723.626 56.8109 720.889 Q53.7872 718.12 48.5673 718.12 L28.3562 718.12 L28.3562 712.264 L64.0042 712.264 L64.0042 718.12 L58.5296 718.12 Q61.7762 720.253 63.3676 723.085 Q64.9272 725.886 64.9272 729.61 Q64.9272 735.753 61.1078 738.936 Q57.2883 742.119 49.9359 742.119 M27.4968 727.382 L27.4968 727.382 Z\" fill=\"#000000\" fill-rule=\"evenodd\" fill-opacity=\"1\" /><path clip-path=\"url(#clip790)\" d=\"M42.4881 670.568 L64.0042 670.568 L64.0042 676.425 L42.679 676.425 Q37.6183 676.425 35.1038 678.398 Q32.5894 680.371 32.5894 684.318 Q32.5894 689.061 35.6131 691.798 Q38.6368 694.535 43.8567 694.535 L64.0042 694.535 L64.0042 700.423 L28.3562 700.423 L28.3562 694.535 L33.8944 694.535 Q30.6797 692.434 29.0883 689.602 Q27.4968 686.737 27.4968 683.013 Q27.4968 676.87 31.3163 673.719 Q35.1038 670.568 42.4881 670.568 Z\" fill=\"#000000\" fill-rule=\"evenodd\" fill-opacity=\"1\" /><path clip-path=\"url(#clip790)\" d=\"M18.2347 653.094 L28.3562 653.094 L28.3562 641.031 L32.9077 641.031 L32.9077 653.094 L52.2594 653.094 Q56.6199 653.094 57.8613 651.917 Q59.1026 650.707 59.1026 647.047 L59.1026 641.031 L64.0042 641.031 L64.0042 647.047 Q64.0042 653.826 61.4897 656.405 Q58.9434 658.983 52.2594 658.983 L32.9077 658.983 L32.9077 663.279 L28.3562 663.279 L28.3562 658.983 L18.2347 658.983 L18.2347 653.094 Z\" fill=\"#000000\" fill-rule=\"evenodd\" fill-opacity=\"1\" /><path clip-path=\"url(#clip792)\" d=\"\n",
       "M295.201 302.528 L295.201 1384.24 L848.858 1384.24 L848.858 302.528 L295.201 302.528 L295.201 302.528  Z\n",
       "  \" fill=\"#009af9\" fill-rule=\"evenodd\" fill-opacity=\"1\"/>\n",
       "<polyline clip-path=\"url(#clip792)\" style=\"stroke:#000000; stroke-linecap:butt; stroke-linejoin:round; stroke-width:4; stroke-opacity:1; fill:none\" points=\"\n",
       "  295.201,302.528 295.201,1384.24 848.858,1384.24 848.858,302.528 295.201,302.528 \n",
       "  \"/>\n",
       "<path clip-path=\"url(#clip792)\" d=\"\n",
       "M987.272 951.554 L987.272 1384.24 L1540.93 1384.24 L1540.93 951.554 L987.272 951.554 L987.272 951.554  Z\n",
       "  \" fill=\"#009af9\" fill-rule=\"evenodd\" fill-opacity=\"1\"/>\n",
       "<polyline clip-path=\"url(#clip792)\" style=\"stroke:#000000; stroke-linecap:butt; stroke-linejoin:round; stroke-width:4; stroke-opacity:1; fill:none\" points=\"\n",
       "  987.272,951.554 987.272,1384.24 1540.93,1384.24 1540.93,951.554 987.272,951.554 \n",
       "  \"/>\n",
       "<path clip-path=\"url(#clip792)\" d=\"\n",
       "M1679.34 86.1857 L1679.34 1384.24 L2233 1384.24 L2233 86.1857 L1679.34 86.1857 L1679.34 86.1857  Z\n",
       "  \" fill=\"#009af9\" fill-rule=\"evenodd\" fill-opacity=\"1\"/>\n",
       "<polyline clip-path=\"url(#clip792)\" style=\"stroke:#000000; stroke-linecap:butt; stroke-linejoin:round; stroke-width:4; stroke-opacity:1; fill:none\" points=\"\n",
       "  1679.34,86.1857 1679.34,1384.24 2233,1384.24 2233,86.1857 1679.34,86.1857 \n",
       "  \"/>\n",
       "<circle clip-path=\"url(#clip792)\" style=\"fill:#009af9; stroke:none; fill-opacity:0\" cx=\"572.03\" cy=\"302.528\" r=\"2\"/>\n",
       "<circle clip-path=\"url(#clip792)\" style=\"fill:#009af9; stroke:none; fill-opacity:0\" cx=\"1264.1\" cy=\"951.554\" r=\"2\"/>\n",
       "<circle clip-path=\"url(#clip792)\" style=\"fill:#009af9; stroke:none; fill-opacity:0\" cx=\"1956.17\" cy=\"86.1857\" r=\"2\"/>\n",
       "<path clip-path=\"url(#clip790)\" d=\"\n",
       "M1985.83 196.789 L2280.18 196.789 L2280.18 93.1086 L1985.83 93.1086  Z\n",
       "  \" fill=\"#ffffff\" fill-rule=\"evenodd\" fill-opacity=\"1\"/>\n",
       "<polyline clip-path=\"url(#clip790)\" style=\"stroke:#000000; stroke-linecap:butt; stroke-linejoin:round; stroke-width:4; stroke-opacity:1; fill:none\" points=\"\n",
       "  1985.83,196.789 2280.18,196.789 2280.18,93.1086 1985.83,93.1086 1985.83,196.789 \n",
       "  \"/>\n",
       "<path clip-path=\"url(#clip790)\" d=\"\n",
       "M2010.02 165.685 L2155.17 165.685 L2155.17 124.213 L2010.02 124.213 L2010.02 165.685  Z\n",
       "  \" fill=\"#009af9\" fill-rule=\"evenodd\" fill-opacity=\"1\"/>\n",
       "<polyline clip-path=\"url(#clip790)\" style=\"stroke:#000000; stroke-linecap:butt; stroke-linejoin:round; stroke-width:4; stroke-opacity:1; fill:none\" points=\"\n",
       "  2010.02,165.685 2155.17,165.685 2155.17,124.213 2010.02,124.213 2010.02,165.685 \n",
       "  \"/>\n",
       "<path clip-path=\"url(#clip790)\" d=\"M2193.21 164.636 Q2191.4 169.266 2189.69 170.678 Q2187.97 172.09 2185.1 172.09 L2181.7 172.09 L2181.7 168.525 L2184.2 168.525 Q2185.96 168.525 2186.93 167.692 Q2187.91 166.858 2189.09 163.756 L2189.85 161.812 L2179.36 136.303 L2183.88 136.303 L2191.98 156.581 L2200.08 136.303 L2204.6 136.303 L2193.21 164.636 Z\" fill=\"#000000\" fill-rule=\"evenodd\" fill-opacity=\"1\" /><path clip-path=\"url(#clip790)\" d=\"M2211.89 158.293 L2219.53 158.293 L2219.53 131.928 L2211.22 133.595 L2211.22 129.335 L2219.48 127.669 L2224.16 127.669 L2224.16 158.293 L2231.79 158.293 L2231.79 162.229 L2211.89 162.229 L2211.89 158.293 Z\" fill=\"#000000\" fill-rule=\"evenodd\" fill-opacity=\"1\" /></svg>\n"
      ]
     },
     "execution_count": 81,
     "metadata": {},
     "output_type": "execute_result"
    }
   ],
   "source": [
    "using Plots\n",
    "p = bar(df[!,:Country],df[!,:count])\n",
    "ylabel!(\"Count\")\n",
    "xlabel!(\"Countries\")\n",
    "\n"
   ]
  },
  {
   "cell_type": "code",
   "execution_count": 162,
   "id": "7008637e",
   "metadata": {},
   "outputs": [
    {
     "ename": "LoadError",
     "evalue": "MethodError: no method matching (Matrix)(::Vector{Any})\n\u001b[0mClosest candidates are:\n\u001b[0m  (Array{T, N} where T)(::AbstractArray{S, N}) where {S, N} at /Applications/Julia-1.7.app/Contents/Resources/julia/share/julia/base/boot.jl:479\n\u001b[0m  (Matrix)(\u001b[91m::Union{LinearAlgebra.QR, LinearAlgebra.QRCompactWY}\u001b[39m) at /Applications/Julia-1.7.app/Contents/Resources/julia/share/julia/stdlib/v1.7/LinearAlgebra/src/qr.jl:441\n\u001b[0m  (Matrix)(\u001b[91m::LinearAlgebra.AbstractQ{T}\u001b[39m) where T at /Applications/Julia-1.7.app/Contents/Resources/julia/share/julia/stdlib/v1.7/LinearAlgebra/src/qr.jl:562\n\u001b[0m  ...",
     "output_type": "error",
     "traceback": [
      "MethodError: no method matching (Matrix)(::Vector{Any})\n\u001b[0mClosest candidates are:\n\u001b[0m  (Array{T, N} where T)(::AbstractArray{S, N}) where {S, N} at /Applications/Julia-1.7.app/Contents/Resources/julia/share/julia/base/boot.jl:479\n\u001b[0m  (Matrix)(\u001b[91m::Union{LinearAlgebra.QR, LinearAlgebra.QRCompactWY}\u001b[39m) at /Applications/Julia-1.7.app/Contents/Resources/julia/share/julia/stdlib/v1.7/LinearAlgebra/src/qr.jl:441\n\u001b[0m  (Matrix)(\u001b[91m::LinearAlgebra.AbstractQ{T}\u001b[39m) where T at /Applications/Julia-1.7.app/Contents/Resources/julia/share/julia/stdlib/v1.7/LinearAlgebra/src/qr.jl:562\n\u001b[0m  ...",
      "",
      "Stacktrace:",
      " [1] top-level scope",
      "   @ In[162]:1",
      " [2] eval",
      "   @ ./boot.jl:373 [inlined]",
      " [3] include_string(mapexpr::typeof(REPL.softscope), mod::Module, code::String, filename::String)",
      "   @ Base ./loading.jl:1196"
     ]
    }
   ],
   "source": []
  },
  {
   "cell_type": "code",
   "execution_count": 83,
   "id": "77a7f79e",
   "metadata": {},
   "outputs": [
    {
     "name": "stdout",
     "output_type": "stream",
     "text": [
      "Unknown\n",
      "BE0775755025\n",
      "BE0725470720\n",
      "BE0776625055\n",
      "BE0753524209\n",
      "BE0729909558\n",
      "BE0776625055\n",
      "FR4847220377\n",
      "FR4847220373\n",
      "FR4847260373\n",
      "FR424750077\n"
     ]
    },
    {
     "ename": "LoadError",
     "evalue": "BoundsError: attempt to access 11-codeunit String at index [4:12]",
     "output_type": "error",
     "traceback": [
      "BoundsError: attempt to access 11-codeunit String at index [4:12]",
      "",
      "Stacktrace:",
      " [1] checkbounds",
      "   @ ./strings/basic.jl:216 [inlined]",
      " [2] SubString{String}(s::String, i::Int64, j::Int64)",
      "   @ Base ./strings/substring.jl:30",
      " [3] SubString(s::String, i::Int64, j::Int64)",
      "   @ Base ./strings/substring.jl:38",
      " [4] top-level scope",
      "   @ ./In[83]:5",
      " [5] eval",
      "   @ ./boot.jl:373 [inlined]",
      " [6] include_string(mapexpr::typeof(REPL.softscope), mod::Module, code::String, filename::String)",
      "   @ Base ./loading.jl:1196"
     ]
    }
   ],
   "source": [
    "VAT=[]\n",
    "for i in values(dataset[!,\"VAT\"])\n",
    "    println(i)\n",
    "    if i != \"Unknown\"\n",
    "        push!(VAT,SubString(i, 4, 12))\n",
    "    end\n",
    "end"
   ]
  },
  {
   "cell_type": "code",
   "execution_count": 84,
   "id": "f6146e44",
   "metadata": {},
   "outputs": [
    {
     "data": {
      "text/plain": [
       "9-element Vector{Any}:\n",
       " \"775755025\"\n",
       " \"725470720\"\n",
       " \"776625055\"\n",
       " \"753524209\"\n",
       " \"729909558\"\n",
       " \"776625055\"\n",
       " \"847220377\"\n",
       " \"847220373\"\n",
       " \"847260373\""
      ]
     },
     "execution_count": 84,
     "metadata": {},
     "output_type": "execute_result"
    }
   ],
   "source": [
    "VAT"
   ]
  },
  {
   "cell_type": "code",
   "execution_count": 88,
   "id": "3fe18028",
   "metadata": {},
   "outputs": [
    {
     "data": {
      "text/html": [
       "<div class=\"data-frame\"><p>0 rows × 6 columns</p><table class=\"data-frame\"><thead><tr><th></th><th>Name</th><th>VAT</th><th>Creation_Date</th><th>Address</th><th>Function</th><th>Sector</th></tr><tr><th></th><th title=\"Any\">Any</th><th title=\"Any\">Any</th><th title=\"Any\">Any</th><th title=\"Any\">Any</th><th title=\"Any\">Any</th><th title=\"Any\">Any</th></tr></thead><tbody></tbody></table></div>"
      ],
      "text/latex": [
       "\\begin{tabular}{r|cccccc}\n",
       "\t& Name & VAT & Creation\\_Date & Address & Function & Sector\\\\\n",
       "\t\\hline\n",
       "\t& Any & Any & Any & Any & Any & Any\\\\\n",
       "\t\\hline\n",
       "\\end{tabular}\n"
      ],
      "text/plain": [
       "\u001b[1m0×6 DataFrame\u001b[0m"
      ]
     },
     "execution_count": 88,
     "metadata": {},
     "output_type": "execute_result"
    }
   ],
   "source": [
    "BTW_gegevens_uitgaande_facturen = DataFrame(\n",
    "  Name=[] ,\n",
    "  VAT=[],\n",
    "  Creation_Date=[],\n",
    "  Address=[],\n",
    "  Function=[],\n",
    "  Sector=[]\n",
    ")"
   ]
  },
  {
   "cell_type": "markdown",
   "id": "ac99e10b",
   "metadata": {},
   "source": [
    "# SCRAPING"
   ]
  },
  {
   "cell_type": "code",
   "execution_count": 90,
   "id": "b2090150",
   "metadata": {},
   "outputs": [],
   "source": [
    "for i in values(VAT)\n",
    "    url=\"https://trendstop.knack.be/nl/detail/$i\"\n",
    "    r=HTTP.get(url)\n",
    "    h= parsehtml(String(r.body))\n",
    "    body=h.root[2]\n",
    "    html=body[1][6][3][2][2][2][1][1][1]\n",
    "    BTW_nr=html[1][1][1][2][1].text\n",
    "    BTW_nr=replace.(BTW_nr, r\"\\n\"=>\"\")\n",
    "    BTW_nr=replace.(BTW_nr, r\" \"=>\"\")\n",
    "    Adres=html[1][1][2][2][1][1].text\n",
    "    Adres=replace.(Adres, r\"\\n\"=>\"\")\n",
    "    if Adres==\"Niet publiek zichtbaar omwille van de persoonlijke levenssfeer\"\n",
    "        Adres=html[1][1][2][2][2][1].text\n",
    "    end\n",
    "    Naam=html[1][1][4][2][1][1].text\n",
    "    Rechtsvorm=html[1][1][5][2][1].text\n",
    "    Rechtsvorm=replace.(Rechtsvorm, r\"\\n\"=>\"\")\n",
    "    Rechtsvorm=replace.(Rechtsvorm, r\" \"=>\"\")\n",
    "    Oprichtingsdatum=html[1][1][7][2][1].text\n",
    "    Oprichtingsdatum=replace.(Oprichtingsdatum, r\"\\n\"=>\"\")\n",
    "    Oprichtingsdatum=replace.(Oprichtingsdatum, r\" \"=>\"\")\n",
    "    Sector=html[2][1][2][2][1][1].text\n",
    "    push!(BTW_gegevens_uitgaande_facturen,[Naam,BTW_nr,Oprichtingsdatum,Adres,Rechtsvorm,Sector])\n",
    "end"
   ]
  },
  {
   "cell_type": "code",
   "execution_count": 91,
   "id": "aca6b313",
   "metadata": {},
   "outputs": [
    {
     "data": {
      "text/html": [
       "<div class=\"data-frame\"><p>12 rows × 6 columns (omitted printing of 1 columns)</p><table class=\"data-frame\"><thead><tr><th></th><th>Name</th><th>VAT</th><th>Creation_Date</th><th>Address</th><th>Function</th></tr><tr><th></th><th title=\"Any\">Any</th><th title=\"Any\">Any</th><th title=\"Any\">Any</th><th title=\"Any\">Any</th><th title=\"Any\">Any</th></tr></thead><tbody><tr><th>1</th><td>BRIDOUX SIEBE</td><td>BE0775.755.025</td><td>18/10/2021</td><td>8760 MEULEBEKE</td><td>Zelfstandige,handwerksman-fysischepersoon</td></tr><tr><th>2</th><td>GROOTAERD LENNERT</td><td>BE0725.470.720</td><td>17/04/2019</td><td>8680 KOEKELARE</td><td>Zelfstandige,handwerksman-fysischepersoon</td></tr><tr><th>3</th><td>LACUS</td><td>BE0776.625.055</td><td>27/10/2021</td><td>Jan-Baptiste Davidstr 1</td><td>Beslotenvennootschap</td></tr><tr><th>4</th><td>VAN WELDEN VITAL</td><td>BE0753.524.209</td><td>1/08/2020</td><td>8552 MOEN</td><td>Zelfstandige,handwerksman-fysischepersoon</td></tr><tr><th>5</th><td>CORNELIS CASPER</td><td>BE0729.909.558</td><td>8/07/2019</td><td>9790 OOIKE</td><td>Zelfstandige,handwerksman-fysischepersoon</td></tr><tr><th>6</th><td>LACUS</td><td>BE0776.625.055</td><td>27/10/2021</td><td>Jan-Baptiste Davidstr 1</td><td>Beslotenvennootschap</td></tr><tr><th>7</th><td>BRIDOUX SIEBE</td><td>BE0775.755.025</td><td>18/10/2021</td><td>8760 MEULEBEKE</td><td>Zelfstandige,handwerksman-fysischepersoon</td></tr><tr><th>8</th><td>GROOTAERD LENNERT</td><td>BE0725.470.720</td><td>17/04/2019</td><td>8680 KOEKELARE</td><td>Zelfstandige,handwerksman-fysischepersoon</td></tr><tr><th>9</th><td>LACUS</td><td>BE0776.625.055</td><td>27/10/2021</td><td>Jan-Baptiste Davidstr 1</td><td>Beslotenvennootschap</td></tr><tr><th>10</th><td>VAN WELDEN VITAL</td><td>BE0753.524.209</td><td>1/08/2020</td><td>8552 MOEN</td><td>Zelfstandige,handwerksman-fysischepersoon</td></tr><tr><th>11</th><td>CORNELIS CASPER</td><td>BE0729.909.558</td><td>8/07/2019</td><td>9790 OOIKE</td><td>Zelfstandige,handwerksman-fysischepersoon</td></tr><tr><th>12</th><td>LACUS</td><td>BE0776.625.055</td><td>27/10/2021</td><td>Jan-Baptiste Davidstr 1</td><td>Beslotenvennootschap</td></tr></tbody></table></div>"
      ],
      "text/latex": [
       "\\begin{tabular}{r|cccccc}\n",
       "\t& Name & VAT & Creation\\_Date & Address & Function & \\\\\n",
       "\t\\hline\n",
       "\t& Any & Any & Any & Any & Any & \\\\\n",
       "\t\\hline\n",
       "\t1 & BRIDOUX SIEBE & BE0775.755.025 & 18/10/2021 & 8760 MEULEBEKE & Zelfstandige,handwerksman-fysischepersoon & $\\dots$ \\\\\n",
       "\t2 & GROOTAERD LENNERT & BE0725.470.720 & 17/04/2019 & 8680 KOEKELARE & Zelfstandige,handwerksman-fysischepersoon & $\\dots$ \\\\\n",
       "\t3 & LACUS & BE0776.625.055 & 27/10/2021 & Jan-Baptiste Davidstr 1 & Beslotenvennootschap & $\\dots$ \\\\\n",
       "\t4 & VAN WELDEN VITAL & BE0753.524.209 & 1/08/2020 & 8552 MOEN & Zelfstandige,handwerksman-fysischepersoon & $\\dots$ \\\\\n",
       "\t5 & CORNELIS CASPER & BE0729.909.558 & 8/07/2019 & 9790 OOIKE & Zelfstandige,handwerksman-fysischepersoon & $\\dots$ \\\\\n",
       "\t6 & LACUS & BE0776.625.055 & 27/10/2021 & Jan-Baptiste Davidstr 1 & Beslotenvennootschap & $\\dots$ \\\\\n",
       "\t7 & BRIDOUX SIEBE & BE0775.755.025 & 18/10/2021 & 8760 MEULEBEKE & Zelfstandige,handwerksman-fysischepersoon & $\\dots$ \\\\\n",
       "\t8 & GROOTAERD LENNERT & BE0725.470.720 & 17/04/2019 & 8680 KOEKELARE & Zelfstandige,handwerksman-fysischepersoon & $\\dots$ \\\\\n",
       "\t9 & LACUS & BE0776.625.055 & 27/10/2021 & Jan-Baptiste Davidstr 1 & Beslotenvennootschap & $\\dots$ \\\\\n",
       "\t10 & VAN WELDEN VITAL & BE0753.524.209 & 1/08/2020 & 8552 MOEN & Zelfstandige,handwerksman-fysischepersoon & $\\dots$ \\\\\n",
       "\t11 & CORNELIS CASPER & BE0729.909.558 & 8/07/2019 & 9790 OOIKE & Zelfstandige,handwerksman-fysischepersoon & $\\dots$ \\\\\n",
       "\t12 & LACUS & BE0776.625.055 & 27/10/2021 & Jan-Baptiste Davidstr 1 & Beslotenvennootschap & $\\dots$ \\\\\n",
       "\\end{tabular}\n"
      ],
      "text/plain": [
       "\u001b[1m12×6 DataFrame\u001b[0m\n",
       "\u001b[1m Row \u001b[0m│\u001b[1m Name              \u001b[0m\u001b[1m VAT            \u001b[0m\u001b[1m Creation_Date \u001b[0m\u001b[1m Address              \u001b[0m ⋯\n",
       "\u001b[1m     \u001b[0m│\u001b[90m Any               \u001b[0m\u001b[90m Any            \u001b[0m\u001b[90m Any           \u001b[0m\u001b[90m Any                  \u001b[0m ⋯\n",
       "─────┼──────────────────────────────────────────────────────────────────────────\n",
       "   1 │ BRIDOUX SIEBE      BE0775.755.025  18/10/2021     8760 MEULEBEKE        ⋯\n",
       "   2 │ GROOTAERD LENNERT  BE0725.470.720  17/04/2019     8680 KOEKELARE\n",
       "   3 │ LACUS              BE0776.625.055  27/10/2021     Jan-Baptiste Davidstr\n",
       "   4 │ VAN WELDEN VITAL   BE0753.524.209  1/08/2020      8552 MOEN\n",
       "   5 │ CORNELIS CASPER    BE0729.909.558  8/07/2019      9790 OOIKE            ⋯\n",
       "   6 │ LACUS              BE0776.625.055  27/10/2021     Jan-Baptiste Davidstr\n",
       "   7 │ BRIDOUX SIEBE      BE0775.755.025  18/10/2021     8760 MEULEBEKE\n",
       "   8 │ GROOTAERD LENNERT  BE0725.470.720  17/04/2019     8680 KOEKELARE\n",
       "   9 │ LACUS              BE0776.625.055  27/10/2021     Jan-Baptiste Davidstr ⋯\n",
       "  10 │ VAN WELDEN VITAL   BE0753.524.209  1/08/2020      8552 MOEN\n",
       "  11 │ CORNELIS CASPER    BE0729.909.558  8/07/2019      9790 OOIKE\n",
       "  12 │ LACUS              BE0776.625.055  27/10/2021     Jan-Baptiste Davidstr\n",
       "\u001b[36m                                                               3 columns omitted\u001b[0m"
      ]
     },
     "execution_count": 91,
     "metadata": {},
     "output_type": "execute_result"
    }
   ],
   "source": [
    "BTW_gegevens_uitgaande_facturen"
   ]
  },
  {
   "cell_type": "code",
   "execution_count": 142,
   "id": "2f91f0cf",
   "metadata": {},
   "outputs": [
    {
     "data": {
      "text/plain": [
       "HTTP.Messages.Response:\n",
       "\"\"\"\n",
       "HTTP/1.1 200 OK\r\n",
       "cache-control: private\r\n",
       "content-type: text/html; charset=utf-8\r\n",
       "server: Microsoft-IIS/10.0\r\n",
       "request-context: appId=cid-v1:e824a755-8ce9-4e27-a38d-12ee32146c80\r\n",
       "access-control-expose-headers: Request-Context\r\n",
       "set-cookie: langid=90001; expires=Tue, 04-Apr-2023 14:04:59 GMT; path=/; HttpOnly, TSession=f3phwukq3pzppzbhu5zula0g; path=/; secure; HttpOnly; SameSite=Lax, iplchk=1; path=/; HttpOnly, f-pavide=775755025; expires=Sun, 03-Jul-2022 22:00:00 GMT; path=/; HttpOnly\r\n",
       "x-content-type-options: nosniff\r\n",
       "referrer-policy: origin-when-cross-origin\r\n",
       "date: Mon, 04 Apr 2022 14:04:59 GMT\r\n",
       "content-length: 82373\r\n",
       "\r\n",
       "\r\n",
       "<!doctype html>\r\n",
       "<html lang=\"nl\">\r\n",
       "<head><meta charset=\"utf-8\" /><meta name=\"description\" content=\"Bekijk gegevens van BRIDOUX SIEBE (BE 0775.755.025) uit Meulebeke (8760) of van andere bedrijven uit de sector Dienstverlening voor bedrijven en kantoren, bedrijvencentra.\" /><meta http-equiv=\"x-ua-compatible\" content=\"ie=edge\" /><meta name=\"content-language\" content=\"nl\" /><meta name=\"adhese_location\" content=\"_nl_top100k_other_\" /><link rel=\"canonical\" href=\"https://trendstop.knack.be/nl/detail/775755025/bridoux-siebe.aspx\"></link><meta name=\"viewport\" content=\"width=device-width, initial-scale=1.0\" /><meta name=\"robots\" content=\"noindex, nofollow\" /><title>\r\n",
       "\tBRIDOUX Siebe EEN - BE 0775.755.025 - Meulebeke (8760)\r\n",
       "</title><meta name=\"author\" content=\"Developed by Natch for Roularta Business Information\" /><link type=\"application/opensearchdescription+xml\" rel=\"search\" href=\"/integration/opensearch_trendstop.xml\" title=\"Trends Top\" />\r\n",
       "    <script type=\"text/javascript\">window.gdprApp\n",
       "⋮\n",
       "82373-byte body\n",
       "\"\"\""
      ]
     },
     "execution_count": 142,
     "metadata": {},
     "output_type": "execute_result"
    }
   ],
   "source": [
    "url=\"https://trendstop.knack.be/nl/detail/$i\"\n",
    "r=HTTP.get(url)"
   ]
  },
  {
   "cell_type": "code",
   "execution_count": 143,
   "id": "a7044b90",
   "metadata": {},
   "outputs": [
    {
     "data": {
      "text/plain": [
       "HTML Document:\n",
       "<!DOCTYPE html>\n",
       "HTMLElement{:HTML}:<HTML lang=\"nl\">\n",
       "  <head>\n",
       "    <meta charset=\"utf-8\"/>\n",
       "    <meta content=\"Bekijk gegevens van BRIDOUX SIEBE (BE 0775.755.025) uit Meulebeke (8760) of van andere bedrijven uit de sector Dienstverlening voor bedrijven en kantoren, bedrijvencentra.\" name=\"description\"/>\n",
       "    <meta content=\"ie=edge\" http-equiv=\"x-ua-compatible\"/>\n",
       "    <meta content=\"nl\" name=\"content-language\"/>\n",
       "    <meta content=\"_nl_top100k_other_\" name=\"adhese_location\"/>\n",
       "    <link href=\"https://trendstop.knack.be/nl/detail/775755025/bridoux-siebe.aspx\" rel=\"canonical\"/>\n",
       "    <meta content=\"width=device-width, initial-scale=1.0\" name=\"viewport\"/>\n",
       "    <meta content=\"noindex, nofollow\" name=\"robots\"/>\n",
       "    <title>\n",
       "      BRIDOUX Siebe EEN - BE 0775.755.025 - Meulebeke (8760)\n",
       "    </title>\n",
       "    <meta content=\"Developed by Natch for Roularta Business Information\" name=\"author\"/>\n",
       "    <link href=\"/integration/opensearch_trendstop.xml\" rel=\"search\" title=\"Trends Top\" type=\"application/opensearchdescription+xml\"/>\n",
       "    <script type=\"text/javascript\">window.gdprAppliesGlobally=true;(function(){function a(e){if(!window.frames[e]){if(document.body&&document.body.firstChild){var t=document.body;var n=document.createElement(\"iframe\");n.style.display=\"none\";n.name=e;n.title=e;t.insertBefore(n,t.firstChild)}\n",
       "    else{setTimeout(function(){a(e)},5)}}}function e(n,r,o,c,s){function e(e,t,n,a){if(typeof n!==\"function\"){return}if(!window[r]){window[r]=[]}var i=false;if(s){i=s(e,t,n)}if(!i){window[r].push({command:e,parameter:t,callback:n,version:a})}}e.stub=true;function t(a){if(!window[n]||window[n].stub!==true){return}if(!a.data){return}\n",
       "        var i=typeof a.data===\"string\";var e;try{e=i?JSON.parse(a.data):a.data}catch(t){return}if(e[o]){var r=e[o];window[n](r.command,r.parameter,function(e,t){var n={};n[c]={returnValue:e,success:t,callId:r.callId};a.source.postMessage(i?JSON.stringify(n):n,\"*\")},r.version)}}\n",
       "    if(typeof window[n]!==\"function\"){window[n]=e;if(window.addEventListener){window.addEventListener(\"message\",t,false)}else{window.attachEvent(\"onmessage\",t)}}}e(\"__tcfapi\",\"__tcfapiBuffer\",\"__tcfapiCall\",\"__tcfapiReturn\");a(\"__tcfapiLocator\");(function(e){\n",
       "    var t=document.createElement(\"script\");t.id=\"spcloader\";t.type=\"text/javascript\";t.async=true;t.src=\"https://sdk.privacy-center.org/\"+e+\"/loader.js?target=\"+document.location.hostname;t.charset=\"utf-8\";var n=document.getElementsByTagName(\"script\")[0];n.parentNode.insertBefore(t,n)})(\"0c7f196f-0b85-4850-bfd5-f5512ebf3f5d\")})();    </script>\n",
       "...\n"
      ]
     },
     "execution_count": 143,
     "metadata": {},
     "output_type": "execute_result"
    }
   ],
   "source": [
    "h= parsehtml(String(r.body))"
   ]
  },
  {
   "cell_type": "code",
   "execution_count": 148,
   "id": "1d848dd6",
   "metadata": {},
   "outputs": [
    {
     "data": {
      "text/plain": [
       "HTMLElement{:body}:<body class=\"nosel\" id=\"body\" ondragstart=\"return false\" onselectstart=\"return false\">\n",
       "  <form action=\"/nl/detail/775755025/bridoux-siebe.aspx\" id=\"Form1\" method=\"post\">\n",
       "    <div class=\"aspNetHidden\">\n",
       "      <input id=\"__VIEWSTATE\" name=\"__VIEWSTATE\" type=\"hidden\" value=\"/bLdlv5EPV88rcv3pDmSCzTKqPKkQFgqfL8Dy3IvxoiBxpcpjZr1sjpJKPz6JoGAC4CakDeEbiCc0MAfpFqb88GOmZUNbwOlIghVqVzquYuguJXK+fBopz52TUZLSLyq4gE+W/tIIpMaRLb5CtmpIVKkgCdzyxw0AZC80IVnmcCdW4WUmt63ayxZA1hu47bBWRlHtRqu20MAqY7LpmEJiV6XKvyDKYOTsxYDojcatBAWl5Kh+SQUbS33WOfZ9T8TBj20AtvC4xKLIqN7qlcJU/3ZPbXVAofWzcZy4DeOAtqdtoLbpiRhgEnaEZL+s6zypC77RI+yIMWZiW9OJDGkbDWSsfjgcmsEy+CYxKphKLIQcnjuBn55evyFDkd9ib9drdS2ZihTNVu4u+aX/hjj77g/gMkarxtB31xhg4Jw/s4urN78EO+vhbIXnrBlM/Qi0JdVdStiOBYHbqvIdk3d6/ZDm63UQqmE1mgVp5I2iF2VL3rQiryoIoXoyyxICxN1zlte7tkFDKNqW0xSfrZo5SfFfwag0+WiY2+Pb1khJxdnFtkSqRr+qh7rZK7FgpiwWv6StA==\"/>\n",
       "    </div>\n",
       "    <script type=\"text/javascript\">\n",
       "//<![CDATA[\n",
       "var btw='775755025';var vat=775755025;var companyName='';var tt={lc:'nl',cc:'nl-BE',l:false,nf:false};;var Language='NL';//]]>\n",
       "    </script>\n",
       "    <div class=\"aspNetHidden\">\n",
       "      <input id=\"__VIEWSTATEGENERATOR\" name=\"__VIEWSTATEGENERATOR\" type=\"hidden\" value=\"5C2B091C\"/>\n",
       "      <input id=\"__VIEWSTATEENCRYPTED\" name=\"__VIEWSTATEENCRYPTED\" type=\"hidden\" value=\"\"/>\n",
       "      <input id=\"__EVENTVALIDATION\" name=\"__EVENTVALIDATION\" type=\"hidden\" value=\"E/tfHedFrsxp91lb2F0APo9XX4mQ49dwWDUvUMCF/Yk1jFyjZyrlhGSaXD6JUOgT5IknwjIPSgc1s2yXZuzNUZy5PeLpvTeRVhyRgwOsvSvKAZgrgUuek8YDuDadtyDS66hqT/d0orwwUN0G/kXeZ+iNVo8=\"/>\n",
       "    </div>\n",
       "    <input id=\"TrapEnter\" name=\"ctl00$TrapEnter\" onclick=\" return false; ;WebForm_DoPostBackWithOptions(new WebForm_PostBackOptions(&quot;ctl00$TrapEnter&quot;, &quot;&quot;, true, &quot;&quot;, &quot;&quot;, false, false))\" type=\"submit\" value=\"\"/>\n",
       "    <header>\n",
       "      <div class=\"container\">\n",
       "        <nav class=\"navbar navbar-expand-lg navbar-light p-0\">\n",
       "          <div class=\"nt-header__logo\">\n",
       "            <a class=\"navbar-brand\" href=\"/nl/home.aspx\">\n",
       "...\n"
      ]
     },
     "execution_count": 148,
     "metadata": {},
     "output_type": "execute_result"
    }
   ],
   "source": [
    "body=h.root[2]"
   ]
  },
  {
   "cell_type": "code",
   "execution_count": 154,
   "id": "d42131da",
   "metadata": {},
   "outputs": [
    {
     "data": {
      "text/plain": [
       "HTMLElement{:div}:<div class=\"col\">\n",
       "  <div class=\"row\">\n",
       "    <div class=\"col-md-7\">\n",
       "      <div class=\"row nt-detail__row\">\n",
       "        <div class=\"col-6\">\n",
       "          BTW\n",
       "        </div>\n",
       "        <div class=\"col-6\">\n",
       "          BE 0775.755.025\n",
       "        </div>\n",
       "      </div>\n",
       "      <div class=\"row nt-detail__row\">\n",
       "        <div class=\"col-6\">\n",
       "          Adres\n",
       "        </div>\n",
       "        <div class=\"col-4\">\n",
       "          <span class=\"text-muted\" id=\"AddressHiddenLabel\">\n",
       "            Niet publiek zichtbaar omwille van de persoonlijke levenssfeer\n",
       "          </span>\n",
       "          <span id=\"AddressLabel\">\n",
       "...\n"
      ]
     },
     "execution_count": 154,
     "metadata": {},
     "output_type": "execute_result"
    }
   ],
   "source": [
    "html=body[1][6][3][2][2][2][1][1][1]"
   ]
  },
  {
   "cell_type": "code",
   "execution_count": 160,
   "id": "4af0676b",
   "metadata": {},
   "outputs": [
    {
     "data": {
      "text/plain": [
       "\"BE0775.755.025\""
      ]
     },
     "execution_count": 160,
     "metadata": {},
     "output_type": "execute_result"
    }
   ],
   "source": [
    "BTW_nr=html[1][1][1][2][1].text\n",
    "BTW_nr=replace.(BTW_nr, r\"\\n\"=>\"\")\n",
    "BTW_nr=replace.(BTW_nr, r\" \"=>\"\")"
   ]
  },
  {
   "cell_type": "code",
   "execution_count": 168,
   "id": "36d49e57",
   "metadata": {},
   "outputs": [
    {
     "data": {
      "text/plain": [
       "\"8760 MEULEBEKE\""
      ]
     },
     "execution_count": 168,
     "metadata": {},
     "output_type": "execute_result"
    }
   ],
   "source": [
    "Adres=html[1][1][2][2][1][1].text\n",
    "Adres=replace.(Adres, r\"\\n\"=>\"\")\n",
    "if Adres==\"Niet publiek zichtbaar omwille van de persoonlijke levenssfeer\"\n",
    "    Adres=html[1][1][2][2][2][1].text\n",
    "end"
   ]
  },
  {
   "cell_type": "code",
   "execution_count": 171,
   "id": "416a30fa",
   "metadata": {},
   "outputs": [
    {
     "data": {
      "text/plain": [
       "HTML Text: `BRIDOUX SIEBE`"
      ]
     },
     "execution_count": 171,
     "metadata": {},
     "output_type": "execute_result"
    }
   ],
   "source": [
    "Naam=html[1][1][4][2][1][1].text"
   ]
  },
  {
   "cell_type": "code",
   "execution_count": 186,
   "id": "d90e99b4",
   "metadata": {},
   "outputs": [
    {
     "data": {
      "text/plain": [
       "\"Zelfstandige,handwerksman-fysischepersoon\""
      ]
     },
     "execution_count": 186,
     "metadata": {},
     "output_type": "execute_result"
    }
   ],
   "source": [
    "Rechtsvorm=html[1][1][5][2][1].text\n",
    "Rechtsvorm=replace.(Rechtsvorm, r\"\\n\"=>\"\")\n",
    "Rechtsvorm=replace.(Rechtsvorm, r\" \"=>\"\")"
   ]
  },
  {
   "cell_type": "code",
   "execution_count": 187,
   "id": "2279fa60",
   "metadata": {},
   "outputs": [
    {
     "data": {
      "text/plain": [
       "\"18/10/2021\""
      ]
     },
     "execution_count": 187,
     "metadata": {},
     "output_type": "execute_result"
    }
   ],
   "source": [
    "Oprichtingsdatum=html[1][1][7][2][1].text\n",
    "Oprichtingsdatum=replace.(Oprichtingsdatum, r\"\\n\"=>\"\")\n",
    "Oprichtingsdatum=replace.(Oprichtingsdatum, r\" \"=>\"\")"
   ]
  },
  {
   "cell_type": "code",
   "execution_count": 204,
   "id": "ede392df",
   "metadata": {},
   "outputs": [
    {
     "data": {
      "text/plain": [
       "\"Dienstverlening voor bedrijven en kantoren, bedrijvencentra\""
      ]
     },
     "execution_count": 204,
     "metadata": {},
     "output_type": "execute_result"
    }
   ],
   "source": [
    "Sector=html[2][1][2][2][1][1].text"
   ]
  },
  {
   "cell_type": "code",
   "execution_count": null,
   "id": "420f6b12",
   "metadata": {},
   "outputs": [],
   "source": []
  },
  {
   "cell_type": "code",
   "execution_count": null,
   "id": "3d031a43",
   "metadata": {},
   "outputs": [],
   "source": [
    "@sk_import model_selection: train_test_split"
   ]
  },
  {
   "cell_type": "code",
   "execution_count": null,
   "id": "1a403716",
   "metadata": {},
   "outputs": [],
   "source": []
  },
  {
   "cell_type": "code",
   "execution_count": null,
   "id": "dded4163",
   "metadata": {},
   "outputs": [],
   "source": [
    "x_train,x_test,y_train,y_test=train_test_split(iris_x,iris_y,test_size=.3,random_state=1)"
   ]
  },
  {
   "cell_type": "code",
   "execution_count": 51,
   "id": "e9c5b4b5",
   "metadata": {},
   "outputs": [
    {
     "data": {
      "text/plain": [
       "8"
      ]
     },
     "execution_count": 51,
     "metadata": {},
     "output_type": "execute_result"
    }
   ],
   "source": [
    "nrow(dataset)"
   ]
  },
  {
   "cell_type": "code",
   "execution_count": 52,
   "id": "e49e64f1",
   "metadata": {},
   "outputs": [
    {
     "data": {
      "text/plain": [
       "8-element Vector{Any}:\n",
       " \"          FACTUUR             \" ⋯ 1556 bytes ⋯ \"LGEMENE VOORWAARDEN           \"\n",
       " \"          FACTUUR             \" ⋯ 1562 bytes ⋯ \"LGEMENE VOORWAARDEN           \"\n",
       " \"          FACTUUR             \" ⋯ 1564 bytes ⋯ \"LGEMENE VOORWAARDEN           \"\n",
       " \"        GOFACTUUR             \" ⋯ 1641 bytes ⋯ \"LGEMENE VOORWAARDEN           \"\n",
       " \"          FACTUUR             \" ⋯ 1511 bytes ⋯ \"                              \"\n",
       " \"          FACTUUR             \" ⋯ 1432 bytes ⋯ \"                              \"\n",
       " \"          FACTUUR             \" ⋯ 1470 bytes ⋯ \"                              \"\n",
       " \"         GOFACTUUR            \" ⋯ 1479 bytes ⋯ \"                              \""
      ]
     },
     "execution_count": 52,
     "metadata": {},
     "output_type": "execute_result"
    }
   ],
   "source": [
    "words=filter(contains(r\"a|b|c|d|e|f|g|h|i|j|k|l|m|n|o|p|q|r|s|t|u|v|w|x|y|z\"), l1st)"
   ]
  },
  {
   "cell_type": "code",
   "execution_count": 53,
   "id": "59da93be",
   "metadata": {},
   "outputs": [
    {
     "data": {
      "text/plain": [
       "8-element Vector{Any}:\n",
       " \"          FACTUUR             \" ⋯ 1556 bytes ⋯ \"LGEMENE VOORWAARDEN           \"\n",
       " \"          FACTUUR             \" ⋯ 1562 bytes ⋯ \"LGEMENE VOORWAARDEN           \"\n",
       " \"          FACTUUR             \" ⋯ 1564 bytes ⋯ \"LGEMENE VOORWAARDEN           \"\n",
       " \"        GOFACTUUR             \" ⋯ 1641 bytes ⋯ \"LGEMENE VOORWAARDEN           \"\n",
       " \"          FACTUUR             \" ⋯ 1511 bytes ⋯ \"                              \"\n",
       " \"          FACTUUR             \" ⋯ 1432 bytes ⋯ \"                              \"\n",
       " \"          FACTUUR             \" ⋯ 1470 bytes ⋯ \"                              \"\n",
       " \"         GOFACTUUR            \" ⋯ 1479 bytes ⋯ \"                              \""
      ]
     },
     "execution_count": 53,
     "metadata": {},
     "output_type": "execute_result"
    }
   ],
   "source": [
    "euro=filter(contains(r\"[€]\"), l1st)\n",
    "email=filter(contains(r\"[@]\"), l1st)"
   ]
  },
  {
   "cell_type": "code",
   "execution_count": 54,
   "id": "23e1d616",
   "metadata": {},
   "outputs": [
    {
     "data": {
      "text/plain": [
       "8-element Vector{Any}:\n",
       " \"          FACTUUR             \" ⋯ 1556 bytes ⋯ \"LGEMENE VOORWAARDEN           \"\n",
       " \"          FACTUUR             \" ⋯ 1562 bytes ⋯ \"LGEMENE VOORWAARDEN           \"\n",
       " \"          FACTUUR             \" ⋯ 1564 bytes ⋯ \"LGEMENE VOORWAARDEN           \"\n",
       " \"        GOFACTUUR             \" ⋯ 1641 bytes ⋯ \"LGEMENE VOORWAARDEN           \"\n",
       " \"          FACTUUR             \" ⋯ 1511 bytes ⋯ \"                              \"\n",
       " \"          FACTUUR             \" ⋯ 1432 bytes ⋯ \"                              \"\n",
       " \"          FACTUUR             \" ⋯ 1470 bytes ⋯ \"                              \"\n",
       " \"         GOFACTUUR            \" ⋯ 1479 bytes ⋯ \"                              \""
      ]
     },
     "execution_count": 54,
     "metadata": {},
     "output_type": "execute_result"
    }
   ],
   "source": [
    "euro"
   ]
  },
  {
   "cell_type": "code",
   "execution_count": 55,
   "id": "e1491bf4",
   "metadata": {},
   "outputs": [
    {
     "ename": "LoadError",
     "evalue": "ArgumentError: invalid index: ! of type typeof(!)",
     "output_type": "error",
     "traceback": [
      "ArgumentError: invalid index: ! of type typeof(!)",
      "",
      "Stacktrace:",
      " [1] to_index(i::Function)",
      "   @ Base ./indices.jl:300",
      " [2] to_index(A::Vector{String}, i::Function)",
      "   @ Base ./indices.jl:277",
      " [3] to_indices(A::Vector{String}, inds::Tuple{Base.OneTo{Int64}}, I::Tuple{typeof(!), Int64})",
      "   @ Base ./indices.jl:333",
      " [4] to_indices",
      "   @ ./indices.jl:324 [inlined]",
      " [5] getindex(::Vector{String}, ::Function, ::Int64)",
      "   @ Base ./abstractarray.jl:1218",
      " [6] top-level scope",
      "   @ In[55]:1",
      " [7] eval",
      "   @ ./boot.jl:373 [inlined]",
      " [8] include_string(mapexpr::typeof(REPL.softscope), mod::Module, code::String, filename::String)",
      "   @ Base ./loading.jl:1196"
     ]
    }
   ],
   "source": [
    "countries=countries[!,1]"
   ]
  },
  {
   "cell_type": "code",
   "execution_count": 56,
   "id": "b51a5173",
   "metadata": {},
   "outputs": [
    {
     "data": {
      "text/plain": [
       "41-element Vector{String}:\n",
       " \"Belgium\"\n",
       " \"Belize\"\n",
       " \"Benin\"\n",
       " \"Bermuda\"\n",
       " \"Bhutan\"\n",
       " \"Bolivia\"\n",
       " \"Bosnia&Herzegovina\"\n",
       " \"Botswana\"\n",
       " \"Brazil\"\n",
       " \"BritishVirginIs.\"\n",
       " \"Brunei\"\n",
       " \"Bulgaria\"\n",
       " \"BurkinaFaso\"\n",
       " ⋮\n",
       " \"CostaRica\"\n",
       " \"Coted'Ivoire\"\n",
       " \"Croatia\"\n",
       " \"Cuba\"\n",
       " \"Cyprus\"\n",
       " \"CzechRepublic\"\n",
       " \"Denmark\"\n",
       " \"Djibouti\"\n",
       " \"Dominica\"\n",
       " \"DominicanRepublic\"\n",
       " \"EastTimor\"\n",
       " \"Ecuador\""
      ]
     },
     "execution_count": 56,
     "metadata": {},
     "output_type": "execute_result"
    }
   ],
   "source": [
    "countries[20:60]"
   ]
  },
  {
   "cell_type": "code",
   "execution_count": 37,
   "id": "9198772c",
   "metadata": {},
   "outputs": [
    {
     "data": {
      "text/plain": [
       "227-element Vector{String}:\n",
       " \"Afghanistan\"\n",
       " \"Albania\"\n",
       " \"Algeria\"\n",
       " \"AmericanSamoa\"\n",
       " \"Andorra\"\n",
       " \"Angola\"\n",
       " \"Anguilla\"\n",
       " \"Antigua&Barbuda\"\n",
       " \"Argentina\"\n",
       " \"Armenia\"\n",
       " \"Aruba\"\n",
       " \"Australia\"\n",
       " \"Austria\"\n",
       " ⋮\n",
       " \"Uruguay\"\n",
       " \"Uzbekistan\"\n",
       " \"Vanuatu\"\n",
       " \"Venezuela\"\n",
       " \"Vietnam\"\n",
       " \"VirginIslands\"\n",
       " \"WallisandFutuna\"\n",
       " \"WestBank\"\n",
       " \"WesternSahara\"\n",
       " \"Yemen\"\n",
       " \"Zambia\"\n",
       " \"Zimbabwe\""
      ]
     },
     "execution_count": 37,
     "metadata": {},
     "output_type": "execute_result"
    }
   ],
   "source": [
    "countries=replace.(countries, r\" \"=>\"\")"
   ]
  },
  {
   "cell_type": "code",
   "execution_count": null,
   "id": "8bfd90ec",
   "metadata": {},
   "outputs": [],
   "source": []
  },
  {
   "cell_type": "code",
   "execution_count": 38,
   "id": "ca28f93d",
   "metadata": {},
   "outputs": [],
   "source": [
    "x=0\n",
    "postcode=[]\n",
    "tel=[]\n",
    "BTW=[]\n",
    "land=\"\"\n",
    "\n",
    "for i in l1st\n",
    "    for x in values(countries)\n",
    "        #println(i)\n",
    "        i=replace.(i, r\" \"=>\"\")\n",
    "        if uppercase(x)==uppercase(i)\n",
    "            land=x\n",
    "        end\n",
    "    end           \n",
    "        \n",
    "    if length(i)== 4\n",
    "            push!(postcode,i)\n",
    "    end\n",
    "    \n",
    "    if length(i)==10 || length(i)==12\n",
    "       if startswith(i,\"+32\") ==true || startswith(i,\"04\") ==true \n",
    "            push!(tel,i)\n",
    "        end \n",
    "        \n",
    "        if startswith(i,\"07\")==true || startswith(i,\"BE\") ==true \n",
    "            push!(BTW,i) \n",
    "        end \n",
    "        \n",
    "        \n",
    "    end \n",
    "        \n",
    "end\n",
    "\n",
    "\n"
   ]
  },
  {
   "cell_type": "code",
   "execution_count": 39,
   "id": "ab2cb202",
   "metadata": {},
   "outputs": [
    {
     "data": {
      "text/plain": [
       "Any[]"
      ]
     },
     "execution_count": 39,
     "metadata": {},
     "output_type": "execute_result"
    }
   ],
   "source": [
    "tel"
   ]
  },
  {
   "cell_type": "code",
   "execution_count": 40,
   "id": "42dced13",
   "metadata": {},
   "outputs": [
    {
     "data": {
      "text/plain": [
       "Any[]"
      ]
     },
     "execution_count": 40,
     "metadata": {},
     "output_type": "execute_result"
    }
   ],
   "source": [
    "BTW"
   ]
  },
  {
   "cell_type": "code",
   "execution_count": 54,
   "id": "0b14c2e6",
   "metadata": {},
   "outputs": [
    {
     "data": {
      "text/html": [
       "<div class=\"data-frame\"><p>1 rows × 5 columns</p><table class=\"data-frame\"><thead><tr><th></th><th>Email</th><th>Country</th><th>VAT</th><th>Telephone</th><th>Total_€</th></tr><tr><th></th><th title=\"Any\">Any</th><th title=\"Any\">Any</th><th title=\"Any\">Any</th><th title=\"Any\">Any</th><th title=\"Any\">Any</th></tr></thead><tbody><tr><th>1</th><td>0</td><td>0</td><td>0</td><td>0</td><td>0</td></tr></tbody></table></div>"
      ],
      "text/latex": [
       "\\begin{tabular}{r|ccccc}\n",
       "\t& Email & Country & VAT & Telephone & Total\\_€\\\\\n",
       "\t\\hline\n",
       "\t& Any & Any & Any & Any & Any\\\\\n",
       "\t\\hline\n",
       "\t1 & 0 & 0 & 0 & 0 & 0 \\\\\n",
       "\\end{tabular}\n"
      ],
      "text/plain": [
       "\u001b[1m1×5 DataFrame\u001b[0m\n",
       "\u001b[1m Row \u001b[0m│\u001b[1m Email \u001b[0m\u001b[1m Country \u001b[0m\u001b[1m VAT \u001b[0m\u001b[1m Telephone \u001b[0m\u001b[1m Total_€ \u001b[0m\n",
       "\u001b[1m     \u001b[0m│\u001b[90m Any   \u001b[0m\u001b[90m Any     \u001b[0m\u001b[90m Any \u001b[0m\u001b[90m Any       \u001b[0m\u001b[90m Any     \u001b[0m\n",
       "─────┼─────────────────────────────────────────\n",
       "   1 │ 0      0        0    0          0"
      ]
     },
     "execution_count": 54,
     "metadata": {},
     "output_type": "execute_result"
    }
   ],
   "source": [
    "push!(dataset,[0,0,0,0,0])"
   ]
  },
  {
   "cell_type": "code",
   "execution_count": null,
   "id": "4084813d",
   "metadata": {},
   "outputs": [],
   "source": []
  },
  {
   "cell_type": "code",
   "execution_count": 270,
   "id": "4ed2a6ae",
   "metadata": {},
   "outputs": [
    {
     "name": "stdout",
     "output_type": "stream",
     "text": [
      "NaiveBayesClassifier{String}([\"sewaest\", \"siebren\", \"verdonck\", \"bert\", \"factuur\", \"datum\", \"totaal\", \"22\", \"blb\"], [\"YES\", \"NO\"], [3 1; 3 1; 3 1; 3 1; 1 3; 1 3; 1 3; 1 2; 1 2])\n"
     ]
    }
   ],
   "source": [
    "using TextAnalysis: NaiveBayesClassifier, fit!, predict\n",
    "using TextAnalysis\n",
    "\n",
    "function create_string_doc(s)\n",
    "    sd = StringDocument(s)\n",
    "    op = 0x00\n",
    "    op |= strip_punctuation\n",
    "    op |= strip_stopwords\n",
    "    op |= strip_html_tags\n",
    "    prepare!(sd, op)\n",
    "    stem!(sd)\n",
    "    return sd\n",
    "end\n",
    "\n",
    "df2= DataFrame(Name=[\"siebren sewaest\",\"bert verdonck\",\"factuur\",\"datum\",\"totaal\",\"22\",\"siebren sewaest\",\"bert verdonck\",\"factuur\",\"datum\",\"totaal\",\"blb\"],Result=[\"YES\",\"YES\",\"NO\",\"NO\",\"NO\",\"NO\",\"YES\",\"YES\",\"NO\",\"NO\",\"NO\",\"NO\"])\n",
    "model = let\n",
    "    Results = unique(df2.Result)\n",
    "    nbc = NaiveBayesClassifier(Results)\n",
    "    for (Name, class) in zip(df2.Name , df2.Result)\n",
    "        sd = create_string_doc(Name)\n",
    "        fit!(nbc, sd, class)\n",
    "    end\n",
    "    println(nbc)\n",
    "    nbc\n",
    "end;\n"
   ]
  },
  {
   "cell_type": "code",
   "execution_count": 271,
   "id": "709a2bd3",
   "metadata": {},
   "outputs": [
    {
     "data": {
      "text/html": [
       "<div class=\"data-frame\"><p>12 rows × 2 columns</p><table class=\"data-frame\"><thead><tr><th></th><th>Name</th><th>Result</th></tr><tr><th></th><th title=\"String\">String</th><th title=\"String\">String</th></tr></thead><tbody><tr><th>1</th><td>siebren sewaest</td><td>YES</td></tr><tr><th>2</th><td>bert verdonck</td><td>YES</td></tr><tr><th>3</th><td>factuur</td><td>NO</td></tr><tr><th>4</th><td>datum</td><td>NO</td></tr><tr><th>5</th><td>totaal</td><td>NO</td></tr><tr><th>6</th><td>22</td><td>NO</td></tr><tr><th>7</th><td>siebren sewaest</td><td>YES</td></tr><tr><th>8</th><td>bert verdonck</td><td>YES</td></tr><tr><th>9</th><td>factuur</td><td>NO</td></tr><tr><th>10</th><td>datum</td><td>NO</td></tr><tr><th>11</th><td>totaal</td><td>NO</td></tr><tr><th>12</th><td>blb</td><td>NO</td></tr></tbody></table></div>"
      ],
      "text/latex": [
       "\\begin{tabular}{r|cc}\n",
       "\t& Name & Result\\\\\n",
       "\t\\hline\n",
       "\t& String & String\\\\\n",
       "\t\\hline\n",
       "\t1 & siebren sewaest & YES \\\\\n",
       "\t2 & bert verdonck & YES \\\\\n",
       "\t3 & factuur & NO \\\\\n",
       "\t4 & datum & NO \\\\\n",
       "\t5 & totaal & NO \\\\\n",
       "\t6 & 22 & NO \\\\\n",
       "\t7 & siebren sewaest & YES \\\\\n",
       "\t8 & bert verdonck & YES \\\\\n",
       "\t9 & factuur & NO \\\\\n",
       "\t10 & datum & NO \\\\\n",
       "\t11 & totaal & NO \\\\\n",
       "\t12 & blb & NO \\\\\n",
       "\\end{tabular}\n"
      ],
      "text/plain": [
       "\u001b[1m12×2 DataFrame\u001b[0m\n",
       "\u001b[1m Row \u001b[0m│\u001b[1m Name            \u001b[0m\u001b[1m Result \u001b[0m\n",
       "\u001b[1m     \u001b[0m│\u001b[90m String          \u001b[0m\u001b[90m String \u001b[0m\n",
       "─────┼─────────────────────────\n",
       "   1 │ siebren sewaest  YES\n",
       "   2 │ bert verdonck    YES\n",
       "   3 │ factuur          NO\n",
       "   4 │ datum            NO\n",
       "   5 │ totaal           NO\n",
       "   6 │ 22               NO\n",
       "   7 │ siebren sewaest  YES\n",
       "   8 │ bert verdonck    YES\n",
       "   9 │ factuur          NO\n",
       "  10 │ datum            NO\n",
       "  11 │ totaal           NO\n",
       "  12 │ blb              NO"
      ]
     },
     "execution_count": 271,
     "metadata": {},
     "output_type": "execute_result"
    }
   ],
   "source": [
    "df2"
   ]
  },
  {
   "cell_type": "code",
   "execution_count": 272,
   "id": "9c55001d",
   "metadata": {},
   "outputs": [],
   "source": [
    "function test_model(model, l1st) # Bayes method\n",
    "    df = DataFrame(text = l1st)\n",
    "    df.doc = TextAnalysis.text.(create_string_doc.(l1st))\n",
    "    df.analysis = predict.(Ref(model), df.doc)\n",
    "    print(df.analysis)\n",
    "    df.YES = getindex.(df.analysis, \"YES\")\n",
    "    df.NO = getindex.(df.analysis, \"NO\")\n",
    "    select!(df, Not(:analysis))\n",
    "    return df\n",
    "end;"
   ]
  },
  {
   "cell_type": "code",
   "execution_count": 273,
   "id": "bf09931a",
   "metadata": {},
   "outputs": [
    {
     "name": "stdout",
     "output_type": "stream",
     "text": [
      "[Dict(\"NO\" => 0.25, \"YES\" => 0.7500000000000001), Dict(\"NO\" => 0.7500000000000001, \"YES\" => 0.25), Dict(\"NO\" => 0.5, \"YES\" => 0.5), Dict(\"NO\" => 0.5, \"YES\" => 0.5), Dict(\"NO\" => 0.5, \"YES\" => 0.5)]"
     ]
    },
    {
     "data": {
      "text/html": [
       "<div class=\"data-frame\"><p>5 rows × 4 columns</p><table class=\"data-frame\"><thead><tr><th></th><th>text</th><th>doc</th><th>YES</th><th>NO</th></tr><tr><th></th><th title=\"String\">String</th><th title=\"String\">String</th><th title=\"Float64\">Float64</th><th title=\"Float64\">Float64</th></tr></thead><tbody><tr><th>1</th><td>Bert</td><td>Bert</td><td>0.75</td><td>0.25</td></tr><tr><th>2</th><td>Factuur</td><td>Factuur</td><td>0.25</td><td>0.75</td></tr><tr><th>3</th><td>just ok</td><td>ok</td><td>0.5</td><td>0.5</td></tr><tr><th>4</th><td>Hai</td><td>Hai</td><td>0.5</td><td>0.5</td></tr><tr><th>5</th><td>i hate this game</td><td>hate game</td><td>0.5</td><td>0.5</td></tr></tbody></table></div>"
      ],
      "text/latex": [
       "\\begin{tabular}{r|cccc}\n",
       "\t& text & doc & YES & NO\\\\\n",
       "\t\\hline\n",
       "\t& String & String & Float64 & Float64\\\\\n",
       "\t\\hline\n",
       "\t1 & Bert & Bert & 0.75 & 0.25 \\\\\n",
       "\t2 & Factuur & Factuur & 0.25 & 0.75 \\\\\n",
       "\t3 & just ok & ok & 0.5 & 0.5 \\\\\n",
       "\t4 & Hai & Hai & 0.5 & 0.5 \\\\\n",
       "\t5 & i hate this game & hate game & 0.5 & 0.5 \\\\\n",
       "\\end{tabular}\n"
      ],
      "text/plain": [
       "\u001b[1m5×4 DataFrame\u001b[0m\n",
       "\u001b[1m Row \u001b[0m│\u001b[1m text             \u001b[0m\u001b[1m doc       \u001b[0m\u001b[1m YES     \u001b[0m\u001b[1m NO      \u001b[0m\n",
       "\u001b[1m     \u001b[0m│\u001b[90m String           \u001b[0m\u001b[90m String    \u001b[0m\u001b[90m Float64 \u001b[0m\u001b[90m Float64 \u001b[0m\n",
       "─────┼───────────────────────────────────────────────\n",
       "   1 │ Bert              Bert          0.75     0.25\n",
       "   2 │ Factuur           Factuur       0.25     0.75\n",
       "   3 │ just ok           ok            0.5      0.5\n",
       "   4 │ Hai               Hai           0.5      0.5\n",
       "   5 │ i hate this game  hate game     0.5      0.5"
      ]
     },
     "execution_count": 273,
     "metadata": {},
     "output_type": "execute_result"
    }
   ],
   "source": [
    "let\n",
    "tweets = [\n",
    "    \"Bert\",\n",
    "    \"Factuur\",\n",
    "    \"just ok\",\n",
    "    \"Hai\",\n",
    "    \"i hate this game\"]\n",
    "    test_model(model, tweets)\n",
    "end\n",
    "\n"
   ]
  },
  {
   "cell_type": "code",
   "execution_count": null,
   "id": "0986ce1f",
   "metadata": {},
   "outputs": [],
   "source": []
  }
 ],
 "metadata": {
  "kernelspec": {
   "display_name": "Julia 1.7.2",
   "language": "julia",
   "name": "julia-1.7"
  },
  "language_info": {
   "file_extension": ".jl",
   "mimetype": "application/julia",
   "name": "julia",
   "version": "1.7.2"
  }
 },
 "nbformat": 4,
 "nbformat_minor": 5
}
