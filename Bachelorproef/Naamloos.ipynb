{
 "cells": [
  {
   "cell_type": "code",
   "execution_count": 150,
   "metadata": {},
   "outputs": [],
   "source": [
    "using Pkg\n",
    "#Pkg.add(\"PDFIO\")\n",
    "using PDFIO\n",
    "using DataFrames\n",
    "using CSV\n",
    "using Cascadia\n",
    "using Gumbo\n",
    "using HTTP\n",
    "#Pkg.add(\"Cascadia\")\n",
    "#Pkg.add(\"Statistics\")\n",
    "#Pkg.add(\"Metrics\")\n",
    "using ScikitLearn: fit!\n",
    "using ScikitLearn: predict\n",
    "using ScikitLearn\n",
    "using CSV, DataFrames\n",
    "using TextAnalysis\n",
    "using CSV\n",
    "using DataFrames\n",
    "using Pipe\n",
    "using Plots\n",
    "using TypedTables\n",
    "using PlutoUI\n",
    "using MLJBase\n",
    "using Tables\n",
    "using Markdown\n",
    "using Metrics\n",
    "using Statistics"
   ]
  },
  {
   "cell_type": "code",
   "execution_count": 151,
   "metadata": {},
   "outputs": [
    {
     "data": {
      "text/html": [
       "<div class=\"data-frame\"><p>0 rows × 5 columns</p><table class=\"data-frame\"><thead><tr><th></th><th>Email</th><th>Country</th><th>VAT</th><th>Telephone</th><th>Total_€</th></tr><tr><th></th><th title=\"Any\">Any</th><th title=\"Any\">Any</th><th title=\"Any\">Any</th><th title=\"Any\">Any</th><th title=\"Any\">Any</th></tr></thead><tbody></tbody></table></div>"
      ],
      "text/latex": [
       "\\begin{tabular}{r|ccccc}\n",
       "\t& Email & Country & VAT & Telephone & Total\\_€\\\\\n",
       "\t\\hline\n",
       "\t& Any & Any & Any & Any & Any\\\\\n",
       "\t\\hline\n",
       "\\end{tabular}\n"
      ],
      "text/plain": [
       "\u001b[1m0×5 DataFrame\u001b[0m"
      ]
     },
     "execution_count": 151,
     "metadata": {},
     "output_type": "execute_result"
    }
   ],
   "source": [
    "dataset = DataFrame(\n",
    "  Email=[] ,\n",
    "  Country=[],\n",
    "  VAT=[],\n",
    "  Telephone=[],\n",
    "  Total_€=[]\n",
    ")"
   ]
  },
  {
   "cell_type": "code",
   "execution_count": 152,
   "metadata": {},
   "outputs": [
    {
     "data": {
      "text/plain": [
       "PDFIO.PD.PDPageImpl(\n",
       "PDDoc ==>\n",
       "\n",
       "CosDoc ==>\n",
       "\tfilepath:\t\t/Users/casper/Desktop/Bachelorproef/facturen/FACTUUR LACUS.pdf\n",
       "\tsize:\t\t\t152059\n",
       "\thasNativeXRefStm:\t false\n",
       "\tTrailer dictionaries: \n",
       "\t<<\n",
       "\t/Root\t31 0 R\n",
       "\t/Size\t63\n",
       "\t/Info\t62 0 R\n",
       "\t/ID\t[<f7a8a58d557b45042219ab89075e2a31> <f7a8a58d557b45042219ab89075e2a31> ]\n",
       ">>\n",
       "\n",
       "Catalog:\n",
       "31 0 obj\n",
       "<<\n",
       "\t/Version\t/1.4\n",
       "\t/Pages\t2 0 R\n",
       "\t/Type\t/Catalog\n",
       ">>\n",
       "endobj\n",
       "\n",
       "isTagged: none\n",
       ", \n",
       "1 0 obj\n",
       "<<\n",
       "\t/MediaBox\t[0 0 595 842 ]\n",
       "\t/Resources\t4 0 R\n",
       "\t/Contents\t3 0 R\n",
       "\t/Parent\t2 0 R\n",
       "\t/Type\t/Page\n",
       ">>\n",
       "endobj\n",
       "\n",
       ", null, nothing, Dict{CosName, PDFIO.PD.PDFont}(), Dict{CosName, PDFIO.PD.PDXObject}())"
      ]
     },
     "execution_count": 152,
     "metadata": {},
     "output_type": "execute_result"
    }
   ],
   "source": [
    "page = pdDocGetPage(doc, 1)"
   ]
  },
  {
   "cell_type": "code",
   "execution_count": 153,
   "metadata": {},
   "outputs": [
    {
     "name": "stdout",
     "output_type": "stream",
     "text": [
      "     \n",
      "\n",
      "    GOFACTUUR                                                     \n",
      "\n",
      "\n",
      "\n",
      "\n",
      "   DATUM                 FACTUURNUMMER       STRNGR.C \n",
      "\n",
      "   23/1/2021               6                        Heuzelstraat 34 \n",
      "                                                      9790 Wortegem-Petegem \n",
      "                                                     0494664981 \n",
      "                                                     Fax: / \n",
      "                                                     Strngrclothingcompany@gmail.com \n",
      "   FACTUUR AAN:                                        BTW nr. 0729909558 \n",
      "   LACUS BV                                        BE62 1030 6202 1161 \n",
      "   BE0776625055 \n",
      "   LACUS@GMAIL.COM \n",
      "   Jan-baptiste davidstraat \n",
      "   1 Belgium \n",
      "     \n",
      "     VERKOPER      FUNCTIE         BETALINGSVOORWAARDEN   VERVALDATUM \n",
      "\n",
      "                                     Te betalen bij ontvangst               \n",
      "\n",
      "     \n",
      "     AANTAL          OMSCHRIJVING     PRIJS PER EENHEID  REGELTOTAAL \n",
      "     \n",
      "     \n",
      "     1                Bedrukking Trui       €  55                €  55 \n",
      "\n",
      "\n",
      "     1                Bedrukking tshirt       € 20                 € 20 \n",
      "\n",
      "\n",
      "                                                              \n",
      "\n",
      "\n",
      "                                                     Subtotaal                75€ \n",
      "                                                            Vrijstelling BTW volgens artikel Btw     56 van het btw wetboek \n",
      "                                                       Totaal                75€ \n",
      "     \n",
      "     \n",
      "\n",
      "\n",
      "\n",
      "\n",
      "\n",
      "\n",
      "\n",
      "                                                                                      \n",
      "     "
     ]
    }
   ],
   "source": [
    "info2=pdPageExtractText(stdout, page);"
   ]
  },
  {
   "cell_type": "code",
   "execution_count": 154,
   "metadata": {},
   "outputs": [
    {
     "data": {
      "text/plain": [
       "getPDFText (generic function with 1 method)"
      ]
     },
     "execution_count": 154,
     "metadata": {},
     "output_type": "execute_result"
    }
   ],
   "source": [
    "function getPDFText(src, out)\n",
    "    # handle that can be used for subsequence operations on the document.\n",
    "    doc = pdDocOpen(src)\n",
    "    \n",
    "    # Metadata extracted from the PDF document. \n",
    "    # This value is retained and returned as the return from the function. \n",
    "    docinfo = pdDocGetInfo(doc) \n",
    "    open(out, \"w\") do io\n",
    "    \n",
    "        # Returns number of pages in the document       \n",
    "        npage = pdDocGetPageCount(doc)\n",
    "        #println(npage)\n",
    "\n",
    "        for i=1:npage\n",
    "        \n",
    "            # handle to the specific page given the number index. \n",
    "            page = pdDocGetPage(doc, i)\n",
    "            #println(i)\n",
    "            # Extract text from the page and write it to the output file.\n",
    "            d=pdPageExtractText(io, page)\n",
    "            println(d)\n",
    "            #println(io)\n",
    "\n",
    "        end\n",
    "    end\n",
    "    # Close the document handle. \n",
    "    # The doc handle should not be used after this call\n",
    "    pdDocClose(doc)\n",
    "    return docinfo\n",
    "end"
   ]
  },
  {
   "cell_type": "code",
   "execution_count": 155,
   "metadata": {},
   "outputs": [
    {
     "data": {
      "text/plain": [
       "\n",
       "PDDoc ==>\n",
       "\n",
       "CosDoc ==>\n",
       "\tfilepath:\t\t/Users/casper/Desktop/Bachelorproef/facturen/FACTUUR LACUS.pdf\n",
       "\tsize:\t\t\t152059\n",
       "\thasNativeXRefStm:\t false\n",
       "\tTrailer dictionaries: \n",
       "\t<<\n",
       "\t/Root\t31 0 R\n",
       "\t/Size\t63\n",
       "\t/Info\t62 0 R\n",
       "\t/ID\t[<f7a8a58d557b45042219ab89075e2a31> <f7a8a58d557b45042219ab89075e2a31> ]\n",
       ">>\n",
       "\n",
       "Catalog:\n",
       "31 0 obj\n",
       "<<\n",
       "\t/Version\t/1.4\n",
       "\t/Pages\t2 0 R\n",
       "\t/Type\t/Catalog\n",
       ">>\n",
       "endobj\n",
       "\n",
       "isTagged: none\n"
      ]
     },
     "execution_count": 155,
     "metadata": {},
     "output_type": "execute_result"
    }
   ],
   "source": [
    "doc = pdDocOpen(\"/Users/casper/Desktop/Bachelorproef/facturen/FACTUUR LACUS.pdf\")"
   ]
  },
  {
   "cell_type": "code",
   "execution_count": 156,
   "metadata": {},
   "outputs": [
    {
     "data": {
      "text/plain": [
       "PDFIO.PD.PDPageImpl(\n",
       "PDDoc ==>\n",
       "\n",
       "CosDoc ==>\n",
       "\tfilepath:\t\t/Users/casper/Desktop/Bachelorproef/facturen/FACTUUR LACUS.pdf\n",
       "\tsize:\t\t\t152059\n",
       "\thasNativeXRefStm:\t false\n",
       "\tTrailer dictionaries: \n",
       "\t<<\n",
       "\t/Root\t31 0 R\n",
       "\t/Size\t63\n",
       "\t/Info\t62 0 R\n",
       "\t/ID\t[<f7a8a58d557b45042219ab89075e2a31> <f7a8a58d557b45042219ab89075e2a31> ]\n",
       ">>\n",
       "\n",
       "Catalog:\n",
       "31 0 obj\n",
       "<<\n",
       "\t/Version\t/1.4\n",
       "\t/Pages\t2 0 R\n",
       "\t/Type\t/Catalog\n",
       ">>\n",
       "endobj\n",
       "\n",
       "isTagged: none\n",
       ", \n",
       "1 0 obj\n",
       "<<\n",
       "\t/MediaBox\t[0 0 595 842 ]\n",
       "\t/Resources\t4 0 R\n",
       "\t/Contents\t3 0 R\n",
       "\t/Parent\t2 0 R\n",
       "\t/Type\t/Page\n",
       ">>\n",
       "endobj\n",
       "\n",
       ", null, nothing, Dict{CosName, PDFIO.PD.PDFont}(), Dict{CosName, PDFIO.PD.PDXObject}())"
      ]
     },
     "execution_count": 156,
     "metadata": {},
     "output_type": "execute_result"
    }
   ],
   "source": [
    "page = pdDocGetPage(doc, 1)\n"
   ]
  },
  {
   "cell_type": "code",
   "execution_count": 157,
   "metadata": {},
   "outputs": [
    {
     "name": "stdout",
     "output_type": "stream",
     "text": [
      "     \n",
      "\n",
      "    GOFACTUUR                                                     \n",
      "\n",
      "\n",
      "\n",
      "\n",
      "   DATUM                 FACTUURNUMMER       STRNGR.C \n",
      "\n",
      "   23/1/2021               6                        Heuzelstraat 34 \n",
      "                                                      9790 Wortegem-Petegem \n",
      "                                                     0494664981 \n",
      "                                                     Fax: / \n",
      "                                                     Strngrclothingcompany@gmail.com \n",
      "   FACTUUR AAN:                                        BTW nr. 0729909558 \n",
      "   LACUS BV                                        BE62 1030 6202 1161 \n",
      "   BE0776625055 \n",
      "   LACUS@GMAIL.COM \n",
      "   Jan-baptiste davidstraat \n",
      "   1 Belgium \n",
      "     \n",
      "     VERKOPER      FUNCTIE         BETALINGSVOORWAARDEN   VERVALDATUM \n",
      "\n",
      "                                     Te betalen bij ontvangst               \n",
      "\n",
      "     \n",
      "     AANTAL          OMSCHRIJVING     PRIJS PER EENHEID  REGELTOTAAL \n",
      "     \n",
      "     \n",
      "     1                Bedrukking Trui       €  55                €  55 \n",
      "\n",
      "\n",
      "     1                Bedrukking tshirt       € 20                 € 20 \n",
      "\n",
      "\n",
      "                                                              \n",
      "\n",
      "\n",
      "                                                     Subtotaal                75€ \n",
      "                                                            Vrijstelling BTW volgens artikel Btw     56 van het btw wetboek \n",
      "                                                       Totaal                75€ \n",
      "     \n",
      "     \n",
      "\n",
      "\n",
      "\n",
      "\n",
      "\n",
      "\n",
      "\n",
      "                                                                                      \n",
      "     "
     ]
    },
    {
     "data": {
      "text/plain": [
       "IJulia.IJuliaStdio{Base.PipeEndpoint}(IOContext(Base.PipeEndpoint(RawFD(44) open, 0 bytes waiting)))"
      ]
     },
     "execution_count": 157,
     "metadata": {},
     "output_type": "execute_result"
    }
   ],
   "source": [
    "data=pdPageExtractText(stdout,page)"
   ]
  },
  {
   "cell_type": "markdown",
   "metadata": {},
   "source": [
    "# DATA PREPERATION"
   ]
  },
  {
   "cell_type": "code",
   "execution_count": 158,
   "metadata": {},
   "outputs": [
    {
     "data": {
      "text/html": [
       "<div class=\"data-frame\"><p>0 rows × 6 columns</p><table class=\"data-frame\"><thead><tr><th></th><th>Email</th><th>Date</th><th>Country</th><th>VAT</th><th>Telephone</th><th>Total_€</th></tr><tr><th></th><th title=\"Any\">Any</th><th title=\"Any\">Any</th><th title=\"Any\">Any</th><th title=\"Any\">Any</th><th title=\"Any\">Any</th><th title=\"Any\">Any</th></tr></thead><tbody></tbody></table></div>"
      ],
      "text/latex": [
       "\\begin{tabular}{r|cccccc}\n",
       "\t& Email & Date & Country & VAT & Telephone & Total\\_€\\\\\n",
       "\t\\hline\n",
       "\t& Any & Any & Any & Any & Any & Any\\\\\n",
       "\t\\hline\n",
       "\\end{tabular}\n"
      ],
      "text/plain": [
       "\u001b[1m0×6 DataFrame\u001b[0m"
      ]
     },
     "execution_count": 158,
     "metadata": {},
     "output_type": "execute_result"
    }
   ],
   "source": [
    "dataset = DataFrame(\n",
    "  Email=[] ,\n",
    "  Date=[],\n",
    "  Country=[],\n",
    "  VAT=[],\n",
    "  Telephone=[],\n",
    "  Total_€=[]\n",
    ")"
   ]
  },
  {
   "cell_type": "code",
   "execution_count": 159,
   "metadata": {},
   "outputs": [
    {
     "data": {
      "text/html": [
       "<div class=\"data-frame\"><p>227 rows × 20 columns (omitted printing of 16 columns)</p><table class=\"data-frame\"><thead><tr><th></th><th>Country</th><th>Region</th><th>Population</th><th>Area (sq. mi.)</th></tr><tr><th></th><th title=\"String\">String</th><th title=\"String\">String</th><th title=\"Int64\">Int64</th><th title=\"Int64\">Int64</th></tr></thead><tbody><tr><th>1</th><td>Afghanistan </td><td>ASIA (EX. NEAR EAST)         </td><td>31056997</td><td>647500</td></tr><tr><th>2</th><td>Albania </td><td>EASTERN EUROPE                     </td><td>3581655</td><td>28748</td></tr><tr><th>3</th><td>Algeria </td><td>NORTHERN AFRICA                    </td><td>32930091</td><td>2381740</td></tr><tr><th>4</th><td>American Samoa </td><td>OCEANIA                            </td><td>57794</td><td>199</td></tr><tr><th>5</th><td>Andorra </td><td>WESTERN EUROPE                     </td><td>71201</td><td>468</td></tr><tr><th>6</th><td>Angola </td><td>SUB-SAHARAN AFRICA                 </td><td>12127071</td><td>1246700</td></tr><tr><th>7</th><td>Anguilla </td><td>LATIN AMER. &amp; CARIB    </td><td>13477</td><td>102</td></tr><tr><th>8</th><td>Antigua &amp; Barbuda </td><td>LATIN AMER. &amp; CARIB    </td><td>69108</td><td>443</td></tr><tr><th>9</th><td>Argentina </td><td>LATIN AMER. &amp; CARIB    </td><td>39921833</td><td>2766890</td></tr><tr><th>10</th><td>Armenia </td><td>C.W. OF IND. STATES </td><td>2976372</td><td>29800</td></tr><tr><th>11</th><td>Aruba </td><td>LATIN AMER. &amp; CARIB    </td><td>71891</td><td>193</td></tr><tr><th>12</th><td>Australia </td><td>OCEANIA                            </td><td>20264082</td><td>7686850</td></tr><tr><th>13</th><td>Austria </td><td>WESTERN EUROPE                     </td><td>8192880</td><td>83870</td></tr><tr><th>14</th><td>Azerbaijan </td><td>C.W. OF IND. STATES </td><td>7961619</td><td>86600</td></tr><tr><th>15</th><td>Bahamas, The </td><td>LATIN AMER. &amp; CARIB    </td><td>303770</td><td>13940</td></tr><tr><th>16</th><td>Bahrain </td><td>NEAR EAST                          </td><td>698585</td><td>665</td></tr><tr><th>17</th><td>Bangladesh </td><td>ASIA (EX. NEAR EAST)         </td><td>147365352</td><td>144000</td></tr><tr><th>18</th><td>Barbados </td><td>LATIN AMER. &amp; CARIB    </td><td>279912</td><td>431</td></tr><tr><th>19</th><td>Belarus </td><td>C.W. OF IND. STATES </td><td>10293011</td><td>207600</td></tr><tr><th>20</th><td>Belgium </td><td>WESTERN EUROPE                     </td><td>10379067</td><td>30528</td></tr><tr><th>21</th><td>Belize </td><td>LATIN AMER. &amp; CARIB    </td><td>287730</td><td>22966</td></tr><tr><th>22</th><td>Benin </td><td>SUB-SAHARAN AFRICA                 </td><td>7862944</td><td>112620</td></tr><tr><th>23</th><td>Bermuda </td><td>NORTHERN AMERICA                   </td><td>65773</td><td>53</td></tr><tr><th>24</th><td>Bhutan </td><td>ASIA (EX. NEAR EAST)         </td><td>2279723</td><td>47000</td></tr><tr><th>25</th><td>Bolivia </td><td>LATIN AMER. &amp; CARIB    </td><td>8989046</td><td>1098580</td></tr><tr><th>26</th><td>Bosnia &amp; Herzegovina </td><td>EASTERN EUROPE                     </td><td>4498976</td><td>51129</td></tr><tr><th>27</th><td>Botswana </td><td>SUB-SAHARAN AFRICA                 </td><td>1639833</td><td>600370</td></tr><tr><th>28</th><td>Brazil </td><td>LATIN AMER. &amp; CARIB    </td><td>188078227</td><td>8511965</td></tr><tr><th>29</th><td>British Virgin Is. </td><td>LATIN AMER. &amp; CARIB    </td><td>23098</td><td>153</td></tr><tr><th>30</th><td>Brunei </td><td>ASIA (EX. NEAR EAST)         </td><td>379444</td><td>5770</td></tr><tr><th>&vellip;</th><td>&vellip;</td><td>&vellip;</td><td>&vellip;</td><td>&vellip;</td></tr></tbody></table></div>"
      ],
      "text/latex": [
       "\\begin{tabular}{r|ccccc}\n",
       "\t& Country & Region & Population & Area (sq. mi.) & \\\\\n",
       "\t\\hline\n",
       "\t& String & String & Int64 & Int64 & \\\\\n",
       "\t\\hline\n",
       "\t1 & Afghanistan  & ASIA (EX. NEAR EAST)          & 31056997 & 647500 & $\\dots$ \\\\\n",
       "\t2 & Albania  & EASTERN EUROPE                      & 3581655 & 28748 & $\\dots$ \\\\\n",
       "\t3 & Algeria  & NORTHERN AFRICA                     & 32930091 & 2381740 & $\\dots$ \\\\\n",
       "\t4 & American Samoa  & OCEANIA                             & 57794 & 199 & $\\dots$ \\\\\n",
       "\t5 & Andorra  & WESTERN EUROPE                      & 71201 & 468 & $\\dots$ \\\\\n",
       "\t6 & Angola  & SUB-SAHARAN AFRICA                  & 12127071 & 1246700 & $\\dots$ \\\\\n",
       "\t7 & Anguilla  & LATIN AMER. \\& CARIB     & 13477 & 102 & $\\dots$ \\\\\n",
       "\t8 & Antigua \\& Barbuda  & LATIN AMER. \\& CARIB     & 69108 & 443 & $\\dots$ \\\\\n",
       "\t9 & Argentina  & LATIN AMER. \\& CARIB     & 39921833 & 2766890 & $\\dots$ \\\\\n",
       "\t10 & Armenia  & C.W. OF IND. STATES  & 2976372 & 29800 & $\\dots$ \\\\\n",
       "\t11 & Aruba  & LATIN AMER. \\& CARIB     & 71891 & 193 & $\\dots$ \\\\\n",
       "\t12 & Australia  & OCEANIA                             & 20264082 & 7686850 & $\\dots$ \\\\\n",
       "\t13 & Austria  & WESTERN EUROPE                      & 8192880 & 83870 & $\\dots$ \\\\\n",
       "\t14 & Azerbaijan  & C.W. OF IND. STATES  & 7961619 & 86600 & $\\dots$ \\\\\n",
       "\t15 & Bahamas, The  & LATIN AMER. \\& CARIB     & 303770 & 13940 & $\\dots$ \\\\\n",
       "\t16 & Bahrain  & NEAR EAST                           & 698585 & 665 & $\\dots$ \\\\\n",
       "\t17 & Bangladesh  & ASIA (EX. NEAR EAST)          & 147365352 & 144000 & $\\dots$ \\\\\n",
       "\t18 & Barbados  & LATIN AMER. \\& CARIB     & 279912 & 431 & $\\dots$ \\\\\n",
       "\t19 & Belarus  & C.W. OF IND. STATES  & 10293011 & 207600 & $\\dots$ \\\\\n",
       "\t20 & Belgium  & WESTERN EUROPE                      & 10379067 & 30528 & $\\dots$ \\\\\n",
       "\t21 & Belize  & LATIN AMER. \\& CARIB     & 287730 & 22966 & $\\dots$ \\\\\n",
       "\t22 & Benin  & SUB-SAHARAN AFRICA                  & 7862944 & 112620 & $\\dots$ \\\\\n",
       "\t23 & Bermuda  & NORTHERN AMERICA                    & 65773 & 53 & $\\dots$ \\\\\n",
       "\t24 & Bhutan  & ASIA (EX. NEAR EAST)          & 2279723 & 47000 & $\\dots$ \\\\\n",
       "\t25 & Bolivia  & LATIN AMER. \\& CARIB     & 8989046 & 1098580 & $\\dots$ \\\\\n",
       "\t26 & Bosnia \\& Herzegovina  & EASTERN EUROPE                      & 4498976 & 51129 & $\\dots$ \\\\\n",
       "\t27 & Botswana  & SUB-SAHARAN AFRICA                  & 1639833 & 600370 & $\\dots$ \\\\\n",
       "\t28 & Brazil  & LATIN AMER. \\& CARIB     & 188078227 & 8511965 & $\\dots$ \\\\\n",
       "\t29 & British Virgin Is.  & LATIN AMER. \\& CARIB     & 23098 & 153 & $\\dots$ \\\\\n",
       "\t30 & Brunei  & ASIA (EX. NEAR EAST)          & 379444 & 5770 & $\\dots$ \\\\\n",
       "\t$\\dots$ & $\\dots$ & $\\dots$ & $\\dots$ & $\\dots$ &  \\\\\n",
       "\\end{tabular}\n"
      ],
      "text/plain": [
       "\u001b[1m227×20 DataFrame\u001b[0m\n",
       "\u001b[1m Row \u001b[0m│\u001b[1m Country            \u001b[0m\u001b[1m Region                            \u001b[0m\u001b[1m Population \u001b[0m\u001b[1m Area\u001b[0m ⋯\n",
       "\u001b[1m     \u001b[0m│\u001b[90m String             \u001b[0m\u001b[90m String                            \u001b[0m\u001b[90m Int64      \u001b[0m\u001b[90m Int6\u001b[0m ⋯\n",
       "─────┼──────────────────────────────────────────────────────────────────────────\n",
       "   1 │ Afghanistan         ASIA (EX. NEAR EAST)                 31056997       ⋯\n",
       "   2 │ Albania             EASTERN EUROPE                  …     3581655\n",
       "   3 │ Algeria             NORTHERN AFRICA                 …    32930091\n",
       "   4 │ American Samoa      OCEANIA                         …       57794\n",
       "   5 │ Andorra             WESTERN EUROPE                  …       71201       ⋯\n",
       "   6 │ Angola              SUB-SAHARAN AFRICA              …    12127071\n",
       "   7 │ Anguilla            LATIN AMER. & CARIB                     13477\n",
       "   8 │ Antigua & Barbuda   LATIN AMER. & CARIB                     69108\n",
       "   9 │ Argentina           LATIN AMER. & CARIB                  39921833       ⋯\n",
       "  10 │ Armenia             C.W. OF IND. STATES                   2976372\n",
       "  11 │ Aruba               LATIN AMER. & CARIB                     71891\n",
       "  ⋮  │         ⋮                           ⋮                      ⋮            ⋱\n",
       " 218 │ Vanuatu             OCEANIA                         …      208869\n",
       " 219 │ Venezuela           LATIN AMER. & CARIB                  25730435       ⋯\n",
       " 220 │ Vietnam             ASIA (EX. NEAR EAST)                 84402966\n",
       " 221 │ Virgin Islands      LATIN AMER. & CARIB                    108605\n",
       " 222 │ Wallis and Futuna   OCEANIA                         …       16025\n",
       " 223 │ West Bank           NEAR EAST                       …     2460492       ⋯\n",
       " 224 │ Western Sahara      NORTHERN AFRICA                 …      273008\n",
       " 225 │ Yemen               NEAR EAST                       …    21456188\n",
       " 226 │ Zambia              SUB-SAHARAN AFRICA              …    11502010\n",
       " 227 │ Zimbabwe            SUB-SAHARAN AFRICA              …    12236805       ⋯\n",
       "\u001b[36m                                                 17 columns and 206 rows omitted\u001b[0m"
      ]
     },
     "execution_count": 159,
     "metadata": {},
     "output_type": "execute_result"
    }
   ],
   "source": [
    "countries= CSV.read(\"/Users/casper/Desktop/Bachelorproef/countries of the world.csv\",DataFrame)"
   ]
  },
  {
   "cell_type": "code",
   "execution_count": 160,
   "metadata": {},
   "outputs": [
    {
     "data": {
      "text/plain": [
       "9-element Vector{String}:\n",
       " \".DS_Store\"\n",
       " \"FACTUUR LACUS.pdf\"\n",
       " \"FACTUUR- ARNO OCKERMAN2.pdf\"\n",
       " \"FACTUUR- ARNO OCKERMAN3.pdf\"\n",
       " \"FACTUUR- SIEBE.pdf\"\n",
       " \"FACTUUR- VitalVanWelden2.pdf\"\n",
       " \"FACTUURBALVANWAREGEM.pdf\"\n",
       " \"factuur acast.pdf\"\n",
       " \"factuur bal van waregem.pdf\""
      ]
     },
     "execution_count": 160,
     "metadata": {},
     "output_type": "execute_result"
    }
   ],
   "source": [
    "pwd()\n",
    "cd(\"/Users/casper/Desktop/Bachelorproef/facturen\")\n",
    "pwd()\n",
    "\n",
    "files=cd(readdir, \"/Users/casper/Desktop/Bachelorproef/facturen\")"
   ]
  },
  {
   "cell_type": "code",
   "execution_count": 161,
   "metadata": {},
   "outputs": [
    {
     "data": {
      "text/plain": [
       "9-element Vector{String}:\n",
       " \".DS_Store\"\n",
       " \"FACTUUR LACUS.pdf\"\n",
       " \"FACTUUR- ARNO OCKERMAN2.pdf\"\n",
       " \"FACTUUR- ARNO OCKERMAN3.pdf\"\n",
       " \"FACTUUR- SIEBE.pdf\"\n",
       " \"FACTUUR- VitalVanWelden2.pdf\"\n",
       " \"FACTUURBALVANWAREGEM.pdf\"\n",
       " \"factuur acast.pdf\"\n",
       " \"factuur bal van waregem.pdf\""
      ]
     },
     "execution_count": 161,
     "metadata": {},
     "output_type": "execute_result"
    }
   ],
   "source": [
    "files # DS_store uitfilteren"
   ]
  },
  {
   "cell_type": "code",
   "execution_count": 162,
   "metadata": {},
   "outputs": [
    {
     "data": {
      "text/plain": [
       "\".DS_Store\""
      ]
     },
     "execution_count": 162,
     "metadata": {},
     "output_type": "execute_result"
    }
   ],
   "source": [
    "popfirst!(files)"
   ]
  },
  {
   "cell_type": "code",
   "execution_count": 163,
   "metadata": {},
   "outputs": [
    {
     "data": {
      "text/plain": [
       "\"/Users/casper/Desktop/Bachelorproef/facturen/\""
      ]
     },
     "execution_count": 163,
     "metadata": {},
     "output_type": "execute_result"
    }
   ],
   "source": [
    "y=pwd()\n",
    "y=y*'/'"
   ]
  },
  {
   "cell_type": "code",
   "execution_count": 164,
   "metadata": {},
   "outputs": [
    {
     "data": {
      "text/plain": [
       "\"/Users/casper/Desktop/Bachelorproef/facturen/FACTUUR LACUS.pdf\""
      ]
     },
     "execution_count": 164,
     "metadata": {},
     "output_type": "execute_result"
    }
   ],
   "source": [
    "y*files[1]"
   ]
  },
  {
   "cell_type": "code",
   "execution_count": 165,
   "metadata": {},
   "outputs": [
    {
     "name": "stdout",
     "output_type": "stream",
     "text": [
      "/Users/casper/Desktop/Bachelorproef/facturen/FACTUUR LACUS.pdf\n",
      "/Users/casper/Desktop/Bachelorproef/facturen/FACTUUR- ARNO OCKERMAN2.pdf\n",
      "/Users/casper/Desktop/Bachelorproef/facturen/FACTUUR- ARNO OCKERMAN3.pdf\n",
      "/Users/casper/Desktop/Bachelorproef/facturen/FACTUUR- SIEBE.pdf\n",
      "/Users/casper/Desktop/Bachelorproef/facturen/FACTUUR- VitalVanWelden2.pdf\n",
      "/Users/casper/Desktop/Bachelorproef/facturen/FACTUURBALVANWAREGEM.pdf\n",
      "/Users/casper/Desktop/Bachelorproef/facturen/factuur acast.pdf\n",
      "/Users/casper/Desktop/Bachelorproef/facturen/factuur bal van waregem.pdf\n"
     ]
    }
   ],
   "source": [
    "x=1\n",
    "for i in files\n",
    "    println(y*i)\n",
    "    if i!=\".DS_Store\"\n",
    "        getPDFText(y*i,\"text$x\")\n",
    "        x=x+1\n",
    "    else \n",
    "        x=x-1\n",
    "    end\n",
    "end"
   ]
  },
  {
   "cell_type": "code",
   "execution_count": 166,
   "metadata": {},
   "outputs": [
    {
     "data": {
      "text/plain": [
       "Dict{String, Union{CDDate, String, CosObject}} with 5 entries:\n",
       "  \"Producer\"     => \"macOS Versie 12.1 (build 21C52) Quartz PDFContext\"\n",
       "  \"CreationDate\" => D:20220404083438Z\n",
       "  \"ModDate\"      => D:20220404083438Z\n",
       "  \"Creator\"      => \"Word\"\n",
       "  \"Title\"        => \"Microsoft Word - FACTUUR LACUS.docx\""
      ]
     },
     "execution_count": 166,
     "metadata": {},
     "output_type": "execute_result"
    }
   ],
   "source": [
    "getPDFText(\"/Users/casper/Desktop/Bachelorproef/facturen/FACTUUR- ARNO OCKERMAN3.pdf\",\"text1\")\n",
    "getPDFText(\"/Users/casper/Desktop/Bachelorproef/facturen/FACTUUR- ARNO OCKERMAN2.pdf\",\"text2\")\n",
    "getPDFText(\"/Users/casper/Desktop/Bachelorproef/facturen/FACTUUR- SIEBE.pdf\",\"text3\")\n",
    "getPDFText(\"/Users/casper/Desktop/Bachelorproef/facturen/factuur acast.pdf\",\"text4\")\n",
    "getPDFText(\"/Users/casper/Desktop/Bachelorproef/facturen/FACTUURBALVANWAREGEM.pdf\",\"text5\")\n",
    "getPDFText(\"/Users/casper/Desktop/Bachelorproef/facturen/FACTUUR- VitalVanWelden2.pdf\",\"text6\")\n",
    "getPDFText(\"/Users/casper/Desktop/Bachelorproef/facturen/factuur bal van waregem.pdf\",\"text7\")\n",
    "getPDFText(\"/Users/casper/Desktop/Bachelorproef/facturen/FACTUUR LACUS.pdf\",\"text8\")\n"
   ]
  },
  {
   "cell_type": "code",
   "execution_count": 167,
   "metadata": {},
   "outputs": [
    {
     "data": {
      "text/plain": [
       "8"
      ]
     },
     "execution_count": 167,
     "metadata": {},
     "output_type": "execute_result"
    }
   ],
   "source": [
    "length(files)"
   ]
  },
  {
   "cell_type": "code",
   "execution_count": 168,
   "metadata": {},
   "outputs": [
    {
     "name": "stdout",
     "output_type": "stream",
     "text": [
      "1\n",
      "     \n",
      "\n",
      "     FACTUUR                                                        \n",
      "\n",
      "\n",
      "\n",
      "\n",
      "     DATUM               FACTUURNUMMER     STRNGR.C \n",
      "\n",
      "     26/12/2022            18                     Heuzelstraat 34 \n",
      "                                                  9790 Wortegem-Petegem \n",
      "                                                   0494664981 \n",
      "                                                   Fax: / \n",
      "                                                   Strngrclothingcompany@gmail.com \n",
      "     FACTUUR AAN:                                   BTW nr. 0729909558 \n",
      "     Ockerman Arno                                   BE62 1030 6202 1161 \n",
      "     Martijn van Torhoutstraat 32 \n",
      "     201, 9700 Oudenaarde, \n",
      "     Belgium \n",
      "     0474448833 \n",
      "     BE0771433476    \n",
      "     VERKOPER     FUNCTIE         BETALINGSVOORWAARDEN   VERVALDATUM \n",
      "\n",
      "                                     Te betalen bij ontvangst              1 MEI ANDERS 20% OP \n",
      "                                                               DE PRIJS \n",
      "     \n",
      "     AANTAL          OMSCHRIJVING     PRIJS PER EENHEID  REGELTOTAAL \n",
      "     \n",
      "     \n",
      "     7                HOODIE            €  32                €  224 \n",
      "\n",
      "\n",
      "                                                     Subtotaal                €224 \n",
      "                                                           Vrijstelling BTW volgens artikel Btw     56 van het btw wetboek \n",
      "                                                       Totaal                €224 \n",
      "     \n",
      "     \n",
      "     \n",
      "     \n",
      "     \n",
      "     \n",
      "     \n",
      "     \n",
      "     \n",
      "     \n",
      "                                                                                      \n",
      "     \n",
      "     \n",
      "     \n",
      "                             ALGEMENE VOORWAARDEN \n",
      "\n",
      "\n",
      "\n",
      "\n",
      "\n",
      "\n",
      "\n",
      "\n",
      "\n",
      "\n",
      "\n",
      "\n",
      "\n",
      "\n",
      "\n",
      "\n",
      "\n",
      "\n",
      "\n",
      "\n",
      "\n",
      "\n",
      "\n",
      "\n",
      "\n",
      "\n",
      "\n",
      "\n",
      "\n",
      "\n",
      "\n",
      "\n",
      "\n",
      "\n",
      "\n",
      "\n",
      "\n",
      "\n",
      "\n",
      "\n",
      "\n",
      "\n",
      "\n",
      "\n",
      "\n",
      "\n",
      "\n",
      "\n",
      "\n",
      "\n",
      "\n",
      "\n",
      "\n",
      "\n",
      "\n",
      "\n",
      "\n",
      "\n",
      "     \n",
      "     \n",
      "\n",
      "          FACTUUR                                                             DATUM               FACTUURNUMMER     STRNGR.C      26/12/2022            18                     Heuzelstraat 34                                                   9790 Wortegem-Petegem                                                    0494664981                                                    Fax: /                                                    Strngrclothingcompany@gmail.com      FACTUUR AAN:                                   BTW nr. 0729909558      Ockerman Arno                                   BE62 1030 6202 1161      Martijn van Torhoutstraat 32      201, 9700 Oudenaarde,      Belgium      0474448833      BE0771433476         VERKOPER     FUNCTIE         BETALINGSVOORWAARDEN   VERVALDATUM                                      Te betalen bij ontvangst              1 MEI ANDERS 20% OP                                                                DE PRIJS           AANTAL          OMSCHRIJVING     PRIJS PER EENHEID  REGELTOTAAL                7                HOODIE            €  32                €  224                                                      Subtotaal                €224                                                            Vrijstelling BTW volgens artikel Btw     56 van het btw wetboek                                                        Totaal                €224                                                                                                                                                                                     ALGEMENE VOORWAARDEN           \n",
      "2\n",
      "     \n",
      "\n",
      "     FACTUUR                                                        \n",
      "\n",
      "\n",
      "\n",
      "\n",
      "     DATUM               FACTUURNUMMER     STRNGR.C \n",
      "\n",
      "     26/12/2022            8                      Heuzelstraat 34 \n",
      "                                                  9790 Wortegem-Petegem \n",
      "                                                   0494664981 \n",
      "                                                   Fax: / \n",
      "                                                   Strngrclothingcompany@gmail.com \n",
      "     FACTUUR AAN:                                   BTW nr. 0729909558 \n",
      "     Ockerman Arno                                   BE62 1030 6202 1161 \n",
      "     Martijn van Torhoutstraat 32 \n",
      "     201, 9700 Oudenaarde, \n",
      "     Belgium \n",
      "     BE0771433476 \n",
      "     Arno@gmail.com    \n",
      "     VERKOPER      FUNCTIE         BETALINGSVOORWAARDEN   VERVALDATUM \n",
      "\n",
      "                                     Te betalen bij ontvangst              1 MEI ANDERS 20% OP \n",
      "                                                               DE PRIJS \n",
      "     \n",
      "     AANTAL          OMSCHRIJVING     PRIJS PER EENHEID  REGELTOTAAL \n",
      "     \n",
      "     \n",
      "     5                HOODIE            €  32                €  160 \n",
      "\n",
      "\n",
      "                                                     Subtotaal                160€ \n",
      "                                                            Vrijstelling BTW volgens artikel Btw     56 van het btw wetboek \n",
      "                                                       Totaal                160€ \n",
      "     \n",
      "     \n",
      "     \n",
      "     \n",
      "     \n",
      "     \n",
      "     \n",
      "     \n",
      "     \n",
      "     \n",
      "                                                                                      \n",
      "     \n",
      "     \n",
      "     \n",
      "                             ALGEMENE VOORWAARDEN \n",
      "\n",
      "\n",
      "\n",
      "\n",
      "\n",
      "\n",
      "\n",
      "\n",
      "\n",
      "\n",
      "\n",
      "\n",
      "\n",
      "\n",
      "\n",
      "\n",
      "\n",
      "\n",
      "\n",
      "\n",
      "\n",
      "\n",
      "\n",
      "\n",
      "\n",
      "\n",
      "\n",
      "\n",
      "\n",
      "\n",
      "\n",
      "\n",
      "\n",
      "\n",
      "\n",
      "\n",
      "\n",
      "\n",
      "\n",
      "\n",
      "\n",
      "\n",
      "\n",
      "\n",
      "\n",
      "\n",
      "\n",
      "\n",
      "\n",
      "\n",
      "\n",
      "\n",
      "\n",
      "\n",
      "\n",
      "\n",
      "\n",
      "\n",
      "     \n",
      "     \n",
      "\n",
      "          FACTUUR                                                             DATUM               FACTUURNUMMER     STRNGR.C      26/12/2022            8                      Heuzelstraat 34                                                   9790 Wortegem-Petegem                                                    0494664981                                                    Fax: /                                                    Strngrclothingcompany@gmail.com      FACTUUR AAN:                                   BTW nr. 0729909558      Ockerman Arno                                   BE62 1030 6202 1161      Martijn van Torhoutstraat 32      201, 9700 Oudenaarde,      Belgium      BE0771433476      Arno@gmail.com         VERKOPER      FUNCTIE         BETALINGSVOORWAARDEN   VERVALDATUM                                      Te betalen bij ontvangst              1 MEI ANDERS 20% OP                                                                DE PRIJS           AANTAL          OMSCHRIJVING     PRIJS PER EENHEID  REGELTOTAAL                5                HOODIE            €  32                €  160                                                      Subtotaal                160€                                                             Vrijstelling BTW volgens artikel Btw     56 van het btw wetboek                                                        Totaal                160€                                                                                                                                                                                     ALGEMENE VOORWAARDEN           \n",
      "3\n",
      "     \n",
      "\n",
      "     FACTUUR                                                          \n",
      "\n",
      "\n",
      "\n",
      "\n",
      "     DATUM                FACTUURNUMMER    STRNGR.C \n",
      "\n",
      "     10/2/2022              12                    Heuzelstraat 34 \n",
      "                                                   9790 Wortegem-Petegem \n",
      "                                                   0494664981 \n",
      "                                                   Fax: / \n",
      "                                                   Strngrclothingcompany@gmail.com \n",
      "     FACTUUR AAN:                                   BTW nr. 0729909558 \n",
      "     Sbridoux.business@gmail.com                          BE62103062021161 \n",
      "     $B Accountancy  \n",
      "     BE0775755025 \n",
      "     +32483446663 \n",
      "     Tuinwijk 82 8760 Meulebeke \n",
      "     Belgium \n",
      "     \n",
      "     VERKOPER      FUNCTIE         BETALINGSVOORWAARDEN   VERVALDATUM \n",
      "\n",
      "                                     Te betalen bij ontvangst              1 MEI ANDERS 20% OP \n",
      "                                                               DE PRIJS \n",
      "     \n",
      "     AANTAL          OMSCHRIJVING     PRIJS PER EENHEID  REGELTOTAAL \n",
      "     \n",
      "     \n",
      "     1                HOODIE            €  54,99              €  54,99 \n",
      "\n",
      "\n",
      "                                                     Subtotaal               54,99€ \n",
      "                                                            Vrijstelling BTW volgens artikel Btw     56 van het btw wetboek \n",
      "                                                       Totaal               54,99€ \n",
      "     \n",
      "     \n",
      "     \n",
      "     \n",
      "     \n",
      "     \n",
      "     \n",
      "     \n",
      "     \n",
      "     \n",
      "                                                                                      \n",
      "     \n",
      "     \n",
      "     \n",
      "                             ALGEMENE VOORWAARDEN \n",
      "\n",
      "\n",
      "\n",
      "\n",
      "\n",
      "\n",
      "\n",
      "\n",
      "\n",
      "\n",
      "\n",
      "\n",
      "\n",
      "\n",
      "\n",
      "\n",
      "\n",
      "\n",
      "\n",
      "\n",
      "\n",
      "\n",
      "\n",
      "\n",
      "\n",
      "\n",
      "\n",
      "\n",
      "\n",
      "\n",
      "\n",
      "\n",
      "\n",
      "\n",
      "\n",
      "\n",
      "\n",
      "\n",
      "\n",
      "\n",
      "\n",
      "\n",
      "\n",
      "\n",
      "\n",
      "\n",
      "\n",
      "\n",
      "\n",
      "\n",
      "\n",
      "\n",
      "\n",
      "\n",
      "\n",
      "\n",
      "\n",
      "\n",
      "     \n",
      "     \n",
      "\n",
      "          FACTUUR                                                               DATUM                FACTUURNUMMER    STRNGR.C      10/2/2022              12                    Heuzelstraat 34                                                    9790 Wortegem-Petegem                                                    0494664981                                                    Fax: /                                                    Strngrclothingcompany@gmail.com      FACTUUR AAN:                                   BTW nr. 0729909558      Sbridoux.business@gmail.com                          BE62103062021161      $B Accountancy       BE0775755025      +32483446663      Tuinwijk 82 8760 Meulebeke      Belgium           VERKOPER      FUNCTIE         BETALINGSVOORWAARDEN   VERVALDATUM                                      Te betalen bij ontvangst              1 MEI ANDERS 20% OP                                                                DE PRIJS           AANTAL          OMSCHRIJVING     PRIJS PER EENHEID  REGELTOTAAL                1                HOODIE            €  54,99              €  54,99                                                      Subtotaal               54,99€                                                             Vrijstelling BTW volgens artikel Btw     56 van het btw wetboek                                                        Totaal               54,99€                                                                                                                                                                                     ALGEMENE VOORWAARDEN           \n",
      "4\n",
      "     \n",
      "\n",
      "   GOFACTUUR                                                          \n",
      "\n",
      "\n",
      "\n",
      "\n",
      "   DATUM                     FACTUURNUMMER   STRNGR.C \n",
      "\n",
      "   23/1/2021                   7                     Heuzelstraat 34 \n",
      "                                                     9790 Wortegem-Petegem \n",
      "                                                     0494664981 \n",
      "                                                     Fax: / \n",
      "                                                     Strngrclothingcompany@gmail.com \n",
      "   FACTUUR AAN:                                        BTW nr. 0729909558 \n",
      "                                                     BE62 1030 6202 1161 \n",
      "   lennertgrootaerd@gmail.com \n",
      "    \n",
      "   Lennert Grootaerd  \n",
      "   Sterrestraat 77 \n",
      "   8680 Koekelare \n",
      "   BE0725470720 \n",
      "    \n",
      "   Belgie \n",
      "     \n",
      "     VERKOPER      FUNCTIE          BETALINGSVOORWAARDEN   VERVALDATUM \n",
      "\n",
      "\n",
      "                                      Te Betaling binnen 14 dagen. In geval van     \n",
      "                                      overschrijding, 5% intrest op het totaalbedrag. \n",
      "     \n",
      "     AANTAL          OMSCHRIJVING     PRIJS PER EENHEID  REGELTOTAAL \n",
      "     \n",
      "     \n",
      "     13               TSHIRT             €  15                €  195 \n",
      "\n",
      "\n",
      "                                                              \n",
      "\n",
      "\n",
      "                                                     Subtotaal                195€ \n",
      "                                                            Vrijstelling BTW volgens artikel Btw     56 van het btw wetboek \n",
      "                                                       Totaal                195€ \n",
      "     \n",
      "     \n",
      "     \n",
      "     \n",
      "     \n",
      "                                                                                      \n",
      "     \n",
      "     \n",
      "     \n",
      "     \n",
      "                             ALGEMENE VOORWAARDEN \n",
      "\n",
      "\n",
      "\n",
      "\n",
      "\n",
      "\n",
      "\n",
      "\n",
      "\n",
      "\n",
      "\n",
      "\n",
      "\n",
      "\n",
      "\n",
      "\n",
      "\n",
      "\n",
      "\n",
      "\n",
      "\n",
      "\n",
      "\n",
      "\n",
      "\n",
      "\n",
      "\n",
      "\n",
      "\n",
      "\n",
      "\n",
      "\n",
      "\n",
      "\n",
      "\n",
      "\n",
      "\n",
      "\n",
      "\n",
      "\n",
      "\n",
      "\n",
      "\n",
      "\n",
      "\n",
      "\n",
      "\n",
      "\n",
      "\n",
      "\n",
      "\n",
      "\n",
      "\n",
      "\n",
      "\n",
      "\n",
      "     \n",
      "     \n",
      "\n"
     ]
    },
    {
     "name": "stdout",
     "output_type": "stream",
     "text": [
      "        GOFACTUUR                                                             DATUM                     FACTUURNUMMER   STRNGR.C    23/1/2021                   7                     Heuzelstraat 34                                                      9790 Wortegem-Petegem                                                      0494664981                                                      Fax: /                                                      Strngrclothingcompany@gmail.com    FACTUUR AAN:                                        BTW nr. 0729909558                                                      BE62 1030 6202 1161    lennertgrootaerd@gmail.com        Lennert Grootaerd     Sterrestraat 77    8680 Koekelare    BE0725470720        Belgie           VERKOPER      FUNCTIE          BETALINGSVOORWAARDEN   VERVALDATUM                                       Te Betaling binnen 14 dagen. In geval van                                           overschrijding, 5% intrest op het totaalbedrag.           AANTAL          OMSCHRIJVING     PRIJS PER EENHEID  REGELTOTAAL                13               TSHIRT             €  15                €  195                                                                                                                    Subtotaal                195€                                                             Vrijstelling BTW volgens artikel Btw     56 van het btw wetboek                                                        Totaal                195€                                                                                                                                                                 ALGEMENE VOORWAARDEN           \n",
      "5\n",
      "     \n",
      "\n",
      "     FACTUUR                                                        \n",
      "\n",
      "\n",
      "\n",
      "\n",
      "     DATUM               FACTUURNUMMER     STRNGR.C \n",
      "\n",
      "     1/2/2022              9                      Heuzelstraat 34 \n",
      "                                                  9790 Wortegem-Petegem \n",
      "                                                   0494664981 \n",
      "                                                   Fax: / \n",
      "                                                   Strngrclothingcompany@gmail.com \n",
      "     FACTUUR AAN:                                   BTW nr. 0729909558 \n",
      "     LACUS BV                                       BE62 1030 6202 1161 \n",
      "     BE0776625055 \n",
      "     Jan-baptiste davidstraat 1  \n",
      "     LACUS@gmail.com \n",
      "     Belgie \n",
      "     \n",
      "     VERKOPER      FUNCTIE         BETALINGSVOORWAARDEN   VERVALDATUM \n",
      "\n",
      "                                     Te betalen bij ontvangst              1 MEI ANDERS 20% OP \n",
      "                                                               DE PRIJS \n",
      "     \n",
      "     AANTAL          OMSCHRIJVING     PRIJS PER EENHEID  REGELTOTAAL \n",
      "     \n",
      "     \n",
      "     4                MONDMASKER       €  4                 €  16 \n",
      "\n",
      "\n",
      "                                                     Subtotaal                16€ \n",
      "                                                            Vrijstelling BTW volgens artikel Btw     56 van het btw wetboek \n",
      "                                                       Totaal                16€ \n",
      "     \n",
      "     \n",
      "     \n",
      "     \n",
      "     \n",
      "     \n",
      "     \n",
      "     \n",
      "     \n",
      "     \n",
      "                             ALGEMENE VOORWAARDEN \n",
      "                                                                                      \n",
      "     \n",
      "\n",
      "          FACTUUR                                                             DATUM               FACTUURNUMMER     STRNGR.C      1/2/2022              9                      Heuzelstraat 34                                                   9790 Wortegem-Petegem                                                    0494664981                                                    Fax: /                                                    Strngrclothingcompany@gmail.com      FACTUUR AAN:                                   BTW nr. 0729909558      LACUS BV                                       BE62 1030 6202 1161      BE0776625055      Jan-baptiste davidstraat 1       LACUS@gmail.com      Belgie           VERKOPER      FUNCTIE         BETALINGSVOORWAARDEN   VERVALDATUM                                      Te betalen bij ontvangst              1 MEI ANDERS 20% OP                                                                DE PRIJS           AANTAL          OMSCHRIJVING     PRIJS PER EENHEID  REGELTOTAAL                4                MONDMASKER       €  4                 €  16                                                      Subtotaal                16€                                                             Vrijstelling BTW volgens artikel Btw     56 van het btw wetboek                                                        Totaal                16€                                                                                ALGEMENE VOORWAARDEN                                                                                            \n",
      "6\n",
      "     \n",
      "\n",
      "     FACTUUR                                                        \n",
      "\n",
      "\n",
      "\n",
      "\n",
      "     DATUM               FACTUURNUMMER     STRNGR.C \n",
      "\n",
      "     3/12/2021             153                    Heuzelstraat 34 \n",
      "                                                  9790 Wortegem-Petegem \n",
      "                                                   0494664981 \n",
      "                                                   Fax: / \n",
      "                                                   Strngrclothingcompany@gmail.com \n",
      "     FACTUUR AAN:                                   BTW nr. 0729909558 \n",
      "     Vital Van Welden                                  BE62 1030 6202 1161 \n",
      "     Steenbakkerstraat 9 MOEN \n",
      "     8552 Belgium \n",
      "     vital@gmail.com \n",
      "     BE0753524209 \n",
      "         \n",
      "     VERKOPER      FUNCTIE         BETALINGSVOORWAARDEN   VERVALDATUM \n",
      "\n",
      "                                     Te betalen bij ontvangst              1 MEI ANDERS 20% OP \n",
      "                                                               DE PRIJS \n",
      "     \n",
      "     AANTAL          OMSCHRIJVING     PRIJS PER EENHEID  REGELTOTAAL \n",
      "     \n",
      "     \n",
      "     1                HOODIE            €  55                €  55 \n",
      "\n",
      "\n",
      "                                                     Subtotaal                55€ \n",
      "                                                            Vrijstelling BTW volgens artikel Btw     56 van het btw wetboek \n",
      "                                                       Totaal                55€ \n",
      "     \n",
      "     \n",
      "\n",
      "\n",
      "\n",
      "\n",
      "\n",
      "\n",
      "\n",
      "\n",
      "\n",
      "\n",
      "\n",
      "\n",
      "                                                                                      \n",
      "     \n",
      "\n",
      "          FACTUUR                                                             DATUM               FACTUURNUMMER     STRNGR.C      3/12/2021             153                    Heuzelstraat 34                                                   9790 Wortegem-Petegem                                                    0494664981                                                    Fax: /                                                    Strngrclothingcompany@gmail.com      FACTUUR AAN:                                   BTW nr. 0729909558      Vital Van Welden                                  BE62 1030 6202 1161      Steenbakkerstraat 9 MOEN      8552 Belgium      vital@gmail.com      BE0753524209               VERKOPER      FUNCTIE         BETALINGSVOORWAARDEN   VERVALDATUM                                      Te betalen bij ontvangst              1 MEI ANDERS 20% OP                                                                DE PRIJS           AANTAL          OMSCHRIJVING     PRIJS PER EENHEID  REGELTOTAAL                1                HOODIE            €  55                €  55                                                      Subtotaal                55€                                                             Vrijstelling BTW volgens artikel Btw     56 van het btw wetboek                                                        Totaal                55€                                                                                                      \n",
      "7\n",
      "     \n",
      "\n",
      "     FACTUUR                                                        \n",
      "\n",
      "\n",
      "\n",
      "\n",
      "     DATUM                FACTUURNUMMER    STRNGR.C \n",
      "\n",
      "     10/1/2021             4                      Heuzelstraat 34 \n",
      "                                                   9790 Wortegem-Petegem \n",
      "                                                   0494664981 \n",
      "                                                   Fax: / \n",
      "                                                   Strngrclothingcompany@gmail.com \n",
      "     FACTUUR AAN:                                   BTW nr. 0729909558 \n",
      "     Lacus BV                                        BE62 1030 6202 1161 \n",
      "     T.a.v. Quinten Foulon \n",
      "     Jan-Baptiste Davidstraat 1 \n",
      "     8793 Sint-Eloois-Vijve \n",
      "     Belgium \n",
      "     BE0776.625.055 \n",
      "     Info@balvantwaregemse.be \n",
      "     \n",
      "     VERKOPER      FUNCTIE         BETALINGSVOORWAARDEN   VERVALDATUM \n",
      "\n",
      "                                     Te betalen bij ontvangst               \n",
      "\n",
      "     \n",
      "     AANTAL          OMSCHRIJVING     PRIJS PER EENHEID  REGELTOTAAL \n",
      "     \n",
      "     \n",
      "     60               POLO              €  9,95               €  597 \n",
      "\n",
      "\n",
      "     16               HEMD              €0                  €0 \n",
      "\n",
      "\n",
      "                                                     Subtotaal                597€ \n",
      "                                                            Vrijstelling BTW volgens artikel Btw     56 van het btw wetboek \n",
      "                                                       Totaal                597€ \n",
      "     \n",
      "     \n",
      "\n",
      "\n",
      "\n",
      "\n",
      "\n",
      "\n",
      "\n",
      "                                                                                      \n",
      "     \n",
      "\n",
      "          FACTUUR                                                             DATUM                FACTUURNUMMER    STRNGR.C      10/1/2021             4                      Heuzelstraat 34                                                    9790 Wortegem-Petegem                                                    0494664981                                                    Fax: /                                                    Strngrclothingcompany@gmail.com      FACTUUR AAN:                                   BTW nr. 0729909558      Lacus BV                                        BE62 1030 6202 1161      T.a.v. Quinten Foulon      Jan-Baptiste Davidstraat 1      8793 Sint-Eloois-Vijve      Belgium      BE0776.625.055      Info@balvantwaregemse.be           VERKOPER      FUNCTIE         BETALINGSVOORWAARDEN   VERVALDATUM                                      Te betalen bij ontvangst                         AANTAL          OMSCHRIJVING     PRIJS PER EENHEID  REGELTOTAAL                60               POLO              €  9,95               €  597      16               HEMD              €0                  €0                                                      Subtotaal                597€                                                             Vrijstelling BTW volgens artikel Btw     56 van het btw wetboek                                                        Totaal                597€                                                                                                      \n"
     ]
    },
    {
     "name": "stdout",
     "output_type": "stream",
     "text": [
      "8\n",
      "     \n",
      "\n",
      "    GOFACTUUR                                                     \n",
      "\n",
      "\n",
      "\n",
      "\n",
      "   DATUM                 FACTUURNUMMER       STRNGR.C \n",
      "\n",
      "   23/1/2021               6                        Heuzelstraat 34 \n",
      "                                                      9790 Wortegem-Petegem \n",
      "                                                     0494664981 \n",
      "                                                     Fax: / \n",
      "                                                     Strngrclothingcompany@gmail.com \n",
      "   FACTUUR AAN:                                        BTW nr. 0729909558 \n",
      "   LACUS BV                                        BE62 1030 6202 1161 \n",
      "   BE0776625055 \n",
      "   LACUS@GMAIL.COM \n",
      "   Jan-baptiste davidstraat \n",
      "   1 Belgium \n",
      "     \n",
      "     VERKOPER      FUNCTIE         BETALINGSVOORWAARDEN   VERVALDATUM \n",
      "\n",
      "                                     Te betalen bij ontvangst               \n",
      "\n",
      "     \n",
      "     AANTAL          OMSCHRIJVING     PRIJS PER EENHEID  REGELTOTAAL \n",
      "     \n",
      "     \n",
      "     1                Bedrukking Trui       €  55                €  55 \n",
      "\n",
      "\n",
      "     1                Bedrukking tshirt       € 20                 € 20 \n",
      "\n",
      "\n",
      "                                                              \n",
      "\n",
      "\n",
      "                                                     Subtotaal                75€ \n",
      "                                                            Vrijstelling BTW volgens artikel Btw     56 van het btw wetboek \n",
      "                                                       Totaal                75€ \n",
      "     \n",
      "     \n",
      "\n",
      "\n",
      "\n",
      "\n",
      "\n",
      "\n",
      "\n",
      "                                                                                      \n",
      "     \n",
      "\n",
      "         GOFACTUUR                                                        DATUM                 FACTUURNUMMER       STRNGR.C    23/1/2021               6                        Heuzelstraat 34                                                       9790 Wortegem-Petegem                                                      0494664981                                                      Fax: /                                                      Strngrclothingcompany@gmail.com    FACTUUR AAN:                                        BTW nr. 0729909558    LACUS BV                                        BE62 1030 6202 1161    BE0776625055    LACUS@GMAIL.COM    Jan-baptiste davidstraat    1 Belgium           VERKOPER      FUNCTIE         BETALINGSVOORWAARDEN   VERVALDATUM                                      Te betalen bij ontvangst                         AANTAL          OMSCHRIJVING     PRIJS PER EENHEID  REGELTOTAAL                1                Bedrukking Trui       €  55                €  55      1                Bedrukking tshirt       € 20                 € 20                                                                                                                    Subtotaal                75€                                                             Vrijstelling BTW volgens artikel Btw     56 van het btw wetboek                                                        Totaal                75€                                                                                                      \n"
     ]
    }
   ],
   "source": [
    "l1st=[]\n",
    "for i in 1:length(files)\n",
    "    println(i)\n",
    "    data=open(f->read(f, String), \"text$i\")\n",
    "    println(data)\n",
    "    data=replace.(data, r\"\\n\"=>\"\")\n",
    "    println(data)\n",
    "    rm(\"text$i\")\n",
    "    push!(l1st,data)\n",
    "    \n",
    "end"
   ]
  },
  {
   "cell_type": "code",
   "execution_count": 169,
   "metadata": {},
   "outputs": [
    {
     "data": {
      "text/plain": [
       "8-element Vector{Any}:\n",
       " \"          FACTUUR             \" ⋯ 1556 bytes ⋯ \"LGEMENE VOORWAARDEN           \"\n",
       " \"          FACTUUR             \" ⋯ 1562 bytes ⋯ \"LGEMENE VOORWAARDEN           \"\n",
       " \"          FACTUUR             \" ⋯ 1564 bytes ⋯ \"LGEMENE VOORWAARDEN           \"\n",
       " \"        GOFACTUUR             \" ⋯ 1641 bytes ⋯ \"LGEMENE VOORWAARDEN           \"\n",
       " \"          FACTUUR             \" ⋯ 1511 bytes ⋯ \"                              \"\n",
       " \"          FACTUUR             \" ⋯ 1432 bytes ⋯ \"                              \"\n",
       " \"          FACTUUR             \" ⋯ 1470 bytes ⋯ \"                              \"\n",
       " \"         GOFACTUUR            \" ⋯ 1479 bytes ⋯ \"                              \""
      ]
     },
     "execution_count": 169,
     "metadata": {},
     "output_type": "execute_result"
    }
   ],
   "source": [
    "l1st"
   ]
  },
  {
   "cell_type": "code",
   "execution_count": 170,
   "metadata": {},
   "outputs": [
    {
     "data": {
      "text/plain": [
       "227-element Vector{String}:\n",
       " \"Afghanistan\"\n",
       " \"Albania\"\n",
       " \"Algeria\"\n",
       " \"AmericanSamoa\"\n",
       " \"Andorra\"\n",
       " \"Angola\"\n",
       " \"Anguilla\"\n",
       " \"Antigua&Barbuda\"\n",
       " \"Argentina\"\n",
       " \"Armenia\"\n",
       " \"Aruba\"\n",
       " \"Australia\"\n",
       " \"Austria\"\n",
       " ⋮\n",
       " \"Uruguay\"\n",
       " \"Uzbekistan\"\n",
       " \"Vanuatu\"\n",
       " \"Venezuela\"\n",
       " \"Vietnam\"\n",
       " \"VirginIslands\"\n",
       " \"WallisandFutuna\"\n",
       " \"WestBank\"\n",
       " \"WesternSahara\"\n",
       " \"Yemen\"\n",
       " \"Zambia\"\n",
       " \"Zimbabwe\""
      ]
     },
     "execution_count": 170,
     "metadata": {},
     "output_type": "execute_result"
    }
   ],
   "source": [
    "countries=countries[!,1]\n",
    "countries=replace.(countries, r\" \"=>\"\")"
   ]
  },
  {
   "cell_type": "code",
   "execution_count": null,
   "metadata": {},
   "outputs": [],
   "source": []
  },
  {
   "cell_type": "code",
   "execution_count": 214,
   "metadata": {},
   "outputs": [
    {
     "name": "stdout",
     "output_type": "stream",
     "text": [
      "SubString{String}[\"26/12/2022\", \"/\"]\n",
      "Belgium\n",
      "SubString{String}[\"26/12/2022\", \"/\"]\n",
      "Belgium\n",
      "SubString{String}[\"10/2/2022\", \"/\"]\n",
      "Belgium\n",
      "SubString{String}[\"23/1/2021\", \"/\"]\n",
      "Unknown\n",
      "SubString{String}[\"1/2/2022\", \"/\"]\n",
      "Unknown\n",
      "SubString{String}[\"3/12/2021\", \"/\"]\n",
      "Belgium\n",
      "SubString{String}[\"10/1/2021\", \"/\"]\n",
      "Belgium\n",
      "SubString{String}[\"23/1/2021\", \"/\"]\n",
      "Belgium\n"
     ]
    }
   ],
   "source": [
    "\n",
    "for i in 1:length(l1st)\n",
    "    list_1=split(l1st[i])\n",
    "\n",
    "    words=filter(contains(r\"a|b|c|d|e|f|g|h|i|j|k|l|m|n|o|p|q|r|s|t|u|v|w|x|y|z\"), list_1)\n",
    " \n",
    "    euro=filter(contains(r\"[€]\"), list_1)\n",
    "    email=filter(contains(r\"[@]\"), list_1)\n",
    "    datum=filter(contains(r\"/\"), list_1)\n",
    "    println(datum)\n",
    "    k=1\n",
    "    for i in datum\n",
    "        if i==\"/\"  \n",
    "            splice!(datum,k) \n",
    "        end\n",
    "        k=k+1\n",
    "    end\n",
    "        \n",
    "    x=0\n",
    "    postcode=[]\n",
    "    tel=[]\n",
    "    BTW=[]\n",
    "    land=\"\"\n",
    "    bool=false\n",
    "\n",
    "\n",
    "\n",
    "\n",
    "    \n",
    "    for i in list_1\n",
    "        for x in values(countries)\n",
    "            i=replace.(i, r\" \"=>\"\")\n",
    "            #println(i)\n",
    "            if uppercase(x)==uppercase(i)\n",
    "                land=x\n",
    "                bool=true\n",
    "            else \n",
    "            end\n",
    "        end           \n",
    "\n",
    "        if length(i)== 4\n",
    "                push!(postcode,i)\n",
    "        end\n",
    "        \n",
    "\n",
    "        if length(i)==10 || length(i)==12\n",
    "           if startswith(i,\"+32\") ==true || startswith(i,\"04\") ==true \n",
    "                push!(tel,i)\n",
    "            end \n",
    "            if startswith(i,\"BE\") ==true \n",
    "                push!(BTW,i)\n",
    "            end\n",
    "\n",
    "            if startswith(i,\"07\")==true \n",
    "                push!(BTW,\"BE$i\") \n",
    "            end \n",
    "        end \n",
    "    end\n",
    "    if uppercase(last(email))==\"STRNGRCLOTHINGCOMPANY@GMAIL.COM\"\n",
    "        push!(email,\"Unknown\")\n",
    "    end\n",
    "    if uppercase(last(tel))==\"0494664981\"\n",
    "        push!(tel,\"Unknown\")\n",
    "    end\n",
    "    if uppercase(last(BTW))==\"BE0771433476\"\n",
    "        push!(BTW,\"Unknown\")\n",
    "    \n",
    "    end\n",
    "    if bool==false\n",
    "        land=\"Unknown\"\n",
    "    end\n",
    "    println(land)\n",
    "    push!(dataset,[last(email),last(datum),land,last(BTW),last(tel),last(euro)])\n",
    "\n",
    "\n",
    "\n",
    "end"
   ]
  },
  {
   "cell_type": "code",
   "execution_count": 215,
   "metadata": {},
   "outputs": [
    {
     "data": {
      "text/html": [
       "<div class=\"data-frame\"><p>320 rows × 6 columns</p><table class=\"data-frame\"><thead><tr><th></th><th>Email</th><th>Date</th><th>Country</th><th>VAT</th><th>Telephone</th><th>Total_€</th></tr><tr><th></th><th title=\"Any\">Any</th><th title=\"Any\">Any</th><th title=\"Any\">Any</th><th title=\"Any\">Any</th><th title=\"Any\">Any</th><th title=\"Any\">Any</th></tr></thead><tbody><tr><th>1</th><td>Unknown</td><td>26/12/2022</td><td>Belgium</td><td>Unknown</td><td>0474448833</td><td>€224</td></tr><tr><th>2</th><td>Arno@gmail.com</td><td>26/12/2022</td><td>Belgium</td><td>Unknown</td><td>Unknown</td><td>160€</td></tr><tr><th>3</th><td>Sbridoux.business@gmail.com</td><td>10/2/2022</td><td>Belgium</td><td>BE0775755025</td><td>+32483446663</td><td>54,99€</td></tr><tr><th>4</th><td>lennertgrootaerd@gmail.com</td><td>23/1/2021</td><td>Unknown</td><td>BE0725470720</td><td>Unknown</td><td>195€</td></tr><tr><th>5</th><td>LACUS@gmail.com</td><td>1/2/2022</td><td>Unknown</td><td>BE0776625055</td><td>Unknown</td><td>16€</td></tr><tr><th>6</th><td>vital@gmail.com</td><td>3/12/2021</td><td>Belgium</td><td>BE0753524209</td><td>Unknown</td><td>55€</td></tr><tr><th>7</th><td>Info@balvantwaregemse.be</td><td>10/1/2021</td><td>Belgium</td><td>BE0729909558</td><td>Unknown</td><td>597€</td></tr><tr><th>8</th><td>LACUS@GMAIL.COM</td><td>23/1/2021</td><td>Belgium</td><td>BE0776625055</td><td>Unknown</td><td>75€</td></tr><tr><th>9</th><td>Unknown</td><td>26/12/2022</td><td>Belgium</td><td>Unknown</td><td>0474448833</td><td>€224</td></tr><tr><th>10</th><td>Arno@gmail.com</td><td>26/12/2022</td><td>Belgium</td><td>Unknown</td><td>Unknown</td><td>160€</td></tr><tr><th>11</th><td>Sbridoux.business@gmail.com</td><td>10/2/2022</td><td>Belgium</td><td>BE0775755025</td><td>+32483446663</td><td>54,99€</td></tr><tr><th>12</th><td>lennertgrootaerd@gmail.com</td><td>23/1/2021</td><td>Unknown</td><td>BE0725470720</td><td>Unknown</td><td>195€</td></tr><tr><th>13</th><td>LACUS@gmail.com</td><td>1/2/2022</td><td>Unknown</td><td>BE0776625055</td><td>Unknown</td><td>16€</td></tr><tr><th>14</th><td>vital@gmail.com</td><td>3/12/2021</td><td>Belgium</td><td>BE0753524209</td><td>Unknown</td><td>55€</td></tr><tr><th>15</th><td>Info@balvantwaregemse.be</td><td>10/1/2021</td><td>Belgium</td><td>BE0729909558</td><td>Unknown</td><td>597€</td></tr><tr><th>16</th><td>LACUS@GMAIL.COM</td><td>23/1/2021</td><td>Belgium</td><td>BE0776625055</td><td>Unknown</td><td>75€</td></tr><tr><th>17</th><td>Unknown</td><td>26/12/2022</td><td>Belgium</td><td>Unknown</td><td>0474448833</td><td>€224</td></tr><tr><th>18</th><td>Arno@gmail.com</td><td>26/12/2022</td><td>Belgium</td><td>Unknown</td><td>Unknown</td><td>160€</td></tr><tr><th>19</th><td>Sbridoux.business@gmail.com</td><td>10/2/2022</td><td>Belgium</td><td>BE0775755025</td><td>+32483446663</td><td>54,99€</td></tr><tr><th>20</th><td>lennertgrootaerd@gmail.com</td><td>23/1/2021</td><td>Unknown</td><td>BE0725470720</td><td>Unknown</td><td>195€</td></tr><tr><th>21</th><td>LACUS@gmail.com</td><td>1/2/2022</td><td>Unknown</td><td>BE0776625055</td><td>Unknown</td><td>16€</td></tr><tr><th>22</th><td>vital@gmail.com</td><td>3/12/2021</td><td>Belgium</td><td>BE0753524209</td><td>Unknown</td><td>55€</td></tr><tr><th>23</th><td>Info@balvantwaregemse.be</td><td>10/1/2021</td><td>Belgium</td><td>BE0729909558</td><td>Unknown</td><td>597€</td></tr><tr><th>24</th><td>LACUS@GMAIL.COM</td><td>23/1/2021</td><td>Belgium</td><td>BE0776625055</td><td>Unknown</td><td>75€</td></tr><tr><th>25</th><td>Unknown</td><td>26/12/2022</td><td>Belgium</td><td>Unknown</td><td>0474448833</td><td>€224</td></tr><tr><th>26</th><td>Arno@gmail.com</td><td>26/12/2022</td><td>Belgium</td><td>Unknown</td><td>Unknown</td><td>160€</td></tr><tr><th>27</th><td>Sbridoux.business@gmail.com</td><td>10/2/2022</td><td>Belgium</td><td>BE0775755025</td><td>+32483446663</td><td>54,99€</td></tr><tr><th>28</th><td>lennertgrootaerd@gmail.com</td><td>23/1/2021</td><td>Unknown</td><td>BE0725470720</td><td>Unknown</td><td>195€</td></tr><tr><th>29</th><td>LACUS@gmail.com</td><td>1/2/2022</td><td>Unknown</td><td>BE0776625055</td><td>Unknown</td><td>16€</td></tr><tr><th>30</th><td>vital@gmail.com</td><td>3/12/2021</td><td>Belgium</td><td>BE0753524209</td><td>Unknown</td><td>55€</td></tr><tr><th>&vellip;</th><td>&vellip;</td><td>&vellip;</td><td>&vellip;</td><td>&vellip;</td><td>&vellip;</td><td>&vellip;</td></tr></tbody></table></div>"
      ],
      "text/latex": [
       "\\begin{tabular}{r|cccccc}\n",
       "\t& Email & Date & Country & VAT & Telephone & Total\\_€\\\\\n",
       "\t\\hline\n",
       "\t& Any & Any & Any & Any & Any & Any\\\\\n",
       "\t\\hline\n",
       "\t1 & Unknown & 26/12/2022 & Belgium & Unknown & 0474448833 & €224 \\\\\n",
       "\t2 & Arno@gmail.com & 26/12/2022 & Belgium & Unknown & Unknown & 160€ \\\\\n",
       "\t3 & Sbridoux.business@gmail.com & 10/2/2022 & Belgium & BE0775755025 & +32483446663 & 54,99€ \\\\\n",
       "\t4 & lennertgrootaerd@gmail.com & 23/1/2021 & Unknown & BE0725470720 & Unknown & 195€ \\\\\n",
       "\t5 & LACUS@gmail.com & 1/2/2022 & Unknown & BE0776625055 & Unknown & 16€ \\\\\n",
       "\t6 & vital@gmail.com & 3/12/2021 & Belgium & BE0753524209 & Unknown & 55€ \\\\\n",
       "\t7 & Info@balvantwaregemse.be & 10/1/2021 & Belgium & BE0729909558 & Unknown & 597€ \\\\\n",
       "\t8 & LACUS@GMAIL.COM & 23/1/2021 & Belgium & BE0776625055 & Unknown & 75€ \\\\\n",
       "\t9 & Unknown & 26/12/2022 & Belgium & Unknown & 0474448833 & €224 \\\\\n",
       "\t10 & Arno@gmail.com & 26/12/2022 & Belgium & Unknown & Unknown & 160€ \\\\\n",
       "\t11 & Sbridoux.business@gmail.com & 10/2/2022 & Belgium & BE0775755025 & +32483446663 & 54,99€ \\\\\n",
       "\t12 & lennertgrootaerd@gmail.com & 23/1/2021 & Unknown & BE0725470720 & Unknown & 195€ \\\\\n",
       "\t13 & LACUS@gmail.com & 1/2/2022 & Unknown & BE0776625055 & Unknown & 16€ \\\\\n",
       "\t14 & vital@gmail.com & 3/12/2021 & Belgium & BE0753524209 & Unknown & 55€ \\\\\n",
       "\t15 & Info@balvantwaregemse.be & 10/1/2021 & Belgium & BE0729909558 & Unknown & 597€ \\\\\n",
       "\t16 & LACUS@GMAIL.COM & 23/1/2021 & Belgium & BE0776625055 & Unknown & 75€ \\\\\n",
       "\t17 & Unknown & 26/12/2022 & Belgium & Unknown & 0474448833 & €224 \\\\\n",
       "\t18 & Arno@gmail.com & 26/12/2022 & Belgium & Unknown & Unknown & 160€ \\\\\n",
       "\t19 & Sbridoux.business@gmail.com & 10/2/2022 & Belgium & BE0775755025 & +32483446663 & 54,99€ \\\\\n",
       "\t20 & lennertgrootaerd@gmail.com & 23/1/2021 & Unknown & BE0725470720 & Unknown & 195€ \\\\\n",
       "\t21 & LACUS@gmail.com & 1/2/2022 & Unknown & BE0776625055 & Unknown & 16€ \\\\\n",
       "\t22 & vital@gmail.com & 3/12/2021 & Belgium & BE0753524209 & Unknown & 55€ \\\\\n",
       "\t23 & Info@balvantwaregemse.be & 10/1/2021 & Belgium & BE0729909558 & Unknown & 597€ \\\\\n",
       "\t24 & LACUS@GMAIL.COM & 23/1/2021 & Belgium & BE0776625055 & Unknown & 75€ \\\\\n",
       "\t25 & Unknown & 26/12/2022 & Belgium & Unknown & 0474448833 & €224 \\\\\n",
       "\t26 & Arno@gmail.com & 26/12/2022 & Belgium & Unknown & Unknown & 160€ \\\\\n",
       "\t27 & Sbridoux.business@gmail.com & 10/2/2022 & Belgium & BE0775755025 & +32483446663 & 54,99€ \\\\\n",
       "\t28 & lennertgrootaerd@gmail.com & 23/1/2021 & Unknown & BE0725470720 & Unknown & 195€ \\\\\n",
       "\t29 & LACUS@gmail.com & 1/2/2022 & Unknown & BE0776625055 & Unknown & 16€ \\\\\n",
       "\t30 & vital@gmail.com & 3/12/2021 & Belgium & BE0753524209 & Unknown & 55€ \\\\\n",
       "\t$\\dots$ & $\\dots$ & $\\dots$ & $\\dots$ & $\\dots$ & $\\dots$ & $\\dots$ \\\\\n",
       "\\end{tabular}\n"
      ],
      "text/plain": [
       "\u001b[1m320×6 DataFrame\u001b[0m\n",
       "\u001b[1m Row \u001b[0m│\u001b[1m Email                       \u001b[0m\u001b[1m Date       \u001b[0m\u001b[1m Country \u001b[0m\u001b[1m VAT          \u001b[0m\u001b[1m Telepho\u001b[0m ⋯\n",
       "\u001b[1m     \u001b[0m│\u001b[90m Any                         \u001b[0m\u001b[90m Any        \u001b[0m\u001b[90m Any     \u001b[0m\u001b[90m Any          \u001b[0m\u001b[90m Any    \u001b[0m ⋯\n",
       "─────┼──────────────────────────────────────────────────────────────────────────\n",
       "   1 │ Unknown                      26/12/2022  Belgium  Unknown       0474448 ⋯\n",
       "   2 │ Arno@gmail.com               26/12/2022  Belgium  Unknown       Unknown\n",
       "   3 │ Sbridoux.business@gmail.com  10/2/2022   Belgium  BE0775755025  +324834\n",
       "   4 │ lennertgrootaerd@gmail.com   23/1/2021   Unknown  BE0725470720  Unknown\n",
       "   5 │ LACUS@gmail.com              1/2/2022    Unknown  BE0776625055  Unknown ⋯\n",
       "   6 │ vital@gmail.com              3/12/2021   Belgium  BE0753524209  Unknown\n",
       "   7 │ Info@balvantwaregemse.be     10/1/2021   Belgium  BE0729909558  Unknown\n",
       "   8 │ LACUS@GMAIL.COM              23/1/2021   Belgium  BE0776625055  Unknown\n",
       "   9 │ Unknown                      26/12/2022  Belgium  Unknown       0474448 ⋯\n",
       "  10 │ Arno@gmail.com               26/12/2022  Belgium  Unknown       Unknown\n",
       "  11 │ Sbridoux.business@gmail.com  10/2/2022   Belgium  BE0775755025  +324834\n",
       "  ⋮  │              ⋮                   ⋮          ⋮          ⋮             ⋮  ⋱\n",
       " 311 │ Info@balvantwaregemse.be     10/1/2021   Belgium  BE0729909558  Unknown\n",
       " 312 │ LACUS@GMAIL.COM              23/1/2021   Belgium  BE0776625055  Unknown ⋯\n",
       " 313 │ Unknown                      26/12/2022  Belgium  Unknown       0474448\n",
       " 314 │ Arno@gmail.com               26/12/2022  Belgium  Unknown       Unknown\n",
       " 315 │ Sbridoux.business@gmail.com  10/2/2022   Belgium  BE0775755025  +324834\n",
       " 316 │ lennertgrootaerd@gmail.com   23/1/2021   Unknown  BE0725470720  Unknown ⋯\n",
       " 317 │ LACUS@gmail.com              1/2/2022    Unknown  BE0776625055  Unknown\n",
       " 318 │ vital@gmail.com              3/12/2021   Belgium  BE0753524209  Unknown\n",
       " 319 │ Info@balvantwaregemse.be     10/1/2021   Belgium  BE0729909558  Unknown\n",
       " 320 │ LACUS@GMAIL.COM              23/1/2021   Belgium  BE0776625055  Unknown ⋯\n",
       "\u001b[36m                                                  2 columns and 299 rows omitted\u001b[0m"
      ]
     },
     "execution_count": 215,
     "metadata": {},
     "output_type": "execute_result"
    }
   ],
   "source": [
    "dataset"
   ]
  },
  {
   "cell_type": "markdown",
   "metadata": {},
   "source": [
    "# ANALYSE"
   ]
  },
  {
   "cell_type": "code",
   "execution_count": 216,
   "metadata": {},
   "outputs": [],
   "source": [
    "x=1\n",
    "for i in values(dataset[!,\"Email\"])\n",
    "    if i==\"Unknown\"\n",
    "        delete!(dataset,x)        \n",
    "    end\n",
    "\n",
    "    x=x+1\n",
    "end"
   ]
  },
  {
   "cell_type": "code",
   "execution_count": 217,
   "metadata": {},
   "outputs": [
    {
     "data": {
      "text/html": [
       "<div class=\"data-frame\"><p>280 rows × 6 columns</p><table class=\"data-frame\"><thead><tr><th></th><th>Email</th><th>Date</th><th>Country</th><th>VAT</th><th>Telephone</th><th>Total_€</th></tr><tr><th></th><th title=\"Any\">Any</th><th title=\"Any\">Any</th><th title=\"Any\">Any</th><th title=\"Any\">Any</th><th title=\"Any\">Any</th><th title=\"Any\">Any</th></tr></thead><tbody><tr><th>1</th><td>Arno@gmail.com</td><td>26/12/2022</td><td>Belgium</td><td>Unknown</td><td>Unknown</td><td>160€</td></tr><tr><th>2</th><td>Sbridoux.business@gmail.com</td><td>10/2/2022</td><td>Belgium</td><td>BE0775755025</td><td>+32483446663</td><td>54,99€</td></tr><tr><th>3</th><td>lennertgrootaerd@gmail.com</td><td>23/1/2021</td><td>Unknown</td><td>BE0725470720</td><td>Unknown</td><td>195€</td></tr><tr><th>4</th><td>LACUS@gmail.com</td><td>1/2/2022</td><td>Unknown</td><td>BE0776625055</td><td>Unknown</td><td>16€</td></tr><tr><th>5</th><td>vital@gmail.com</td><td>3/12/2021</td><td>Belgium</td><td>BE0753524209</td><td>Unknown</td><td>55€</td></tr><tr><th>6</th><td>Info@balvantwaregemse.be</td><td>10/1/2021</td><td>Belgium</td><td>BE0729909558</td><td>Unknown</td><td>597€</td></tr><tr><th>7</th><td>LACUS@GMAIL.COM</td><td>23/1/2021</td><td>Belgium</td><td>BE0776625055</td><td>Unknown</td><td>75€</td></tr><tr><th>8</th><td>Arno@gmail.com</td><td>26/12/2022</td><td>Belgium</td><td>Unknown</td><td>Unknown</td><td>160€</td></tr><tr><th>9</th><td>Sbridoux.business@gmail.com</td><td>10/2/2022</td><td>Belgium</td><td>BE0775755025</td><td>+32483446663</td><td>54,99€</td></tr><tr><th>10</th><td>lennertgrootaerd@gmail.com</td><td>23/1/2021</td><td>Unknown</td><td>BE0725470720</td><td>Unknown</td><td>195€</td></tr><tr><th>11</th><td>LACUS@gmail.com</td><td>1/2/2022</td><td>Unknown</td><td>BE0776625055</td><td>Unknown</td><td>16€</td></tr><tr><th>12</th><td>vital@gmail.com</td><td>3/12/2021</td><td>Belgium</td><td>BE0753524209</td><td>Unknown</td><td>55€</td></tr><tr><th>13</th><td>Info@balvantwaregemse.be</td><td>10/1/2021</td><td>Belgium</td><td>BE0729909558</td><td>Unknown</td><td>597€</td></tr><tr><th>14</th><td>LACUS@GMAIL.COM</td><td>23/1/2021</td><td>Belgium</td><td>BE0776625055</td><td>Unknown</td><td>75€</td></tr><tr><th>15</th><td>Arno@gmail.com</td><td>26/12/2022</td><td>Belgium</td><td>Unknown</td><td>Unknown</td><td>160€</td></tr><tr><th>16</th><td>Sbridoux.business@gmail.com</td><td>10/2/2022</td><td>Belgium</td><td>BE0775755025</td><td>+32483446663</td><td>54,99€</td></tr><tr><th>17</th><td>lennertgrootaerd@gmail.com</td><td>23/1/2021</td><td>Unknown</td><td>BE0725470720</td><td>Unknown</td><td>195€</td></tr><tr><th>18</th><td>LACUS@gmail.com</td><td>1/2/2022</td><td>Unknown</td><td>BE0776625055</td><td>Unknown</td><td>16€</td></tr><tr><th>19</th><td>vital@gmail.com</td><td>3/12/2021</td><td>Belgium</td><td>BE0753524209</td><td>Unknown</td><td>55€</td></tr><tr><th>20</th><td>Info@balvantwaregemse.be</td><td>10/1/2021</td><td>Belgium</td><td>BE0729909558</td><td>Unknown</td><td>597€</td></tr><tr><th>21</th><td>LACUS@GMAIL.COM</td><td>23/1/2021</td><td>Belgium</td><td>BE0776625055</td><td>Unknown</td><td>75€</td></tr><tr><th>22</th><td>Arno@gmail.com</td><td>26/12/2022</td><td>Belgium</td><td>Unknown</td><td>Unknown</td><td>160€</td></tr><tr><th>23</th><td>Sbridoux.business@gmail.com</td><td>10/2/2022</td><td>Belgium</td><td>BE0775755025</td><td>+32483446663</td><td>54,99€</td></tr><tr><th>24</th><td>lennertgrootaerd@gmail.com</td><td>23/1/2021</td><td>Unknown</td><td>BE0725470720</td><td>Unknown</td><td>195€</td></tr><tr><th>25</th><td>LACUS@gmail.com</td><td>1/2/2022</td><td>Unknown</td><td>BE0776625055</td><td>Unknown</td><td>16€</td></tr><tr><th>26</th><td>vital@gmail.com</td><td>3/12/2021</td><td>Belgium</td><td>BE0753524209</td><td>Unknown</td><td>55€</td></tr><tr><th>27</th><td>Info@balvantwaregemse.be</td><td>10/1/2021</td><td>Belgium</td><td>BE0729909558</td><td>Unknown</td><td>597€</td></tr><tr><th>28</th><td>LACUS@GMAIL.COM</td><td>23/1/2021</td><td>Belgium</td><td>BE0776625055</td><td>Unknown</td><td>75€</td></tr><tr><th>29</th><td>Arno@gmail.com</td><td>26/12/2022</td><td>Belgium</td><td>Unknown</td><td>Unknown</td><td>160€</td></tr><tr><th>30</th><td>Sbridoux.business@gmail.com</td><td>10/2/2022</td><td>Belgium</td><td>BE0775755025</td><td>+32483446663</td><td>54,99€</td></tr><tr><th>&vellip;</th><td>&vellip;</td><td>&vellip;</td><td>&vellip;</td><td>&vellip;</td><td>&vellip;</td><td>&vellip;</td></tr></tbody></table></div>"
      ],
      "text/latex": [
       "\\begin{tabular}{r|cccccc}\n",
       "\t& Email & Date & Country & VAT & Telephone & Total\\_€\\\\\n",
       "\t\\hline\n",
       "\t& Any & Any & Any & Any & Any & Any\\\\\n",
       "\t\\hline\n",
       "\t1 & Arno@gmail.com & 26/12/2022 & Belgium & Unknown & Unknown & 160€ \\\\\n",
       "\t2 & Sbridoux.business@gmail.com & 10/2/2022 & Belgium & BE0775755025 & +32483446663 & 54,99€ \\\\\n",
       "\t3 & lennertgrootaerd@gmail.com & 23/1/2021 & Unknown & BE0725470720 & Unknown & 195€ \\\\\n",
       "\t4 & LACUS@gmail.com & 1/2/2022 & Unknown & BE0776625055 & Unknown & 16€ \\\\\n",
       "\t5 & vital@gmail.com & 3/12/2021 & Belgium & BE0753524209 & Unknown & 55€ \\\\\n",
       "\t6 & Info@balvantwaregemse.be & 10/1/2021 & Belgium & BE0729909558 & Unknown & 597€ \\\\\n",
       "\t7 & LACUS@GMAIL.COM & 23/1/2021 & Belgium & BE0776625055 & Unknown & 75€ \\\\\n",
       "\t8 & Arno@gmail.com & 26/12/2022 & Belgium & Unknown & Unknown & 160€ \\\\\n",
       "\t9 & Sbridoux.business@gmail.com & 10/2/2022 & Belgium & BE0775755025 & +32483446663 & 54,99€ \\\\\n",
       "\t10 & lennertgrootaerd@gmail.com & 23/1/2021 & Unknown & BE0725470720 & Unknown & 195€ \\\\\n",
       "\t11 & LACUS@gmail.com & 1/2/2022 & Unknown & BE0776625055 & Unknown & 16€ \\\\\n",
       "\t12 & vital@gmail.com & 3/12/2021 & Belgium & BE0753524209 & Unknown & 55€ \\\\\n",
       "\t13 & Info@balvantwaregemse.be & 10/1/2021 & Belgium & BE0729909558 & Unknown & 597€ \\\\\n",
       "\t14 & LACUS@GMAIL.COM & 23/1/2021 & Belgium & BE0776625055 & Unknown & 75€ \\\\\n",
       "\t15 & Arno@gmail.com & 26/12/2022 & Belgium & Unknown & Unknown & 160€ \\\\\n",
       "\t16 & Sbridoux.business@gmail.com & 10/2/2022 & Belgium & BE0775755025 & +32483446663 & 54,99€ \\\\\n",
       "\t17 & lennertgrootaerd@gmail.com & 23/1/2021 & Unknown & BE0725470720 & Unknown & 195€ \\\\\n",
       "\t18 & LACUS@gmail.com & 1/2/2022 & Unknown & BE0776625055 & Unknown & 16€ \\\\\n",
       "\t19 & vital@gmail.com & 3/12/2021 & Belgium & BE0753524209 & Unknown & 55€ \\\\\n",
       "\t20 & Info@balvantwaregemse.be & 10/1/2021 & Belgium & BE0729909558 & Unknown & 597€ \\\\\n",
       "\t21 & LACUS@GMAIL.COM & 23/1/2021 & Belgium & BE0776625055 & Unknown & 75€ \\\\\n",
       "\t22 & Arno@gmail.com & 26/12/2022 & Belgium & Unknown & Unknown & 160€ \\\\\n",
       "\t23 & Sbridoux.business@gmail.com & 10/2/2022 & Belgium & BE0775755025 & +32483446663 & 54,99€ \\\\\n",
       "\t24 & lennertgrootaerd@gmail.com & 23/1/2021 & Unknown & BE0725470720 & Unknown & 195€ \\\\\n",
       "\t25 & LACUS@gmail.com & 1/2/2022 & Unknown & BE0776625055 & Unknown & 16€ \\\\\n",
       "\t26 & vital@gmail.com & 3/12/2021 & Belgium & BE0753524209 & Unknown & 55€ \\\\\n",
       "\t27 & Info@balvantwaregemse.be & 10/1/2021 & Belgium & BE0729909558 & Unknown & 597€ \\\\\n",
       "\t28 & LACUS@GMAIL.COM & 23/1/2021 & Belgium & BE0776625055 & Unknown & 75€ \\\\\n",
       "\t29 & Arno@gmail.com & 26/12/2022 & Belgium & Unknown & Unknown & 160€ \\\\\n",
       "\t30 & Sbridoux.business@gmail.com & 10/2/2022 & Belgium & BE0775755025 & +32483446663 & 54,99€ \\\\\n",
       "\t$\\dots$ & $\\dots$ & $\\dots$ & $\\dots$ & $\\dots$ & $\\dots$ & $\\dots$ \\\\\n",
       "\\end{tabular}\n"
      ],
      "text/plain": [
       "\u001b[1m280×6 DataFrame\u001b[0m\n",
       "\u001b[1m Row \u001b[0m│\u001b[1m Email                       \u001b[0m\u001b[1m Date       \u001b[0m\u001b[1m Country \u001b[0m\u001b[1m VAT          \u001b[0m\u001b[1m Telepho\u001b[0m ⋯\n",
       "\u001b[1m     \u001b[0m│\u001b[90m Any                         \u001b[0m\u001b[90m Any        \u001b[0m\u001b[90m Any     \u001b[0m\u001b[90m Any          \u001b[0m\u001b[90m Any    \u001b[0m ⋯\n",
       "─────┼──────────────────────────────────────────────────────────────────────────\n",
       "   1 │ Arno@gmail.com               26/12/2022  Belgium  Unknown       Unknown ⋯\n",
       "   2 │ Sbridoux.business@gmail.com  10/2/2022   Belgium  BE0775755025  +324834\n",
       "   3 │ lennertgrootaerd@gmail.com   23/1/2021   Unknown  BE0725470720  Unknown\n",
       "   4 │ LACUS@gmail.com              1/2/2022    Unknown  BE0776625055  Unknown\n",
       "   5 │ vital@gmail.com              3/12/2021   Belgium  BE0753524209  Unknown ⋯\n",
       "   6 │ Info@balvantwaregemse.be     10/1/2021   Belgium  BE0729909558  Unknown\n",
       "   7 │ LACUS@GMAIL.COM              23/1/2021   Belgium  BE0776625055  Unknown\n",
       "   8 │ Arno@gmail.com               26/12/2022  Belgium  Unknown       Unknown\n",
       "   9 │ Sbridoux.business@gmail.com  10/2/2022   Belgium  BE0775755025  +324834 ⋯\n",
       "  10 │ lennertgrootaerd@gmail.com   23/1/2021   Unknown  BE0725470720  Unknown\n",
       "  11 │ LACUS@gmail.com              1/2/2022    Unknown  BE0776625055  Unknown\n",
       "  ⋮  │              ⋮                   ⋮          ⋮          ⋮             ⋮  ⋱\n",
       " 271 │ vital@gmail.com              3/12/2021   Belgium  BE0753524209  Unknown\n",
       " 272 │ Info@balvantwaregemse.be     10/1/2021   Belgium  BE0729909558  Unknown ⋯\n",
       " 273 │ LACUS@GMAIL.COM              23/1/2021   Belgium  BE0776625055  Unknown\n",
       " 274 │ Arno@gmail.com               26/12/2022  Belgium  Unknown       Unknown\n",
       " 275 │ Sbridoux.business@gmail.com  10/2/2022   Belgium  BE0775755025  +324834\n",
       " 276 │ lennertgrootaerd@gmail.com   23/1/2021   Unknown  BE0725470720  Unknown ⋯\n",
       " 277 │ LACUS@gmail.com              1/2/2022    Unknown  BE0776625055  Unknown\n",
       " 278 │ vital@gmail.com              3/12/2021   Belgium  BE0753524209  Unknown\n",
       " 279 │ Info@balvantwaregemse.be     10/1/2021   Belgium  BE0729909558  Unknown\n",
       " 280 │ LACUS@GMAIL.COM              23/1/2021   Belgium  BE0776625055  Unknown ⋯\n",
       "\u001b[36m                                                  2 columns and 259 rows omitted\u001b[0m"
      ]
     },
     "execution_count": 217,
     "metadata": {},
     "output_type": "execute_result"
    }
   ],
   "source": [
    "dataset"
   ]
  },
  {
   "cell_type": "code",
   "execution_count": 218,
   "metadata": {},
   "outputs": [],
   "source": [
    "float_eur=[]\n",
    "for i in dataset[!,6]\n",
    "    i=replace(i, \"€\" => \"\")\n",
    "    i=replace(i, \",\" => \".\")\n",
    "    push!(float_eur,parse(Float64,i))\n",
    "end"
   ]
  },
  {
   "cell_type": "code",
   "execution_count": 219,
   "metadata": {},
   "outputs": [
    {
     "data": {
      "text/plain": [
       "280-element Vector{Any}:\n",
       " 160.0\n",
       "  54.99\n",
       " 195.0\n",
       "  16.0\n",
       "  55.0\n",
       " 597.0\n",
       "  75.0\n",
       " 160.0\n",
       "  54.99\n",
       " 195.0\n",
       "  16.0\n",
       "  55.0\n",
       " 597.0\n",
       "   ⋮\n",
       " 195.0\n",
       "  16.0\n",
       "  55.0\n",
       " 597.0\n",
       "  75.0\n",
       " 160.0\n",
       "  54.99\n",
       " 195.0\n",
       "  16.0\n",
       "  55.0\n",
       " 597.0\n",
       "  75.0"
      ]
     },
     "execution_count": 219,
     "metadata": {},
     "output_type": "execute_result"
    }
   ],
   "source": [
    "float_eur"
   ]
  },
  {
   "cell_type": "code",
   "execution_count": 220,
   "metadata": {},
   "outputs": [
    {
     "data": {
      "text/plain": [
       "280-element Vector{Any}:\n",
       " 160.0\n",
       "  54.99\n",
       " 195.0\n",
       "  16.0\n",
       "  55.0\n",
       " 597.0\n",
       "  75.0\n",
       " 160.0\n",
       "  54.99\n",
       " 195.0\n",
       "  16.0\n",
       "  55.0\n",
       " 597.0\n",
       "   ⋮\n",
       " 195.0\n",
       "  16.0\n",
       "  55.0\n",
       " 597.0\n",
       "  75.0\n",
       " 160.0\n",
       "  54.99\n",
       " 195.0\n",
       "  16.0\n",
       "  55.0\n",
       " 597.0\n",
       "  75.0"
      ]
     },
     "execution_count": 220,
     "metadata": {},
     "output_type": "execute_result"
    }
   ],
   "source": [
    "dataset.Total_€=float_eur"
   ]
  },
  {
   "cell_type": "code",
   "execution_count": 221,
   "metadata": {},
   "outputs": [
    {
     "data": {
      "text/html": [
       "<div class=\"data-frame\"><p>280 rows × 6 columns</p><table class=\"data-frame\"><thead><tr><th></th><th>Email</th><th>Date</th><th>Country</th><th>VAT</th><th>Telephone</th><th>Total_€</th></tr><tr><th></th><th title=\"Any\">Any</th><th title=\"Any\">Any</th><th title=\"Any\">Any</th><th title=\"Any\">Any</th><th title=\"Any\">Any</th><th title=\"Any\">Any</th></tr></thead><tbody><tr><th>1</th><td>Arno@gmail.com</td><td>26/12/2022</td><td>Belgium</td><td>Unknown</td><td>Unknown</td><td>160.0</td></tr><tr><th>2</th><td>Sbridoux.business@gmail.com</td><td>10/2/2022</td><td>Belgium</td><td>BE0775755025</td><td>+32483446663</td><td>54.99</td></tr><tr><th>3</th><td>lennertgrootaerd@gmail.com</td><td>23/1/2021</td><td>Unknown</td><td>BE0725470720</td><td>Unknown</td><td>195.0</td></tr><tr><th>4</th><td>LACUS@gmail.com</td><td>1/2/2022</td><td>Unknown</td><td>BE0776625055</td><td>Unknown</td><td>16.0</td></tr><tr><th>5</th><td>vital@gmail.com</td><td>3/12/2021</td><td>Belgium</td><td>BE0753524209</td><td>Unknown</td><td>55.0</td></tr><tr><th>6</th><td>Info@balvantwaregemse.be</td><td>10/1/2021</td><td>Belgium</td><td>BE0729909558</td><td>Unknown</td><td>597.0</td></tr><tr><th>7</th><td>LACUS@GMAIL.COM</td><td>23/1/2021</td><td>Belgium</td><td>BE0776625055</td><td>Unknown</td><td>75.0</td></tr><tr><th>8</th><td>Arno@gmail.com</td><td>26/12/2022</td><td>Belgium</td><td>Unknown</td><td>Unknown</td><td>160.0</td></tr><tr><th>9</th><td>Sbridoux.business@gmail.com</td><td>10/2/2022</td><td>Belgium</td><td>BE0775755025</td><td>+32483446663</td><td>54.99</td></tr><tr><th>10</th><td>lennertgrootaerd@gmail.com</td><td>23/1/2021</td><td>Unknown</td><td>BE0725470720</td><td>Unknown</td><td>195.0</td></tr><tr><th>11</th><td>LACUS@gmail.com</td><td>1/2/2022</td><td>Unknown</td><td>BE0776625055</td><td>Unknown</td><td>16.0</td></tr><tr><th>12</th><td>vital@gmail.com</td><td>3/12/2021</td><td>Belgium</td><td>BE0753524209</td><td>Unknown</td><td>55.0</td></tr><tr><th>13</th><td>Info@balvantwaregemse.be</td><td>10/1/2021</td><td>Belgium</td><td>BE0729909558</td><td>Unknown</td><td>597.0</td></tr><tr><th>14</th><td>LACUS@GMAIL.COM</td><td>23/1/2021</td><td>Belgium</td><td>BE0776625055</td><td>Unknown</td><td>75.0</td></tr><tr><th>15</th><td>Arno@gmail.com</td><td>26/12/2022</td><td>Belgium</td><td>Unknown</td><td>Unknown</td><td>160.0</td></tr><tr><th>16</th><td>Sbridoux.business@gmail.com</td><td>10/2/2022</td><td>Belgium</td><td>BE0775755025</td><td>+32483446663</td><td>54.99</td></tr><tr><th>17</th><td>lennertgrootaerd@gmail.com</td><td>23/1/2021</td><td>Unknown</td><td>BE0725470720</td><td>Unknown</td><td>195.0</td></tr><tr><th>18</th><td>LACUS@gmail.com</td><td>1/2/2022</td><td>Unknown</td><td>BE0776625055</td><td>Unknown</td><td>16.0</td></tr><tr><th>19</th><td>vital@gmail.com</td><td>3/12/2021</td><td>Belgium</td><td>BE0753524209</td><td>Unknown</td><td>55.0</td></tr><tr><th>20</th><td>Info@balvantwaregemse.be</td><td>10/1/2021</td><td>Belgium</td><td>BE0729909558</td><td>Unknown</td><td>597.0</td></tr><tr><th>21</th><td>LACUS@GMAIL.COM</td><td>23/1/2021</td><td>Belgium</td><td>BE0776625055</td><td>Unknown</td><td>75.0</td></tr><tr><th>22</th><td>Arno@gmail.com</td><td>26/12/2022</td><td>Belgium</td><td>Unknown</td><td>Unknown</td><td>160.0</td></tr><tr><th>23</th><td>Sbridoux.business@gmail.com</td><td>10/2/2022</td><td>Belgium</td><td>BE0775755025</td><td>+32483446663</td><td>54.99</td></tr><tr><th>24</th><td>lennertgrootaerd@gmail.com</td><td>23/1/2021</td><td>Unknown</td><td>BE0725470720</td><td>Unknown</td><td>195.0</td></tr><tr><th>25</th><td>LACUS@gmail.com</td><td>1/2/2022</td><td>Unknown</td><td>BE0776625055</td><td>Unknown</td><td>16.0</td></tr><tr><th>26</th><td>vital@gmail.com</td><td>3/12/2021</td><td>Belgium</td><td>BE0753524209</td><td>Unknown</td><td>55.0</td></tr><tr><th>27</th><td>Info@balvantwaregemse.be</td><td>10/1/2021</td><td>Belgium</td><td>BE0729909558</td><td>Unknown</td><td>597.0</td></tr><tr><th>28</th><td>LACUS@GMAIL.COM</td><td>23/1/2021</td><td>Belgium</td><td>BE0776625055</td><td>Unknown</td><td>75.0</td></tr><tr><th>29</th><td>Arno@gmail.com</td><td>26/12/2022</td><td>Belgium</td><td>Unknown</td><td>Unknown</td><td>160.0</td></tr><tr><th>30</th><td>Sbridoux.business@gmail.com</td><td>10/2/2022</td><td>Belgium</td><td>BE0775755025</td><td>+32483446663</td><td>54.99</td></tr><tr><th>&vellip;</th><td>&vellip;</td><td>&vellip;</td><td>&vellip;</td><td>&vellip;</td><td>&vellip;</td><td>&vellip;</td></tr></tbody></table></div>"
      ],
      "text/latex": [
       "\\begin{tabular}{r|cccccc}\n",
       "\t& Email & Date & Country & VAT & Telephone & Total\\_€\\\\\n",
       "\t\\hline\n",
       "\t& Any & Any & Any & Any & Any & Any\\\\\n",
       "\t\\hline\n",
       "\t1 & Arno@gmail.com & 26/12/2022 & Belgium & Unknown & Unknown & 160.0 \\\\\n",
       "\t2 & Sbridoux.business@gmail.com & 10/2/2022 & Belgium & BE0775755025 & +32483446663 & 54.99 \\\\\n",
       "\t3 & lennertgrootaerd@gmail.com & 23/1/2021 & Unknown & BE0725470720 & Unknown & 195.0 \\\\\n",
       "\t4 & LACUS@gmail.com & 1/2/2022 & Unknown & BE0776625055 & Unknown & 16.0 \\\\\n",
       "\t5 & vital@gmail.com & 3/12/2021 & Belgium & BE0753524209 & Unknown & 55.0 \\\\\n",
       "\t6 & Info@balvantwaregemse.be & 10/1/2021 & Belgium & BE0729909558 & Unknown & 597.0 \\\\\n",
       "\t7 & LACUS@GMAIL.COM & 23/1/2021 & Belgium & BE0776625055 & Unknown & 75.0 \\\\\n",
       "\t8 & Arno@gmail.com & 26/12/2022 & Belgium & Unknown & Unknown & 160.0 \\\\\n",
       "\t9 & Sbridoux.business@gmail.com & 10/2/2022 & Belgium & BE0775755025 & +32483446663 & 54.99 \\\\\n",
       "\t10 & lennertgrootaerd@gmail.com & 23/1/2021 & Unknown & BE0725470720 & Unknown & 195.0 \\\\\n",
       "\t11 & LACUS@gmail.com & 1/2/2022 & Unknown & BE0776625055 & Unknown & 16.0 \\\\\n",
       "\t12 & vital@gmail.com & 3/12/2021 & Belgium & BE0753524209 & Unknown & 55.0 \\\\\n",
       "\t13 & Info@balvantwaregemse.be & 10/1/2021 & Belgium & BE0729909558 & Unknown & 597.0 \\\\\n",
       "\t14 & LACUS@GMAIL.COM & 23/1/2021 & Belgium & BE0776625055 & Unknown & 75.0 \\\\\n",
       "\t15 & Arno@gmail.com & 26/12/2022 & Belgium & Unknown & Unknown & 160.0 \\\\\n",
       "\t16 & Sbridoux.business@gmail.com & 10/2/2022 & Belgium & BE0775755025 & +32483446663 & 54.99 \\\\\n",
       "\t17 & lennertgrootaerd@gmail.com & 23/1/2021 & Unknown & BE0725470720 & Unknown & 195.0 \\\\\n",
       "\t18 & LACUS@gmail.com & 1/2/2022 & Unknown & BE0776625055 & Unknown & 16.0 \\\\\n",
       "\t19 & vital@gmail.com & 3/12/2021 & Belgium & BE0753524209 & Unknown & 55.0 \\\\\n",
       "\t20 & Info@balvantwaregemse.be & 10/1/2021 & Belgium & BE0729909558 & Unknown & 597.0 \\\\\n",
       "\t21 & LACUS@GMAIL.COM & 23/1/2021 & Belgium & BE0776625055 & Unknown & 75.0 \\\\\n",
       "\t22 & Arno@gmail.com & 26/12/2022 & Belgium & Unknown & Unknown & 160.0 \\\\\n",
       "\t23 & Sbridoux.business@gmail.com & 10/2/2022 & Belgium & BE0775755025 & +32483446663 & 54.99 \\\\\n",
       "\t24 & lennertgrootaerd@gmail.com & 23/1/2021 & Unknown & BE0725470720 & Unknown & 195.0 \\\\\n",
       "\t25 & LACUS@gmail.com & 1/2/2022 & Unknown & BE0776625055 & Unknown & 16.0 \\\\\n",
       "\t26 & vital@gmail.com & 3/12/2021 & Belgium & BE0753524209 & Unknown & 55.0 \\\\\n",
       "\t27 & Info@balvantwaregemse.be & 10/1/2021 & Belgium & BE0729909558 & Unknown & 597.0 \\\\\n",
       "\t28 & LACUS@GMAIL.COM & 23/1/2021 & Belgium & BE0776625055 & Unknown & 75.0 \\\\\n",
       "\t29 & Arno@gmail.com & 26/12/2022 & Belgium & Unknown & Unknown & 160.0 \\\\\n",
       "\t30 & Sbridoux.business@gmail.com & 10/2/2022 & Belgium & BE0775755025 & +32483446663 & 54.99 \\\\\n",
       "\t$\\dots$ & $\\dots$ & $\\dots$ & $\\dots$ & $\\dots$ & $\\dots$ & $\\dots$ \\\\\n",
       "\\end{tabular}\n"
      ],
      "text/plain": [
       "\u001b[1m280×6 DataFrame\u001b[0m\n",
       "\u001b[1m Row \u001b[0m│\u001b[1m Email                       \u001b[0m\u001b[1m Date       \u001b[0m\u001b[1m Country \u001b[0m\u001b[1m VAT          \u001b[0m\u001b[1m Telepho\u001b[0m ⋯\n",
       "\u001b[1m     \u001b[0m│\u001b[90m Any                         \u001b[0m\u001b[90m Any        \u001b[0m\u001b[90m Any     \u001b[0m\u001b[90m Any          \u001b[0m\u001b[90m Any    \u001b[0m ⋯\n",
       "─────┼──────────────────────────────────────────────────────────────────────────\n",
       "   1 │ Arno@gmail.com               26/12/2022  Belgium  Unknown       Unknown ⋯\n",
       "   2 │ Sbridoux.business@gmail.com  10/2/2022   Belgium  BE0775755025  +324834\n",
       "   3 │ lennertgrootaerd@gmail.com   23/1/2021   Unknown  BE0725470720  Unknown\n",
       "   4 │ LACUS@gmail.com              1/2/2022    Unknown  BE0776625055  Unknown\n",
       "   5 │ vital@gmail.com              3/12/2021   Belgium  BE0753524209  Unknown ⋯\n",
       "   6 │ Info@balvantwaregemse.be     10/1/2021   Belgium  BE0729909558  Unknown\n",
       "   7 │ LACUS@GMAIL.COM              23/1/2021   Belgium  BE0776625055  Unknown\n",
       "   8 │ Arno@gmail.com               26/12/2022  Belgium  Unknown       Unknown\n",
       "   9 │ Sbridoux.business@gmail.com  10/2/2022   Belgium  BE0775755025  +324834 ⋯\n",
       "  10 │ lennertgrootaerd@gmail.com   23/1/2021   Unknown  BE0725470720  Unknown\n",
       "  11 │ LACUS@gmail.com              1/2/2022    Unknown  BE0776625055  Unknown\n",
       "  ⋮  │              ⋮                   ⋮          ⋮          ⋮             ⋮  ⋱\n",
       " 271 │ vital@gmail.com              3/12/2021   Belgium  BE0753524209  Unknown\n",
       " 272 │ Info@balvantwaregemse.be     10/1/2021   Belgium  BE0729909558  Unknown ⋯\n",
       " 273 │ LACUS@GMAIL.COM              23/1/2021   Belgium  BE0776625055  Unknown\n",
       " 274 │ Arno@gmail.com               26/12/2022  Belgium  Unknown       Unknown\n",
       " 275 │ Sbridoux.business@gmail.com  10/2/2022   Belgium  BE0775755025  +324834\n",
       " 276 │ lennertgrootaerd@gmail.com   23/1/2021   Unknown  BE0725470720  Unknown ⋯\n",
       " 277 │ LACUS@gmail.com              1/2/2022    Unknown  BE0776625055  Unknown\n",
       " 278 │ vital@gmail.com              3/12/2021   Belgium  BE0753524209  Unknown\n",
       " 279 │ Info@balvantwaregemse.be     10/1/2021   Belgium  BE0729909558  Unknown\n",
       " 280 │ LACUS@GMAIL.COM              23/1/2021   Belgium  BE0776625055  Unknown ⋯\n",
       "\u001b[36m                                                  2 columns and 259 rows omitted\u001b[0m"
      ]
     },
     "execution_count": 221,
     "metadata": {},
     "output_type": "execute_result"
    }
   ],
   "source": [
    "dataset"
   ]
  },
  {
   "cell_type": "code",
   "execution_count": 222,
   "metadata": {},
   "outputs": [
    {
     "data": {
      "text/html": [
       "<div class=\"data-frame\"><p>286 rows × 6 columns</p><table class=\"data-frame\"><thead><tr><th></th><th>Email</th><th>Date</th><th>Country</th><th>VAT</th><th>Telephone</th><th>Total_€</th></tr><tr><th></th><th title=\"Any\">Any</th><th title=\"Any\">Any</th><th title=\"Any\">Any</th><th title=\"Any\">Any</th><th title=\"Any\">Any</th><th title=\"Any\">Any</th></tr></thead><tbody><tr><th>1</th><td>Arno@gmail.com</td><td>26/12/2022</td><td>Belgium</td><td>Unknown</td><td>Unknown</td><td>160.0</td></tr><tr><th>2</th><td>Sbridoux.business@gmail.com</td><td>10/2/2022</td><td>Belgium</td><td>BE0775755025</td><td>+32483446663</td><td>54.99</td></tr><tr><th>3</th><td>lennertgrootaerd@gmail.com</td><td>23/1/2021</td><td>Unknown</td><td>BE0725470720</td><td>Unknown</td><td>195.0</td></tr><tr><th>4</th><td>LACUS@gmail.com</td><td>1/2/2022</td><td>Unknown</td><td>BE0776625055</td><td>Unknown</td><td>16.0</td></tr><tr><th>5</th><td>vital@gmail.com</td><td>3/12/2021</td><td>Belgium</td><td>BE0753524209</td><td>Unknown</td><td>55.0</td></tr><tr><th>6</th><td>Info@balvantwaregemse.be</td><td>10/1/2021</td><td>Belgium</td><td>BE0729909558</td><td>Unknown</td><td>597.0</td></tr><tr><th>7</th><td>LACUS@GMAIL.COM</td><td>23/1/2021</td><td>Belgium</td><td>BE0776625055</td><td>Unknown</td><td>75.0</td></tr><tr><th>8</th><td>Arno@gmail.com</td><td>26/12/2022</td><td>Belgium</td><td>Unknown</td><td>Unknown</td><td>160.0</td></tr><tr><th>9</th><td>Sbridoux.business@gmail.com</td><td>10/2/2022</td><td>Belgium</td><td>BE0775755025</td><td>+32483446663</td><td>54.99</td></tr><tr><th>10</th><td>lennertgrootaerd@gmail.com</td><td>23/1/2021</td><td>Unknown</td><td>BE0725470720</td><td>Unknown</td><td>195.0</td></tr><tr><th>11</th><td>LACUS@gmail.com</td><td>1/2/2022</td><td>Unknown</td><td>BE0776625055</td><td>Unknown</td><td>16.0</td></tr><tr><th>12</th><td>vital@gmail.com</td><td>3/12/2021</td><td>Belgium</td><td>BE0753524209</td><td>Unknown</td><td>55.0</td></tr><tr><th>13</th><td>Info@balvantwaregemse.be</td><td>10/1/2021</td><td>Belgium</td><td>BE0729909558</td><td>Unknown</td><td>597.0</td></tr><tr><th>14</th><td>LACUS@GMAIL.COM</td><td>23/1/2021</td><td>Belgium</td><td>BE0776625055</td><td>Unknown</td><td>75.0</td></tr><tr><th>15</th><td>Arno@gmail.com</td><td>26/12/2022</td><td>Belgium</td><td>Unknown</td><td>Unknown</td><td>160.0</td></tr><tr><th>16</th><td>Sbridoux.business@gmail.com</td><td>10/2/2022</td><td>Belgium</td><td>BE0775755025</td><td>+32483446663</td><td>54.99</td></tr><tr><th>17</th><td>lennertgrootaerd@gmail.com</td><td>23/1/2021</td><td>Unknown</td><td>BE0725470720</td><td>Unknown</td><td>195.0</td></tr><tr><th>18</th><td>LACUS@gmail.com</td><td>1/2/2022</td><td>Unknown</td><td>BE0776625055</td><td>Unknown</td><td>16.0</td></tr><tr><th>19</th><td>vital@gmail.com</td><td>3/12/2021</td><td>Belgium</td><td>BE0753524209</td><td>Unknown</td><td>55.0</td></tr><tr><th>20</th><td>Info@balvantwaregemse.be</td><td>10/1/2021</td><td>Belgium</td><td>BE0729909558</td><td>Unknown</td><td>597.0</td></tr><tr><th>21</th><td>LACUS@GMAIL.COM</td><td>23/1/2021</td><td>Belgium</td><td>BE0776625055</td><td>Unknown</td><td>75.0</td></tr><tr><th>22</th><td>Arno@gmail.com</td><td>26/12/2022</td><td>Belgium</td><td>Unknown</td><td>Unknown</td><td>160.0</td></tr><tr><th>23</th><td>Sbridoux.business@gmail.com</td><td>10/2/2022</td><td>Belgium</td><td>BE0775755025</td><td>+32483446663</td><td>54.99</td></tr><tr><th>24</th><td>lennertgrootaerd@gmail.com</td><td>23/1/2021</td><td>Unknown</td><td>BE0725470720</td><td>Unknown</td><td>195.0</td></tr><tr><th>25</th><td>LACUS@gmail.com</td><td>1/2/2022</td><td>Unknown</td><td>BE0776625055</td><td>Unknown</td><td>16.0</td></tr><tr><th>26</th><td>vital@gmail.com</td><td>3/12/2021</td><td>Belgium</td><td>BE0753524209</td><td>Unknown</td><td>55.0</td></tr><tr><th>27</th><td>Info@balvantwaregemse.be</td><td>10/1/2021</td><td>Belgium</td><td>BE0729909558</td><td>Unknown</td><td>597.0</td></tr><tr><th>28</th><td>LACUS@GMAIL.COM</td><td>23/1/2021</td><td>Belgium</td><td>BE0776625055</td><td>Unknown</td><td>75.0</td></tr><tr><th>29</th><td>Arno@gmail.com</td><td>26/12/2022</td><td>Belgium</td><td>Unknown</td><td>Unknown</td><td>160.0</td></tr><tr><th>30</th><td>Sbridoux.business@gmail.com</td><td>10/2/2022</td><td>Belgium</td><td>BE0775755025</td><td>+32483446663</td><td>54.99</td></tr><tr><th>&vellip;</th><td>&vellip;</td><td>&vellip;</td><td>&vellip;</td><td>&vellip;</td><td>&vellip;</td><td>&vellip;</td></tr></tbody></table></div>"
      ],
      "text/latex": [
       "\\begin{tabular}{r|cccccc}\n",
       "\t& Email & Date & Country & VAT & Telephone & Total\\_€\\\\\n",
       "\t\\hline\n",
       "\t& Any & Any & Any & Any & Any & Any\\\\\n",
       "\t\\hline\n",
       "\t1 & Arno@gmail.com & 26/12/2022 & Belgium & Unknown & Unknown & 160.0 \\\\\n",
       "\t2 & Sbridoux.business@gmail.com & 10/2/2022 & Belgium & BE0775755025 & +32483446663 & 54.99 \\\\\n",
       "\t3 & lennertgrootaerd@gmail.com & 23/1/2021 & Unknown & BE0725470720 & Unknown & 195.0 \\\\\n",
       "\t4 & LACUS@gmail.com & 1/2/2022 & Unknown & BE0776625055 & Unknown & 16.0 \\\\\n",
       "\t5 & vital@gmail.com & 3/12/2021 & Belgium & BE0753524209 & Unknown & 55.0 \\\\\n",
       "\t6 & Info@balvantwaregemse.be & 10/1/2021 & Belgium & BE0729909558 & Unknown & 597.0 \\\\\n",
       "\t7 & LACUS@GMAIL.COM & 23/1/2021 & Belgium & BE0776625055 & Unknown & 75.0 \\\\\n",
       "\t8 & Arno@gmail.com & 26/12/2022 & Belgium & Unknown & Unknown & 160.0 \\\\\n",
       "\t9 & Sbridoux.business@gmail.com & 10/2/2022 & Belgium & BE0775755025 & +32483446663 & 54.99 \\\\\n",
       "\t10 & lennertgrootaerd@gmail.com & 23/1/2021 & Unknown & BE0725470720 & Unknown & 195.0 \\\\\n",
       "\t11 & LACUS@gmail.com & 1/2/2022 & Unknown & BE0776625055 & Unknown & 16.0 \\\\\n",
       "\t12 & vital@gmail.com & 3/12/2021 & Belgium & BE0753524209 & Unknown & 55.0 \\\\\n",
       "\t13 & Info@balvantwaregemse.be & 10/1/2021 & Belgium & BE0729909558 & Unknown & 597.0 \\\\\n",
       "\t14 & LACUS@GMAIL.COM & 23/1/2021 & Belgium & BE0776625055 & Unknown & 75.0 \\\\\n",
       "\t15 & Arno@gmail.com & 26/12/2022 & Belgium & Unknown & Unknown & 160.0 \\\\\n",
       "\t16 & Sbridoux.business@gmail.com & 10/2/2022 & Belgium & BE0775755025 & +32483446663 & 54.99 \\\\\n",
       "\t17 & lennertgrootaerd@gmail.com & 23/1/2021 & Unknown & BE0725470720 & Unknown & 195.0 \\\\\n",
       "\t18 & LACUS@gmail.com & 1/2/2022 & Unknown & BE0776625055 & Unknown & 16.0 \\\\\n",
       "\t19 & vital@gmail.com & 3/12/2021 & Belgium & BE0753524209 & Unknown & 55.0 \\\\\n",
       "\t20 & Info@balvantwaregemse.be & 10/1/2021 & Belgium & BE0729909558 & Unknown & 597.0 \\\\\n",
       "\t21 & LACUS@GMAIL.COM & 23/1/2021 & Belgium & BE0776625055 & Unknown & 75.0 \\\\\n",
       "\t22 & Arno@gmail.com & 26/12/2022 & Belgium & Unknown & Unknown & 160.0 \\\\\n",
       "\t23 & Sbridoux.business@gmail.com & 10/2/2022 & Belgium & BE0775755025 & +32483446663 & 54.99 \\\\\n",
       "\t24 & lennertgrootaerd@gmail.com & 23/1/2021 & Unknown & BE0725470720 & Unknown & 195.0 \\\\\n",
       "\t25 & LACUS@gmail.com & 1/2/2022 & Unknown & BE0776625055 & Unknown & 16.0 \\\\\n",
       "\t26 & vital@gmail.com & 3/12/2021 & Belgium & BE0753524209 & Unknown & 55.0 \\\\\n",
       "\t27 & Info@balvantwaregemse.be & 10/1/2021 & Belgium & BE0729909558 & Unknown & 597.0 \\\\\n",
       "\t28 & LACUS@GMAIL.COM & 23/1/2021 & Belgium & BE0776625055 & Unknown & 75.0 \\\\\n",
       "\t29 & Arno@gmail.com & 26/12/2022 & Belgium & Unknown & Unknown & 160.0 \\\\\n",
       "\t30 & Sbridoux.business@gmail.com & 10/2/2022 & Belgium & BE0775755025 & +32483446663 & 54.99 \\\\\n",
       "\t$\\dots$ & $\\dots$ & $\\dots$ & $\\dots$ & $\\dots$ & $\\dots$ & $\\dots$ \\\\\n",
       "\\end{tabular}\n"
      ],
      "text/plain": [
       "\u001b[1m286×6 DataFrame\u001b[0m\n",
       "\u001b[1m Row \u001b[0m│\u001b[1m Email                       \u001b[0m\u001b[1m Date       \u001b[0m\u001b[1m Country \u001b[0m\u001b[1m VAT           \u001b[0m\u001b[1m Teleph\u001b[0m ⋯\n",
       "\u001b[1m     \u001b[0m│\u001b[90m Any                         \u001b[0m\u001b[90m Any        \u001b[0m\u001b[90m Any     \u001b[0m\u001b[90m Any           \u001b[0m\u001b[90m Any   \u001b[0m ⋯\n",
       "─────┼──────────────────────────────────────────────────────────────────────────\n",
       "   1 │ Arno@gmail.com               26/12/2022  Belgium  Unknown        Unknow ⋯\n",
       "   2 │ Sbridoux.business@gmail.com  10/2/2022   Belgium  BE0775755025   +32483\n",
       "   3 │ lennertgrootaerd@gmail.com   23/1/2021   Unknown  BE0725470720   Unknow\n",
       "   4 │ LACUS@gmail.com              1/2/2022    Unknown  BE0776625055   Unknow\n",
       "   5 │ vital@gmail.com              3/12/2021   Belgium  BE0753524209   Unknow ⋯\n",
       "   6 │ Info@balvantwaregemse.be     10/1/2021   Belgium  BE0729909558   Unknow\n",
       "   7 │ LACUS@GMAIL.COM              23/1/2021   Belgium  BE0776625055   Unknow\n",
       "   8 │ Arno@gmail.com               26/12/2022  Belgium  Unknown        Unknow\n",
       "   9 │ Sbridoux.business@gmail.com  10/2/2022   Belgium  BE0775755025   +32483 ⋯\n",
       "  10 │ lennertgrootaerd@gmail.com   23/1/2021   Unknown  BE0725470720   Unknow\n",
       "  11 │ LACUS@gmail.com              1/2/2022    Unknown  BE0776625055   Unknow\n",
       "  ⋮  │              ⋮                   ⋮          ⋮           ⋮             ⋮ ⋱\n",
       " 277 │ LACUS@gmail.com              1/2/2022    Unknown  BE0776625055   Unknow\n",
       " 278 │ vital@gmail.com              3/12/2021   Belgium  BE0753524209   Unknow ⋯\n",
       " 279 │ Info@balvantwaregemse.be     10/1/2021   Belgium  BE0729909558   Unknow\n",
       " 280 │ LACUS@GMAIL.COM              23/1/2021   Belgium  BE0776625055   Unknow\n",
       " 281 │ Richard@hotmail.fr           22/3/2021   France   FR4847220377   +33984\n",
       " 282 │ Victor@hotmail.fr            31/3/2021   France   FR4847220373   +33987 ⋯\n",
       " 283 │ Melody@outlook.fr            01/3/2021   France   FR4847260373   +33447\n",
       " 284 │ Henk@gmail.fr                22/1/2021   France   FR424750077    +33987\n",
       " 285 │ Kyani@DPD.fr                 12/2/2021   France   FR48272250357  +33987\n",
       " 286 │ Hugo@hotmail.fr              24/2/2021   France   FR13472243077  +33987 ⋯\n",
       "\u001b[36m                                                  2 columns and 265 rows omitted\u001b[0m"
      ]
     },
     "execution_count": 222,
     "metadata": {},
     "output_type": "execute_result"
    }
   ],
   "source": [
    "push!(dataset,[\"Richard@hotmail.fr\",\"22/3/2021\",\"France\",\"FR4847220377\",\"+33984535111\",120.5])\n",
    "push!(dataset,[\"Victor@hotmail.fr\",\"31/3/2021\",\"France\",\"FR4847220373\",\"+33987337111\",100.5])\n",
    "push!(dataset,[\"Melody@outlook.fr\",\"01/3/2021\",\"France\",\"FR4847260373\",\"+33447337111\",119.5])\n",
    "push!(dataset,[\"Henk@gmail.fr\",\"22/1/2021\",\"France\",\"FR424750077\",\"+33987336611\",15.5])\n",
    "push!(dataset,[\"Kyani@DPD.fr\",\"12/2/2021\",\"France\",\"FR48272250357\",\"+33987337151\",59.5])\n",
    "push!(dataset,[\"Hugo@hotmail.fr\",\"24/2/2021\",\"France\",\"FR13472243077\",\"+33987337131\",29.8])\n",
    "\n"
   ]
  },
  {
   "cell_type": "code",
   "execution_count": 223,
   "metadata": {},
   "outputs": [
    {
     "data": {
      "text/html": [
       "<div class=\"data-frame\"><p>6 rows × 7 columns</p><table class=\"data-frame\"><thead><tr><th></th><th>variable</th><th>mean</th><th>min</th><th>median</th><th>max</th><th>nmissing</th><th>eltype</th></tr><tr><th></th><th title=\"Symbol\">Symbol</th><th title=\"Union{Nothing, Float64}\">Union…</th><th title=\"Any\">Any</th><th title=\"Union{Nothing, Float64}\">Union…</th><th title=\"Any\">Any</th><th title=\"Int64\">Int64</th><th title=\"DataType\">DataType</th></tr></thead><tbody><tr><th>1</th><td>Email</td><td></td><td>Arno@gmail.com</td><td></td><td>vital@gmail.com</td><td>0</td><td>Any</td></tr><tr><th>2</th><td>Date</td><td></td><td>01/3/2021</td><td></td><td>31/3/2021</td><td>0</td><td>Any</td></tr><tr><th>3</th><td>Country</td><td></td><td>Belgium</td><td></td><td>Unknown</td><td>0</td><td>Any</td></tr><tr><th>4</th><td>VAT</td><td></td><td>BE0725470720</td><td></td><td>Unknown</td><td>0</td><td>Any</td></tr><tr><th>5</th><td>Telephone</td><td></td><td>+32483446663</td><td></td><td>Unknown</td><td>0</td><td>Any</td></tr><tr><th>6</th><td>Total_€</td><td>162.814</td><td>15.5</td><td>75.0</td><td>597.0</td><td>0</td><td>Any</td></tr></tbody></table></div>"
      ],
      "text/latex": [
       "\\begin{tabular}{r|ccccccc}\n",
       "\t& variable & mean & min & median & max & nmissing & eltype\\\\\n",
       "\t\\hline\n",
       "\t& Symbol & Union… & Any & Union… & Any & Int64 & DataType\\\\\n",
       "\t\\hline\n",
       "\t1 & Email &  & Arno@gmail.com &  & vital@gmail.com & 0 & Any \\\\\n",
       "\t2 & Date &  & 01/3/2021 &  & 31/3/2021 & 0 & Any \\\\\n",
       "\t3 & Country &  & Belgium &  & Unknown & 0 & Any \\\\\n",
       "\t4 & VAT &  & BE0725470720 &  & Unknown & 0 & Any \\\\\n",
       "\t5 & Telephone &  & +32483446663 &  & Unknown & 0 & Any \\\\\n",
       "\t6 & Total\\_€ & 162.814 & 15.5 & 75.0 & 597.0 & 0 & Any \\\\\n",
       "\\end{tabular}\n"
      ],
      "text/plain": [
       "\u001b[1m6×7 DataFrame\u001b[0m\n",
       "\u001b[1m Row \u001b[0m│\u001b[1m variable  \u001b[0m\u001b[1m mean    \u001b[0m\u001b[1m min            \u001b[0m\u001b[1m median \u001b[0m\u001b[1m max             \u001b[0m\u001b[1m nmissing \u001b[0m\u001b[1m \u001b[0m ⋯\n",
       "\u001b[1m     \u001b[0m│\u001b[90m Symbol    \u001b[0m\u001b[90m Union…  \u001b[0m\u001b[90m Any            \u001b[0m\u001b[90m Union… \u001b[0m\u001b[90m Any             \u001b[0m\u001b[90m Int64    \u001b[0m\u001b[90m \u001b[0m ⋯\n",
       "─────┼──────────────────────────────────────────────────────────────────────────\n",
       "   1 │ Email     \u001b[90m         \u001b[0m Arno@gmail.com \u001b[90m        \u001b[0m vital@gmail.com         0   ⋯\n",
       "   2 │ Date      \u001b[90m         \u001b[0m 01/3/2021      \u001b[90m        \u001b[0m 31/3/2021               0\n",
       "   3 │ Country   \u001b[90m         \u001b[0m Belgium        \u001b[90m        \u001b[0m Unknown                 0\n",
       "   4 │ VAT       \u001b[90m         \u001b[0m BE0725470720   \u001b[90m        \u001b[0m Unknown                 0\n",
       "   5 │ Telephone \u001b[90m         \u001b[0m +32483446663   \u001b[90m        \u001b[0m Unknown                 0   ⋯\n",
       "   6 │ Total_€    162.814  15.5            75.0    597.0                   0\n",
       "\u001b[36m                                                                1 column omitted\u001b[0m"
      ]
     },
     "execution_count": 223,
     "metadata": {},
     "output_type": "execute_result"
    }
   ],
   "source": [
    "describe(dataset)"
   ]
  },
  {
   "cell_type": "code",
   "execution_count": 224,
   "metadata": {},
   "outputs": [
    {
     "data": {
      "text/plain": [
       "286-element Vector{Any}:\n",
       " \"Belgium\"\n",
       " \"Belgium\"\n",
       " \"Unknown\"\n",
       " \"Unknown\"\n",
       " \"Belgium\"\n",
       " \"Belgium\"\n",
       " \"Belgium\"\n",
       " \"Belgium\"\n",
       " \"Belgium\"\n",
       " \"Unknown\"\n",
       " \"Unknown\"\n",
       " \"Belgium\"\n",
       " \"Belgium\"\n",
       " ⋮\n",
       " \"Belgium\"\n",
       " \"Unknown\"\n",
       " \"Unknown\"\n",
       " \"Belgium\"\n",
       " \"Belgium\"\n",
       " \"Belgium\"\n",
       " \"France\"\n",
       " \"France\"\n",
       " \"France\"\n",
       " \"France\"\n",
       " \"France\"\n",
       " \"France\""
      ]
     },
     "execution_count": 224,
     "metadata": {},
     "output_type": "execute_result"
    }
   ],
   "source": [
    "dataset.Country"
   ]
  },
  {
   "cell_type": "code",
   "execution_count": 225,
   "metadata": {},
   "outputs": [
    {
     "data": {
      "text/html": [
       "<div class=\"data-frame\"><p>286 rows × 6 columns</p><table class=\"data-frame\"><thead><tr><th></th><th>Email</th><th>Date</th><th>Country</th><th>VAT</th><th>Telephone</th><th>Total_€</th></tr><tr><th></th><th title=\"Any\">Any</th><th title=\"Any\">Any</th><th title=\"Any\">Any</th><th title=\"Any\">Any</th><th title=\"Any\">Any</th><th title=\"Any\">Any</th></tr></thead><tbody><tr><th>1</th><td>Arno@gmail.com</td><td>26/12/2022</td><td>Belgium</td><td>Unknown</td><td>Unknown</td><td>160.0</td></tr><tr><th>2</th><td>Sbridoux.business@gmail.com</td><td>10/2/2022</td><td>Belgium</td><td>BE0775755025</td><td>+32483446663</td><td>54.99</td></tr><tr><th>3</th><td>lennertgrootaerd@gmail.com</td><td>23/1/2021</td><td>Unknown</td><td>BE0725470720</td><td>Unknown</td><td>195.0</td></tr><tr><th>4</th><td>LACUS@gmail.com</td><td>1/2/2022</td><td>Unknown</td><td>BE0776625055</td><td>Unknown</td><td>16.0</td></tr><tr><th>5</th><td>vital@gmail.com</td><td>3/12/2021</td><td>Belgium</td><td>BE0753524209</td><td>Unknown</td><td>55.0</td></tr><tr><th>6</th><td>Info@balvantwaregemse.be</td><td>10/1/2021</td><td>Belgium</td><td>BE0729909558</td><td>Unknown</td><td>597.0</td></tr><tr><th>7</th><td>LACUS@GMAIL.COM</td><td>23/1/2021</td><td>Belgium</td><td>BE0776625055</td><td>Unknown</td><td>75.0</td></tr><tr><th>8</th><td>Arno@gmail.com</td><td>26/12/2022</td><td>Belgium</td><td>Unknown</td><td>Unknown</td><td>160.0</td></tr><tr><th>9</th><td>Sbridoux.business@gmail.com</td><td>10/2/2022</td><td>Belgium</td><td>BE0775755025</td><td>+32483446663</td><td>54.99</td></tr><tr><th>10</th><td>lennertgrootaerd@gmail.com</td><td>23/1/2021</td><td>Unknown</td><td>BE0725470720</td><td>Unknown</td><td>195.0</td></tr><tr><th>11</th><td>LACUS@gmail.com</td><td>1/2/2022</td><td>Unknown</td><td>BE0776625055</td><td>Unknown</td><td>16.0</td></tr><tr><th>12</th><td>vital@gmail.com</td><td>3/12/2021</td><td>Belgium</td><td>BE0753524209</td><td>Unknown</td><td>55.0</td></tr><tr><th>13</th><td>Info@balvantwaregemse.be</td><td>10/1/2021</td><td>Belgium</td><td>BE0729909558</td><td>Unknown</td><td>597.0</td></tr><tr><th>14</th><td>LACUS@GMAIL.COM</td><td>23/1/2021</td><td>Belgium</td><td>BE0776625055</td><td>Unknown</td><td>75.0</td></tr><tr><th>15</th><td>Arno@gmail.com</td><td>26/12/2022</td><td>Belgium</td><td>Unknown</td><td>Unknown</td><td>160.0</td></tr><tr><th>16</th><td>Sbridoux.business@gmail.com</td><td>10/2/2022</td><td>Belgium</td><td>BE0775755025</td><td>+32483446663</td><td>54.99</td></tr><tr><th>17</th><td>lennertgrootaerd@gmail.com</td><td>23/1/2021</td><td>Unknown</td><td>BE0725470720</td><td>Unknown</td><td>195.0</td></tr><tr><th>18</th><td>LACUS@gmail.com</td><td>1/2/2022</td><td>Unknown</td><td>BE0776625055</td><td>Unknown</td><td>16.0</td></tr><tr><th>19</th><td>vital@gmail.com</td><td>3/12/2021</td><td>Belgium</td><td>BE0753524209</td><td>Unknown</td><td>55.0</td></tr><tr><th>20</th><td>Info@balvantwaregemse.be</td><td>10/1/2021</td><td>Belgium</td><td>BE0729909558</td><td>Unknown</td><td>597.0</td></tr><tr><th>21</th><td>LACUS@GMAIL.COM</td><td>23/1/2021</td><td>Belgium</td><td>BE0776625055</td><td>Unknown</td><td>75.0</td></tr><tr><th>22</th><td>Arno@gmail.com</td><td>26/12/2022</td><td>Belgium</td><td>Unknown</td><td>Unknown</td><td>160.0</td></tr><tr><th>23</th><td>Sbridoux.business@gmail.com</td><td>10/2/2022</td><td>Belgium</td><td>BE0775755025</td><td>+32483446663</td><td>54.99</td></tr><tr><th>24</th><td>lennertgrootaerd@gmail.com</td><td>23/1/2021</td><td>Unknown</td><td>BE0725470720</td><td>Unknown</td><td>195.0</td></tr><tr><th>25</th><td>LACUS@gmail.com</td><td>1/2/2022</td><td>Unknown</td><td>BE0776625055</td><td>Unknown</td><td>16.0</td></tr><tr><th>26</th><td>vital@gmail.com</td><td>3/12/2021</td><td>Belgium</td><td>BE0753524209</td><td>Unknown</td><td>55.0</td></tr><tr><th>27</th><td>Info@balvantwaregemse.be</td><td>10/1/2021</td><td>Belgium</td><td>BE0729909558</td><td>Unknown</td><td>597.0</td></tr><tr><th>28</th><td>LACUS@GMAIL.COM</td><td>23/1/2021</td><td>Belgium</td><td>BE0776625055</td><td>Unknown</td><td>75.0</td></tr><tr><th>29</th><td>Arno@gmail.com</td><td>26/12/2022</td><td>Belgium</td><td>Unknown</td><td>Unknown</td><td>160.0</td></tr><tr><th>30</th><td>Sbridoux.business@gmail.com</td><td>10/2/2022</td><td>Belgium</td><td>BE0775755025</td><td>+32483446663</td><td>54.99</td></tr><tr><th>&vellip;</th><td>&vellip;</td><td>&vellip;</td><td>&vellip;</td><td>&vellip;</td><td>&vellip;</td><td>&vellip;</td></tr></tbody></table></div>"
      ],
      "text/latex": [
       "\\begin{tabular}{r|cccccc}\n",
       "\t& Email & Date & Country & VAT & Telephone & Total\\_€\\\\\n",
       "\t\\hline\n",
       "\t& Any & Any & Any & Any & Any & Any\\\\\n",
       "\t\\hline\n",
       "\t1 & Arno@gmail.com & 26/12/2022 & Belgium & Unknown & Unknown & 160.0 \\\\\n",
       "\t2 & Sbridoux.business@gmail.com & 10/2/2022 & Belgium & BE0775755025 & +32483446663 & 54.99 \\\\\n",
       "\t3 & lennertgrootaerd@gmail.com & 23/1/2021 & Unknown & BE0725470720 & Unknown & 195.0 \\\\\n",
       "\t4 & LACUS@gmail.com & 1/2/2022 & Unknown & BE0776625055 & Unknown & 16.0 \\\\\n",
       "\t5 & vital@gmail.com & 3/12/2021 & Belgium & BE0753524209 & Unknown & 55.0 \\\\\n",
       "\t6 & Info@balvantwaregemse.be & 10/1/2021 & Belgium & BE0729909558 & Unknown & 597.0 \\\\\n",
       "\t7 & LACUS@GMAIL.COM & 23/1/2021 & Belgium & BE0776625055 & Unknown & 75.0 \\\\\n",
       "\t8 & Arno@gmail.com & 26/12/2022 & Belgium & Unknown & Unknown & 160.0 \\\\\n",
       "\t9 & Sbridoux.business@gmail.com & 10/2/2022 & Belgium & BE0775755025 & +32483446663 & 54.99 \\\\\n",
       "\t10 & lennertgrootaerd@gmail.com & 23/1/2021 & Unknown & BE0725470720 & Unknown & 195.0 \\\\\n",
       "\t11 & LACUS@gmail.com & 1/2/2022 & Unknown & BE0776625055 & Unknown & 16.0 \\\\\n",
       "\t12 & vital@gmail.com & 3/12/2021 & Belgium & BE0753524209 & Unknown & 55.0 \\\\\n",
       "\t13 & Info@balvantwaregemse.be & 10/1/2021 & Belgium & BE0729909558 & Unknown & 597.0 \\\\\n",
       "\t14 & LACUS@GMAIL.COM & 23/1/2021 & Belgium & BE0776625055 & Unknown & 75.0 \\\\\n",
       "\t15 & Arno@gmail.com & 26/12/2022 & Belgium & Unknown & Unknown & 160.0 \\\\\n",
       "\t16 & Sbridoux.business@gmail.com & 10/2/2022 & Belgium & BE0775755025 & +32483446663 & 54.99 \\\\\n",
       "\t17 & lennertgrootaerd@gmail.com & 23/1/2021 & Unknown & BE0725470720 & Unknown & 195.0 \\\\\n",
       "\t18 & LACUS@gmail.com & 1/2/2022 & Unknown & BE0776625055 & Unknown & 16.0 \\\\\n",
       "\t19 & vital@gmail.com & 3/12/2021 & Belgium & BE0753524209 & Unknown & 55.0 \\\\\n",
       "\t20 & Info@balvantwaregemse.be & 10/1/2021 & Belgium & BE0729909558 & Unknown & 597.0 \\\\\n",
       "\t21 & LACUS@GMAIL.COM & 23/1/2021 & Belgium & BE0776625055 & Unknown & 75.0 \\\\\n",
       "\t22 & Arno@gmail.com & 26/12/2022 & Belgium & Unknown & Unknown & 160.0 \\\\\n",
       "\t23 & Sbridoux.business@gmail.com & 10/2/2022 & Belgium & BE0775755025 & +32483446663 & 54.99 \\\\\n",
       "\t24 & lennertgrootaerd@gmail.com & 23/1/2021 & Unknown & BE0725470720 & Unknown & 195.0 \\\\\n",
       "\t25 & LACUS@gmail.com & 1/2/2022 & Unknown & BE0776625055 & Unknown & 16.0 \\\\\n",
       "\t26 & vital@gmail.com & 3/12/2021 & Belgium & BE0753524209 & Unknown & 55.0 \\\\\n",
       "\t27 & Info@balvantwaregemse.be & 10/1/2021 & Belgium & BE0729909558 & Unknown & 597.0 \\\\\n",
       "\t28 & LACUS@GMAIL.COM & 23/1/2021 & Belgium & BE0776625055 & Unknown & 75.0 \\\\\n",
       "\t29 & Arno@gmail.com & 26/12/2022 & Belgium & Unknown & Unknown & 160.0 \\\\\n",
       "\t30 & Sbridoux.business@gmail.com & 10/2/2022 & Belgium & BE0775755025 & +32483446663 & 54.99 \\\\\n",
       "\t$\\dots$ & $\\dots$ & $\\dots$ & $\\dots$ & $\\dots$ & $\\dots$ & $\\dots$ \\\\\n",
       "\\end{tabular}\n"
      ],
      "text/plain": [
       "\u001b[1m286×6 DataFrame\u001b[0m\n",
       "\u001b[1m Row \u001b[0m│\u001b[1m Email                       \u001b[0m\u001b[1m Date       \u001b[0m\u001b[1m Country \u001b[0m\u001b[1m VAT           \u001b[0m\u001b[1m Teleph\u001b[0m ⋯\n",
       "\u001b[1m     \u001b[0m│\u001b[90m Any                         \u001b[0m\u001b[90m Any        \u001b[0m\u001b[90m Any     \u001b[0m\u001b[90m Any           \u001b[0m\u001b[90m Any   \u001b[0m ⋯\n",
       "─────┼──────────────────────────────────────────────────────────────────────────\n",
       "   1 │ Arno@gmail.com               26/12/2022  Belgium  Unknown        Unknow ⋯\n",
       "   2 │ Sbridoux.business@gmail.com  10/2/2022   Belgium  BE0775755025   +32483\n",
       "   3 │ lennertgrootaerd@gmail.com   23/1/2021   Unknown  BE0725470720   Unknow\n",
       "   4 │ LACUS@gmail.com              1/2/2022    Unknown  BE0776625055   Unknow\n",
       "   5 │ vital@gmail.com              3/12/2021   Belgium  BE0753524209   Unknow ⋯\n",
       "   6 │ Info@balvantwaregemse.be     10/1/2021   Belgium  BE0729909558   Unknow\n",
       "   7 │ LACUS@GMAIL.COM              23/1/2021   Belgium  BE0776625055   Unknow\n",
       "   8 │ Arno@gmail.com               26/12/2022  Belgium  Unknown        Unknow\n",
       "   9 │ Sbridoux.business@gmail.com  10/2/2022   Belgium  BE0775755025   +32483 ⋯\n",
       "  10 │ lennertgrootaerd@gmail.com   23/1/2021   Unknown  BE0725470720   Unknow\n",
       "  11 │ LACUS@gmail.com              1/2/2022    Unknown  BE0776625055   Unknow\n",
       "  ⋮  │              ⋮                   ⋮          ⋮           ⋮             ⋮ ⋱\n",
       " 277 │ LACUS@gmail.com              1/2/2022    Unknown  BE0776625055   Unknow\n",
       " 278 │ vital@gmail.com              3/12/2021   Belgium  BE0753524209   Unknow ⋯\n",
       " 279 │ Info@balvantwaregemse.be     10/1/2021   Belgium  BE0729909558   Unknow\n",
       " 280 │ LACUS@GMAIL.COM              23/1/2021   Belgium  BE0776625055   Unknow\n",
       " 281 │ Richard@hotmail.fr           22/3/2021   France   FR4847220377   +33984\n",
       " 282 │ Victor@hotmail.fr            31/3/2021   France   FR4847220373   +33987 ⋯\n",
       " 283 │ Melody@outlook.fr            01/3/2021   France   FR4847260373   +33447\n",
       " 284 │ Henk@gmail.fr                22/1/2021   France   FR424750077    +33987\n",
       " 285 │ Kyani@DPD.fr                 12/2/2021   France   FR48272250357  +33987\n",
       " 286 │ Hugo@hotmail.fr              24/2/2021   France   FR13472243077  +33987 ⋯\n",
       "\u001b[36m                                                  2 columns and 265 rows omitted\u001b[0m"
      ]
     },
     "execution_count": 225,
     "metadata": {},
     "output_type": "execute_result"
    }
   ],
   "source": [
    "dataset"
   ]
  },
  {
   "cell_type": "code",
   "execution_count": 226,
   "metadata": {},
   "outputs": [
    {
     "data": {
      "text/plain": [
       "286-element Vector{Date}:\n",
       " 2022-12-26\n",
       " 2022-02-10\n",
       " 2021-01-23\n",
       " 2022-02-01\n",
       " 2021-12-03\n",
       " 2021-01-10\n",
       " 2021-01-23\n",
       " 2022-12-26\n",
       " 2022-02-10\n",
       " 2021-01-23\n",
       " 2022-02-01\n",
       " 2021-12-03\n",
       " 2021-01-10\n",
       " ⋮\n",
       " 2022-02-10\n",
       " 2021-01-23\n",
       " 2022-02-01\n",
       " 2021-12-03\n",
       " 2021-01-10\n",
       " 2021-01-23\n",
       " 2021-03-22\n",
       " 2021-03-31\n",
       " 2021-03-01\n",
       " 2021-01-22\n",
       " 2021-02-12\n",
       " 2021-02-24"
      ]
     },
     "execution_count": 226,
     "metadata": {},
     "output_type": "execute_result"
    }
   ],
   "source": [
    "using Dates\n",
    "dataset.Date = Date.(dataset.Date, \"dd/mm/yyyy\")"
   ]
  },
  {
   "cell_type": "code",
   "execution_count": 227,
   "metadata": {},
   "outputs": [
    {
     "data": {
      "text/html": [
       "<div class=\"data-frame\"><p>286 rows × 6 columns</p><table class=\"data-frame\"><thead><tr><th></th><th>Email</th><th>Date</th><th>Country</th><th>VAT</th><th>Telephone</th><th>Total_€</th></tr><tr><th></th><th title=\"Any\">Any</th><th title=\"Date\">Date</th><th title=\"Any\">Any</th><th title=\"Any\">Any</th><th title=\"Any\">Any</th><th title=\"Any\">Any</th></tr></thead><tbody><tr><th>1</th><td>Arno@gmail.com</td><td>2022-12-26</td><td>Belgium</td><td>Unknown</td><td>Unknown</td><td>160.0</td></tr><tr><th>2</th><td>Sbridoux.business@gmail.com</td><td>2022-02-10</td><td>Belgium</td><td>BE0775755025</td><td>+32483446663</td><td>54.99</td></tr><tr><th>3</th><td>lennertgrootaerd@gmail.com</td><td>2021-01-23</td><td>Unknown</td><td>BE0725470720</td><td>Unknown</td><td>195.0</td></tr><tr><th>4</th><td>LACUS@gmail.com</td><td>2022-02-01</td><td>Unknown</td><td>BE0776625055</td><td>Unknown</td><td>16.0</td></tr><tr><th>5</th><td>vital@gmail.com</td><td>2021-12-03</td><td>Belgium</td><td>BE0753524209</td><td>Unknown</td><td>55.0</td></tr><tr><th>6</th><td>Info@balvantwaregemse.be</td><td>2021-01-10</td><td>Belgium</td><td>BE0729909558</td><td>Unknown</td><td>597.0</td></tr><tr><th>7</th><td>LACUS@GMAIL.COM</td><td>2021-01-23</td><td>Belgium</td><td>BE0776625055</td><td>Unknown</td><td>75.0</td></tr><tr><th>8</th><td>Arno@gmail.com</td><td>2022-12-26</td><td>Belgium</td><td>Unknown</td><td>Unknown</td><td>160.0</td></tr><tr><th>9</th><td>Sbridoux.business@gmail.com</td><td>2022-02-10</td><td>Belgium</td><td>BE0775755025</td><td>+32483446663</td><td>54.99</td></tr><tr><th>10</th><td>lennertgrootaerd@gmail.com</td><td>2021-01-23</td><td>Unknown</td><td>BE0725470720</td><td>Unknown</td><td>195.0</td></tr><tr><th>11</th><td>LACUS@gmail.com</td><td>2022-02-01</td><td>Unknown</td><td>BE0776625055</td><td>Unknown</td><td>16.0</td></tr><tr><th>12</th><td>vital@gmail.com</td><td>2021-12-03</td><td>Belgium</td><td>BE0753524209</td><td>Unknown</td><td>55.0</td></tr><tr><th>13</th><td>Info@balvantwaregemse.be</td><td>2021-01-10</td><td>Belgium</td><td>BE0729909558</td><td>Unknown</td><td>597.0</td></tr><tr><th>14</th><td>LACUS@GMAIL.COM</td><td>2021-01-23</td><td>Belgium</td><td>BE0776625055</td><td>Unknown</td><td>75.0</td></tr><tr><th>15</th><td>Arno@gmail.com</td><td>2022-12-26</td><td>Belgium</td><td>Unknown</td><td>Unknown</td><td>160.0</td></tr><tr><th>16</th><td>Sbridoux.business@gmail.com</td><td>2022-02-10</td><td>Belgium</td><td>BE0775755025</td><td>+32483446663</td><td>54.99</td></tr><tr><th>17</th><td>lennertgrootaerd@gmail.com</td><td>2021-01-23</td><td>Unknown</td><td>BE0725470720</td><td>Unknown</td><td>195.0</td></tr><tr><th>18</th><td>LACUS@gmail.com</td><td>2022-02-01</td><td>Unknown</td><td>BE0776625055</td><td>Unknown</td><td>16.0</td></tr><tr><th>19</th><td>vital@gmail.com</td><td>2021-12-03</td><td>Belgium</td><td>BE0753524209</td><td>Unknown</td><td>55.0</td></tr><tr><th>20</th><td>Info@balvantwaregemse.be</td><td>2021-01-10</td><td>Belgium</td><td>BE0729909558</td><td>Unknown</td><td>597.0</td></tr><tr><th>21</th><td>LACUS@GMAIL.COM</td><td>2021-01-23</td><td>Belgium</td><td>BE0776625055</td><td>Unknown</td><td>75.0</td></tr><tr><th>22</th><td>Arno@gmail.com</td><td>2022-12-26</td><td>Belgium</td><td>Unknown</td><td>Unknown</td><td>160.0</td></tr><tr><th>23</th><td>Sbridoux.business@gmail.com</td><td>2022-02-10</td><td>Belgium</td><td>BE0775755025</td><td>+32483446663</td><td>54.99</td></tr><tr><th>24</th><td>lennertgrootaerd@gmail.com</td><td>2021-01-23</td><td>Unknown</td><td>BE0725470720</td><td>Unknown</td><td>195.0</td></tr><tr><th>25</th><td>LACUS@gmail.com</td><td>2022-02-01</td><td>Unknown</td><td>BE0776625055</td><td>Unknown</td><td>16.0</td></tr><tr><th>26</th><td>vital@gmail.com</td><td>2021-12-03</td><td>Belgium</td><td>BE0753524209</td><td>Unknown</td><td>55.0</td></tr><tr><th>27</th><td>Info@balvantwaregemse.be</td><td>2021-01-10</td><td>Belgium</td><td>BE0729909558</td><td>Unknown</td><td>597.0</td></tr><tr><th>28</th><td>LACUS@GMAIL.COM</td><td>2021-01-23</td><td>Belgium</td><td>BE0776625055</td><td>Unknown</td><td>75.0</td></tr><tr><th>29</th><td>Arno@gmail.com</td><td>2022-12-26</td><td>Belgium</td><td>Unknown</td><td>Unknown</td><td>160.0</td></tr><tr><th>30</th><td>Sbridoux.business@gmail.com</td><td>2022-02-10</td><td>Belgium</td><td>BE0775755025</td><td>+32483446663</td><td>54.99</td></tr><tr><th>&vellip;</th><td>&vellip;</td><td>&vellip;</td><td>&vellip;</td><td>&vellip;</td><td>&vellip;</td><td>&vellip;</td></tr></tbody></table></div>"
      ],
      "text/latex": [
       "\\begin{tabular}{r|cccccc}\n",
       "\t& Email & Date & Country & VAT & Telephone & Total\\_€\\\\\n",
       "\t\\hline\n",
       "\t& Any & Date & Any & Any & Any & Any\\\\\n",
       "\t\\hline\n",
       "\t1 & Arno@gmail.com & 2022-12-26 & Belgium & Unknown & Unknown & 160.0 \\\\\n",
       "\t2 & Sbridoux.business@gmail.com & 2022-02-10 & Belgium & BE0775755025 & +32483446663 & 54.99 \\\\\n",
       "\t3 & lennertgrootaerd@gmail.com & 2021-01-23 & Unknown & BE0725470720 & Unknown & 195.0 \\\\\n",
       "\t4 & LACUS@gmail.com & 2022-02-01 & Unknown & BE0776625055 & Unknown & 16.0 \\\\\n",
       "\t5 & vital@gmail.com & 2021-12-03 & Belgium & BE0753524209 & Unknown & 55.0 \\\\\n",
       "\t6 & Info@balvantwaregemse.be & 2021-01-10 & Belgium & BE0729909558 & Unknown & 597.0 \\\\\n",
       "\t7 & LACUS@GMAIL.COM & 2021-01-23 & Belgium & BE0776625055 & Unknown & 75.0 \\\\\n",
       "\t8 & Arno@gmail.com & 2022-12-26 & Belgium & Unknown & Unknown & 160.0 \\\\\n",
       "\t9 & Sbridoux.business@gmail.com & 2022-02-10 & Belgium & BE0775755025 & +32483446663 & 54.99 \\\\\n",
       "\t10 & lennertgrootaerd@gmail.com & 2021-01-23 & Unknown & BE0725470720 & Unknown & 195.0 \\\\\n",
       "\t11 & LACUS@gmail.com & 2022-02-01 & Unknown & BE0776625055 & Unknown & 16.0 \\\\\n",
       "\t12 & vital@gmail.com & 2021-12-03 & Belgium & BE0753524209 & Unknown & 55.0 \\\\\n",
       "\t13 & Info@balvantwaregemse.be & 2021-01-10 & Belgium & BE0729909558 & Unknown & 597.0 \\\\\n",
       "\t14 & LACUS@GMAIL.COM & 2021-01-23 & Belgium & BE0776625055 & Unknown & 75.0 \\\\\n",
       "\t15 & Arno@gmail.com & 2022-12-26 & Belgium & Unknown & Unknown & 160.0 \\\\\n",
       "\t16 & Sbridoux.business@gmail.com & 2022-02-10 & Belgium & BE0775755025 & +32483446663 & 54.99 \\\\\n",
       "\t17 & lennertgrootaerd@gmail.com & 2021-01-23 & Unknown & BE0725470720 & Unknown & 195.0 \\\\\n",
       "\t18 & LACUS@gmail.com & 2022-02-01 & Unknown & BE0776625055 & Unknown & 16.0 \\\\\n",
       "\t19 & vital@gmail.com & 2021-12-03 & Belgium & BE0753524209 & Unknown & 55.0 \\\\\n",
       "\t20 & Info@balvantwaregemse.be & 2021-01-10 & Belgium & BE0729909558 & Unknown & 597.0 \\\\\n",
       "\t21 & LACUS@GMAIL.COM & 2021-01-23 & Belgium & BE0776625055 & Unknown & 75.0 \\\\\n",
       "\t22 & Arno@gmail.com & 2022-12-26 & Belgium & Unknown & Unknown & 160.0 \\\\\n",
       "\t23 & Sbridoux.business@gmail.com & 2022-02-10 & Belgium & BE0775755025 & +32483446663 & 54.99 \\\\\n",
       "\t24 & lennertgrootaerd@gmail.com & 2021-01-23 & Unknown & BE0725470720 & Unknown & 195.0 \\\\\n",
       "\t25 & LACUS@gmail.com & 2022-02-01 & Unknown & BE0776625055 & Unknown & 16.0 \\\\\n",
       "\t26 & vital@gmail.com & 2021-12-03 & Belgium & BE0753524209 & Unknown & 55.0 \\\\\n",
       "\t27 & Info@balvantwaregemse.be & 2021-01-10 & Belgium & BE0729909558 & Unknown & 597.0 \\\\\n",
       "\t28 & LACUS@GMAIL.COM & 2021-01-23 & Belgium & BE0776625055 & Unknown & 75.0 \\\\\n",
       "\t29 & Arno@gmail.com & 2022-12-26 & Belgium & Unknown & Unknown & 160.0 \\\\\n",
       "\t30 & Sbridoux.business@gmail.com & 2022-02-10 & Belgium & BE0775755025 & +32483446663 & 54.99 \\\\\n",
       "\t$\\dots$ & $\\dots$ & $\\dots$ & $\\dots$ & $\\dots$ & $\\dots$ & $\\dots$ \\\\\n",
       "\\end{tabular}\n"
      ],
      "text/plain": [
       "\u001b[1m286×6 DataFrame\u001b[0m\n",
       "\u001b[1m Row \u001b[0m│\u001b[1m Email                       \u001b[0m\u001b[1m Date       \u001b[0m\u001b[1m Country \u001b[0m\u001b[1m VAT           \u001b[0m\u001b[1m Teleph\u001b[0m ⋯\n",
       "\u001b[1m     \u001b[0m│\u001b[90m Any                         \u001b[0m\u001b[90m Date       \u001b[0m\u001b[90m Any     \u001b[0m\u001b[90m Any           \u001b[0m\u001b[90m Any   \u001b[0m ⋯\n",
       "─────┼──────────────────────────────────────────────────────────────────────────\n",
       "   1 │ Arno@gmail.com               2022-12-26  Belgium  Unknown        Unknow ⋯\n",
       "   2 │ Sbridoux.business@gmail.com  2022-02-10  Belgium  BE0775755025   +32483\n",
       "   3 │ lennertgrootaerd@gmail.com   2021-01-23  Unknown  BE0725470720   Unknow\n",
       "   4 │ LACUS@gmail.com              2022-02-01  Unknown  BE0776625055   Unknow\n",
       "   5 │ vital@gmail.com              2021-12-03  Belgium  BE0753524209   Unknow ⋯\n",
       "   6 │ Info@balvantwaregemse.be     2021-01-10  Belgium  BE0729909558   Unknow\n",
       "   7 │ LACUS@GMAIL.COM              2021-01-23  Belgium  BE0776625055   Unknow\n",
       "   8 │ Arno@gmail.com               2022-12-26  Belgium  Unknown        Unknow\n",
       "   9 │ Sbridoux.business@gmail.com  2022-02-10  Belgium  BE0775755025   +32483 ⋯\n",
       "  10 │ lennertgrootaerd@gmail.com   2021-01-23  Unknown  BE0725470720   Unknow\n",
       "  11 │ LACUS@gmail.com              2022-02-01  Unknown  BE0776625055   Unknow\n",
       "  ⋮  │              ⋮                   ⋮          ⋮           ⋮             ⋮ ⋱\n",
       " 277 │ LACUS@gmail.com              2022-02-01  Unknown  BE0776625055   Unknow\n",
       " 278 │ vital@gmail.com              2021-12-03  Belgium  BE0753524209   Unknow ⋯\n",
       " 279 │ Info@balvantwaregemse.be     2021-01-10  Belgium  BE0729909558   Unknow\n",
       " 280 │ LACUS@GMAIL.COM              2021-01-23  Belgium  BE0776625055   Unknow\n",
       " 281 │ Richard@hotmail.fr           2021-03-22  France   FR4847220377   +33984\n",
       " 282 │ Victor@hotmail.fr            2021-03-31  France   FR4847220373   +33987 ⋯\n",
       " 283 │ Melody@outlook.fr            2021-03-01  France   FR4847260373   +33447\n",
       " 284 │ Henk@gmail.fr                2021-01-22  France   FR424750077    +33987\n",
       " 285 │ Kyani@DPD.fr                 2021-02-12  France   FR48272250357  +33987\n",
       " 286 │ Hugo@hotmail.fr              2021-02-24  France   FR13472243077  +33987 ⋯\n",
       "\u001b[36m                                                  2 columns and 265 rows omitted\u001b[0m"
      ]
     },
     "execution_count": 227,
     "metadata": {},
     "output_type": "execute_result"
    }
   ],
   "source": [
    "dataset"
   ]
  },
  {
   "cell_type": "markdown",
   "metadata": {},
   "source": [
    "# LOGISTIC REGRESSION"
   ]
  },
  {
   "cell_type": "code",
   "execution_count": 228,
   "metadata": {},
   "outputs": [
    {
     "name": "stderr",
     "output_type": "stream",
     "text": [
      "WARNING: redefinition of constant LogisticRegression. This may fail, cause incorrect answers, or produce other errors.\n"
     ]
    },
    {
     "data": {
      "text/plain": [
       "PyObject <class 'sklearn.linear_model._logistic.LogisticRegression'>"
      ]
     },
     "execution_count": 228,
     "metadata": {},
     "output_type": "execute_result"
    }
   ],
   "source": [
    "@sk_import linear_model: LogisticRegression"
   ]
  },
  {
   "cell_type": "code",
   "execution_count": 229,
   "metadata": {},
   "outputs": [
    {
     "data": {
      "text/plain": [
       "286×1 Matrix{Any}:\n",
       " 160.0\n",
       "  54.99\n",
       " 195.0\n",
       "  16.0\n",
       "  55.0\n",
       " 597.0\n",
       "  75.0\n",
       " 160.0\n",
       "  54.99\n",
       " 195.0\n",
       "  16.0\n",
       "  55.0\n",
       " 597.0\n",
       "   ⋮\n",
       "  54.99\n",
       " 195.0\n",
       "  16.0\n",
       "  55.0\n",
       " 597.0\n",
       "  75.0\n",
       " 120.5\n",
       " 100.5\n",
       " 119.5\n",
       "  15.5\n",
       "  59.5\n",
       "  29.8"
      ]
     },
     "execution_count": 229,
     "metadata": {},
     "output_type": "execute_result"
    }
   ],
   "source": [
    "#irs_x=Matrix(dataset[!,[1,2,4,5,6]])\n",
    "irs_x=Matrix(dataset[!,[6]])"
   ]
  },
  {
   "cell_type": "code",
   "execution_count": 238,
   "metadata": {},
   "outputs": [],
   "source": [
    "X_1= convert(Array,irs_x)\n",
    "Y_1= convert(Array,dataset[!,3]);# Target"
   ]
  },
  {
   "cell_type": "code",
   "execution_count": 239,
   "metadata": {},
   "outputs": [
    {
     "name": "stderr",
     "output_type": "stream",
     "text": [
      "┌ Warning: Module model_selection has been ported to Julia - try `import ScikitLearn: CrossValidation` instead\n",
      "└ @ ScikitLearn.Skcore /Users/casper/.julia/packages/ScikitLearn/ssekP/src/Skcore.jl:179\n",
      "WARNING: redefinition of constant train_test_split. This may fail, cause incorrect answers, or produce other errors.\n"
     ]
    },
    {
     "data": {
      "text/plain": [
       "PyObject <function train_test_split at 0x163421550>"
      ]
     },
     "execution_count": 239,
     "metadata": {},
     "output_type": "execute_result"
    }
   ],
   "source": [
    "@sk_import model_selection: train_test_split"
   ]
  },
  {
   "cell_type": "code",
   "execution_count": 240,
   "metadata": {},
   "outputs": [
    {
     "data": {
      "text/plain": [
       "4-element Vector{Array}:\n",
       " [55.0; 55.0; … ; 55.0; 195.0;;]\n",
       " [160.0; 597.0; … ; 54.99; 54.99;;]\n",
       " [\"Belgium\", \"Belgium\", \"Belgium\", \"Belgium\", \"Unknown\", \"Unknown\", \"Belgium\", \"Belgium\", \"Belgium\", \"Unknown\"  …  \"Belgium\", \"Belgium\", \"Unknown\", \"Belgium\", \"Belgium\", \"Belgium\", \"Unknown\", \"Unknown\", \"Belgium\", \"Unknown\"]\n",
       " [\"Belgium\", \"Belgium\", \"Belgium\", \"Belgium\", \"Unknown\", \"Belgium\", \"Unknown\", \"Belgium\", \"Belgium\", \"Unknown\"  …  \"Unknown\", \"Unknown\", \"Belgium\", \"Belgium\", \"Belgium\", \"Belgium\", \"Unknown\", \"Belgium\", \"Belgium\", \"Belgium\"]"
      ]
     },
     "execution_count": 240,
     "metadata": {},
     "output_type": "execute_result"
    }
   ],
   "source": [
    "x_train,x_test,y_train,y_test=train_test_split(X_1,Y_1,test_size=.3,random_state=1)"
   ]
  },
  {
   "cell_type": "code",
   "execution_count": 241,
   "metadata": {},
   "outputs": [
    {
     "name": "stdout",
     "output_type": "stream",
     "text": [
      "Trainingset= 200,Testset= 86\n"
     ]
    }
   ],
   "source": [
    "println(\"Trainingset= \",nrows(x_train),\",Testset= \", nrows(y_test))\n"
   ]
  },
  {
   "cell_type": "code",
   "execution_count": 242,
   "metadata": {},
   "outputs": [
    {
     "data": {
      "text/plain": [
       "PyObject LogisticRegression()"
      ]
     },
     "execution_count": 242,
     "metadata": {},
     "output_type": "execute_result"
    }
   ],
   "source": [
    "log_reg2= LogisticRegression()"
   ]
  },
  {
   "cell_type": "code",
   "execution_count": 243,
   "metadata": {},
   "outputs": [
    {
     "data": {
      "text/plain": [
       "PyObject LogisticRegression()"
      ]
     },
     "execution_count": 243,
     "metadata": {},
     "output_type": "execute_result"
    }
   ],
   "source": [
    "fit!(log_reg2,x_train,y_train)"
   ]
  },
  {
   "cell_type": "code",
   "execution_count": 244,
   "metadata": {},
   "outputs": [
    {
     "data": {
      "text/plain": [
       "86-element Vector{Any}:\n",
       " \"Belgium\"\n",
       " \"Belgium\"\n",
       " \"Belgium\"\n",
       " \"Belgium\"\n",
       " \"Belgium\"\n",
       " \"Belgium\"\n",
       " \"Belgium\"\n",
       " \"Belgium\"\n",
       " \"Belgium\"\n",
       " \"Belgium\"\n",
       " \"Belgium\"\n",
       " \"Belgium\"\n",
       " \"Belgium\"\n",
       " ⋮\n",
       " \"Belgium\"\n",
       " \"Belgium\"\n",
       " \"Belgium\"\n",
       " \"Belgium\"\n",
       " \"Belgium\"\n",
       " \"Belgium\"\n",
       " \"Belgium\"\n",
       " \"Belgium\"\n",
       " \"Belgium\"\n",
       " \"Belgium\"\n",
       " \"Belgium\"\n",
       " \"Belgium\""
      ]
     },
     "execution_count": 244,
     "metadata": {},
     "output_type": "execute_result"
    }
   ],
   "source": [
    "predictions=predict(log_reg2,x_test)"
   ]
  },
  {
   "cell_type": "code",
   "execution_count": 245,
   "metadata": {},
   "outputs": [
    {
     "name": "stderr",
     "output_type": "stream",
     "text": [
      "WARNING: redefinition of constant accuracy_score. This may fail, cause incorrect answers, or produce other errors.\n"
     ]
    },
    {
     "data": {
      "text/plain": [
       "0.6627906976744186"
      ]
     },
     "execution_count": 245,
     "metadata": {},
     "output_type": "execute_result"
    }
   ],
   "source": [
    "@sk_import metrics: accuracy_score\n",
    "log_reg_2_accuracy= accuracy_score(predictions,y_test)"
   ]
  },
  {
   "cell_type": "markdown",
   "metadata": {},
   "source": [
    "# DECISION TREES"
   ]
  },
  {
   "cell_type": "code",
   "execution_count": 246,
   "metadata": {},
   "outputs": [
    {
     "name": "stderr",
     "output_type": "stream",
     "text": [
      "WARNING: redefinition of constant DecisionTreeClassifier. This may fail, cause incorrect answers, or produce other errors.\n"
     ]
    },
    {
     "data": {
      "text/plain": [
       "PyObject DecisionTreeClassifier(max_depth=3)"
      ]
     },
     "execution_count": 246,
     "metadata": {},
     "output_type": "execute_result"
    }
   ],
   "source": [
    "@sk_import tree:DecisionTreeClassifier\n",
    "tree_model= DecisionTreeClassifier(max_depth=3)"
   ]
  },
  {
   "cell_type": "code",
   "execution_count": 247,
   "metadata": {},
   "outputs": [
    {
     "data": {
      "text/plain": [
       "PyObject DecisionTreeClassifier(max_depth=3)"
      ]
     },
     "execution_count": 247,
     "metadata": {},
     "output_type": "execute_result"
    }
   ],
   "source": [
    "fit!(tree_model,x_train,y_train)"
   ]
  },
  {
   "cell_type": "code",
   "execution_count": 248,
   "metadata": {},
   "outputs": [
    {
     "data": {
      "text/plain": [
       "86-element Vector{Any}:\n",
       " \"Belgium\"\n",
       " \"Belgium\"\n",
       " \"Belgium\"\n",
       " \"Belgium\"\n",
       " \"Unknown\"\n",
       " \"Belgium\"\n",
       " \"Unknown\"\n",
       " \"Belgium\"\n",
       " \"Belgium\"\n",
       " \"Unknown\"\n",
       " \"Belgium\"\n",
       " \"Unknown\"\n",
       " \"Belgium\"\n",
       " ⋮\n",
       " \"Belgium\"\n",
       " \"Belgium\"\n",
       " \"Unknown\"\n",
       " \"Unknown\"\n",
       " \"Belgium\"\n",
       " \"Belgium\"\n",
       " \"Belgium\"\n",
       " \"Belgium\"\n",
       " \"Unknown\"\n",
       " \"Belgium\"\n",
       " \"Belgium\"\n",
       " \"Belgium\""
      ]
     },
     "execution_count": 248,
     "metadata": {},
     "output_type": "execute_result"
    }
   ],
   "source": [
    "predictions=predict(tree_model,x_test)"
   ]
  },
  {
   "cell_type": "code",
   "execution_count": 249,
   "metadata": {},
   "outputs": [
    {
     "data": {
      "text/plain": [
       "0.9767441860465116"
      ]
     },
     "execution_count": 249,
     "metadata": {},
     "output_type": "execute_result"
    }
   ],
   "source": [
    "tree_model_acc_score= accuracy_score(predictions,y_test)"
   ]
  },
  {
   "cell_type": "code",
   "execution_count": 122,
   "metadata": {},
   "outputs": [
    {
     "data": {
      "text/html": [
       "<div class=\"data-frame\"><p>341 rows × 6 columns</p><table class=\"data-frame\"><thead><tr><th></th><th>Email</th><th>Date</th><th>Country</th><th>VAT</th><th>Telephone</th><th>Total_€</th></tr><tr><th></th><th title=\"Any\">Any</th><th title=\"Date\">Date</th><th title=\"Any\">Any</th><th title=\"Any\">Any</th><th title=\"Any\">Any</th><th title=\"Any\">Any</th></tr></thead><tbody><tr><th>1</th><td>Arno@gmail.com</td><td>2022-12-26</td><td>Belgium</td><td>Unknown</td><td>Unknown</td><td>160.0</td></tr><tr><th>2</th><td>Sbridoux.business@gmail.com</td><td>2022-02-10</td><td>Belgium</td><td>BE0775755025</td><td>+32483446663</td><td>54.99</td></tr><tr><th>3</th><td>lennertgrootaerd@gmail.com</td><td>2021-01-23</td><td>Unknown</td><td>BE0725470720</td><td>Unknown</td><td>195.0</td></tr><tr><th>4</th><td>LACUS@gmail.com</td><td>2022-02-01</td><td>Unknown</td><td>BE0776625055</td><td>Unknown</td><td>16.0</td></tr><tr><th>5</th><td>vital@gmail.com</td><td>2021-12-03</td><td>Belgium</td><td>BE0753524209</td><td>Unknown</td><td>55.0</td></tr><tr><th>6</th><td>Info@balvantwaregemse.be</td><td>2021-01-10</td><td>Belgium</td><td>BE0729909558</td><td>Unknown</td><td>597.0</td></tr><tr><th>7</th><td>LACUS@GMAIL.COM</td><td>2021-01-23</td><td>Belgium</td><td>BE0776625055</td><td>Unknown</td><td>75.0</td></tr><tr><th>8</th><td>Arno@gmail.com</td><td>2022-12-26</td><td>Belgium</td><td>Unknown</td><td>Unknown</td><td>160.0</td></tr><tr><th>9</th><td>Sbridoux.business@gmail.com</td><td>2022-02-10</td><td>Belgium</td><td>BE0775755025</td><td>+32483446663</td><td>54.99</td></tr><tr><th>10</th><td>lennertgrootaerd@gmail.com</td><td>2021-01-23</td><td>Unknown</td><td>BE0725470720</td><td>Unknown</td><td>195.0</td></tr><tr><th>11</th><td>LACUS@gmail.com</td><td>2022-02-01</td><td>Unknown</td><td>BE0776625055</td><td>Unknown</td><td>16.0</td></tr><tr><th>12</th><td>vital@gmail.com</td><td>2021-12-03</td><td>Belgium</td><td>BE0753524209</td><td>Unknown</td><td>55.0</td></tr><tr><th>13</th><td>Info@balvantwaregemse.be</td><td>2021-01-10</td><td>Belgium</td><td>BE0729909558</td><td>Unknown</td><td>597.0</td></tr><tr><th>14</th><td>LACUS@GMAIL.COM</td><td>2021-01-23</td><td>Belgium</td><td>BE0776625055</td><td>Unknown</td><td>75.0</td></tr><tr><th>15</th><td>Arno@gmail.com</td><td>2022-12-26</td><td>Belgium</td><td>Unknown</td><td>Unknown</td><td>160.0</td></tr><tr><th>16</th><td>Sbridoux.business@gmail.com</td><td>2022-02-10</td><td>Belgium</td><td>BE0775755025</td><td>+32483446663</td><td>54.99</td></tr><tr><th>17</th><td>lennertgrootaerd@gmail.com</td><td>2021-01-23</td><td>Unknown</td><td>BE0725470720</td><td>Unknown</td><td>195.0</td></tr><tr><th>18</th><td>LACUS@gmail.com</td><td>2022-02-01</td><td>Unknown</td><td>BE0776625055</td><td>Unknown</td><td>16.0</td></tr><tr><th>19</th><td>vital@gmail.com</td><td>2021-12-03</td><td>Belgium</td><td>BE0753524209</td><td>Unknown</td><td>55.0</td></tr><tr><th>20</th><td>Info@balvantwaregemse.be</td><td>2021-01-10</td><td>Belgium</td><td>BE0729909558</td><td>Unknown</td><td>597.0</td></tr><tr><th>21</th><td>LACUS@GMAIL.COM</td><td>2021-01-23</td><td>Belgium</td><td>BE0776625055</td><td>Unknown</td><td>75.0</td></tr><tr><th>22</th><td>Arno@gmail.com</td><td>2022-12-26</td><td>Belgium</td><td>Unknown</td><td>Unknown</td><td>160.0</td></tr><tr><th>23</th><td>Sbridoux.business@gmail.com</td><td>2022-02-10</td><td>Belgium</td><td>BE0775755025</td><td>+32483446663</td><td>54.99</td></tr><tr><th>24</th><td>lennertgrootaerd@gmail.com</td><td>2021-01-23</td><td>Unknown</td><td>BE0725470720</td><td>Unknown</td><td>195.0</td></tr><tr><th>25</th><td>LACUS@gmail.com</td><td>2022-02-01</td><td>Unknown</td><td>BE0776625055</td><td>Unknown</td><td>16.0</td></tr><tr><th>26</th><td>vital@gmail.com</td><td>2021-12-03</td><td>Belgium</td><td>BE0753524209</td><td>Unknown</td><td>55.0</td></tr><tr><th>27</th><td>Info@balvantwaregemse.be</td><td>2021-01-10</td><td>Belgium</td><td>BE0729909558</td><td>Unknown</td><td>597.0</td></tr><tr><th>28</th><td>LACUS@GMAIL.COM</td><td>2021-01-23</td><td>Belgium</td><td>BE0776625055</td><td>Unknown</td><td>75.0</td></tr><tr><th>29</th><td>Arno@gmail.com</td><td>2022-12-26</td><td>Belgium</td><td>Unknown</td><td>Unknown</td><td>160.0</td></tr><tr><th>30</th><td>Sbridoux.business@gmail.com</td><td>2022-02-10</td><td>Belgium</td><td>BE0775755025</td><td>+32483446663</td><td>54.99</td></tr><tr><th>&vellip;</th><td>&vellip;</td><td>&vellip;</td><td>&vellip;</td><td>&vellip;</td><td>&vellip;</td><td>&vellip;</td></tr></tbody></table></div>"
      ],
      "text/latex": [
       "\\begin{tabular}{r|cccccc}\n",
       "\t& Email & Date & Country & VAT & Telephone & Total\\_€\\\\\n",
       "\t\\hline\n",
       "\t& Any & Date & Any & Any & Any & Any\\\\\n",
       "\t\\hline\n",
       "\t1 & Arno@gmail.com & 2022-12-26 & Belgium & Unknown & Unknown & 160.0 \\\\\n",
       "\t2 & Sbridoux.business@gmail.com & 2022-02-10 & Belgium & BE0775755025 & +32483446663 & 54.99 \\\\\n",
       "\t3 & lennertgrootaerd@gmail.com & 2021-01-23 & Unknown & BE0725470720 & Unknown & 195.0 \\\\\n",
       "\t4 & LACUS@gmail.com & 2022-02-01 & Unknown & BE0776625055 & Unknown & 16.0 \\\\\n",
       "\t5 & vital@gmail.com & 2021-12-03 & Belgium & BE0753524209 & Unknown & 55.0 \\\\\n",
       "\t6 & Info@balvantwaregemse.be & 2021-01-10 & Belgium & BE0729909558 & Unknown & 597.0 \\\\\n",
       "\t7 & LACUS@GMAIL.COM & 2021-01-23 & Belgium & BE0776625055 & Unknown & 75.0 \\\\\n",
       "\t8 & Arno@gmail.com & 2022-12-26 & Belgium & Unknown & Unknown & 160.0 \\\\\n",
       "\t9 & Sbridoux.business@gmail.com & 2022-02-10 & Belgium & BE0775755025 & +32483446663 & 54.99 \\\\\n",
       "\t10 & lennertgrootaerd@gmail.com & 2021-01-23 & Unknown & BE0725470720 & Unknown & 195.0 \\\\\n",
       "\t11 & LACUS@gmail.com & 2022-02-01 & Unknown & BE0776625055 & Unknown & 16.0 \\\\\n",
       "\t12 & vital@gmail.com & 2021-12-03 & Belgium & BE0753524209 & Unknown & 55.0 \\\\\n",
       "\t13 & Info@balvantwaregemse.be & 2021-01-10 & Belgium & BE0729909558 & Unknown & 597.0 \\\\\n",
       "\t14 & LACUS@GMAIL.COM & 2021-01-23 & Belgium & BE0776625055 & Unknown & 75.0 \\\\\n",
       "\t15 & Arno@gmail.com & 2022-12-26 & Belgium & Unknown & Unknown & 160.0 \\\\\n",
       "\t16 & Sbridoux.business@gmail.com & 2022-02-10 & Belgium & BE0775755025 & +32483446663 & 54.99 \\\\\n",
       "\t17 & lennertgrootaerd@gmail.com & 2021-01-23 & Unknown & BE0725470720 & Unknown & 195.0 \\\\\n",
       "\t18 & LACUS@gmail.com & 2022-02-01 & Unknown & BE0776625055 & Unknown & 16.0 \\\\\n",
       "\t19 & vital@gmail.com & 2021-12-03 & Belgium & BE0753524209 & Unknown & 55.0 \\\\\n",
       "\t20 & Info@balvantwaregemse.be & 2021-01-10 & Belgium & BE0729909558 & Unknown & 597.0 \\\\\n",
       "\t21 & LACUS@GMAIL.COM & 2021-01-23 & Belgium & BE0776625055 & Unknown & 75.0 \\\\\n",
       "\t22 & Arno@gmail.com & 2022-12-26 & Belgium & Unknown & Unknown & 160.0 \\\\\n",
       "\t23 & Sbridoux.business@gmail.com & 2022-02-10 & Belgium & BE0775755025 & +32483446663 & 54.99 \\\\\n",
       "\t24 & lennertgrootaerd@gmail.com & 2021-01-23 & Unknown & BE0725470720 & Unknown & 195.0 \\\\\n",
       "\t25 & LACUS@gmail.com & 2022-02-01 & Unknown & BE0776625055 & Unknown & 16.0 \\\\\n",
       "\t26 & vital@gmail.com & 2021-12-03 & Belgium & BE0753524209 & Unknown & 55.0 \\\\\n",
       "\t27 & Info@balvantwaregemse.be & 2021-01-10 & Belgium & BE0729909558 & Unknown & 597.0 \\\\\n",
       "\t28 & LACUS@GMAIL.COM & 2021-01-23 & Belgium & BE0776625055 & Unknown & 75.0 \\\\\n",
       "\t29 & Arno@gmail.com & 2022-12-26 & Belgium & Unknown & Unknown & 160.0 \\\\\n",
       "\t30 & Sbridoux.business@gmail.com & 2022-02-10 & Belgium & BE0775755025 & +32483446663 & 54.99 \\\\\n",
       "\t$\\dots$ & $\\dots$ & $\\dots$ & $\\dots$ & $\\dots$ & $\\dots$ & $\\dots$ \\\\\n",
       "\\end{tabular}\n"
      ],
      "text/plain": [
       "\u001b[1m341×6 DataFrame\u001b[0m\n",
       "\u001b[1m Row \u001b[0m│\u001b[1m Email                       \u001b[0m\u001b[1m Date       \u001b[0m\u001b[1m Country \u001b[0m\u001b[1m VAT           \u001b[0m\u001b[1m Teleph\u001b[0m ⋯\n",
       "\u001b[1m     \u001b[0m│\u001b[90m Any                         \u001b[0m\u001b[90m Date       \u001b[0m\u001b[90m Any     \u001b[0m\u001b[90m Any           \u001b[0m\u001b[90m Any   \u001b[0m ⋯\n",
       "─────┼──────────────────────────────────────────────────────────────────────────\n",
       "   1 │ Arno@gmail.com               2022-12-26  Belgium  Unknown        Unknow ⋯\n",
       "   2 │ Sbridoux.business@gmail.com  2022-02-10  Belgium  BE0775755025   +32483\n",
       "   3 │ lennertgrootaerd@gmail.com   2021-01-23  Unknown  BE0725470720   Unknow\n",
       "   4 │ LACUS@gmail.com              2022-02-01  Unknown  BE0776625055   Unknow\n",
       "   5 │ vital@gmail.com              2021-12-03  Belgium  BE0753524209   Unknow ⋯\n",
       "   6 │ Info@balvantwaregemse.be     2021-01-10  Belgium  BE0729909558   Unknow\n",
       "   7 │ LACUS@GMAIL.COM              2021-01-23  Belgium  BE0776625055   Unknow\n",
       "   8 │ Arno@gmail.com               2022-12-26  Belgium  Unknown        Unknow\n",
       "   9 │ Sbridoux.business@gmail.com  2022-02-10  Belgium  BE0775755025   +32483 ⋯\n",
       "  10 │ lennertgrootaerd@gmail.com   2021-01-23  Unknown  BE0725470720   Unknow\n",
       "  11 │ LACUS@gmail.com              2022-02-01  Unknown  BE0776625055   Unknow\n",
       "  ⋮  │              ⋮                   ⋮          ⋮           ⋮             ⋮ ⋱\n",
       " 332 │ Melody@outlook.fr            2021-03-01  France   FR4847260373   +33447\n",
       " 333 │ Henk@gmail.fr                2021-01-22  France   FR424750077    +33987 ⋯\n",
       " 334 │ Kyani@DPD.fr                 2021-02-12  France   FR48272250357  +33987\n",
       " 335 │ Hugo@hotmail.fr              2021-02-24  France   FR13472243077  +33987\n",
       " 336 │ Richard@hotmail.fr           2021-03-22  France   FR4847220377   +33984\n",
       " 337 │ Victor@hotmail.fr            2021-03-31  France   FR4847220373   +33987 ⋯\n",
       " 338 │ Melody@outlook.fr            2021-03-01  France   FR4847260373   +33447\n",
       " 339 │ Henk@gmail.fr                2021-01-22  France   FR424750077    +33987\n",
       " 340 │ Kyani@DPD.fr                 2021-02-12  France   FR48272250357  +33987\n",
       " 341 │ Hugo@hotmail.fr              2021-02-24  France   FR13472243077  +33987 ⋯\n",
       "\u001b[36m                                                  2 columns and 320 rows omitted\u001b[0m"
      ]
     },
     "execution_count": 122,
     "metadata": {},
     "output_type": "execute_result"
    }
   ],
   "source": [
    "dataset"
   ]
  },
  {
   "cell_type": "code",
   "execution_count": 123,
   "metadata": {},
   "outputs": [
    {
     "data": {
      "image/svg+xml": [
       "<?xml version=\"1.0\" encoding=\"utf-8\"?>\n",
       "<svg xmlns=\"http://www.w3.org/2000/svg\" xmlns:xlink=\"http://www.w3.org/1999/xlink\" width=\"600\" height=\"400\" viewBox=\"0 0 2400 1600\">\n",
       "<defs>\n",
       "  <clipPath id=\"clip970\">\n",
       "    <rect x=\"0\" y=\"0\" width=\"2400\" height=\"1600\"/>\n",
       "  </clipPath>\n",
       "</defs>\n",
       "<path clip-path=\"url(#clip970)\" d=\"\n",
       "M0 1600 L2400 1600 L2400 0 L0 0  Z\n",
       "  \" fill=\"#ffffff\" fill-rule=\"evenodd\" fill-opacity=\"1\"/>\n",
       "<defs>\n",
       "  <clipPath id=\"clip971\">\n",
       "    <rect x=\"480\" y=\"0\" width=\"1681\" height=\"1600\"/>\n",
       "  </clipPath>\n",
       "</defs>\n",
       "<path clip-path=\"url(#clip970)\" d=\"\n",
       "M232.389 1423.18 L2352.76 1423.18 L2352.76 123.472 L232.389 123.472  Z\n",
       "  \" fill=\"#ffffff\" fill-rule=\"evenodd\" fill-opacity=\"1\"/>\n",
       "<defs>\n",
       "  <clipPath id=\"clip972\">\n",
       "    <rect x=\"232\" y=\"123\" width=\"2121\" height=\"1301\"/>\n",
       "  </clipPath>\n",
       "</defs>\n",
       "<polyline clip-path=\"url(#clip972)\" style=\"stroke:#000000; stroke-linecap:butt; stroke-linejoin:round; stroke-width:2; stroke-opacity:0.1; fill:none\" points=\"\n",
       "  349.013,1423.18 349.013,123.472 \n",
       "  \"/>\n",
       "<polyline clip-path=\"url(#clip972)\" style=\"stroke:#000000; stroke-linecap:butt; stroke-linejoin:round; stroke-width:2; stroke-opacity:0.1; fill:none\" points=\"\n",
       "  663.533,1423.18 663.533,123.472 \n",
       "  \"/>\n",
       "<polyline clip-path=\"url(#clip972)\" style=\"stroke:#000000; stroke-linecap:butt; stroke-linejoin:round; stroke-width:2; stroke-opacity:0.1; fill:none\" points=\"\n",
       "  978.053,1423.18 978.053,123.472 \n",
       "  \"/>\n",
       "<polyline clip-path=\"url(#clip972)\" style=\"stroke:#000000; stroke-linecap:butt; stroke-linejoin:round; stroke-width:2; stroke-opacity:0.1; fill:none\" points=\"\n",
       "  1292.57,1423.18 1292.57,123.472 \n",
       "  \"/>\n",
       "<polyline clip-path=\"url(#clip972)\" style=\"stroke:#000000; stroke-linecap:butt; stroke-linejoin:round; stroke-width:2; stroke-opacity:0.1; fill:none\" points=\"\n",
       "  1607.09,1423.18 1607.09,123.472 \n",
       "  \"/>\n",
       "<polyline clip-path=\"url(#clip972)\" style=\"stroke:#000000; stroke-linecap:butt; stroke-linejoin:round; stroke-width:2; stroke-opacity:0.1; fill:none\" points=\"\n",
       "  1921.61,1423.18 1921.61,123.472 \n",
       "  \"/>\n",
       "<polyline clip-path=\"url(#clip972)\" style=\"stroke:#000000; stroke-linecap:butt; stroke-linejoin:round; stroke-width:2; stroke-opacity:0.1; fill:none\" points=\"\n",
       "  2236.13,1423.18 2236.13,123.472 \n",
       "  \"/>\n",
       "<polyline clip-path=\"url(#clip970)\" style=\"stroke:#000000; stroke-linecap:butt; stroke-linejoin:round; stroke-width:4; stroke-opacity:1; fill:none\" points=\"\n",
       "  232.389,1423.18 2352.76,1423.18 \n",
       "  \"/>\n",
       "<polyline clip-path=\"url(#clip970)\" style=\"stroke:#000000; stroke-linecap:butt; stroke-linejoin:round; stroke-width:4; stroke-opacity:1; fill:none\" points=\"\n",
       "  349.013,1423.18 349.013,1404.28 \n",
       "  \"/>\n",
       "<polyline clip-path=\"url(#clip970)\" style=\"stroke:#000000; stroke-linecap:butt; stroke-linejoin:round; stroke-width:4; stroke-opacity:1; fill:none\" points=\"\n",
       "  663.533,1423.18 663.533,1404.28 \n",
       "  \"/>\n",
       "<polyline clip-path=\"url(#clip970)\" style=\"stroke:#000000; stroke-linecap:butt; stroke-linejoin:round; stroke-width:4; stroke-opacity:1; fill:none\" points=\"\n",
       "  978.053,1423.18 978.053,1404.28 \n",
       "  \"/>\n",
       "<polyline clip-path=\"url(#clip970)\" style=\"stroke:#000000; stroke-linecap:butt; stroke-linejoin:round; stroke-width:4; stroke-opacity:1; fill:none\" points=\"\n",
       "  1292.57,1423.18 1292.57,1404.28 \n",
       "  \"/>\n",
       "<polyline clip-path=\"url(#clip970)\" style=\"stroke:#000000; stroke-linecap:butt; stroke-linejoin:round; stroke-width:4; stroke-opacity:1; fill:none\" points=\"\n",
       "  1607.09,1423.18 1607.09,1404.28 \n",
       "  \"/>\n",
       "<polyline clip-path=\"url(#clip970)\" style=\"stroke:#000000; stroke-linecap:butt; stroke-linejoin:round; stroke-width:4; stroke-opacity:1; fill:none\" points=\"\n",
       "  1921.61,1423.18 1921.61,1404.28 \n",
       "  \"/>\n",
       "<polyline clip-path=\"url(#clip970)\" style=\"stroke:#000000; stroke-linecap:butt; stroke-linejoin:round; stroke-width:4; stroke-opacity:1; fill:none\" points=\"\n",
       "  2236.13,1423.18 2236.13,1404.28 \n",
       "  \"/>\n",
       "<path clip-path=\"url(#clip970)\" d=\"M349.013 1454.1 Q345.402 1454.1 343.573 1457.66 Q341.768 1461.2 341.768 1468.33 Q341.768 1475.44 343.573 1479.01 Q345.402 1482.55 349.013 1482.55 Q352.648 1482.55 354.453 1479.01 Q356.282 1475.44 356.282 1468.33 Q356.282 1461.2 354.453 1457.66 Q352.648 1454.1 349.013 1454.1 M349.013 1450.39 Q354.823 1450.39 357.879 1455 Q360.958 1459.58 360.958 1468.33 Q360.958 1477.06 357.879 1481.67 Q354.823 1486.25 349.013 1486.25 Q343.203 1486.25 340.124 1481.67 Q337.069 1477.06 337.069 1468.33 Q337.069 1459.58 340.124 1455 Q343.203 1450.39 349.013 1450.39 Z\" fill=\"#000000\" fill-rule=\"evenodd\" fill-opacity=\"1\" /><path clip-path=\"url(#clip970)\" d=\"M623.14 1481.64 L630.779 1481.64 L630.779 1455.28 L622.468 1456.95 L622.468 1452.69 L630.732 1451.02 L635.408 1451.02 L635.408 1481.64 L643.047 1481.64 L643.047 1485.58 L623.14 1485.58 L623.14 1481.64 Z\" fill=\"#000000\" fill-rule=\"evenodd\" fill-opacity=\"1\" /><path clip-path=\"url(#clip970)\" d=\"M662.491 1454.1 Q658.88 1454.1 657.052 1457.66 Q655.246 1461.2 655.246 1468.33 Q655.246 1475.44 657.052 1479.01 Q658.88 1482.55 662.491 1482.55 Q666.126 1482.55 667.931 1479.01 Q669.76 1475.44 669.76 1468.33 Q669.76 1461.2 667.931 1457.66 Q666.126 1454.1 662.491 1454.1 M662.491 1450.39 Q668.302 1450.39 671.357 1455 Q674.436 1459.58 674.436 1468.33 Q674.436 1477.06 671.357 1481.67 Q668.302 1486.25 662.491 1486.25 Q656.681 1486.25 653.603 1481.67 Q650.547 1477.06 650.547 1468.33 Q650.547 1459.58 653.603 1455 Q656.681 1450.39 662.491 1450.39 Z\" fill=\"#000000\" fill-rule=\"evenodd\" fill-opacity=\"1\" /><path clip-path=\"url(#clip970)\" d=\"M692.653 1454.1 Q689.042 1454.1 687.213 1457.66 Q685.408 1461.2 685.408 1468.33 Q685.408 1475.44 687.213 1479.01 Q689.042 1482.55 692.653 1482.55 Q696.288 1482.55 698.093 1479.01 Q699.922 1475.44 699.922 1468.33 Q699.922 1461.2 698.093 1457.66 Q696.288 1454.1 692.653 1454.1 M692.653 1450.39 Q698.463 1450.39 701.519 1455 Q704.598 1459.58 704.598 1468.33 Q704.598 1477.06 701.519 1481.67 Q698.463 1486.25 692.653 1486.25 Q686.843 1486.25 683.764 1481.67 Q680.709 1477.06 680.709 1468.33 Q680.709 1459.58 683.764 1455 Q686.843 1450.39 692.653 1450.39 Z\" fill=\"#000000\" fill-rule=\"evenodd\" fill-opacity=\"1\" /><path clip-path=\"url(#clip970)\" d=\"M941.745 1481.64 L958.065 1481.64 L958.065 1485.58 L936.12 1485.58 L936.12 1481.64 Q938.782 1478.89 943.366 1474.26 Q947.972 1469.61 949.153 1468.27 Q951.398 1465.74 952.278 1464.01 Q953.18 1462.25 953.18 1460.56 Q953.18 1457.8 951.236 1456.07 Q949.315 1454.33 946.213 1454.33 Q944.014 1454.33 941.56 1455.09 Q939.129 1455.86 936.352 1457.41 L936.352 1452.69 Q939.176 1451.55 941.629 1450.97 Q944.083 1450.39 946.12 1450.39 Q951.49 1450.39 954.685 1453.08 Q957.879 1455.77 957.879 1460.26 Q957.879 1462.39 957.069 1464.31 Q956.282 1466.2 954.176 1468.8 Q953.597 1469.47 950.495 1472.69 Q947.393 1475.88 941.745 1481.64 Z\" fill=\"#000000\" fill-rule=\"evenodd\" fill-opacity=\"1\" /><path clip-path=\"url(#clip970)\" d=\"M977.879 1454.1 Q974.268 1454.1 972.439 1457.66 Q970.634 1461.2 970.634 1468.33 Q970.634 1475.44 972.439 1479.01 Q974.268 1482.55 977.879 1482.55 Q981.513 1482.55 983.319 1479.01 Q985.148 1475.44 985.148 1468.33 Q985.148 1461.2 983.319 1457.66 Q981.513 1454.1 977.879 1454.1 M977.879 1450.39 Q983.689 1450.39 986.745 1455 Q989.824 1459.58 989.824 1468.33 Q989.824 1477.06 986.745 1481.67 Q983.689 1486.25 977.879 1486.25 Q972.069 1486.25 968.99 1481.67 Q965.935 1477.06 965.935 1468.33 Q965.935 1459.58 968.99 1455 Q972.069 1450.39 977.879 1450.39 Z\" fill=\"#000000\" fill-rule=\"evenodd\" fill-opacity=\"1\" /><path clip-path=\"url(#clip970)\" d=\"M1008.04 1454.1 Q1004.43 1454.1 1002.6 1457.66 Q1000.8 1461.2 1000.8 1468.33 Q1000.8 1475.44 1002.6 1479.01 Q1004.43 1482.55 1008.04 1482.55 Q1011.68 1482.55 1013.48 1479.01 Q1015.31 1475.44 1015.31 1468.33 Q1015.31 1461.2 1013.48 1457.66 Q1011.68 1454.1 1008.04 1454.1 M1008.04 1450.39 Q1013.85 1450.39 1016.91 1455 Q1019.99 1459.58 1019.99 1468.33 Q1019.99 1477.06 1016.91 1481.67 Q1013.85 1486.25 1008.04 1486.25 Q1002.23 1486.25 999.152 1481.67 Q996.097 1477.06 996.097 1468.33 Q996.097 1459.58 999.152 1455 Q1002.23 1450.39 1008.04 1450.39 Z\" fill=\"#000000\" fill-rule=\"evenodd\" fill-opacity=\"1\" /><path clip-path=\"url(#clip970)\" d=\"M1266.33 1466.95 Q1269.69 1467.66 1271.57 1469.93 Q1273.46 1472.2 1273.46 1475.53 Q1273.46 1480.65 1269.95 1483.45 Q1266.43 1486.25 1259.95 1486.25 Q1257.77 1486.25 1255.45 1485.81 Q1253.16 1485.39 1250.71 1484.54 L1250.71 1480.02 Q1252.65 1481.16 1254.97 1481.74 Q1257.28 1482.32 1259.81 1482.32 Q1264.2 1482.32 1266.5 1480.58 Q1268.81 1478.84 1268.81 1475.53 Q1268.81 1472.48 1266.66 1470.77 Q1264.53 1469.03 1260.71 1469.03 L1256.68 1469.03 L1256.68 1465.19 L1260.89 1465.19 Q1264.34 1465.19 1266.17 1463.82 Q1268 1462.43 1268 1459.84 Q1268 1457.18 1266.1 1455.77 Q1264.23 1454.33 1260.71 1454.33 Q1258.79 1454.33 1256.59 1454.75 Q1254.39 1455.16 1251.75 1456.04 L1251.75 1451.88 Q1254.41 1451.14 1256.73 1450.77 Q1259.07 1450.39 1261.13 1450.39 Q1266.45 1450.39 1269.55 1452.83 Q1272.65 1455.23 1272.65 1459.35 Q1272.65 1462.22 1271.01 1464.21 Q1269.37 1466.18 1266.33 1466.95 Z\" fill=\"#000000\" fill-rule=\"evenodd\" fill-opacity=\"1\" /><path clip-path=\"url(#clip970)\" d=\"M1292.33 1454.1 Q1288.72 1454.1 1286.89 1457.66 Q1285.08 1461.2 1285.08 1468.33 Q1285.08 1475.44 1286.89 1479.01 Q1288.72 1482.55 1292.33 1482.55 Q1295.96 1482.55 1297.77 1479.01 Q1299.6 1475.44 1299.6 1468.33 Q1299.6 1461.2 1297.77 1457.66 Q1295.96 1454.1 1292.33 1454.1 M1292.33 1450.39 Q1298.14 1450.39 1301.2 1455 Q1304.27 1459.58 1304.27 1468.33 Q1304.27 1477.06 1301.2 1481.67 Q1298.14 1486.25 1292.33 1486.25 Q1286.52 1486.25 1283.44 1481.67 Q1280.39 1477.06 1280.39 1468.33 Q1280.39 1459.58 1283.44 1455 Q1286.52 1450.39 1292.33 1450.39 Z\" fill=\"#000000\" fill-rule=\"evenodd\" fill-opacity=\"1\" /><path clip-path=\"url(#clip970)\" d=\"M1322.49 1454.1 Q1318.88 1454.1 1317.05 1457.66 Q1315.25 1461.2 1315.25 1468.33 Q1315.25 1475.44 1317.05 1479.01 Q1318.88 1482.55 1322.49 1482.55 Q1326.13 1482.55 1327.93 1479.01 Q1329.76 1475.44 1329.76 1468.33 Q1329.76 1461.2 1327.93 1457.66 Q1326.13 1454.1 1322.49 1454.1 M1322.49 1450.39 Q1328.3 1450.39 1331.36 1455 Q1334.44 1459.58 1334.44 1468.33 Q1334.44 1477.06 1331.36 1481.67 Q1328.3 1486.25 1322.49 1486.25 Q1316.68 1486.25 1313.6 1481.67 Q1310.55 1477.06 1310.55 1468.33 Q1310.55 1459.58 1313.6 1455 Q1316.68 1450.39 1322.49 1450.39 Z\" fill=\"#000000\" fill-rule=\"evenodd\" fill-opacity=\"1\" /><path clip-path=\"url(#clip970)\" d=\"M1580.18 1455.09 L1568.38 1473.54 L1580.18 1473.54 L1580.18 1455.09 M1578.96 1451.02 L1584.84 1451.02 L1584.84 1473.54 L1589.77 1473.54 L1589.77 1477.43 L1584.84 1477.43 L1584.84 1485.58 L1580.18 1485.58 L1580.18 1477.43 L1564.58 1477.43 L1564.58 1472.92 L1578.96 1451.02 Z\" fill=\"#000000\" fill-rule=\"evenodd\" fill-opacity=\"1\" /><path clip-path=\"url(#clip970)\" d=\"M1607.5 1454.1 Q1603.89 1454.1 1602.06 1457.66 Q1600.25 1461.2 1600.25 1468.33 Q1600.25 1475.44 1602.06 1479.01 Q1603.89 1482.55 1607.5 1482.55 Q1611.13 1482.55 1612.94 1479.01 Q1614.77 1475.44 1614.77 1468.33 Q1614.77 1461.2 1612.94 1457.66 Q1611.13 1454.1 1607.5 1454.1 M1607.5 1450.39 Q1613.31 1450.39 1616.36 1455 Q1619.44 1459.58 1619.44 1468.33 Q1619.44 1477.06 1616.36 1481.67 Q1613.31 1486.25 1607.5 1486.25 Q1601.69 1486.25 1598.61 1481.67 Q1595.55 1477.06 1595.55 1468.33 Q1595.55 1459.58 1598.61 1455 Q1601.69 1450.39 1607.5 1450.39 Z\" fill=\"#000000\" fill-rule=\"evenodd\" fill-opacity=\"1\" /><path clip-path=\"url(#clip970)\" d=\"M1637.66 1454.1 Q1634.05 1454.1 1632.22 1457.66 Q1630.41 1461.2 1630.41 1468.33 Q1630.41 1475.44 1632.22 1479.01 Q1634.05 1482.55 1637.66 1482.55 Q1641.29 1482.55 1643.1 1479.01 Q1644.93 1475.44 1644.93 1468.33 Q1644.93 1461.2 1643.1 1457.66 Q1641.29 1454.1 1637.66 1454.1 M1637.66 1450.39 Q1643.47 1450.39 1646.53 1455 Q1649.6 1459.58 1649.6 1468.33 Q1649.6 1477.06 1646.53 1481.67 Q1643.47 1486.25 1637.66 1486.25 Q1631.85 1486.25 1628.77 1481.67 Q1625.71 1477.06 1625.71 1468.33 Q1625.71 1459.58 1628.77 1455 Q1631.85 1450.39 1637.66 1450.39 Z\" fill=\"#000000\" fill-rule=\"evenodd\" fill-opacity=\"1\" /><path clip-path=\"url(#clip970)\" d=\"M1881.23 1451.02 L1899.59 1451.02 L1899.59 1454.96 L1885.51 1454.96 L1885.51 1463.43 Q1886.53 1463.08 1887.55 1462.92 Q1888.57 1462.73 1889.59 1462.73 Q1895.37 1462.73 1898.75 1465.9 Q1902.13 1469.08 1902.13 1474.49 Q1902.13 1480.07 1898.66 1483.17 Q1895.19 1486.25 1888.87 1486.25 Q1886.69 1486.25 1884.42 1485.88 Q1882.18 1485.51 1879.77 1484.77 L1879.77 1480.07 Q1881.86 1481.2 1884.08 1481.76 Q1886.3 1482.32 1888.78 1482.32 Q1892.78 1482.32 1895.12 1480.21 Q1897.46 1478.1 1897.46 1474.49 Q1897.46 1470.88 1895.12 1468.77 Q1892.78 1466.67 1888.78 1466.67 Q1886.9 1466.67 1885.03 1467.08 Q1883.17 1467.5 1881.23 1468.38 L1881.23 1451.02 Z\" fill=\"#000000\" fill-rule=\"evenodd\" fill-opacity=\"1\" /><path clip-path=\"url(#clip970)\" d=\"M1921.35 1454.1 Q1917.73 1454.1 1915.91 1457.66 Q1914.1 1461.2 1914.1 1468.33 Q1914.1 1475.44 1915.91 1479.01 Q1917.73 1482.55 1921.35 1482.55 Q1924.98 1482.55 1926.79 1479.01 Q1928.61 1475.44 1928.61 1468.33 Q1928.61 1461.2 1926.79 1457.66 Q1924.98 1454.1 1921.35 1454.1 M1921.35 1450.39 Q1927.16 1450.39 1930.21 1455 Q1933.29 1459.58 1933.29 1468.33 Q1933.29 1477.06 1930.21 1481.67 Q1927.16 1486.25 1921.35 1486.25 Q1915.54 1486.25 1912.46 1481.67 Q1909.4 1477.06 1909.4 1468.33 Q1909.4 1459.58 1912.46 1455 Q1915.54 1450.39 1921.35 1450.39 Z\" fill=\"#000000\" fill-rule=\"evenodd\" fill-opacity=\"1\" /><path clip-path=\"url(#clip970)\" d=\"M1951.51 1454.1 Q1947.9 1454.1 1946.07 1457.66 Q1944.26 1461.2 1944.26 1468.33 Q1944.26 1475.44 1946.07 1479.01 Q1947.9 1482.55 1951.51 1482.55 Q1955.14 1482.55 1956.95 1479.01 Q1958.78 1475.44 1958.78 1468.33 Q1958.78 1461.2 1956.95 1457.66 Q1955.14 1454.1 1951.51 1454.1 M1951.51 1450.39 Q1957.32 1450.39 1960.37 1455 Q1963.45 1459.58 1963.45 1468.33 Q1963.45 1477.06 1960.37 1481.67 Q1957.32 1486.25 1951.51 1486.25 Q1945.7 1486.25 1942.62 1481.67 Q1939.56 1477.06 1939.56 1468.33 Q1939.56 1459.58 1942.62 1455 Q1945.7 1450.39 1951.51 1450.39 Z\" fill=\"#000000\" fill-rule=\"evenodd\" fill-opacity=\"1\" /><path clip-path=\"url(#clip970)\" d=\"M2206.46 1466.44 Q2203.31 1466.44 2201.46 1468.59 Q2199.63 1470.74 2199.63 1474.49 Q2199.63 1478.22 2201.46 1480.39 Q2203.31 1482.55 2206.46 1482.55 Q2209.6 1482.55 2211.43 1480.39 Q2213.28 1478.22 2213.28 1474.49 Q2213.28 1470.74 2211.43 1468.59 Q2209.6 1466.44 2206.46 1466.44 M2215.74 1451.78 L2215.74 1456.04 Q2213.98 1455.21 2212.17 1454.77 Q2210.39 1454.33 2208.63 1454.33 Q2204 1454.33 2201.55 1457.45 Q2199.12 1460.58 2198.77 1466.9 Q2200.14 1464.89 2202.2 1463.82 Q2204.26 1462.73 2206.73 1462.73 Q2211.94 1462.73 2214.95 1465.9 Q2217.98 1469.05 2217.98 1474.49 Q2217.98 1479.82 2214.84 1483.03 Q2211.69 1486.25 2206.46 1486.25 Q2200.46 1486.25 2197.29 1481.67 Q2194.12 1477.06 2194.12 1468.33 Q2194.12 1460.14 2198.01 1455.28 Q2201.9 1450.39 2208.45 1450.39 Q2210.21 1450.39 2211.99 1450.74 Q2213.79 1451.09 2215.74 1451.78 Z\" fill=\"#000000\" fill-rule=\"evenodd\" fill-opacity=\"1\" /><path clip-path=\"url(#clip970)\" d=\"M2236.04 1454.1 Q2232.43 1454.1 2230.6 1457.66 Q2228.79 1461.2 2228.79 1468.33 Q2228.79 1475.44 2230.6 1479.01 Q2232.43 1482.55 2236.04 1482.55 Q2239.67 1482.55 2241.48 1479.01 Q2243.31 1475.44 2243.31 1468.33 Q2243.31 1461.2 2241.48 1457.66 Q2239.67 1454.1 2236.04 1454.1 M2236.04 1450.39 Q2241.85 1450.39 2244.91 1455 Q2247.98 1459.58 2247.98 1468.33 Q2247.98 1477.06 2244.91 1481.67 Q2241.85 1486.25 2236.04 1486.25 Q2230.23 1486.25 2227.15 1481.67 Q2224.09 1477.06 2224.09 1468.33 Q2224.09 1459.58 2227.15 1455 Q2230.23 1450.39 2236.04 1450.39 Z\" fill=\"#000000\" fill-rule=\"evenodd\" fill-opacity=\"1\" /><path clip-path=\"url(#clip970)\" d=\"M2266.2 1454.1 Q2262.59 1454.1 2260.76 1457.66 Q2258.96 1461.2 2258.96 1468.33 Q2258.96 1475.44 2260.76 1479.01 Q2262.59 1482.55 2266.2 1482.55 Q2269.84 1482.55 2271.64 1479.01 Q2273.47 1475.44 2273.47 1468.33 Q2273.47 1461.2 2271.64 1457.66 Q2269.84 1454.1 2266.2 1454.1 M2266.2 1450.39 Q2272.01 1450.39 2275.07 1455 Q2278.15 1459.58 2278.15 1468.33 Q2278.15 1477.06 2275.07 1481.67 Q2272.01 1486.25 2266.2 1486.25 Q2260.39 1486.25 2257.31 1481.67 Q2254.26 1477.06 2254.26 1468.33 Q2254.26 1459.58 2257.31 1455 Q2260.39 1450.39 2266.2 1450.39 Z\" fill=\"#000000\" fill-rule=\"evenodd\" fill-opacity=\"1\" /><path clip-path=\"url(#clip970)\" d=\"M1177.58 1520.52 L1184.01 1520.52 L1184.01 1568.04 L1177.58 1568.04 L1177.58 1520.52 Z\" fill=\"#000000\" fill-rule=\"evenodd\" fill-opacity=\"1\" /><path clip-path=\"url(#clip970)\" d=\"M1226.18 1546.53 L1226.18 1568.04 L1220.32 1568.04 L1220.32 1546.72 Q1220.32 1541.66 1218.35 1539.14 Q1216.38 1536.63 1212.43 1536.63 Q1207.69 1536.63 1204.95 1539.65 Q1202.21 1542.68 1202.21 1547.9 L1202.21 1568.04 L1196.32 1568.04 L1196.32 1532.4 L1202.21 1532.4 L1202.21 1537.93 Q1204.31 1534.72 1207.14 1533.13 Q1210.01 1531.54 1213.73 1531.54 Q1219.88 1531.54 1223.03 1535.36 Q1226.18 1539.14 1226.18 1546.53 Z\" fill=\"#000000\" fill-rule=\"evenodd\" fill-opacity=\"1\" /><path clip-path=\"url(#clip970)\" d=\"M1263.51 1533.76 L1263.51 1539.24 Q1261.03 1537.87 1258.52 1537.2 Q1256.03 1536.5 1253.49 1536.5 Q1247.79 1536.5 1244.64 1540.13 Q1241.49 1543.73 1241.49 1550.25 Q1241.49 1556.78 1244.64 1560.4 Q1247.79 1564 1253.49 1564 Q1256.03 1564 1258.52 1563.33 Q1261.03 1562.63 1263.51 1561.26 L1263.51 1566.68 Q1261.06 1567.82 1258.42 1568.39 Q1255.81 1568.97 1252.85 1568.97 Q1244.8 1568.97 1240.06 1563.91 Q1235.31 1558.85 1235.31 1550.25 Q1235.31 1541.53 1240.09 1536.53 Q1244.89 1531.54 1253.23 1531.54 Q1255.94 1531.54 1258.52 1532.11 Q1261.09 1532.65 1263.51 1533.76 Z\" fill=\"#000000\" fill-rule=\"evenodd\" fill-opacity=\"1\" /><path clip-path=\"url(#clip970)\" d=\"M1287.51 1536.5 Q1282.8 1536.5 1280.06 1540.19 Q1277.33 1543.85 1277.33 1550.25 Q1277.33 1556.65 1280.03 1560.34 Q1282.77 1564 1287.51 1564 Q1292.19 1564 1294.93 1560.31 Q1297.67 1556.62 1297.67 1550.25 Q1297.67 1543.92 1294.93 1540.23 Q1292.19 1536.5 1287.51 1536.5 M1287.51 1531.54 Q1295.15 1531.54 1299.51 1536.5 Q1303.87 1541.47 1303.87 1550.25 Q1303.87 1559 1299.51 1564 Q1295.15 1568.97 1287.51 1568.97 Q1279.84 1568.97 1275.48 1564 Q1271.15 1559 1271.15 1550.25 Q1271.15 1541.47 1275.48 1536.5 Q1279.84 1531.54 1287.51 1531.54 Z\" fill=\"#000000\" fill-rule=\"evenodd\" fill-opacity=\"1\" /><path clip-path=\"url(#clip970)\" d=\"M1341.33 1539.24 Q1343.53 1535.29 1346.59 1533.41 Q1349.64 1531.54 1353.78 1531.54 Q1359.35 1531.54 1362.37 1535.45 Q1365.4 1539.33 1365.4 1546.53 L1365.4 1568.04 L1359.51 1568.04 L1359.51 1546.72 Q1359.51 1541.59 1357.69 1539.11 Q1355.88 1536.63 1352.16 1536.63 Q1347.6 1536.63 1344.96 1539.65 Q1342.32 1542.68 1342.32 1547.9 L1342.32 1568.04 L1336.43 1568.04 L1336.43 1546.72 Q1336.43 1541.56 1334.62 1539.11 Q1332.8 1536.63 1329.02 1536.63 Q1324.53 1536.63 1321.89 1539.68 Q1319.24 1542.71 1319.24 1547.9 L1319.24 1568.04 L1313.36 1568.04 L1313.36 1532.4 L1319.24 1532.4 L1319.24 1537.93 Q1321.25 1534.66 1324.05 1533.1 Q1326.85 1531.54 1330.7 1531.54 Q1334.59 1531.54 1337.29 1533.51 Q1340.03 1535.48 1341.33 1539.24 Z\" fill=\"#000000\" fill-rule=\"evenodd\" fill-opacity=\"1\" /><path clip-path=\"url(#clip970)\" d=\"M1407.57 1548.76 L1407.57 1551.62 L1380.64 1551.62 Q1381.02 1557.67 1384.27 1560.85 Q1387.55 1564 1393.37 1564 Q1396.75 1564 1399.9 1563.17 Q1403.08 1562.35 1406.2 1560.69 L1406.2 1566.23 Q1403.05 1567.57 1399.74 1568.27 Q1396.43 1568.97 1393.02 1568.97 Q1384.49 1568.97 1379.5 1564 Q1374.53 1559.04 1374.53 1550.57 Q1374.53 1541.82 1379.24 1536.69 Q1383.98 1531.54 1392 1531.54 Q1399.2 1531.54 1403.37 1536.18 Q1407.57 1540.8 1407.57 1548.76 M1401.71 1547.04 Q1401.65 1542.23 1399.01 1539.37 Q1396.4 1536.5 1392.07 1536.5 Q1387.17 1536.5 1384.21 1539.27 Q1381.28 1542.04 1380.83 1547.07 L1401.71 1547.04 Z\" fill=\"#000000\" fill-rule=\"evenodd\" fill-opacity=\"1\" /><polyline clip-path=\"url(#clip972)\" style=\"stroke:#000000; stroke-linecap:butt; stroke-linejoin:round; stroke-width:2; stroke-opacity:0.1; fill:none\" points=\"\n",
       "  232.389,1386.4 2352.76,1386.4 \n",
       "  \"/>\n",
       "<polyline clip-path=\"url(#clip972)\" style=\"stroke:#000000; stroke-linecap:butt; stroke-linejoin:round; stroke-width:2; stroke-opacity:0.1; fill:none\" points=\"\n",
       "  232.389,1107.73 2352.76,1107.73 \n",
       "  \"/>\n",
       "<polyline clip-path=\"url(#clip972)\" style=\"stroke:#000000; stroke-linecap:butt; stroke-linejoin:round; stroke-width:2; stroke-opacity:0.1; fill:none\" points=\"\n",
       "  232.389,829.06 2352.76,829.06 \n",
       "  \"/>\n",
       "<polyline clip-path=\"url(#clip972)\" style=\"stroke:#000000; stroke-linecap:butt; stroke-linejoin:round; stroke-width:2; stroke-opacity:0.1; fill:none\" points=\"\n",
       "  232.389,550.392 2352.76,550.392 \n",
       "  \"/>\n",
       "<polyline clip-path=\"url(#clip972)\" style=\"stroke:#000000; stroke-linecap:butt; stroke-linejoin:round; stroke-width:2; stroke-opacity:0.1; fill:none\" points=\"\n",
       "  232.389,271.724 2352.76,271.724 \n",
       "  \"/>\n",
       "<polyline clip-path=\"url(#clip970)\" style=\"stroke:#000000; stroke-linecap:butt; stroke-linejoin:round; stroke-width:4; stroke-opacity:1; fill:none\" points=\"\n",
       "  232.389,1423.18 232.389,123.472 \n",
       "  \"/>\n",
       "<polyline clip-path=\"url(#clip970)\" style=\"stroke:#000000; stroke-linecap:butt; stroke-linejoin:round; stroke-width:4; stroke-opacity:1; fill:none\" points=\"\n",
       "  232.389,1386.4 251.287,1386.4 \n",
       "  \"/>\n",
       "<polyline clip-path=\"url(#clip970)\" style=\"stroke:#000000; stroke-linecap:butt; stroke-linejoin:round; stroke-width:4; stroke-opacity:1; fill:none\" points=\"\n",
       "  232.389,1107.73 251.287,1107.73 \n",
       "  \"/>\n",
       "<polyline clip-path=\"url(#clip970)\" style=\"stroke:#000000; stroke-linecap:butt; stroke-linejoin:round; stroke-width:4; stroke-opacity:1; fill:none\" points=\"\n",
       "  232.389,829.06 251.287,829.06 \n",
       "  \"/>\n",
       "<polyline clip-path=\"url(#clip970)\" style=\"stroke:#000000; stroke-linecap:butt; stroke-linejoin:round; stroke-width:4; stroke-opacity:1; fill:none\" points=\"\n",
       "  232.389,550.392 251.287,550.392 \n",
       "  \"/>\n",
       "<polyline clip-path=\"url(#clip970)\" style=\"stroke:#000000; stroke-linecap:butt; stroke-linejoin:round; stroke-width:4; stroke-opacity:1; fill:none\" points=\"\n",
       "  232.389,271.724 251.287,271.724 \n",
       "  \"/>\n",
       "<path clip-path=\"url(#clip970)\" d=\"M184.445 1372.19 Q180.834 1372.19 179.005 1375.76 Q177.2 1379.3 177.2 1386.43 Q177.2 1393.54 179.005 1397.1 Q180.834 1400.64 184.445 1400.64 Q188.079 1400.64 189.885 1397.1 Q191.713 1393.54 191.713 1386.43 Q191.713 1379.3 189.885 1375.76 Q188.079 1372.19 184.445 1372.19 M184.445 1368.49 Q190.255 1368.49 193.311 1373.1 Q196.389 1377.68 196.389 1386.43 Q196.389 1395.16 193.311 1399.76 Q190.255 1404.35 184.445 1404.35 Q178.635 1404.35 175.556 1399.76 Q172.501 1395.16 172.501 1386.43 Q172.501 1377.68 175.556 1373.1 Q178.635 1368.49 184.445 1368.49 Z\" fill=\"#000000\" fill-rule=\"evenodd\" fill-opacity=\"1\" /><path clip-path=\"url(#clip970)\" d=\"M149.306 1121.07 L165.626 1121.07 L165.626 1125.01 L143.681 1125.01 L143.681 1121.07 Q146.343 1118.32 150.927 1113.69 Q155.533 1109.04 156.714 1107.69 Q158.959 1105.17 159.839 1103.43 Q160.741 1101.67 160.741 1099.98 Q160.741 1097.23 158.797 1095.49 Q156.876 1093.76 153.774 1093.76 Q151.575 1093.76 149.121 1094.52 Q146.691 1095.29 143.913 1096.84 L143.913 1092.11 Q146.737 1090.98 149.191 1090.4 Q151.644 1089.82 153.681 1089.82 Q159.052 1089.82 162.246 1092.51 Q165.44 1095.19 165.44 1099.68 Q165.44 1101.81 164.63 1103.73 Q163.843 1105.63 161.737 1108.23 Q161.158 1108.9 158.056 1112.11 Q154.954 1115.31 149.306 1121.07 Z\" fill=\"#000000\" fill-rule=\"evenodd\" fill-opacity=\"1\" /><path clip-path=\"url(#clip970)\" d=\"M175.487 1090.45 L193.843 1090.45 L193.843 1094.38 L179.769 1094.38 L179.769 1102.85 Q180.788 1102.51 181.806 1102.35 Q182.825 1102.16 183.843 1102.16 Q189.63 1102.16 193.01 1105.33 Q196.389 1108.5 196.389 1113.92 Q196.389 1119.5 192.917 1122.6 Q189.445 1125.68 183.126 1125.68 Q180.95 1125.68 178.681 1125.31 Q176.436 1124.94 174.028 1124.2 L174.028 1119.5 Q176.112 1120.63 178.334 1121.19 Q180.556 1121.74 183.033 1121.74 Q187.038 1121.74 189.375 1119.64 Q191.713 1117.53 191.713 1113.92 Q191.713 1110.31 189.375 1108.2 Q187.038 1106.1 183.033 1106.1 Q181.158 1106.1 179.283 1106.51 Q177.431 1106.93 175.487 1107.81 L175.487 1090.45 Z\" fill=\"#000000\" fill-rule=\"evenodd\" fill-opacity=\"1\" /><path clip-path=\"url(#clip970)\" d=\"M144.329 811.78 L162.686 811.78 L162.686 815.715 L148.612 815.715 L148.612 824.187 Q149.63 823.84 150.649 823.678 Q151.667 823.492 152.686 823.492 Q158.473 823.492 161.852 826.664 Q165.232 829.835 165.232 835.252 Q165.232 840.83 161.76 843.932 Q158.288 847.011 151.968 847.011 Q149.792 847.011 147.524 846.641 Q145.279 846.27 142.871 845.529 L142.871 840.83 Q144.954 841.965 147.177 842.52 Q149.399 843.076 151.876 843.076 Q155.88 843.076 158.218 840.969 Q160.556 838.863 160.556 835.252 Q160.556 831.641 158.218 829.534 Q155.88 827.428 151.876 827.428 Q150.001 827.428 148.126 827.844 Q146.274 828.261 144.329 829.141 L144.329 811.78 Z\" fill=\"#000000\" fill-rule=\"evenodd\" fill-opacity=\"1\" /><path clip-path=\"url(#clip970)\" d=\"M184.445 814.858 Q180.834 814.858 179.005 818.423 Q177.2 821.965 177.2 829.094 Q177.2 836.201 179.005 839.766 Q180.834 843.307 184.445 843.307 Q188.079 843.307 189.885 839.766 Q191.713 836.201 191.713 829.094 Q191.713 821.965 189.885 818.423 Q188.079 814.858 184.445 814.858 M184.445 811.155 Q190.255 811.155 193.311 815.761 Q196.389 820.344 196.389 829.094 Q196.389 837.821 193.311 842.428 Q190.255 847.011 184.445 847.011 Q178.635 847.011 175.556 842.428 Q172.501 837.821 172.501 829.094 Q172.501 820.344 175.556 815.761 Q178.635 811.155 184.445 811.155 Z\" fill=\"#000000\" fill-rule=\"evenodd\" fill-opacity=\"1\" /><path clip-path=\"url(#clip970)\" d=\"M144.098 533.112 L166.32 533.112 L166.32 535.102 L153.774 567.672 L148.89 567.672 L160.695 537.047 L144.098 537.047 L144.098 533.112 Z\" fill=\"#000000\" fill-rule=\"evenodd\" fill-opacity=\"1\" /><path clip-path=\"url(#clip970)\" d=\"M175.487 533.112 L193.843 533.112 L193.843 537.047 L179.769 537.047 L179.769 545.519 Q180.788 545.172 181.806 545.01 Q182.825 544.824 183.843 544.824 Q189.63 544.824 193.01 547.996 Q196.389 551.167 196.389 556.584 Q196.389 562.162 192.917 565.264 Q189.445 568.343 183.126 568.343 Q180.95 568.343 178.681 567.972 Q176.436 567.602 174.028 566.861 L174.028 562.162 Q176.112 563.297 178.334 563.852 Q180.556 564.408 183.033 564.408 Q187.038 564.408 189.375 562.301 Q191.713 560.195 191.713 556.584 Q191.713 552.973 189.375 550.866 Q187.038 548.76 183.033 548.76 Q181.158 548.76 179.283 549.176 Q177.431 549.593 175.487 550.473 L175.487 533.112 Z\" fill=\"#000000\" fill-rule=\"evenodd\" fill-opacity=\"1\" /><path clip-path=\"url(#clip970)\" d=\"M114.931 285.068 L122.57 285.068 L122.57 258.703 L114.26 260.369 L114.26 256.11 L122.524 254.444 L127.2 254.444 L127.2 285.068 L134.839 285.068 L134.839 289.004 L114.931 289.004 L114.931 285.068 Z\" fill=\"#000000\" fill-rule=\"evenodd\" fill-opacity=\"1\" /><path clip-path=\"url(#clip970)\" d=\"M154.283 257.522 Q150.672 257.522 148.843 261.087 Q147.038 264.629 147.038 271.758 Q147.038 278.865 148.843 282.429 Q150.672 285.971 154.283 285.971 Q157.917 285.971 159.723 282.429 Q161.552 278.865 161.552 271.758 Q161.552 264.629 159.723 261.087 Q157.917 257.522 154.283 257.522 M154.283 253.819 Q160.093 253.819 163.149 258.425 Q166.227 263.008 166.227 271.758 Q166.227 280.485 163.149 285.092 Q160.093 289.675 154.283 289.675 Q148.473 289.675 145.394 285.092 Q142.339 280.485 142.339 271.758 Q142.339 263.008 145.394 258.425 Q148.473 253.819 154.283 253.819 Z\" fill=\"#000000\" fill-rule=\"evenodd\" fill-opacity=\"1\" /><path clip-path=\"url(#clip970)\" d=\"M184.445 257.522 Q180.834 257.522 179.005 261.087 Q177.2 264.629 177.2 271.758 Q177.2 278.865 179.005 282.429 Q180.834 285.971 184.445 285.971 Q188.079 285.971 189.885 282.429 Q191.713 278.865 191.713 271.758 Q191.713 264.629 189.885 261.087 Q188.079 257.522 184.445 257.522 M184.445 253.819 Q190.255 253.819 193.311 258.425 Q196.389 263.008 196.389 271.758 Q196.389 280.485 193.311 285.092 Q190.255 289.675 184.445 289.675 Q178.635 289.675 175.556 285.092 Q172.501 280.485 172.501 271.758 Q172.501 263.008 175.556 258.425 Q178.635 253.819 184.445 253.819 Z\" fill=\"#000000\" fill-rule=\"evenodd\" fill-opacity=\"1\" /><path clip-path=\"url(#clip970)\" d=\"M20.1444 829.185 L26.9239 829.185 Q23.9002 832.432 22.4043 836.124 Q20.9083 839.784 20.9083 843.922 Q20.9083 852.07 25.9054 856.398 Q30.8707 860.727 40.2919 860.727 Q49.6813 860.727 54.6784 856.398 Q59.6436 852.07 59.6436 843.922 Q59.6436 839.784 58.1477 836.124 Q56.6518 832.432 53.6281 829.185 L60.3439 829.185 Q62.6355 832.559 63.7814 836.346 Q64.9272 840.102 64.9272 844.304 Q64.9272 855.093 58.3387 861.3 Q51.7183 867.507 40.2919 867.507 Q28.8336 867.507 22.2451 861.3 Q15.6248 855.093 15.6248 844.304 Q15.6248 840.039 16.7706 836.283 Q17.8846 832.495 20.1444 829.185 Z\" fill=\"#000000\" fill-rule=\"evenodd\" fill-opacity=\"1\" /><path clip-path=\"url(#clip970)\" d=\"M32.4621 805.696 Q32.4621 810.406 36.1542 813.143 Q39.8145 815.881 46.212 815.881 Q52.6095 815.881 56.3017 813.175 Q59.9619 810.438 59.9619 805.696 Q59.9619 801.017 56.2698 798.28 Q52.5777 795.542 46.212 795.542 Q39.8781 795.542 36.186 798.28 Q32.4621 801.017 32.4621 805.696 M27.4968 805.696 Q27.4968 798.057 32.4621 793.696 Q37.4273 789.336 46.212 789.336 Q54.9649 789.336 59.9619 793.696 Q64.9272 798.057 64.9272 805.696 Q64.9272 813.366 59.9619 817.727 Q54.9649 822.055 46.212 822.055 Q37.4273 822.055 32.4621 817.727 Q27.4968 813.366 27.4968 805.696 Z\" fill=\"#000000\" fill-rule=\"evenodd\" fill-opacity=\"1\" /><path clip-path=\"url(#clip970)\" d=\"M49.9359 780.233 L28.3562 780.233 L28.3562 774.376 L49.7131 774.376 Q54.7739 774.376 57.3202 772.403 Q59.8346 770.43 59.8346 766.483 Q59.8346 761.74 56.8109 759.003 Q53.7872 756.234 48.5673 756.234 L28.3562 756.234 L28.3562 750.378 L64.0042 750.378 L64.0042 756.234 L58.5296 756.234 Q61.7762 758.367 63.3676 761.199 Q64.9272 764 64.9272 767.724 Q64.9272 773.867 61.1078 777.05 Q57.2883 780.233 49.9359 780.233 M27.4968 765.496 L27.4968 765.496 Z\" fill=\"#000000\" fill-rule=\"evenodd\" fill-opacity=\"1\" /><path clip-path=\"url(#clip970)\" d=\"M42.4881 708.682 L64.0042 708.682 L64.0042 714.539 L42.679 714.539 Q37.6183 714.539 35.1038 716.512 Q32.5894 718.485 32.5894 722.432 Q32.5894 727.175 35.6131 729.912 Q38.6368 732.649 43.8567 732.649 L64.0042 732.649 L64.0042 738.537 L28.3562 738.537 L28.3562 732.649 L33.8944 732.649 Q30.6797 730.548 29.0883 727.716 Q27.4968 724.851 27.4968 721.127 Q27.4968 714.984 31.3163 711.833 Q35.1038 708.682 42.4881 708.682 Z\" fill=\"#000000\" fill-rule=\"evenodd\" fill-opacity=\"1\" /><path clip-path=\"url(#clip970)\" d=\"M18.2347 691.208 L28.3562 691.208 L28.3562 679.145 L32.9077 679.145 L32.9077 691.208 L52.2594 691.208 Q56.6199 691.208 57.8613 690.031 Q59.1026 688.821 59.1026 685.161 L59.1026 679.145 L64.0042 679.145 L64.0042 685.161 Q64.0042 691.94 61.4897 694.519 Q58.9434 697.097 52.2594 697.097 L32.9077 697.097 L32.9077 701.393 L28.3562 701.393 L28.3562 697.097 L18.2347 697.097 L18.2347 691.208 Z\" fill=\"#000000\" fill-rule=\"evenodd\" fill-opacity=\"1\" /><path clip-path=\"url(#clip970)\" d=\"M1221.48 16.7545 L1221.48 25.383 Q1217.35 21.5346 1212.65 19.6307 Q1207.99 17.7268 1202.72 17.7268 Q1192.35 17.7268 1186.84 24.0867 Q1181.33 30.4061 1181.33 42.3968 Q1181.33 54.3469 1186.84 60.7069 Q1192.35 67.0263 1202.72 67.0263 Q1207.99 67.0263 1212.65 65.1223 Q1217.35 63.2184 1221.48 59.3701 L1221.48 67.9175 Q1217.19 70.8341 1212.36 72.2924 Q1207.58 73.7508 1202.24 73.7508 Q1188.5 73.7508 1180.61 65.3654 Q1172.71 56.9395 1172.71 42.3968 Q1172.71 27.8135 1180.61 19.4281 Q1188.5 11.0023 1202.24 11.0023 Q1207.67 11.0023 1212.45 12.4606 Q1217.27 13.8784 1221.48 16.7545 Z\" fill=\"#000000\" fill-rule=\"evenodd\" fill-opacity=\"1\" /><path clip-path=\"url(#clip970)\" d=\"M1251.37 32.4315 Q1245.38 32.4315 1241.9 37.1306 Q1238.41 41.7891 1238.41 49.9314 Q1238.41 58.0738 1241.86 62.7728 Q1245.34 67.4314 1251.37 67.4314 Q1257.33 67.4314 1260.81 62.7323 Q1264.3 58.0333 1264.3 49.9314 Q1264.3 41.8701 1260.81 37.1711 Q1257.33 32.4315 1251.37 32.4315 M1251.37 26.1121 Q1261.1 26.1121 1266.65 32.4315 Q1272.2 38.7509 1272.2 49.9314 Q1272.2 61.0714 1266.65 67.4314 Q1261.1 73.7508 1251.37 73.7508 Q1241.61 73.7508 1236.06 67.4314 Q1230.55 61.0714 1230.55 49.9314 Q1230.55 38.7509 1236.06 32.4315 Q1241.61 26.1121 1251.37 26.1121 Z\" fill=\"#000000\" fill-rule=\"evenodd\" fill-opacity=\"1\" /><path clip-path=\"url(#clip970)\" d=\"M1283.78 54.671 L1283.78 27.2059 L1291.24 27.2059 L1291.24 54.3874 Q1291.24 60.8284 1293.75 64.0691 Q1296.26 67.2693 1301.28 67.2693 Q1307.32 67.2693 1310.8 63.421 Q1314.33 59.5726 1314.33 52.9291 L1314.33 27.2059 L1321.78 27.2059 L1321.78 72.576 L1314.33 72.576 L1314.33 65.6084 Q1311.61 69.7404 1308.01 71.7658 Q1304.44 73.7508 1299.7 73.7508 Q1291.88 73.7508 1287.83 68.8897 Q1283.78 64.0286 1283.78 54.671 M1302.54 26.1121 L1302.54 26.1121 Z\" fill=\"#000000\" fill-rule=\"evenodd\" fill-opacity=\"1\" /><path clip-path=\"url(#clip970)\" d=\"M1374.85 45.1919 L1374.85 72.576 L1367.39 72.576 L1367.39 45.4349 Q1367.39 38.994 1364.88 35.7938 Q1362.37 32.5936 1357.35 32.5936 Q1351.31 32.5936 1347.83 36.4419 Q1344.34 40.2903 1344.34 46.9338 L1344.34 72.576 L1336.85 72.576 L1336.85 27.2059 L1344.34 27.2059 L1344.34 34.2544 Q1347.02 30.163 1350.62 28.1376 Q1354.27 26.1121 1359.01 26.1121 Q1366.83 26.1121 1370.84 30.9732 Q1374.85 35.7938 1374.85 45.1919 Z\" fill=\"#000000\" fill-rule=\"evenodd\" fill-opacity=\"1\" /><path clip-path=\"url(#clip970)\" d=\"M1397.09 14.324 L1397.09 27.2059 L1412.44 27.2059 L1412.44 32.9987 L1397.09 32.9987 L1397.09 57.6282 Q1397.09 63.1779 1398.58 64.7578 Q1400.12 66.3376 1404.78 66.3376 L1412.44 66.3376 L1412.44 72.576 L1404.78 72.576 Q1396.15 72.576 1392.87 69.3758 Q1389.59 66.1351 1389.59 57.6282 L1389.59 32.9987 L1384.12 32.9987 L1384.12 27.2059 L1389.59 27.2059 L1389.59 14.324 L1397.09 14.324 Z\" fill=\"#000000\" fill-rule=\"evenodd\" fill-opacity=\"1\" /><path clip-path=\"url(#clip972)\" d=\"\n",
       "M349.013 550.392 L349.013 1386.4 L506.273 1386.4 L506.273 550.392 L349.013 550.392 L349.013 550.392  Z\n",
       "  \" fill=\"#008000\" fill-rule=\"evenodd\" fill-opacity=\"1\"/>\n",
       "<polyline clip-path=\"url(#clip972)\" style=\"stroke:#000000; stroke-linecap:butt; stroke-linejoin:round; stroke-width:4; stroke-opacity:1; fill:none\" points=\"\n",
       "  349.013,550.392 349.013,1386.4 506.273,1386.4 506.273,550.392 349.013,550.392 \n",
       "  \"/>\n",
       "<path clip-path=\"url(#clip972)\" d=\"\n",
       "M506.273 160.256 L506.273 1386.4 L663.533 1386.4 L663.533 160.256 L506.273 160.256 L506.273 160.256  Z\n",
       "  \" fill=\"#008000\" fill-rule=\"evenodd\" fill-opacity=\"1\"/>\n",
       "<polyline clip-path=\"url(#clip972)\" style=\"stroke:#000000; stroke-linecap:butt; stroke-linejoin:round; stroke-width:4; stroke-opacity:1; fill:none\" points=\"\n",
       "  506.273,160.256 506.273,1386.4 663.533,1386.4 663.533,160.256 506.273,160.256 \n",
       "  \"/>\n",
       "<path clip-path=\"url(#clip972)\" d=\"\n",
       "M663.533 617.272 L663.533 1386.4 L820.793 1386.4 L820.793 617.272 L663.533 617.272 L663.533 617.272  Z\n",
       "  \" fill=\"#008000\" fill-rule=\"evenodd\" fill-opacity=\"1\"/>\n",
       "<polyline clip-path=\"url(#clip972)\" style=\"stroke:#000000; stroke-linecap:butt; stroke-linejoin:round; stroke-width:4; stroke-opacity:1; fill:none\" points=\"\n",
       "  663.533,617.272 663.533,1386.4 820.793,1386.4 820.793,617.272 663.533,617.272 \n",
       "  \"/>\n",
       "<path clip-path=\"url(#clip972)\" d=\"\n",
       "M820.793 739.886 L820.793 1386.4 L978.053 1386.4 L978.053 739.886 L820.793 739.886 L820.793 739.886  Z\n",
       "  \" fill=\"#008000\" fill-rule=\"evenodd\" fill-opacity=\"1\"/>\n",
       "<polyline clip-path=\"url(#clip972)\" style=\"stroke:#000000; stroke-linecap:butt; stroke-linejoin:round; stroke-width:4; stroke-opacity:1; fill:none\" points=\"\n",
       "  820.793,739.886 820.793,1386.4 978.053,1386.4 978.053,739.886 820.793,739.886 \n",
       "  \"/>\n",
       "<path clip-path=\"url(#clip972)\" d=\"\n",
       "M978.053 1386.4 L978.053 1386.4 L1135.31 1386.4 L1135.31 1386.4 L978.053 1386.4 L978.053 1386.4  Z\n",
       "  \" fill=\"#008000\" fill-rule=\"evenodd\" fill-opacity=\"1\"/>\n",
       "<polyline clip-path=\"url(#clip972)\" style=\"stroke:#000000; stroke-linecap:butt; stroke-linejoin:round; stroke-width:4; stroke-opacity:1; fill:none\" points=\"\n",
       "  978.053,1386.4 978.053,1386.4 1135.31,1386.4 978.053,1386.4 \n",
       "  \"/>\n",
       "<path clip-path=\"url(#clip972)\" d=\"\n",
       "M1135.31 1386.4 L1135.31 1386.4 L1292.57 1386.4 L1292.57 1386.4 L1135.31 1386.4 L1135.31 1386.4  Z\n",
       "  \" fill=\"#008000\" fill-rule=\"evenodd\" fill-opacity=\"1\"/>\n",
       "<polyline clip-path=\"url(#clip972)\" style=\"stroke:#000000; stroke-linecap:butt; stroke-linejoin:round; stroke-width:4; stroke-opacity:1; fill:none\" points=\"\n",
       "  1135.31,1386.4 1135.31,1386.4 1292.57,1386.4 1135.31,1386.4 \n",
       "  \"/>\n",
       "<path clip-path=\"url(#clip972)\" d=\"\n",
       "M1292.57 1386.4 L1292.57 1386.4 L1449.83 1386.4 L1449.83 1386.4 L1292.57 1386.4 L1292.57 1386.4  Z\n",
       "  \" fill=\"#008000\" fill-rule=\"evenodd\" fill-opacity=\"1\"/>\n",
       "<polyline clip-path=\"url(#clip972)\" style=\"stroke:#000000; stroke-linecap:butt; stroke-linejoin:round; stroke-width:4; stroke-opacity:1; fill:none\" points=\"\n",
       "  1292.57,1386.4 1292.57,1386.4 1449.83,1386.4 1292.57,1386.4 \n",
       "  \"/>\n",
       "<path clip-path=\"url(#clip972)\" d=\"\n",
       "M1449.83 1386.4 L1449.83 1386.4 L1607.09 1386.4 L1607.09 1386.4 L1449.83 1386.4 L1449.83 1386.4  Z\n",
       "  \" fill=\"#008000\" fill-rule=\"evenodd\" fill-opacity=\"1\"/>\n",
       "<polyline clip-path=\"url(#clip972)\" style=\"stroke:#000000; stroke-linecap:butt; stroke-linejoin:round; stroke-width:4; stroke-opacity:1; fill:none\" points=\"\n",
       "  1449.83,1386.4 1449.83,1386.4 1607.09,1386.4 1449.83,1386.4 \n",
       "  \"/>\n",
       "<path clip-path=\"url(#clip972)\" d=\"\n",
       "M1607.09 1386.4 L1607.09 1386.4 L1764.35 1386.4 L1764.35 1386.4 L1607.09 1386.4 L1607.09 1386.4  Z\n",
       "  \" fill=\"#008000\" fill-rule=\"evenodd\" fill-opacity=\"1\"/>\n",
       "<polyline clip-path=\"url(#clip972)\" style=\"stroke:#000000; stroke-linecap:butt; stroke-linejoin:round; stroke-width:4; stroke-opacity:1; fill:none\" points=\"\n",
       "  1607.09,1386.4 1607.09,1386.4 1764.35,1386.4 1607.09,1386.4 \n",
       "  \"/>\n",
       "<path clip-path=\"url(#clip972)\" d=\"\n",
       "M1764.35 1386.4 L1764.35 1386.4 L1921.61 1386.4 L1921.61 1386.4 L1764.35 1386.4 L1764.35 1386.4  Z\n",
       "  \" fill=\"#008000\" fill-rule=\"evenodd\" fill-opacity=\"1\"/>\n",
       "<polyline clip-path=\"url(#clip972)\" style=\"stroke:#000000; stroke-linecap:butt; stroke-linejoin:round; stroke-width:4; stroke-opacity:1; fill:none\" points=\"\n",
       "  1764.35,1386.4 1764.35,1386.4 1921.61,1386.4 1764.35,1386.4 \n",
       "  \"/>\n",
       "<path clip-path=\"url(#clip972)\" d=\"\n",
       "M1921.61 1386.4 L1921.61 1386.4 L2078.87 1386.4 L2078.87 1386.4 L1921.61 1386.4 L1921.61 1386.4  Z\n",
       "  \" fill=\"#008000\" fill-rule=\"evenodd\" fill-opacity=\"1\"/>\n",
       "<polyline clip-path=\"url(#clip972)\" style=\"stroke:#000000; stroke-linecap:butt; stroke-linejoin:round; stroke-width:4; stroke-opacity:1; fill:none\" points=\"\n",
       "  1921.61,1386.4 1921.61,1386.4 2078.87,1386.4 1921.61,1386.4 \n",
       "  \"/>\n",
       "<path clip-path=\"url(#clip972)\" d=\"\n",
       "M2078.87 1063.14 L2078.87 1386.4 L2236.13 1386.4 L2236.13 1063.14 L2078.87 1063.14 L2078.87 1063.14  Z\n",
       "  \" fill=\"#008000\" fill-rule=\"evenodd\" fill-opacity=\"1\"/>\n",
       "<polyline clip-path=\"url(#clip972)\" style=\"stroke:#000000; stroke-linecap:butt; stroke-linejoin:round; stroke-width:4; stroke-opacity:1; fill:none\" points=\"\n",
       "  2078.87,1063.14 2078.87,1386.4 2236.13,1386.4 2236.13,1063.14 2078.87,1063.14 \n",
       "  \"/>\n",
       "<circle clip-path=\"url(#clip972)\" style=\"fill:#008000; stroke:none; fill-opacity:0\" cx=\"427.643\" cy=\"550.392\" r=\"2\"/>\n",
       "<circle clip-path=\"url(#clip972)\" style=\"fill:#008000; stroke:none; fill-opacity:0\" cx=\"584.903\" cy=\"160.256\" r=\"2\"/>\n",
       "<circle clip-path=\"url(#clip972)\" style=\"fill:#008000; stroke:none; fill-opacity:0\" cx=\"742.163\" cy=\"617.272\" r=\"2\"/>\n",
       "<circle clip-path=\"url(#clip972)\" style=\"fill:#008000; stroke:none; fill-opacity:0\" cx=\"899.423\" cy=\"739.886\" r=\"2\"/>\n",
       "<circle clip-path=\"url(#clip972)\" style=\"fill:#008000; stroke:none; fill-opacity:0\" cx=\"1056.68\" cy=\"1386.4\" r=\"2\"/>\n",
       "<circle clip-path=\"url(#clip972)\" style=\"fill:#008000; stroke:none; fill-opacity:0\" cx=\"1213.94\" cy=\"1386.4\" r=\"2\"/>\n",
       "<circle clip-path=\"url(#clip972)\" style=\"fill:#008000; stroke:none; fill-opacity:0\" cx=\"1371.2\" cy=\"1386.4\" r=\"2\"/>\n",
       "<circle clip-path=\"url(#clip972)\" style=\"fill:#008000; stroke:none; fill-opacity:0\" cx=\"1528.46\" cy=\"1386.4\" r=\"2\"/>\n",
       "<circle clip-path=\"url(#clip972)\" style=\"fill:#008000; stroke:none; fill-opacity:0\" cx=\"1685.72\" cy=\"1386.4\" r=\"2\"/>\n",
       "<circle clip-path=\"url(#clip972)\" style=\"fill:#008000; stroke:none; fill-opacity:0\" cx=\"1842.98\" cy=\"1386.4\" r=\"2\"/>\n",
       "<circle clip-path=\"url(#clip972)\" style=\"fill:#008000; stroke:none; fill-opacity:0\" cx=\"2000.24\" cy=\"1386.4\" r=\"2\"/>\n",
       "<circle clip-path=\"url(#clip972)\" style=\"fill:#008000; stroke:none; fill-opacity:0\" cx=\"2157.5\" cy=\"1063.14\" r=\"2\"/>\n",
       "</svg>\n"
      ]
     },
     "execution_count": 123,
     "metadata": {},
     "output_type": "execute_result"
    }
   ],
   "source": [
    "histogram(\n",
    "    dataset[!,:Date],\n",
    "    dataset[!, :Total_€],\n",
    "    title = \"Count\",\n",
    "    xlabel = \"Income\",\n",
    "    ylabel = \"Count\",\n",
    "    color=\"green\",\n",
    "    legend = false) \n"
   ]
  },
  {
   "cell_type": "code",
   "execution_count": 124,
   "metadata": {},
   "outputs": [
    {
     "data": {
      "text/html": [
       "<div class=\"data-frame\"><p>3 rows × 2 columns</p><table class=\"data-frame\"><thead><tr><th></th><th>Country</th><th>count</th></tr><tr><th></th><th title=\"Any\">Any</th><th title=\"Int64\">Int64</th></tr></thead><tbody><tr><th>1</th><td>Belgium</td><td>145</td></tr><tr><th>2</th><td>Unknown</td><td>58</td></tr><tr><th>3</th><td>France</td><td>138</td></tr></tbody></table></div>"
      ],
      "text/latex": [
       "\\begin{tabular}{r|cc}\n",
       "\t& Country & count\\\\\n",
       "\t\\hline\n",
       "\t& Any & Int64\\\\\n",
       "\t\\hline\n",
       "\t1 & Belgium & 145 \\\\\n",
       "\t2 & Unknown & 58 \\\\\n",
       "\t3 & France & 138 \\\\\n",
       "\\end{tabular}\n"
      ],
      "text/plain": [
       "\u001b[1m3×2 DataFrame\u001b[0m\n",
       "\u001b[1m Row \u001b[0m│\u001b[1m Country \u001b[0m\u001b[1m count \u001b[0m\n",
       "\u001b[1m     \u001b[0m│\u001b[90m Any     \u001b[0m\u001b[90m Int64 \u001b[0m\n",
       "─────┼────────────────\n",
       "   1 │ Belgium    145\n",
       "   2 │ Unknown     58\n",
       "   3 │ France     138"
      ]
     },
     "execution_count": 124,
     "metadata": {},
     "output_type": "execute_result"
    }
   ],
   "source": [
    "df=combine(groupby(dataset,:Country), nrow => :count)"
   ]
  },
  {
   "cell_type": "code",
   "execution_count": 125,
   "metadata": {},
   "outputs": [
    {
     "data": {
      "text/html": [
       "<div class=\"data-frame\"><p>3 rows × 2 columns</p><table class=\"data-frame\"><thead><tr><th></th><th>Country</th><th>count</th></tr><tr><th></th><th title=\"Any\">Any</th><th title=\"Int64\">Int64</th></tr></thead><tbody><tr><th>1</th><td>Belgium</td><td>145</td></tr><tr><th>2</th><td>Unknown</td><td>58</td></tr><tr><th>3</th><td>France</td><td>138</td></tr></tbody></table></div>"
      ],
      "text/latex": [
       "\\begin{tabular}{r|cc}\n",
       "\t& Country & count\\\\\n",
       "\t\\hline\n",
       "\t& Any & Int64\\\\\n",
       "\t\\hline\n",
       "\t1 & Belgium & 145 \\\\\n",
       "\t2 & Unknown & 58 \\\\\n",
       "\t3 & France & 138 \\\\\n",
       "\\end{tabular}\n"
      ],
      "text/plain": [
       "\u001b[1m3×2 DataFrame\u001b[0m\n",
       "\u001b[1m Row \u001b[0m│\u001b[1m Country \u001b[0m\u001b[1m count \u001b[0m\n",
       "\u001b[1m     \u001b[0m│\u001b[90m Any     \u001b[0m\u001b[90m Int64 \u001b[0m\n",
       "─────┼────────────────\n",
       "   1 │ Belgium    145\n",
       "   2 │ Unknown     58\n",
       "   3 │ France     138"
      ]
     },
     "execution_count": 125,
     "metadata": {},
     "output_type": "execute_result"
    }
   ],
   "source": [
    "df"
   ]
  },
  {
   "cell_type": "code",
   "execution_count": 126,
   "metadata": {},
   "outputs": [
    {
     "data": {
      "image/svg+xml": [
       "<?xml version=\"1.0\" encoding=\"utf-8\"?>\n",
       "<svg xmlns=\"http://www.w3.org/2000/svg\" xmlns:xlink=\"http://www.w3.org/1999/xlink\" width=\"600\" height=\"400\" viewBox=\"0 0 2400 1600\">\n",
       "<defs>\n",
       "  <clipPath id=\"clip010\">\n",
       "    <rect x=\"0\" y=\"0\" width=\"2400\" height=\"1600\"/>\n",
       "  </clipPath>\n",
       "</defs>\n",
       "<path clip-path=\"url(#clip010)\" d=\"\n",
       "M0 1600 L2400 1600 L2400 0 L0 0  Z\n",
       "  \" fill=\"#ffffff\" fill-rule=\"evenodd\" fill-opacity=\"1\"/>\n",
       "<defs>\n",
       "  <clipPath id=\"clip011\">\n",
       "    <rect x=\"480\" y=\"0\" width=\"1681\" height=\"1600\"/>\n",
       "  </clipPath>\n",
       "</defs>\n",
       "<path clip-path=\"url(#clip010)\" d=\"\n",
       "M232.389 1423.18 L2352.76 1423.18 L2352.76 47.2441 L232.389 47.2441  Z\n",
       "  \" fill=\"#ffffff\" fill-rule=\"evenodd\" fill-opacity=\"1\"/>\n",
       "<defs>\n",
       "  <clipPath id=\"clip012\">\n",
       "    <rect x=\"232\" y=\"47\" width=\"2121\" height=\"1377\"/>\n",
       "  </clipPath>\n",
       "</defs>\n",
       "<polyline clip-path=\"url(#clip012)\" style=\"stroke:#000000; stroke-linecap:butt; stroke-linejoin:round; stroke-width:2; stroke-opacity:0.1; fill:none\" points=\"\n",
       "  618.602,1423.18 618.602,47.2441 \n",
       "  \"/>\n",
       "<polyline clip-path=\"url(#clip012)\" style=\"stroke:#000000; stroke-linecap:butt; stroke-linejoin:round; stroke-width:2; stroke-opacity:0.1; fill:none\" points=\"\n",
       "  1292.57,1423.18 1292.57,47.2441 \n",
       "  \"/>\n",
       "<polyline clip-path=\"url(#clip012)\" style=\"stroke:#000000; stroke-linecap:butt; stroke-linejoin:round; stroke-width:2; stroke-opacity:0.1; fill:none\" points=\"\n",
       "  1966.54,1423.18 1966.54,47.2441 \n",
       "  \"/>\n",
       "<polyline clip-path=\"url(#clip010)\" style=\"stroke:#000000; stroke-linecap:butt; stroke-linejoin:round; stroke-width:4; stroke-opacity:1; fill:none\" points=\"\n",
       "  232.389,1423.18 2352.76,1423.18 \n",
       "  \"/>\n",
       "<polyline clip-path=\"url(#clip010)\" style=\"stroke:#000000; stroke-linecap:butt; stroke-linejoin:round; stroke-width:4; stroke-opacity:1; fill:none\" points=\"\n",
       "  618.602,1423.18 618.602,1404.28 \n",
       "  \"/>\n",
       "<polyline clip-path=\"url(#clip010)\" style=\"stroke:#000000; stroke-linecap:butt; stroke-linejoin:round; stroke-width:4; stroke-opacity:1; fill:none\" points=\"\n",
       "  1292.57,1423.18 1292.57,1404.28 \n",
       "  \"/>\n",
       "<polyline clip-path=\"url(#clip010)\" style=\"stroke:#000000; stroke-linecap:butt; stroke-linejoin:round; stroke-width:4; stroke-opacity:1; fill:none\" points=\"\n",
       "  1966.54,1423.18 1966.54,1404.28 \n",
       "  \"/>\n",
       "<path clip-path=\"url(#clip010)\" d=\"M530.442 1469.08 L530.442 1481.74 L537.942 1481.74 Q541.716 1481.74 543.521 1480.19 Q545.35 1478.61 545.35 1475.39 Q545.35 1472.15 543.521 1470.63 Q541.716 1469.08 537.942 1469.08 L530.442 1469.08 M530.442 1454.86 L530.442 1465.28 L537.364 1465.28 Q540.79 1465.28 542.456 1464.01 Q544.146 1462.71 544.146 1460.07 Q544.146 1457.45 542.456 1456.16 Q540.79 1454.86 537.364 1454.86 L530.442 1454.86 M525.767 1451.02 L537.711 1451.02 Q543.058 1451.02 545.952 1453.24 Q548.845 1455.46 548.845 1459.56 Q548.845 1462.73 547.364 1464.61 Q545.882 1466.48 543.012 1466.95 Q546.461 1467.69 548.359 1470.05 Q550.28 1472.39 550.28 1475.9 Q550.28 1480.53 547.132 1483.06 Q543.984 1485.58 538.174 1485.58 L525.767 1485.58 L525.767 1451.02 Z\" fill=\"#000000\" fill-rule=\"evenodd\" fill-opacity=\"1\" /><path clip-path=\"url(#clip010)\" d=\"M580.28 1471.55 L580.28 1473.64 L560.697 1473.64 Q560.975 1478.03 563.336 1480.35 Q565.72 1482.64 569.956 1482.64 Q572.41 1482.64 574.701 1482.04 Q577.016 1481.44 579.285 1480.23 L579.285 1484.26 Q576.993 1485.23 574.586 1485.74 Q572.178 1486.25 569.701 1486.25 Q563.498 1486.25 559.864 1482.64 Q556.252 1479.03 556.252 1472.87 Q556.252 1466.51 559.678 1462.78 Q563.127 1459.03 568.961 1459.03 Q574.192 1459.03 577.225 1462.41 Q580.28 1465.77 580.28 1471.55 M576.021 1470.3 Q575.975 1466.81 574.053 1464.72 Q572.155 1462.64 569.007 1462.64 Q565.442 1462.64 563.289 1464.65 Q561.16 1466.67 560.836 1470.33 L576.021 1470.3 Z\" fill=\"#000000\" fill-rule=\"evenodd\" fill-opacity=\"1\" /><path clip-path=\"url(#clip010)\" d=\"M587.271 1449.56 L591.53 1449.56 L591.53 1485.58 L587.271 1485.58 L587.271 1449.56 Z\" fill=\"#000000\" fill-rule=\"evenodd\" fill-opacity=\"1\" /><path clip-path=\"url(#clip010)\" d=\"M617.502 1472.32 Q617.502 1467.69 615.581 1465.14 Q613.683 1462.59 610.234 1462.59 Q606.808 1462.59 604.886 1465.14 Q602.988 1467.69 602.988 1472.32 Q602.988 1476.92 604.886 1479.47 Q606.808 1482.02 610.234 1482.02 Q613.683 1482.02 615.581 1479.47 Q617.502 1476.92 617.502 1472.32 M621.761 1482.36 Q621.761 1488.98 618.822 1492.2 Q615.882 1495.44 609.817 1495.44 Q607.572 1495.44 605.581 1495.09 Q603.59 1494.77 601.715 1494.08 L601.715 1489.93 Q603.59 1490.95 605.419 1491.44 Q607.248 1491.92 609.146 1491.92 Q613.335 1491.92 615.419 1489.72 Q617.502 1487.55 617.502 1483.13 L617.502 1481.02 Q616.183 1483.31 614.123 1484.45 Q612.062 1485.58 609.192 1485.58 Q604.424 1485.58 601.507 1481.95 Q598.59 1478.31 598.59 1472.32 Q598.59 1466.3 601.507 1462.66 Q604.424 1459.03 609.192 1459.03 Q612.062 1459.03 614.123 1460.16 Q616.183 1461.3 617.502 1463.59 L617.502 1459.65 L621.761 1459.65 L621.761 1482.36 Z\" fill=\"#000000\" fill-rule=\"evenodd\" fill-opacity=\"1\" /><path clip-path=\"url(#clip010)\" d=\"M630.534 1459.65 L634.794 1459.65 L634.794 1485.58 L630.534 1485.58 L630.534 1459.65 M630.534 1449.56 L634.794 1449.56 L634.794 1454.96 L630.534 1454.96 L630.534 1449.56 Z\" fill=\"#000000\" fill-rule=\"evenodd\" fill-opacity=\"1\" /><path clip-path=\"url(#clip010)\" d=\"M643.266 1475.35 L643.266 1459.65 L647.525 1459.65 L647.525 1475.19 Q647.525 1478.87 648.96 1480.72 Q650.395 1482.55 653.266 1482.55 Q656.715 1482.55 658.706 1480.35 Q660.719 1478.15 660.719 1474.35 L660.719 1459.65 L664.979 1459.65 L664.979 1485.58 L660.719 1485.58 L660.719 1481.6 Q659.169 1483.96 657.108 1485.12 Q655.071 1486.25 652.363 1486.25 Q647.895 1486.25 645.581 1483.47 Q643.266 1480.7 643.266 1475.35 M653.983 1459.03 L653.983 1459.03 Z\" fill=\"#000000\" fill-rule=\"evenodd\" fill-opacity=\"1\" /><path clip-path=\"url(#clip010)\" d=\"M693.937 1464.63 Q695.534 1461.76 697.756 1460.39 Q699.979 1459.03 702.988 1459.03 Q707.039 1459.03 709.238 1461.88 Q711.437 1464.7 711.437 1469.93 L711.437 1485.58 L707.154 1485.58 L707.154 1470.07 Q707.154 1466.34 705.835 1464.54 Q704.516 1462.73 701.807 1462.73 Q698.497 1462.73 696.576 1464.93 Q694.654 1467.13 694.654 1470.93 L694.654 1485.58 L690.372 1485.58 L690.372 1470.07 Q690.372 1466.32 689.053 1464.54 Q687.733 1462.73 684.979 1462.73 Q681.715 1462.73 679.793 1464.95 Q677.872 1467.15 677.872 1470.93 L677.872 1485.58 L673.59 1485.58 L673.59 1459.65 L677.872 1459.65 L677.872 1463.68 Q679.331 1461.3 681.368 1460.16 Q683.405 1459.03 686.205 1459.03 Q689.03 1459.03 690.997 1460.46 Q692.988 1461.9 693.937 1464.63 Z\" fill=\"#000000\" fill-rule=\"evenodd\" fill-opacity=\"1\" /><path clip-path=\"url(#clip010)\" d=\"M1186.61 1451.02 L1191.31 1451.02 L1191.31 1472.02 Q1191.31 1477.57 1193.33 1480.02 Q1195.34 1482.45 1199.85 1482.45 Q1204.34 1482.45 1206.36 1480.02 Q1208.37 1477.57 1208.37 1472.02 L1208.37 1451.02 L1213.07 1451.02 L1213.07 1472.59 Q1213.07 1479.35 1209.71 1482.8 Q1206.38 1486.25 1199.85 1486.25 Q1193.3 1486.25 1189.95 1482.8 Q1186.61 1479.35 1186.61 1472.59 L1186.61 1451.02 Z\" fill=\"#000000\" fill-rule=\"evenodd\" fill-opacity=\"1\" /><path clip-path=\"url(#clip010)\" d=\"M1243.21 1469.93 L1243.21 1485.58 L1238.95 1485.58 L1238.95 1470.07 Q1238.95 1466.39 1237.52 1464.56 Q1236.08 1462.73 1233.21 1462.73 Q1229.76 1462.73 1227.77 1464.93 Q1225.78 1467.13 1225.78 1470.93 L1225.78 1485.58 L1221.5 1485.58 L1221.5 1459.65 L1225.78 1459.65 L1225.78 1463.68 Q1227.31 1461.34 1229.37 1460.19 Q1231.45 1459.03 1234.16 1459.03 Q1238.63 1459.03 1240.92 1461.81 Q1243.21 1464.56 1243.21 1469.93 Z\" fill=\"#000000\" fill-rule=\"evenodd\" fill-opacity=\"1\" /><path clip-path=\"url(#clip010)\" d=\"M1251.54 1449.56 L1255.83 1449.56 L1255.83 1470.83 L1268.53 1459.65 L1273.97 1459.65 L1260.22 1471.78 L1274.55 1485.58 L1269 1485.58 L1255.83 1472.92 L1255.83 1485.58 L1251.54 1485.58 L1251.54 1449.56 Z\" fill=\"#000000\" fill-rule=\"evenodd\" fill-opacity=\"1\" /><path clip-path=\"url(#clip010)\" d=\"M1300.71 1469.93 L1300.71 1485.58 L1296.45 1485.58 L1296.45 1470.07 Q1296.45 1466.39 1295.01 1464.56 Q1293.58 1462.73 1290.71 1462.73 Q1287.26 1462.73 1285.27 1464.93 Q1283.28 1467.13 1283.28 1470.93 L1283.28 1485.58 L1279 1485.58 L1279 1459.65 L1283.28 1459.65 L1283.28 1463.68 Q1284.81 1461.34 1286.87 1460.19 Q1288.95 1459.03 1291.66 1459.03 Q1296.13 1459.03 1298.42 1461.81 Q1300.71 1464.56 1300.71 1469.93 Z\" fill=\"#000000\" fill-rule=\"evenodd\" fill-opacity=\"1\" /><path clip-path=\"url(#clip010)\" d=\"M1319.25 1462.64 Q1315.82 1462.64 1313.83 1465.33 Q1311.84 1467.99 1311.84 1472.64 Q1311.84 1477.29 1313.81 1479.98 Q1315.8 1482.64 1319.25 1482.64 Q1322.65 1482.64 1324.64 1479.95 Q1326.63 1477.27 1326.63 1472.64 Q1326.63 1468.03 1324.64 1465.35 Q1322.65 1462.64 1319.25 1462.64 M1319.25 1459.03 Q1324.81 1459.03 1327.98 1462.64 Q1331.15 1466.25 1331.15 1472.64 Q1331.15 1479.01 1327.98 1482.64 Q1324.81 1486.25 1319.25 1486.25 Q1313.67 1486.25 1310.5 1482.64 Q1307.35 1479.01 1307.35 1472.64 Q1307.35 1466.25 1310.5 1462.64 Q1313.67 1459.03 1319.25 1459.03 Z\" fill=\"#000000\" fill-rule=\"evenodd\" fill-opacity=\"1\" /><path clip-path=\"url(#clip010)\" d=\"M1335.73 1459.65 L1339.99 1459.65 L1345.32 1479.89 L1350.62 1459.65 L1355.64 1459.65 L1360.96 1479.89 L1366.26 1459.65 L1370.52 1459.65 L1363.74 1485.58 L1358.72 1485.58 L1353.14 1464.33 L1347.54 1485.58 L1342.51 1485.58 L1335.73 1459.65 Z\" fill=\"#000000\" fill-rule=\"evenodd\" fill-opacity=\"1\" /><path clip-path=\"url(#clip010)\" d=\"M1398.53 1469.93 L1398.53 1485.58 L1394.27 1485.58 L1394.27 1470.07 Q1394.27 1466.39 1392.84 1464.56 Q1391.4 1462.73 1388.53 1462.73 Q1385.08 1462.73 1383.09 1464.93 Q1381.1 1467.13 1381.1 1470.93 L1381.1 1485.58 L1376.82 1485.58 L1376.82 1459.65 L1381.1 1459.65 L1381.1 1463.68 Q1382.63 1461.34 1384.69 1460.19 Q1386.77 1459.03 1389.48 1459.03 Q1393.95 1459.03 1396.24 1461.81 Q1398.53 1464.56 1398.53 1469.93 Z\" fill=\"#000000\" fill-rule=\"evenodd\" fill-opacity=\"1\" /><path clip-path=\"url(#clip010)\" d=\"M1891.31 1451.02 L1911.17 1451.02 L1911.17 1454.96 L1895.99 1454.96 L1895.99 1465.14 L1909.69 1465.14 L1909.69 1469.08 L1895.99 1469.08 L1895.99 1485.58 L1891.31 1485.58 L1891.31 1451.02 Z\" fill=\"#000000\" fill-rule=\"evenodd\" fill-opacity=\"1\" /><path clip-path=\"url(#clip010)\" d=\"M1929.97 1463.64 Q1929.25 1463.22 1928.4 1463.03 Q1927.56 1462.83 1926.54 1462.83 Q1922.93 1462.83 1920.99 1465.19 Q1919.07 1467.52 1919.07 1471.92 L1919.07 1485.58 L1914.78 1485.58 L1914.78 1459.65 L1919.07 1459.65 L1919.07 1463.68 Q1920.41 1461.32 1922.56 1460.19 Q1924.72 1459.03 1927.79 1459.03 Q1928.23 1459.03 1928.77 1459.1 Q1929.3 1459.14 1929.95 1459.26 L1929.97 1463.64 Z\" fill=\"#000000\" fill-rule=\"evenodd\" fill-opacity=\"1\" /><path clip-path=\"url(#clip010)\" d=\"M1946.22 1472.55 Q1941.06 1472.55 1939.07 1473.73 Q1937.08 1474.91 1937.08 1477.76 Q1937.08 1480.02 1938.56 1481.37 Q1940.06 1482.69 1942.63 1482.69 Q1946.17 1482.69 1948.3 1480.19 Q1950.46 1477.66 1950.46 1473.5 L1950.46 1472.55 L1946.22 1472.55 M1954.71 1470.79 L1954.71 1485.58 L1950.46 1485.58 L1950.46 1481.64 Q1949 1484.01 1946.82 1485.14 Q1944.65 1486.25 1941.5 1486.25 Q1937.52 1486.25 1935.15 1484.03 Q1932.82 1481.78 1932.82 1478.03 Q1932.82 1473.66 1935.73 1471.44 Q1938.67 1469.21 1944.48 1469.21 L1950.46 1469.21 L1950.46 1468.8 Q1950.46 1465.86 1948.51 1464.26 Q1946.59 1462.64 1943.09 1462.64 Q1940.87 1462.64 1938.77 1463.17 Q1936.66 1463.7 1934.72 1464.77 L1934.72 1460.83 Q1937.05 1459.93 1939.25 1459.49 Q1941.45 1459.03 1943.53 1459.03 Q1949.16 1459.03 1951.94 1461.95 Q1954.71 1464.86 1954.71 1470.79 Z\" fill=\"#000000\" fill-rule=\"evenodd\" fill-opacity=\"1\" /><path clip-path=\"url(#clip010)\" d=\"M1985.04 1469.93 L1985.04 1485.58 L1980.78 1485.58 L1980.78 1470.07 Q1980.78 1466.39 1979.34 1464.56 Q1977.91 1462.73 1975.04 1462.73 Q1971.59 1462.73 1969.6 1464.93 Q1967.61 1467.13 1967.61 1470.93 L1967.61 1485.58 L1963.33 1485.58 L1963.33 1459.65 L1967.61 1459.65 L1967.61 1463.68 Q1969.14 1461.34 1971.2 1460.19 Q1973.28 1459.03 1975.99 1459.03 Q1980.46 1459.03 1982.75 1461.81 Q1985.04 1464.56 1985.04 1469.93 Z\" fill=\"#000000\" fill-rule=\"evenodd\" fill-opacity=\"1\" /><path clip-path=\"url(#clip010)\" d=\"M2012.19 1460.65 L2012.19 1464.63 Q2010.39 1463.64 2008.56 1463.15 Q2006.75 1462.64 2004.9 1462.64 Q2000.76 1462.64 1998.46 1465.28 Q1996.17 1467.89 1996.17 1472.64 Q1996.17 1477.39 1998.46 1480.02 Q2000.76 1482.64 2004.9 1482.64 Q2006.75 1482.64 2008.56 1482.15 Q2010.39 1481.64 2012.19 1480.65 L2012.19 1484.58 Q2010.41 1485.42 2008.49 1485.83 Q2006.59 1486.25 2004.44 1486.25 Q1998.58 1486.25 1995.13 1482.57 Q1991.68 1478.89 1991.68 1472.64 Q1991.68 1466.3 1995.15 1462.66 Q1998.65 1459.03 2004.71 1459.03 Q2006.68 1459.03 2008.56 1459.45 Q2010.43 1459.84 2012.19 1460.65 Z\" fill=\"#000000\" fill-rule=\"evenodd\" fill-opacity=\"1\" /><path clip-path=\"url(#clip010)\" d=\"M2041.77 1471.55 L2041.77 1473.64 L2022.19 1473.64 Q2022.47 1478.03 2024.83 1480.35 Q2027.21 1482.64 2031.45 1482.64 Q2033.9 1482.64 2036.2 1482.04 Q2038.51 1481.44 2040.78 1480.23 L2040.78 1484.26 Q2038.49 1485.23 2036.08 1485.74 Q2033.67 1486.25 2031.2 1486.25 Q2024.99 1486.25 2021.36 1482.64 Q2017.75 1479.03 2017.75 1472.87 Q2017.75 1466.51 2021.17 1462.78 Q2024.62 1459.03 2030.46 1459.03 Q2035.69 1459.03 2038.72 1462.41 Q2041.77 1465.77 2041.77 1471.55 M2037.52 1470.3 Q2037.47 1466.81 2035.55 1464.72 Q2033.65 1462.64 2030.5 1462.64 Q2026.94 1462.64 2024.78 1464.65 Q2022.65 1466.67 2022.33 1470.33 L2037.52 1470.3 Z\" fill=\"#000000\" fill-rule=\"evenodd\" fill-opacity=\"1\" /><path clip-path=\"url(#clip010)\" d=\"M1178.04 1524.18 L1178.04 1530.96 Q1174.79 1527.94 1171.1 1526.44 Q1167.44 1524.95 1163.3 1524.95 Q1155.15 1524.95 1150.82 1529.95 Q1146.5 1534.91 1146.5 1544.33 Q1146.5 1553.72 1150.82 1558.72 Q1155.15 1563.68 1163.3 1563.68 Q1167.44 1563.68 1171.1 1562.19 Q1174.79 1560.69 1178.04 1557.67 L1178.04 1564.38 Q1174.66 1566.68 1170.88 1567.82 Q1167.12 1568.97 1162.92 1568.97 Q1152.13 1568.97 1145.92 1562.38 Q1139.72 1555.76 1139.72 1544.33 Q1139.72 1532.87 1145.92 1526.28 Q1152.13 1519.66 1162.92 1519.66 Q1167.18 1519.66 1170.94 1520.81 Q1174.73 1521.92 1178.04 1524.18 Z\" fill=\"#000000\" fill-rule=\"evenodd\" fill-opacity=\"1\" /><path clip-path=\"url(#clip010)\" d=\"M1201.53 1536.5 Q1196.82 1536.5 1194.08 1540.19 Q1191.34 1543.85 1191.34 1550.25 Q1191.34 1556.65 1194.05 1560.34 Q1196.78 1564 1201.53 1564 Q1206.21 1564 1208.94 1560.31 Q1211.68 1556.62 1211.68 1550.25 Q1211.68 1543.92 1208.94 1540.23 Q1206.21 1536.5 1201.53 1536.5 M1201.53 1531.54 Q1209.17 1531.54 1213.53 1536.5 Q1217.89 1541.47 1217.89 1550.25 Q1217.89 1559 1213.53 1564 Q1209.17 1568.97 1201.53 1568.97 Q1193.86 1568.97 1189.5 1564 Q1185.17 1559 1185.17 1550.25 Q1185.17 1541.47 1189.5 1536.5 Q1193.86 1531.54 1201.53 1531.54 Z\" fill=\"#000000\" fill-rule=\"evenodd\" fill-opacity=\"1\" /><path clip-path=\"url(#clip010)\" d=\"M1226.99 1553.98 L1226.99 1532.4 L1232.85 1532.4 L1232.85 1553.75 Q1232.85 1558.81 1234.82 1561.36 Q1236.79 1563.87 1240.74 1563.87 Q1245.48 1563.87 1248.22 1560.85 Q1250.99 1557.83 1250.99 1552.61 L1250.99 1532.4 L1256.85 1532.4 L1256.85 1568.04 L1250.99 1568.04 L1250.99 1562.57 Q1248.86 1565.82 1246.02 1567.41 Q1243.22 1568.97 1239.5 1568.97 Q1233.36 1568.97 1230.17 1565.15 Q1226.99 1561.33 1226.99 1553.98 M1241.73 1531.54 L1241.73 1531.54 Z\" fill=\"#000000\" fill-rule=\"evenodd\" fill-opacity=\"1\" /><path clip-path=\"url(#clip010)\" d=\"M1298.54 1546.53 L1298.54 1568.04 L1292.68 1568.04 L1292.68 1546.72 Q1292.68 1541.66 1290.71 1539.14 Q1288.74 1536.63 1284.79 1536.63 Q1280.05 1536.63 1277.31 1539.65 Q1274.57 1542.68 1274.57 1547.9 L1274.57 1568.04 L1268.69 1568.04 L1268.69 1532.4 L1274.57 1532.4 L1274.57 1537.93 Q1276.67 1534.72 1279.51 1533.13 Q1282.37 1531.54 1286.1 1531.54 Q1292.24 1531.54 1295.39 1535.36 Q1298.54 1539.14 1298.54 1546.53 Z\" fill=\"#000000\" fill-rule=\"evenodd\" fill-opacity=\"1\" /><path clip-path=\"url(#clip010)\" d=\"M1316.01 1522.27 L1316.01 1532.4 L1328.08 1532.4 L1328.08 1536.95 L1316.01 1536.95 L1316.01 1556.3 Q1316.01 1560.66 1317.19 1561.9 Q1318.4 1563.14 1322.06 1563.14 L1328.08 1563.14 L1328.08 1568.04 L1322.06 1568.04 Q1315.28 1568.04 1312.7 1565.53 Q1310.13 1562.98 1310.13 1556.3 L1310.13 1536.95 L1305.83 1536.95 L1305.83 1532.4 L1310.13 1532.4 L1310.13 1522.27 L1316.01 1522.27 Z\" fill=\"#000000\" fill-rule=\"evenodd\" fill-opacity=\"1\" /><path clip-path=\"url(#clip010)\" d=\"M1356.44 1537.87 Q1355.45 1537.3 1354.27 1537.04 Q1353.13 1536.76 1351.73 1536.76 Q1346.76 1536.76 1344.09 1540 Q1341.45 1543.22 1341.45 1549.27 L1341.45 1568.04 L1335.56 1568.04 L1335.56 1532.4 L1341.45 1532.4 L1341.45 1537.93 Q1343.29 1534.69 1346.25 1533.13 Q1349.21 1531.54 1353.44 1531.54 Q1354.05 1531.54 1354.78 1531.63 Q1355.51 1531.7 1356.4 1531.85 L1356.44 1537.87 Z\" fill=\"#000000\" fill-rule=\"evenodd\" fill-opacity=\"1\" /><path clip-path=\"url(#clip010)\" d=\"M1362.58 1532.4 L1368.44 1532.4 L1368.44 1568.04 L1362.58 1568.04 L1362.58 1532.4 M1362.58 1518.52 L1368.44 1518.52 L1368.44 1525.93 L1362.58 1525.93 L1362.58 1518.52 Z\" fill=\"#000000\" fill-rule=\"evenodd\" fill-opacity=\"1\" /><path clip-path=\"url(#clip010)\" d=\"M1411.18 1548.76 L1411.18 1551.62 L1384.25 1551.62 Q1384.64 1557.67 1387.88 1560.85 Q1391.16 1564 1396.99 1564 Q1400.36 1564 1403.51 1563.17 Q1406.69 1562.35 1409.81 1560.69 L1409.81 1566.23 Q1406.66 1567.57 1403.35 1568.27 Q1400.04 1568.97 1396.64 1568.97 Q1388.11 1568.97 1383.11 1564 Q1378.14 1559.04 1378.14 1550.57 Q1378.14 1541.82 1382.85 1536.69 Q1387.6 1531.54 1395.62 1531.54 Q1402.81 1531.54 1406.98 1536.18 Q1411.18 1540.8 1411.18 1548.76 M1405.33 1547.04 Q1405.26 1542.23 1402.62 1539.37 Q1400.01 1536.5 1395.68 1536.5 Q1390.78 1536.5 1387.82 1539.27 Q1384.89 1542.04 1384.45 1547.07 L1405.33 1547.04 Z\" fill=\"#000000\" fill-rule=\"evenodd\" fill-opacity=\"1\" /><path clip-path=\"url(#clip010)\" d=\"M1443.52 1533.45 L1443.52 1538.98 Q1441.04 1537.71 1438.36 1537.07 Q1435.69 1536.44 1432.83 1536.44 Q1428.46 1536.44 1426.27 1537.77 Q1424.1 1539.11 1424.1 1541.79 Q1424.1 1543.82 1425.66 1545 Q1427.22 1546.15 1431.93 1547.2 L1433.94 1547.64 Q1440.18 1548.98 1442.79 1551.43 Q1445.43 1553.85 1445.43 1558.21 Q1445.43 1563.17 1441.48 1566.07 Q1437.57 1568.97 1430.69 1568.97 Q1427.83 1568.97 1424.71 1568.39 Q1421.62 1567.85 1418.18 1566.74 L1418.18 1560.69 Q1421.43 1562.38 1424.58 1563.24 Q1427.73 1564.07 1430.82 1564.07 Q1434.96 1564.07 1437.19 1562.66 Q1439.41 1561.23 1439.41 1558.65 Q1439.41 1556.27 1437.79 1554.99 Q1436.2 1553.72 1430.76 1552.54 L1428.72 1552.07 Q1423.28 1550.92 1420.86 1548.56 Q1418.44 1546.18 1418.44 1542.04 Q1418.44 1537.01 1422 1534.27 Q1425.57 1531.54 1432.12 1531.54 Q1435.37 1531.54 1438.24 1532.01 Q1441.1 1532.49 1443.52 1533.45 Z\" fill=\"#000000\" fill-rule=\"evenodd\" fill-opacity=\"1\" /><polyline clip-path=\"url(#clip012)\" style=\"stroke:#000000; stroke-linecap:butt; stroke-linejoin:round; stroke-width:2; stroke-opacity:0.1; fill:none\" points=\"\n",
       "  232.389,1384.24 2352.76,1384.24 \n",
       "  \"/>\n",
       "<polyline clip-path=\"url(#clip012)\" style=\"stroke:#000000; stroke-linecap:butt; stroke-linejoin:round; stroke-width:2; stroke-opacity:0.1; fill:none\" points=\"\n",
       "  232.389,1115.68 2352.76,1115.68 \n",
       "  \"/>\n",
       "<polyline clip-path=\"url(#clip012)\" style=\"stroke:#000000; stroke-linecap:butt; stroke-linejoin:round; stroke-width:2; stroke-opacity:0.1; fill:none\" points=\"\n",
       "  232.389,847.113 2352.76,847.113 \n",
       "  \"/>\n",
       "<polyline clip-path=\"url(#clip012)\" style=\"stroke:#000000; stroke-linecap:butt; stroke-linejoin:round; stroke-width:2; stroke-opacity:0.1; fill:none\" points=\"\n",
       "  232.389,578.55 2352.76,578.55 \n",
       "  \"/>\n",
       "<polyline clip-path=\"url(#clip012)\" style=\"stroke:#000000; stroke-linecap:butt; stroke-linejoin:round; stroke-width:2; stroke-opacity:0.1; fill:none\" points=\"\n",
       "  232.389,309.988 2352.76,309.988 \n",
       "  \"/>\n",
       "<polyline clip-path=\"url(#clip010)\" style=\"stroke:#000000; stroke-linecap:butt; stroke-linejoin:round; stroke-width:4; stroke-opacity:1; fill:none\" points=\"\n",
       "  232.389,1423.18 232.389,47.2441 \n",
       "  \"/>\n",
       "<polyline clip-path=\"url(#clip010)\" style=\"stroke:#000000; stroke-linecap:butt; stroke-linejoin:round; stroke-width:4; stroke-opacity:1; fill:none\" points=\"\n",
       "  232.389,1384.24 251.287,1384.24 \n",
       "  \"/>\n",
       "<polyline clip-path=\"url(#clip010)\" style=\"stroke:#000000; stroke-linecap:butt; stroke-linejoin:round; stroke-width:4; stroke-opacity:1; fill:none\" points=\"\n",
       "  232.389,1115.68 251.287,1115.68 \n",
       "  \"/>\n",
       "<polyline clip-path=\"url(#clip010)\" style=\"stroke:#000000; stroke-linecap:butt; stroke-linejoin:round; stroke-width:4; stroke-opacity:1; fill:none\" points=\"\n",
       "  232.389,847.113 251.287,847.113 \n",
       "  \"/>\n",
       "<polyline clip-path=\"url(#clip010)\" style=\"stroke:#000000; stroke-linecap:butt; stroke-linejoin:round; stroke-width:4; stroke-opacity:1; fill:none\" points=\"\n",
       "  232.389,578.55 251.287,578.55 \n",
       "  \"/>\n",
       "<polyline clip-path=\"url(#clip010)\" style=\"stroke:#000000; stroke-linecap:butt; stroke-linejoin:round; stroke-width:4; stroke-opacity:1; fill:none\" points=\"\n",
       "  232.389,309.988 251.287,309.988 \n",
       "  \"/>\n",
       "<path clip-path=\"url(#clip010)\" d=\"M184.445 1370.04 Q180.834 1370.04 179.005 1373.6 Q177.2 1377.14 177.2 1384.27 Q177.2 1391.38 179.005 1394.94 Q180.834 1398.49 184.445 1398.49 Q188.079 1398.49 189.885 1394.94 Q191.713 1391.38 191.713 1384.27 Q191.713 1377.14 189.885 1373.6 Q188.079 1370.04 184.445 1370.04 M184.445 1366.33 Q190.255 1366.33 193.311 1370.94 Q196.389 1375.52 196.389 1384.27 Q196.389 1393 193.311 1397.61 Q190.255 1402.19 184.445 1402.19 Q178.635 1402.19 175.556 1397.61 Q172.501 1393 172.501 1384.27 Q172.501 1375.52 175.556 1370.94 Q178.635 1366.33 184.445 1366.33 Z\" fill=\"#000000\" fill-rule=\"evenodd\" fill-opacity=\"1\" /><path clip-path=\"url(#clip010)\" d=\"M158.45 1114.32 Q161.806 1115.04 163.681 1117.31 Q165.579 1119.58 165.579 1122.91 Q165.579 1128.03 162.061 1130.83 Q158.542 1133.63 152.061 1133.63 Q149.885 1133.63 147.57 1133.19 Q145.279 1132.77 142.825 1131.91 L142.825 1127.4 Q144.769 1128.53 147.084 1129.11 Q149.399 1129.69 151.922 1129.69 Q156.32 1129.69 158.612 1127.96 Q160.927 1126.22 160.927 1122.91 Q160.927 1119.85 158.774 1118.14 Q156.644 1116.4 152.825 1116.4 L148.797 1116.4 L148.797 1112.56 L153.01 1112.56 Q156.459 1112.56 158.288 1111.2 Q160.116 1109.81 160.116 1107.22 Q160.116 1104.55 158.218 1103.14 Q156.343 1101.71 152.825 1101.71 Q150.903 1101.71 148.704 1102.12 Q146.505 1102.54 143.866 1103.42 L143.866 1099.25 Q146.529 1098.51 148.843 1098.14 Q151.181 1097.77 153.241 1097.77 Q158.565 1097.77 161.667 1100.2 Q164.769 1102.61 164.769 1106.73 Q164.769 1109.6 163.126 1111.59 Q161.482 1113.56 158.45 1114.32 Z\" fill=\"#000000\" fill-rule=\"evenodd\" fill-opacity=\"1\" /><path clip-path=\"url(#clip010)\" d=\"M184.445 1101.47 Q180.834 1101.47 179.005 1105.04 Q177.2 1108.58 177.2 1115.71 Q177.2 1122.82 179.005 1126.38 Q180.834 1129.92 184.445 1129.92 Q188.079 1129.92 189.885 1126.38 Q191.713 1122.82 191.713 1115.71 Q191.713 1108.58 189.885 1105.04 Q188.079 1101.47 184.445 1101.47 M184.445 1097.77 Q190.255 1097.77 193.311 1102.38 Q196.389 1106.96 196.389 1115.71 Q196.389 1124.44 193.311 1129.04 Q190.255 1133.63 184.445 1133.63 Q178.635 1133.63 175.556 1129.04 Q172.501 1124.44 172.501 1115.71 Q172.501 1106.96 175.556 1102.38 Q178.635 1097.77 184.445 1097.77 Z\" fill=\"#000000\" fill-rule=\"evenodd\" fill-opacity=\"1\" /><path clip-path=\"url(#clip010)\" d=\"M154.862 845.25 Q151.714 845.25 149.862 847.402 Q148.033 849.555 148.033 853.305 Q148.033 857.032 149.862 859.208 Q151.714 861.361 154.862 861.361 Q158.01 861.361 159.839 859.208 Q161.69 857.032 161.69 853.305 Q161.69 849.555 159.839 847.402 Q158.01 845.25 154.862 845.25 M164.144 830.597 L164.144 834.856 Q162.385 834.023 160.579 833.583 Q158.797 833.143 157.038 833.143 Q152.408 833.143 149.954 836.268 Q147.524 839.393 147.177 845.713 Q148.542 843.699 150.603 842.634 Q152.663 841.546 155.14 841.546 Q160.348 841.546 163.357 844.717 Q166.39 847.865 166.39 853.305 Q166.39 858.629 163.241 861.847 Q160.093 865.064 154.862 865.064 Q148.866 865.064 145.695 860.481 Q142.524 855.875 142.524 847.148 Q142.524 838.953 146.413 834.092 Q150.302 829.208 156.853 829.208 Q158.612 829.208 160.394 829.555 Q162.2 829.902 164.144 830.597 Z\" fill=\"#000000\" fill-rule=\"evenodd\" fill-opacity=\"1\" /><path clip-path=\"url(#clip010)\" d=\"M184.445 832.912 Q180.834 832.912 179.005 836.477 Q177.2 840.018 177.2 847.148 Q177.2 854.254 179.005 857.819 Q180.834 861.361 184.445 861.361 Q188.079 861.361 189.885 857.819 Q191.713 854.254 191.713 847.148 Q191.713 840.018 189.885 836.477 Q188.079 832.912 184.445 832.912 M184.445 829.208 Q190.255 829.208 193.311 833.815 Q196.389 838.398 196.389 847.148 Q196.389 855.875 193.311 860.481 Q190.255 865.064 184.445 865.064 Q178.635 865.064 175.556 860.481 Q172.501 855.875 172.501 847.148 Q172.501 838.398 175.556 833.815 Q178.635 829.208 184.445 829.208 Z\" fill=\"#000000\" fill-rule=\"evenodd\" fill-opacity=\"1\" /><path clip-path=\"url(#clip010)\" d=\"M144.422 595.113 L144.422 590.854 Q146.181 591.687 147.987 592.127 Q149.792 592.567 151.528 592.567 Q156.158 592.567 158.589 589.465 Q161.042 586.34 161.39 579.997 Q160.047 581.988 157.987 583.053 Q155.927 584.118 153.427 584.118 Q148.241 584.118 145.209 580.993 Q142.2 577.844 142.2 572.405 Q142.2 567.081 145.348 563.863 Q148.496 560.645 153.728 560.645 Q159.723 560.645 162.871 565.252 Q166.042 569.835 166.042 578.585 Q166.042 586.756 162.153 591.641 Q158.288 596.502 151.737 596.502 Q149.978 596.502 148.172 596.155 Q146.366 595.807 144.422 595.113 M153.728 580.46 Q156.876 580.46 158.704 578.307 Q160.556 576.155 160.556 572.405 Q160.556 568.678 158.704 566.525 Q156.876 564.349 153.728 564.349 Q150.579 564.349 148.728 566.525 Q146.899 568.678 146.899 572.405 Q146.899 576.155 148.728 578.307 Q150.579 580.46 153.728 580.46 Z\" fill=\"#000000\" fill-rule=\"evenodd\" fill-opacity=\"1\" /><path clip-path=\"url(#clip010)\" d=\"M184.445 564.349 Q180.834 564.349 179.005 567.914 Q177.2 571.456 177.2 578.585 Q177.2 585.692 179.005 589.256 Q180.834 592.798 184.445 592.798 Q188.079 592.798 189.885 589.256 Q191.713 585.692 191.713 578.585 Q191.713 571.456 189.885 567.914 Q188.079 564.349 184.445 564.349 M184.445 560.645 Q190.255 560.645 193.311 565.252 Q196.389 569.835 196.389 578.585 Q196.389 587.312 193.311 591.918 Q190.255 596.502 184.445 596.502 Q178.635 596.502 175.556 591.918 Q172.501 587.312 172.501 578.585 Q172.501 569.835 175.556 565.252 Q178.635 560.645 184.445 560.645 Z\" fill=\"#000000\" fill-rule=\"evenodd\" fill-opacity=\"1\" /><path clip-path=\"url(#clip010)\" d=\"M114.931 323.333 L122.57 323.333 L122.57 296.967 L114.26 298.634 L114.26 294.375 L122.524 292.708 L127.2 292.708 L127.2 323.333 L134.839 323.333 L134.839 327.268 L114.931 327.268 L114.931 323.333 Z\" fill=\"#000000\" fill-rule=\"evenodd\" fill-opacity=\"1\" /><path clip-path=\"url(#clip010)\" d=\"M148.311 323.333 L164.63 323.333 L164.63 327.268 L142.686 327.268 L142.686 323.333 Q145.348 320.578 149.931 315.948 Q154.538 311.296 155.718 309.953 Q157.964 307.43 158.843 305.694 Q159.746 303.935 159.746 302.245 Q159.746 299.49 157.802 297.754 Q155.88 296.018 152.778 296.018 Q150.579 296.018 148.126 296.782 Q145.695 297.546 142.917 299.097 L142.917 294.375 Q145.741 293.24 148.195 292.662 Q150.649 292.083 152.686 292.083 Q158.056 292.083 161.251 294.768 Q164.445 297.453 164.445 301.944 Q164.445 304.074 163.635 305.995 Q162.848 307.893 160.741 310.486 Q160.163 311.157 157.061 314.374 Q153.959 317.569 148.311 323.333 Z\" fill=\"#000000\" fill-rule=\"evenodd\" fill-opacity=\"1\" /><path clip-path=\"url(#clip010)\" d=\"M184.445 295.787 Q180.834 295.787 179.005 299.351 Q177.2 302.893 177.2 310.023 Q177.2 317.129 179.005 320.694 Q180.834 324.235 184.445 324.235 Q188.079 324.235 189.885 320.694 Q191.713 317.129 191.713 310.023 Q191.713 302.893 189.885 299.351 Q188.079 295.787 184.445 295.787 M184.445 292.083 Q190.255 292.083 193.311 296.689 Q196.389 301.273 196.389 310.023 Q196.389 318.749 193.311 323.356 Q190.255 327.939 184.445 327.939 Q178.635 327.939 175.556 323.356 Q172.501 318.749 172.501 310.023 Q172.501 301.273 175.556 296.689 Q178.635 292.083 184.445 292.083 Z\" fill=\"#000000\" fill-rule=\"evenodd\" fill-opacity=\"1\" /><path clip-path=\"url(#clip010)\" d=\"M20.1444 791.071 L26.9239 791.071 Q23.9002 794.318 22.4043 798.01 Q20.9083 801.67 20.9083 805.808 Q20.9083 813.956 25.9054 818.284 Q30.8707 822.613 40.2919 822.613 Q49.6813 822.613 54.6784 818.284 Q59.6436 813.956 59.6436 805.808 Q59.6436 801.67 58.1477 798.01 Q56.6518 794.318 53.6281 791.071 L60.3439 791.071 Q62.6355 794.445 63.7814 798.232 Q64.9272 801.988 64.9272 806.19 Q64.9272 816.979 58.3387 823.186 Q51.7183 829.393 40.2919 829.393 Q28.8336 829.393 22.2451 823.186 Q15.6248 816.979 15.6248 806.19 Q15.6248 801.925 16.7706 798.169 Q17.8846 794.381 20.1444 791.071 Z\" fill=\"#000000\" fill-rule=\"evenodd\" fill-opacity=\"1\" /><path clip-path=\"url(#clip010)\" d=\"M32.4621 767.582 Q32.4621 772.292 36.1542 775.029 Q39.8145 777.767 46.212 777.767 Q52.6095 777.767 56.3017 775.061 Q59.9619 772.324 59.9619 767.582 Q59.9619 762.903 56.2698 760.166 Q52.5777 757.428 46.212 757.428 Q39.8781 757.428 36.186 760.166 Q32.4621 762.903 32.4621 767.582 M27.4968 767.582 Q27.4968 759.943 32.4621 755.582 Q37.4273 751.222 46.212 751.222 Q54.9649 751.222 59.9619 755.582 Q64.9272 759.943 64.9272 767.582 Q64.9272 775.252 59.9619 779.613 Q54.9649 783.941 46.212 783.941 Q37.4273 783.941 32.4621 779.613 Q27.4968 775.252 27.4968 767.582 Z\" fill=\"#000000\" fill-rule=\"evenodd\" fill-opacity=\"1\" /><path clip-path=\"url(#clip010)\" d=\"M49.9359 742.119 L28.3562 742.119 L28.3562 736.262 L49.7131 736.262 Q54.7739 736.262 57.3202 734.289 Q59.8346 732.316 59.8346 728.369 Q59.8346 723.626 56.8109 720.889 Q53.7872 718.12 48.5673 718.12 L28.3562 718.12 L28.3562 712.264 L64.0042 712.264 L64.0042 718.12 L58.5296 718.12 Q61.7762 720.253 63.3676 723.085 Q64.9272 725.886 64.9272 729.61 Q64.9272 735.753 61.1078 738.936 Q57.2883 742.119 49.9359 742.119 M27.4968 727.382 L27.4968 727.382 Z\" fill=\"#000000\" fill-rule=\"evenodd\" fill-opacity=\"1\" /><path clip-path=\"url(#clip010)\" d=\"M42.4881 670.568 L64.0042 670.568 L64.0042 676.425 L42.679 676.425 Q37.6183 676.425 35.1038 678.398 Q32.5894 680.371 32.5894 684.318 Q32.5894 689.061 35.6131 691.798 Q38.6368 694.535 43.8567 694.535 L64.0042 694.535 L64.0042 700.423 L28.3562 700.423 L28.3562 694.535 L33.8944 694.535 Q30.6797 692.434 29.0883 689.602 Q27.4968 686.737 27.4968 683.013 Q27.4968 676.87 31.3163 673.719 Q35.1038 670.568 42.4881 670.568 Z\" fill=\"#000000\" fill-rule=\"evenodd\" fill-opacity=\"1\" /><path clip-path=\"url(#clip010)\" d=\"M18.2347 653.094 L28.3562 653.094 L28.3562 641.031 L32.9077 641.031 L32.9077 653.094 L52.2594 653.094 Q56.6199 653.094 57.8613 651.917 Q59.1026 650.707 59.1026 647.047 L59.1026 641.031 L64.0042 641.031 L64.0042 647.047 Q64.0042 653.826 61.4897 656.405 Q58.9434 658.983 52.2594 658.983 L32.9077 658.983 L32.9077 663.279 L28.3562 663.279 L28.3562 658.983 L18.2347 658.983 L18.2347 653.094 Z\" fill=\"#000000\" fill-rule=\"evenodd\" fill-opacity=\"1\" /><path clip-path=\"url(#clip012)\" d=\"\n",
       "M349.013 86.1857 L349.013 1384.24 L888.19 1384.24 L888.19 86.1857 L349.013 86.1857 L349.013 86.1857  Z\n",
       "  \" fill=\"#009af9\" fill-rule=\"evenodd\" fill-opacity=\"1\"/>\n",
       "<polyline clip-path=\"url(#clip012)\" style=\"stroke:#000000; stroke-linecap:butt; stroke-linejoin:round; stroke-width:4; stroke-opacity:1; fill:none\" points=\"\n",
       "  349.013,86.1857 349.013,1384.24 888.19,1384.24 888.19,86.1857 349.013,86.1857 \n",
       "  \"/>\n",
       "<path clip-path=\"url(#clip012)\" d=\"\n",
       "M1022.98 865.017 L1022.98 1384.24 L1562.16 1384.24 L1562.16 865.017 L1022.98 865.017 L1022.98 865.017  Z\n",
       "  \" fill=\"#009af9\" fill-rule=\"evenodd\" fill-opacity=\"1\"/>\n",
       "<polyline clip-path=\"url(#clip012)\" style=\"stroke:#000000; stroke-linecap:butt; stroke-linejoin:round; stroke-width:4; stroke-opacity:1; fill:none\" points=\"\n",
       "  1022.98,865.017 1022.98,1384.24 1562.16,1384.24 1562.16,865.017 1022.98,865.017 \n",
       "  \"/>\n",
       "<path clip-path=\"url(#clip012)\" d=\"\n",
       "M1696.96 148.85 L1696.96 1384.24 L2236.13 1384.24 L2236.13 148.85 L1696.96 148.85 L1696.96 148.85  Z\n",
       "  \" fill=\"#009af9\" fill-rule=\"evenodd\" fill-opacity=\"1\"/>\n",
       "<polyline clip-path=\"url(#clip012)\" style=\"stroke:#000000; stroke-linecap:butt; stroke-linejoin:round; stroke-width:4; stroke-opacity:1; fill:none\" points=\"\n",
       "  1696.96,148.85 1696.96,1384.24 2236.13,1384.24 2236.13,148.85 1696.96,148.85 \n",
       "  \"/>\n",
       "<circle clip-path=\"url(#clip012)\" style=\"fill:#009af9; stroke:none; fill-opacity:0\" cx=\"618.602\" cy=\"86.1857\" r=\"2\"/>\n",
       "<circle clip-path=\"url(#clip012)\" style=\"fill:#009af9; stroke:none; fill-opacity:0\" cx=\"1292.57\" cy=\"865.017\" r=\"2\"/>\n",
       "<circle clip-path=\"url(#clip012)\" style=\"fill:#009af9; stroke:none; fill-opacity:0\" cx=\"1966.54\" cy=\"148.85\" r=\"2\"/>\n",
       "<path clip-path=\"url(#clip010)\" d=\"\n",
       "M1994.05 196.789 L2282.08 196.789 L2282.08 93.1086 L1994.05 93.1086  Z\n",
       "  \" fill=\"#ffffff\" fill-rule=\"evenodd\" fill-opacity=\"1\"/>\n",
       "<polyline clip-path=\"url(#clip010)\" style=\"stroke:#000000; stroke-linecap:butt; stroke-linejoin:round; stroke-width:4; stroke-opacity:1; fill:none\" points=\"\n",
       "  1994.05,196.789 2282.08,196.789 2282.08,93.1086 1994.05,93.1086 1994.05,196.789 \n",
       "  \"/>\n",
       "<path clip-path=\"url(#clip010)\" d=\"\n",
       "M2017.61 165.685 L2158.97 165.685 L2158.97 124.213 L2017.61 124.213 L2017.61 165.685  Z\n",
       "  \" fill=\"#009af9\" fill-rule=\"evenodd\" fill-opacity=\"1\"/>\n",
       "<polyline clip-path=\"url(#clip010)\" style=\"stroke:#000000; stroke-linecap:butt; stroke-linejoin:round; stroke-width:4; stroke-opacity:1; fill:none\" points=\"\n",
       "  2017.61,165.685 2158.97,165.685 2158.97,124.213 2017.61,124.213 2017.61,165.685 \n",
       "  \"/>\n",
       "<path clip-path=\"url(#clip010)\" d=\"M2196.37 164.636 Q2194.56 169.266 2192.85 170.678 Q2191.14 172.09 2188.27 172.09 L2184.87 172.09 L2184.87 168.525 L2187.37 168.525 Q2189.12 168.525 2190.1 167.692 Q2191.07 166.858 2192.25 163.756 L2193.01 161.812 L2182.53 136.303 L2187.04 136.303 L2195.14 156.581 L2203.24 136.303 L2207.76 136.303 L2196.37 164.636 Z\" fill=\"#000000\" fill-rule=\"evenodd\" fill-opacity=\"1\" /><path clip-path=\"url(#clip010)\" d=\"M2215.05 158.293 L2222.69 158.293 L2222.69 131.928 L2214.38 133.595 L2214.38 129.335 L2222.64 127.669 L2227.32 127.669 L2227.32 158.293 L2234.96 158.293 L2234.96 162.229 L2215.05 162.229 L2215.05 158.293 Z\" fill=\"#000000\" fill-rule=\"evenodd\" fill-opacity=\"1\" /></svg>\n"
      ]
     },
     "execution_count": 126,
     "metadata": {},
     "output_type": "execute_result"
    }
   ],
   "source": [
    "using Plots\n",
    "p = bar(df[!,:Country],df[!,:count])\n",
    "ylabel!(\"Count\")\n",
    "xlabel!(\"Countries\")\n",
    "\n"
   ]
  },
  {
   "cell_type": "code",
   "execution_count": null,
   "metadata": {},
   "outputs": [],
   "source": []
  },
  {
   "cell_type": "code",
   "execution_count": 127,
   "metadata": {},
   "outputs": [
    {
     "name": "stdout",
     "output_type": "stream",
     "text": [
      "Unknown\n",
      "BE0775755025\n",
      "BE0725470720\n",
      "BE0776625055\n",
      "BE0753524209\n",
      "BE0729909558\n",
      "BE0776625055\n",
      "Unknown\n",
      "BE0775755025\n",
      "BE0725470720\n",
      "BE0776625055\n",
      "BE0753524209\n",
      "BE0729909558\n",
      "BE0776625055\n",
      "Unknown\n",
      "BE0775755025\n",
      "BE0725470720\n",
      "BE0776625055\n",
      "BE0753524209\n",
      "BE0729909558\n",
      "BE0776625055\n",
      "Unknown\n",
      "BE0775755025\n",
      "BE0725470720\n",
      "BE0776625055\n",
      "BE0753524209\n",
      "BE0729909558\n",
      "BE0776625055\n",
      "Unknown\n",
      "BE0775755025\n",
      "BE0725470720\n",
      "BE0776625055\n",
      "BE0753524209\n",
      "BE0729909558\n",
      "BE0776625055\n",
      "Unknown\n",
      "BE0775755025\n",
      "BE0725470720\n",
      "BE0776625055\n",
      "BE0753524209\n",
      "BE0729909558\n",
      "BE0776625055\n",
      "Unknown\n",
      "BE0775755025\n",
      "BE0725470720\n",
      "BE0776625055\n",
      "BE0753524209\n",
      "BE0729909558\n",
      "BE0776625055\n",
      "Unknown\n",
      "BE0775755025\n",
      "BE0725470720\n",
      "BE0776625055\n",
      "BE0753524209\n",
      "BE0729909558\n",
      "BE0776625055\n",
      "Unknown\n",
      "BE0775755025\n",
      "BE0725470720\n",
      "BE0776625055\n",
      "BE0753524209\n",
      "BE0729909558\n",
      "BE0776625055\n",
      "Unknown\n",
      "BE0775755025\n",
      "BE0725470720\n",
      "BE0776625055\n",
      "BE0753524209\n",
      "BE0729909558\n",
      "BE0776625055\n",
      "Unknown\n",
      "BE0775755025\n",
      "BE0725470720\n",
      "BE0776625055\n",
      "BE0753524209\n",
      "BE0729909558\n",
      "BE0776625055\n",
      "Unknown\n",
      "BE0775755025\n",
      "BE0725470720\n",
      "BE0776625055\n",
      "BE0753524209\n",
      "BE0729909558\n",
      "BE0776625055\n",
      "Unknown\n",
      "BE0775755025\n",
      "BE0725470720\n",
      "BE0776625055\n",
      "BE0753524209\n",
      "BE0729909558\n",
      "BE0776625055\n",
      "Unknown\n",
      "BE0775755025\n",
      "BE0725470720\n",
      "BE0776625055\n",
      "BE0753524209\n",
      "BE0729909558\n",
      "BE0776625055\n",
      "Unknown\n",
      "BE0775755025\n",
      "BE0725470720\n",
      "BE0776625055\n",
      "BE0753524209\n",
      "BE0729909558\n",
      "BE0776625055\n",
      "Unknown\n",
      "BE0775755025\n",
      "BE0725470720\n",
      "BE0776625055\n",
      "BE0753524209\n",
      "BE0729909558\n",
      "BE0776625055\n",
      "Unknown\n",
      "BE0775755025\n",
      "BE0725470720\n",
      "BE0776625055\n",
      "BE0753524209\n",
      "BE0729909558\n",
      "BE0776625055\n",
      "Unknown\n",
      "BE0775755025\n",
      "BE0725470720\n",
      "BE0776625055\n",
      "BE0753524209\n",
      "BE0729909558\n",
      "BE0776625055\n",
      "Unknown\n",
      "BE0775755025\n",
      "BE0725470720\n",
      "BE0776625055\n",
      "BE0753524209\n",
      "BE0729909558\n",
      "BE0776625055\n",
      "Unknown\n",
      "BE0775755025\n",
      "BE0725470720\n",
      "BE0776625055\n",
      "BE0753524209\n",
      "BE0729909558\n",
      "BE0776625055\n",
      "Unknown\n",
      "BE0775755025\n",
      "BE0725470720\n",
      "BE0776625055\n",
      "BE0753524209\n",
      "BE0729909558\n",
      "BE0776625055\n",
      "Unknown\n",
      "BE0775755025\n",
      "BE0725470720\n",
      "BE0776625055\n",
      "BE0753524209\n",
      "BE0729909558\n",
      "BE0776625055\n",
      "Unknown\n",
      "BE0775755025\n",
      "BE0725470720\n",
      "BE0776625055\n",
      "BE0753524209\n",
      "BE0729909558\n",
      "BE0776625055\n",
      "Unknown\n",
      "BE0775755025\n",
      "BE0725470720\n",
      "BE0776625055\n",
      "BE0753524209\n",
      "BE0729909558\n",
      "BE0776625055\n",
      "Unknown\n",
      "BE0775755025\n",
      "BE0725470720\n",
      "BE0776625055\n",
      "BE0753524209\n",
      "BE0729909558\n",
      "BE0776625055\n",
      "Unknown\n",
      "BE0775755025\n",
      "BE0725470720\n",
      "BE0776625055\n",
      "BE0753524209\n",
      "BE0729909558\n",
      "BE0776625055\n",
      "Unknown\n",
      "BE0775755025\n",
      "BE0725470720\n",
      "BE0776625055\n",
      "BE0753524209\n",
      "BE0729909558\n",
      "BE0776625055\n",
      "Unknown\n",
      "BE0775755025\n",
      "BE0725470720\n",
      "BE0776625055\n",
      "BE0753524209\n",
      "BE0729909558\n",
      "BE0776625055\n",
      "Unknown\n",
      "BE0775755025\n",
      "BE0725470720\n",
      "BE0776625055\n",
      "BE0753524209\n",
      "BE0729909558\n",
      "BE0776625055\n",
      "FR4847220377\n",
      "FR4847220373\n",
      "FR4847260373\n",
      "FR424750077\n"
     ]
    },
    {
     "ename": "LoadError",
     "evalue": "BoundsError: attempt to access 11-codeunit String at index [4:12]",
     "output_type": "error",
     "traceback": [
      "BoundsError: attempt to access 11-codeunit String at index [4:12]",
      "",
      "Stacktrace:",
      " [1] checkbounds",
      "   @ ./strings/basic.jl:216 [inlined]",
      " [2] SubString{String}(s::String, i::Int64, j::Int64)",
      "   @ Base ./strings/substring.jl:30",
      " [3] SubString(s::String, i::Int64, j::Int64)",
      "   @ Base ./strings/substring.jl:38",
      " [4] top-level scope",
      "   @ ./In[127]:5",
      " [5] eval",
      "   @ ./boot.jl:373 [inlined]",
      " [6] include_string(mapexpr::typeof(REPL.softscope), mod::Module, code::String, filename::String)",
      "   @ Base ./loading.jl:1196"
     ]
    }
   ],
   "source": [
    "VAT=[]\n",
    "for i in values(dataset[!,\"VAT\"])\n",
    "    println(i)\n",
    "    if i != \"Unknown\"\n",
    "        push!(VAT,SubString(i, 4, 12))\n",
    "    end\n",
    "end"
   ]
  },
  {
   "cell_type": "code",
   "execution_count": 128,
   "metadata": {},
   "outputs": [
    {
     "data": {
      "text/plain": [
       "177-element Vector{Any}:\n",
       " \"775755025\"\n",
       " \"725470720\"\n",
       " \"776625055\"\n",
       " \"753524209\"\n",
       " \"729909558\"\n",
       " \"776625055\"\n",
       " \"775755025\"\n",
       " \"725470720\"\n",
       " \"776625055\"\n",
       " \"753524209\"\n",
       " \"729909558\"\n",
       " \"776625055\"\n",
       " \"775755025\"\n",
       " ⋮\n",
       " \"753524209\"\n",
       " \"729909558\"\n",
       " \"776625055\"\n",
       " \"775755025\"\n",
       " \"725470720\"\n",
       " \"776625055\"\n",
       " \"753524209\"\n",
       " \"729909558\"\n",
       " \"776625055\"\n",
       " \"847220377\"\n",
       " \"847220373\"\n",
       " \"847260373\""
      ]
     },
     "execution_count": 128,
     "metadata": {},
     "output_type": "execute_result"
    }
   ],
   "source": [
    "VAT"
   ]
  },
  {
   "cell_type": "code",
   "execution_count": 129,
   "metadata": {},
   "outputs": [
    {
     "data": {
      "text/html": [
       "<div class=\"data-frame\"><p>0 rows × 6 columns</p><table class=\"data-frame\"><thead><tr><th></th><th>Name</th><th>VAT</th><th>Creation_Date</th><th>Address</th><th>Function</th><th>Sector</th></tr><tr><th></th><th title=\"Any\">Any</th><th title=\"Any\">Any</th><th title=\"Any\">Any</th><th title=\"Any\">Any</th><th title=\"Any\">Any</th><th title=\"Any\">Any</th></tr></thead><tbody></tbody></table></div>"
      ],
      "text/latex": [
       "\\begin{tabular}{r|cccccc}\n",
       "\t& Name & VAT & Creation\\_Date & Address & Function & Sector\\\\\n",
       "\t\\hline\n",
       "\t& Any & Any & Any & Any & Any & Any\\\\\n",
       "\t\\hline\n",
       "\\end{tabular}\n"
      ],
      "text/plain": [
       "\u001b[1m0×6 DataFrame\u001b[0m"
      ]
     },
     "execution_count": 129,
     "metadata": {},
     "output_type": "execute_result"
    }
   ],
   "source": [
    "BTW_gegevens_uitgaande_facturen = DataFrame(\n",
    "  Name=[] ,\n",
    "  VAT=[],\n",
    "  Creation_Date=[],\n",
    "  Address=[],\n",
    "  Function=[],\n",
    "  Sector=[]\n",
    ")"
   ]
  },
  {
   "cell_type": "markdown",
   "metadata": {},
   "source": [
    "# SCRAPING"
   ]
  },
  {
   "cell_type": "code",
   "execution_count": 130,
   "metadata": {},
   "outputs": [
    {
     "ename": "LoadError",
     "evalue": "BoundsError: attempt to access 2-element Vector{HTMLNode} at index [3]",
     "output_type": "error",
     "traceback": [
      "BoundsError: attempt to access 2-element Vector{HTMLNode} at index [3]",
      "",
      "Stacktrace:",
      " [1] getindex",
      "   @ ./array.jl:861 [inlined]",
      " [2] getindex(elem::HTMLElement{:main}, i::Int64)",
      "   @ Gumbo ~/.julia/packages/Gumbo/aBmWO/src/manipulation.jl:31",
      " [3] top-level scope",
      "   @ ./In[130]:6",
      " [4] eval",
      "   @ ./boot.jl:373 [inlined]",
      " [5] include_string(mapexpr::typeof(REPL.softscope), mod::Module, code::String, filename::String)",
      "   @ Base ./loading.jl:1196"
     ]
    }
   ],
   "source": [
    "for i in values(VAT)\n",
    "    url=\"https://trendstop.knack.be/nl/detail/$i\"\n",
    "    r=HTTP.get(url)\n",
    "    h= parsehtml(String(r.body))\n",
    "    body=h.root[2]\n",
    "    html=body[1][6][3][2][2][2][1][1][1]\n",
    "    BTW_nr=html[1][1][1][2][1].text\n",
    "    BTW_nr=replace.(BTW_nr, r\"\\n\"=>\"\")\n",
    "    BTW_nr=replace.(BTW_nr, r\" \"=>\"\")\n",
    "    Adres=html[1][1][2][2][1][1].text\n",
    "    Adres=replace.(Adres, r\"\\n\"=>\"\")\n",
    "    if Adres==\"Niet publiek zichtbaar omwille van de persoonlijke levenssfeer\"\n",
    "        Adres=html[1][1][2][2][2][1].text\n",
    "    end\n",
    "    Naam=html[1][1][4][2][1][1].text\n",
    "    Rechtsvorm=html[1][1][5][2][1].text\n",
    "    Rechtsvorm=replace.(Rechtsvorm, r\"\\n\"=>\"\")\n",
    "    Rechtsvorm=replace.(Rechtsvorm, r\" \"=>\"\")\n",
    "    Oprichtingsdatum=html[1][1][7][2][1].text\n",
    "    Oprichtingsdatum=replace.(Oprichtingsdatum, r\"\\n\"=>\"\")\n",
    "    Oprichtingsdatum=replace.(Oprichtingsdatum, r\" \"=>\"\")\n",
    "    Sector=html[2][1][2][2][1][1].text\n",
    "    push!(BTW_gegevens_uitgaande_facturen,[Naam,BTW_nr,Oprichtingsdatum,Adres,Rechtsvorm,Sector])\n",
    "end"
   ]
  },
  {
   "cell_type": "code",
   "execution_count": 131,
   "metadata": {},
   "outputs": [
    {
     "data": {
      "text/html": [
       "<div class=\"data-frame\"><p>174 rows × 6 columns (omitted printing of 1 columns)</p><table class=\"data-frame\"><thead><tr><th></th><th>Name</th><th>VAT</th><th>Creation_Date</th><th>Address</th><th>Function</th></tr><tr><th></th><th title=\"Any\">Any</th><th title=\"Any\">Any</th><th title=\"Any\">Any</th><th title=\"Any\">Any</th><th title=\"Any\">Any</th></tr></thead><tbody><tr><th>1</th><td>BRIDOUX SIEBE</td><td>BE0775.755.025</td><td>18/10/2021</td><td>8760 MEULEBEKE</td><td>Zelfstandige,handwerksman-fysischepersoon</td></tr><tr><th>2</th><td>GROOTAERD LENNERT</td><td>BE0725.470.720</td><td>17/04/2019</td><td>8680 KOEKELARE</td><td>Zelfstandige,handwerksman-fysischepersoon</td></tr><tr><th>3</th><td>LACUS</td><td>BE0776.625.055</td><td>27/10/2021</td><td>Jan-Baptiste Davidstr 1</td><td>Beslotenvennootschap</td></tr><tr><th>4</th><td>VAN WELDEN VITAL</td><td>BE0753.524.209</td><td>1/08/2020</td><td>8552 MOEN</td><td>Zelfstandige,handwerksman-fysischepersoon</td></tr><tr><th>5</th><td>CORNELIS CASPER</td><td>BE0729.909.558</td><td>8/07/2019</td><td>9790 OOIKE</td><td>Zelfstandige,handwerksman-fysischepersoon</td></tr><tr><th>6</th><td>LACUS</td><td>BE0776.625.055</td><td>27/10/2021</td><td>Jan-Baptiste Davidstr 1</td><td>Beslotenvennootschap</td></tr><tr><th>7</th><td>BRIDOUX SIEBE</td><td>BE0775.755.025</td><td>18/10/2021</td><td>8760 MEULEBEKE</td><td>Zelfstandige,handwerksman-fysischepersoon</td></tr><tr><th>8</th><td>GROOTAERD LENNERT</td><td>BE0725.470.720</td><td>17/04/2019</td><td>8680 KOEKELARE</td><td>Zelfstandige,handwerksman-fysischepersoon</td></tr><tr><th>9</th><td>LACUS</td><td>BE0776.625.055</td><td>27/10/2021</td><td>Jan-Baptiste Davidstr 1</td><td>Beslotenvennootschap</td></tr><tr><th>10</th><td>VAN WELDEN VITAL</td><td>BE0753.524.209</td><td>1/08/2020</td><td>8552 MOEN</td><td>Zelfstandige,handwerksman-fysischepersoon</td></tr><tr><th>11</th><td>CORNELIS CASPER</td><td>BE0729.909.558</td><td>8/07/2019</td><td>9790 OOIKE</td><td>Zelfstandige,handwerksman-fysischepersoon</td></tr><tr><th>12</th><td>LACUS</td><td>BE0776.625.055</td><td>27/10/2021</td><td>Jan-Baptiste Davidstr 1</td><td>Beslotenvennootschap</td></tr><tr><th>13</th><td>BRIDOUX SIEBE</td><td>BE0775.755.025</td><td>18/10/2021</td><td>8760 MEULEBEKE</td><td>Zelfstandige,handwerksman-fysischepersoon</td></tr><tr><th>14</th><td>GROOTAERD LENNERT</td><td>BE0725.470.720</td><td>17/04/2019</td><td>8680 KOEKELARE</td><td>Zelfstandige,handwerksman-fysischepersoon</td></tr><tr><th>15</th><td>LACUS</td><td>BE0776.625.055</td><td>27/10/2021</td><td>Jan-Baptiste Davidstr 1</td><td>Beslotenvennootschap</td></tr><tr><th>16</th><td>VAN WELDEN VITAL</td><td>BE0753.524.209</td><td>1/08/2020</td><td>8552 MOEN</td><td>Zelfstandige,handwerksman-fysischepersoon</td></tr><tr><th>17</th><td>CORNELIS CASPER</td><td>BE0729.909.558</td><td>8/07/2019</td><td>9790 OOIKE</td><td>Zelfstandige,handwerksman-fysischepersoon</td></tr><tr><th>18</th><td>LACUS</td><td>BE0776.625.055</td><td>27/10/2021</td><td>Jan-Baptiste Davidstr 1</td><td>Beslotenvennootschap</td></tr><tr><th>19</th><td>BRIDOUX SIEBE</td><td>BE0775.755.025</td><td>18/10/2021</td><td>8760 MEULEBEKE</td><td>Zelfstandige,handwerksman-fysischepersoon</td></tr><tr><th>20</th><td>GROOTAERD LENNERT</td><td>BE0725.470.720</td><td>17/04/2019</td><td>8680 KOEKELARE</td><td>Zelfstandige,handwerksman-fysischepersoon</td></tr><tr><th>21</th><td>LACUS</td><td>BE0776.625.055</td><td>27/10/2021</td><td>Jan-Baptiste Davidstr 1</td><td>Beslotenvennootschap</td></tr><tr><th>22</th><td>VAN WELDEN VITAL</td><td>BE0753.524.209</td><td>1/08/2020</td><td>8552 MOEN</td><td>Zelfstandige,handwerksman-fysischepersoon</td></tr><tr><th>23</th><td>CORNELIS CASPER</td><td>BE0729.909.558</td><td>8/07/2019</td><td>9790 OOIKE</td><td>Zelfstandige,handwerksman-fysischepersoon</td></tr><tr><th>24</th><td>LACUS</td><td>BE0776.625.055</td><td>27/10/2021</td><td>Jan-Baptiste Davidstr 1</td><td>Beslotenvennootschap</td></tr><tr><th>25</th><td>BRIDOUX SIEBE</td><td>BE0775.755.025</td><td>18/10/2021</td><td>8760 MEULEBEKE</td><td>Zelfstandige,handwerksman-fysischepersoon</td></tr><tr><th>26</th><td>GROOTAERD LENNERT</td><td>BE0725.470.720</td><td>17/04/2019</td><td>8680 KOEKELARE</td><td>Zelfstandige,handwerksman-fysischepersoon</td></tr><tr><th>27</th><td>LACUS</td><td>BE0776.625.055</td><td>27/10/2021</td><td>Jan-Baptiste Davidstr 1</td><td>Beslotenvennootschap</td></tr><tr><th>28</th><td>VAN WELDEN VITAL</td><td>BE0753.524.209</td><td>1/08/2020</td><td>8552 MOEN</td><td>Zelfstandige,handwerksman-fysischepersoon</td></tr><tr><th>29</th><td>CORNELIS CASPER</td><td>BE0729.909.558</td><td>8/07/2019</td><td>9790 OOIKE</td><td>Zelfstandige,handwerksman-fysischepersoon</td></tr><tr><th>30</th><td>LACUS</td><td>BE0776.625.055</td><td>27/10/2021</td><td>Jan-Baptiste Davidstr 1</td><td>Beslotenvennootschap</td></tr><tr><th>&vellip;</th><td>&vellip;</td><td>&vellip;</td><td>&vellip;</td><td>&vellip;</td><td>&vellip;</td></tr></tbody></table></div>"
      ],
      "text/latex": [
       "\\begin{tabular}{r|cccccc}\n",
       "\t& Name & VAT & Creation\\_Date & Address & Function & \\\\\n",
       "\t\\hline\n",
       "\t& Any & Any & Any & Any & Any & \\\\\n",
       "\t\\hline\n",
       "\t1 & BRIDOUX SIEBE & BE0775.755.025 & 18/10/2021 & 8760 MEULEBEKE & Zelfstandige,handwerksman-fysischepersoon & $\\dots$ \\\\\n",
       "\t2 & GROOTAERD LENNERT & BE0725.470.720 & 17/04/2019 & 8680 KOEKELARE & Zelfstandige,handwerksman-fysischepersoon & $\\dots$ \\\\\n",
       "\t3 & LACUS & BE0776.625.055 & 27/10/2021 & Jan-Baptiste Davidstr 1 & Beslotenvennootschap & $\\dots$ \\\\\n",
       "\t4 & VAN WELDEN VITAL & BE0753.524.209 & 1/08/2020 & 8552 MOEN & Zelfstandige,handwerksman-fysischepersoon & $\\dots$ \\\\\n",
       "\t5 & CORNELIS CASPER & BE0729.909.558 & 8/07/2019 & 9790 OOIKE & Zelfstandige,handwerksman-fysischepersoon & $\\dots$ \\\\\n",
       "\t6 & LACUS & BE0776.625.055 & 27/10/2021 & Jan-Baptiste Davidstr 1 & Beslotenvennootschap & $\\dots$ \\\\\n",
       "\t7 & BRIDOUX SIEBE & BE0775.755.025 & 18/10/2021 & 8760 MEULEBEKE & Zelfstandige,handwerksman-fysischepersoon & $\\dots$ \\\\\n",
       "\t8 & GROOTAERD LENNERT & BE0725.470.720 & 17/04/2019 & 8680 KOEKELARE & Zelfstandige,handwerksman-fysischepersoon & $\\dots$ \\\\\n",
       "\t9 & LACUS & BE0776.625.055 & 27/10/2021 & Jan-Baptiste Davidstr 1 & Beslotenvennootschap & $\\dots$ \\\\\n",
       "\t10 & VAN WELDEN VITAL & BE0753.524.209 & 1/08/2020 & 8552 MOEN & Zelfstandige,handwerksman-fysischepersoon & $\\dots$ \\\\\n",
       "\t11 & CORNELIS CASPER & BE0729.909.558 & 8/07/2019 & 9790 OOIKE & Zelfstandige,handwerksman-fysischepersoon & $\\dots$ \\\\\n",
       "\t12 & LACUS & BE0776.625.055 & 27/10/2021 & Jan-Baptiste Davidstr 1 & Beslotenvennootschap & $\\dots$ \\\\\n",
       "\t13 & BRIDOUX SIEBE & BE0775.755.025 & 18/10/2021 & 8760 MEULEBEKE & Zelfstandige,handwerksman-fysischepersoon & $\\dots$ \\\\\n",
       "\t14 & GROOTAERD LENNERT & BE0725.470.720 & 17/04/2019 & 8680 KOEKELARE & Zelfstandige,handwerksman-fysischepersoon & $\\dots$ \\\\\n",
       "\t15 & LACUS & BE0776.625.055 & 27/10/2021 & Jan-Baptiste Davidstr 1 & Beslotenvennootschap & $\\dots$ \\\\\n",
       "\t16 & VAN WELDEN VITAL & BE0753.524.209 & 1/08/2020 & 8552 MOEN & Zelfstandige,handwerksman-fysischepersoon & $\\dots$ \\\\\n",
       "\t17 & CORNELIS CASPER & BE0729.909.558 & 8/07/2019 & 9790 OOIKE & Zelfstandige,handwerksman-fysischepersoon & $\\dots$ \\\\\n",
       "\t18 & LACUS & BE0776.625.055 & 27/10/2021 & Jan-Baptiste Davidstr 1 & Beslotenvennootschap & $\\dots$ \\\\\n",
       "\t19 & BRIDOUX SIEBE & BE0775.755.025 & 18/10/2021 & 8760 MEULEBEKE & Zelfstandige,handwerksman-fysischepersoon & $\\dots$ \\\\\n",
       "\t20 & GROOTAERD LENNERT & BE0725.470.720 & 17/04/2019 & 8680 KOEKELARE & Zelfstandige,handwerksman-fysischepersoon & $\\dots$ \\\\\n",
       "\t21 & LACUS & BE0776.625.055 & 27/10/2021 & Jan-Baptiste Davidstr 1 & Beslotenvennootschap & $\\dots$ \\\\\n",
       "\t22 & VAN WELDEN VITAL & BE0753.524.209 & 1/08/2020 & 8552 MOEN & Zelfstandige,handwerksman-fysischepersoon & $\\dots$ \\\\\n",
       "\t23 & CORNELIS CASPER & BE0729.909.558 & 8/07/2019 & 9790 OOIKE & Zelfstandige,handwerksman-fysischepersoon & $\\dots$ \\\\\n",
       "\t24 & LACUS & BE0776.625.055 & 27/10/2021 & Jan-Baptiste Davidstr 1 & Beslotenvennootschap & $\\dots$ \\\\\n",
       "\t25 & BRIDOUX SIEBE & BE0775.755.025 & 18/10/2021 & 8760 MEULEBEKE & Zelfstandige,handwerksman-fysischepersoon & $\\dots$ \\\\\n",
       "\t26 & GROOTAERD LENNERT & BE0725.470.720 & 17/04/2019 & 8680 KOEKELARE & Zelfstandige,handwerksman-fysischepersoon & $\\dots$ \\\\\n",
       "\t27 & LACUS & BE0776.625.055 & 27/10/2021 & Jan-Baptiste Davidstr 1 & Beslotenvennootschap & $\\dots$ \\\\\n",
       "\t28 & VAN WELDEN VITAL & BE0753.524.209 & 1/08/2020 & 8552 MOEN & Zelfstandige,handwerksman-fysischepersoon & $\\dots$ \\\\\n",
       "\t29 & CORNELIS CASPER & BE0729.909.558 & 8/07/2019 & 9790 OOIKE & Zelfstandige,handwerksman-fysischepersoon & $\\dots$ \\\\\n",
       "\t30 & LACUS & BE0776.625.055 & 27/10/2021 & Jan-Baptiste Davidstr 1 & Beslotenvennootschap & $\\dots$ \\\\\n",
       "\t$\\dots$ & $\\dots$ & $\\dots$ & $\\dots$ & $\\dots$ & $\\dots$ &  \\\\\n",
       "\\end{tabular}\n"
      ],
      "text/plain": [
       "\u001b[1m174×6 DataFrame\u001b[0m\n",
       "\u001b[1m Row \u001b[0m│\u001b[1m Name              \u001b[0m\u001b[1m VAT            \u001b[0m\u001b[1m Creation_Date \u001b[0m\u001b[1m Address              \u001b[0m ⋯\n",
       "\u001b[1m     \u001b[0m│\u001b[90m Any               \u001b[0m\u001b[90m Any            \u001b[0m\u001b[90m Any           \u001b[0m\u001b[90m Any                  \u001b[0m ⋯\n",
       "─────┼──────────────────────────────────────────────────────────────────────────\n",
       "   1 │ BRIDOUX SIEBE      BE0775.755.025  18/10/2021     8760 MEULEBEKE        ⋯\n",
       "   2 │ GROOTAERD LENNERT  BE0725.470.720  17/04/2019     8680 KOEKELARE\n",
       "   3 │ LACUS              BE0776.625.055  27/10/2021     Jan-Baptiste Davidstr\n",
       "   4 │ VAN WELDEN VITAL   BE0753.524.209  1/08/2020      8552 MOEN\n",
       "   5 │ CORNELIS CASPER    BE0729.909.558  8/07/2019      9790 OOIKE            ⋯\n",
       "   6 │ LACUS              BE0776.625.055  27/10/2021     Jan-Baptiste Davidstr\n",
       "   7 │ BRIDOUX SIEBE      BE0775.755.025  18/10/2021     8760 MEULEBEKE\n",
       "   8 │ GROOTAERD LENNERT  BE0725.470.720  17/04/2019     8680 KOEKELARE\n",
       "   9 │ LACUS              BE0776.625.055  27/10/2021     Jan-Baptiste Davidstr ⋯\n",
       "  10 │ VAN WELDEN VITAL   BE0753.524.209  1/08/2020      8552 MOEN\n",
       "  11 │ CORNELIS CASPER    BE0729.909.558  8/07/2019      9790 OOIKE\n",
       "  ⋮  │         ⋮                ⋮               ⋮                   ⋮          ⋱\n",
       " 165 │ LACUS              BE0776.625.055  27/10/2021     Jan-Baptiste Davidstr\n",
       " 166 │ VAN WELDEN VITAL   BE0753.524.209  1/08/2020      8552 MOEN             ⋯\n",
       " 167 │ CORNELIS CASPER    BE0729.909.558  8/07/2019      9790 OOIKE\n",
       " 168 │ LACUS              BE0776.625.055  27/10/2021     Jan-Baptiste Davidstr\n",
       " 169 │ BRIDOUX SIEBE      BE0775.755.025  18/10/2021     8760 MEULEBEKE\n",
       " 170 │ GROOTAERD LENNERT  BE0725.470.720  17/04/2019     8680 KOEKELARE        ⋯\n",
       " 171 │ LACUS              BE0776.625.055  27/10/2021     Jan-Baptiste Davidstr\n",
       " 172 │ VAN WELDEN VITAL   BE0753.524.209  1/08/2020      8552 MOEN\n",
       " 173 │ CORNELIS CASPER    BE0729.909.558  8/07/2019      9790 OOIKE\n",
       " 174 │ LACUS              BE0776.625.055  27/10/2021     Jan-Baptiste Davidstr ⋯\n",
       "\u001b[36m                                                  3 columns and 153 rows omitted\u001b[0m"
      ]
     },
     "execution_count": 131,
     "metadata": {},
     "output_type": "execute_result"
    }
   ],
   "source": [
    "BTW_gegevens_uitgaande_facturen"
   ]
  },
  {
   "cell_type": "code",
   "execution_count": 132,
   "metadata": {},
   "outputs": [
    {
     "ename": "LoadError",
     "evalue": "UndefVarError: i not defined",
     "output_type": "error",
     "traceback": [
      "UndefVarError: i not defined",
      "",
      "Stacktrace:",
      " [1] top-level scope",
      "   @ In[132]:1",
      " [2] eval",
      "   @ ./boot.jl:373 [inlined]",
      " [3] include_string(mapexpr::typeof(REPL.softscope), mod::Module, code::String, filename::String)",
      "   @ Base ./loading.jl:1196"
     ]
    }
   ],
   "source": [
    "url=\"https://trendstop.knack.be/nl/detail/$i\"\n",
    "r=HTTP.get(url)"
   ]
  },
  {
   "cell_type": "code",
   "execution_count": 133,
   "metadata": {},
   "outputs": [
    {
     "ename": "LoadError",
     "evalue": "UndefVarError: r not defined",
     "output_type": "error",
     "traceback": [
      "UndefVarError: r not defined",
      "",
      "Stacktrace:",
      " [1] top-level scope",
      "   @ In[133]:1",
      " [2] eval",
      "   @ ./boot.jl:373 [inlined]",
      " [3] include_string(mapexpr::typeof(REPL.softscope), mod::Module, code::String, filename::String)",
      "   @ Base ./loading.jl:1196"
     ]
    }
   ],
   "source": [
    "h= parsehtml(String(r.body))"
   ]
  },
  {
   "cell_type": "code",
   "execution_count": 134,
   "metadata": {},
   "outputs": [
    {
     "ename": "LoadError",
     "evalue": "UndefVarError: h not defined",
     "output_type": "error",
     "traceback": [
      "UndefVarError: h not defined",
      "",
      "Stacktrace:",
      " [1] top-level scope",
      "   @ In[134]:1",
      " [2] eval",
      "   @ ./boot.jl:373 [inlined]",
      " [3] include_string(mapexpr::typeof(REPL.softscope), mod::Module, code::String, filename::String)",
      "   @ Base ./loading.jl:1196"
     ]
    }
   ],
   "source": [
    "body=h.root[2]"
   ]
  },
  {
   "cell_type": "code",
   "execution_count": 135,
   "metadata": {},
   "outputs": [
    {
     "ename": "LoadError",
     "evalue": "UndefVarError: body not defined",
     "output_type": "error",
     "traceback": [
      "UndefVarError: body not defined",
      "",
      "Stacktrace:",
      " [1] top-level scope",
      "   @ In[135]:1",
      " [2] eval",
      "   @ ./boot.jl:373 [inlined]",
      " [3] include_string(mapexpr::typeof(REPL.softscope), mod::Module, code::String, filename::String)",
      "   @ Base ./loading.jl:1196"
     ]
    }
   ],
   "source": [
    "html=body[1][6][3][2][2][2][1][1][1]"
   ]
  },
  {
   "cell_type": "code",
   "execution_count": 136,
   "metadata": {},
   "outputs": [
    {
     "ename": "LoadError",
     "evalue": "MethodError: no method matching getindex(::typeof(html), ::Int64)",
     "output_type": "error",
     "traceback": [
      "MethodError: no method matching getindex(::typeof(html), ::Int64)",
      "",
      "Stacktrace:",
      " [1] top-level scope",
      "   @ In[136]:1",
      " [2] eval",
      "   @ ./boot.jl:373 [inlined]",
      " [3] include_string(mapexpr::typeof(REPL.softscope), mod::Module, code::String, filename::String)",
      "   @ Base ./loading.jl:1196"
     ]
    }
   ],
   "source": [
    "BTW_nr=html[1][1][1][2][1].text\n",
    "BTW_nr=replace.(BTW_nr, r\"\\n\"=>\"\")\n",
    "BTW_nr=replace.(BTW_nr, r\" \"=>\"\")"
   ]
  },
  {
   "cell_type": "code",
   "execution_count": 137,
   "metadata": {},
   "outputs": [
    {
     "ename": "LoadError",
     "evalue": "MethodError: no method matching getindex(::typeof(html), ::Int64)",
     "output_type": "error",
     "traceback": [
      "MethodError: no method matching getindex(::typeof(html), ::Int64)",
      "",
      "Stacktrace:",
      " [1] top-level scope",
      "   @ In[137]:1",
      " [2] eval",
      "   @ ./boot.jl:373 [inlined]",
      " [3] include_string(mapexpr::typeof(REPL.softscope), mod::Module, code::String, filename::String)",
      "   @ Base ./loading.jl:1196"
     ]
    }
   ],
   "source": [
    "Adres=html[1][1][2][2][1][1].text\n",
    "Adres=replace.(Adres, r\"\\n\"=>\"\")\n",
    "if Adres==\"Niet publiek zichtbaar omwille van de persoonlijke levenssfeer\"\n",
    "    Adres=html[1][1][2][2][2][1].text\n",
    "end"
   ]
  },
  {
   "cell_type": "code",
   "execution_count": 138,
   "metadata": {},
   "outputs": [
    {
     "ename": "LoadError",
     "evalue": "MethodError: no method matching getindex(::typeof(html), ::Int64)",
     "output_type": "error",
     "traceback": [
      "MethodError: no method matching getindex(::typeof(html), ::Int64)",
      "",
      "Stacktrace:",
      " [1] top-level scope",
      "   @ In[138]:1",
      " [2] eval",
      "   @ ./boot.jl:373 [inlined]",
      " [3] include_string(mapexpr::typeof(REPL.softscope), mod::Module, code::String, filename::String)",
      "   @ Base ./loading.jl:1196"
     ]
    }
   ],
   "source": [
    "Naam=html[1][1][4][2][1][1].text"
   ]
  },
  {
   "cell_type": "code",
   "execution_count": 139,
   "metadata": {},
   "outputs": [
    {
     "ename": "LoadError",
     "evalue": "MethodError: no method matching getindex(::typeof(html), ::Int64)",
     "output_type": "error",
     "traceback": [
      "MethodError: no method matching getindex(::typeof(html), ::Int64)",
      "",
      "Stacktrace:",
      " [1] top-level scope",
      "   @ In[139]:1",
      " [2] eval",
      "   @ ./boot.jl:373 [inlined]",
      " [3] include_string(mapexpr::typeof(REPL.softscope), mod::Module, code::String, filename::String)",
      "   @ Base ./loading.jl:1196"
     ]
    }
   ],
   "source": [
    "Rechtsvorm=html[1][1][5][2][1].text\n",
    "Rechtsvorm=replace.(Rechtsvorm, r\"\\n\"=>\"\")\n",
    "Rechtsvorm=replace.(Rechtsvorm, r\" \"=>\"\")"
   ]
  },
  {
   "cell_type": "code",
   "execution_count": 140,
   "metadata": {},
   "outputs": [
    {
     "ename": "LoadError",
     "evalue": "MethodError: no method matching getindex(::typeof(html), ::Int64)",
     "output_type": "error",
     "traceback": [
      "MethodError: no method matching getindex(::typeof(html), ::Int64)",
      "",
      "Stacktrace:",
      " [1] top-level scope",
      "   @ In[140]:1",
      " [2] eval",
      "   @ ./boot.jl:373 [inlined]",
      " [3] include_string(mapexpr::typeof(REPL.softscope), mod::Module, code::String, filename::String)",
      "   @ Base ./loading.jl:1196"
     ]
    }
   ],
   "source": [
    "Oprichtingsdatum=html[1][1][7][2][1].text\n",
    "Oprichtingsdatum=replace.(Oprichtingsdatum, r\"\\n\"=>\"\")\n",
    "Oprichtingsdatum=replace.(Oprichtingsdatum, r\" \"=>\"\")"
   ]
  },
  {
   "cell_type": "code",
   "execution_count": 141,
   "metadata": {},
   "outputs": [
    {
     "ename": "LoadError",
     "evalue": "MethodError: no method matching getindex(::typeof(html), ::Int64)",
     "output_type": "error",
     "traceback": [
      "MethodError: no method matching getindex(::typeof(html), ::Int64)",
      "",
      "Stacktrace:",
      " [1] top-level scope",
      "   @ In[141]:1",
      " [2] eval",
      "   @ ./boot.jl:373 [inlined]",
      " [3] include_string(mapexpr::typeof(REPL.softscope), mod::Module, code::String, filename::String)",
      "   @ Base ./loading.jl:1196"
     ]
    }
   ],
   "source": [
    "Sector=html[2][1][2][2][1][1].text"
   ]
  },
  {
   "cell_type": "code",
   "execution_count": null,
   "metadata": {},
   "outputs": [],
   "source": []
  },
  {
   "cell_type": "code",
   "execution_count": 142,
   "metadata": {},
   "outputs": [
    {
     "name": "stderr",
     "output_type": "stream",
     "text": [
      "┌ Warning: Module model_selection has been ported to Julia - try `import ScikitLearn: CrossValidation` instead\n",
      "└ @ ScikitLearn.Skcore /Users/casper/.julia/packages/ScikitLearn/ssekP/src/Skcore.jl:179\n",
      "WARNING: redefinition of constant train_test_split. This may fail, cause incorrect answers, or produce other errors.\n"
     ]
    },
    {
     "data": {
      "text/plain": [
       "PyObject <function train_test_split at 0x163421550>"
      ]
     },
     "execution_count": 142,
     "metadata": {},
     "output_type": "execute_result"
    }
   ],
   "source": [
    "@sk_import model_selection: train_test_split"
   ]
  },
  {
   "cell_type": "code",
   "execution_count": null,
   "metadata": {},
   "outputs": [],
   "source": []
  },
  {
   "cell_type": "code",
   "execution_count": 143,
   "metadata": {},
   "outputs": [
    {
     "ename": "LoadError",
     "evalue": "UndefVarError: iris_x not defined",
     "output_type": "error",
     "traceback": [
      "UndefVarError: iris_x not defined",
      "",
      "Stacktrace:",
      " [1] top-level scope",
      "   @ In[143]:1",
      " [2] eval",
      "   @ ./boot.jl:373 [inlined]",
      " [3] include_string(mapexpr::typeof(REPL.softscope), mod::Module, code::String, filename::String)",
      "   @ Base ./loading.jl:1196"
     ]
    }
   ],
   "source": [
    "x_train,x_test,y_train,y_test=train_test_split(iris_x,iris_y,test_size=.3,random_state=1)"
   ]
  },
  {
   "cell_type": "code",
   "execution_count": 144,
   "metadata": {},
   "outputs": [
    {
     "data": {
      "text/plain": [
       "341"
      ]
     },
     "execution_count": 144,
     "metadata": {},
     "output_type": "execute_result"
    }
   ],
   "source": [
    "nrow(dataset)"
   ]
  },
  {
   "cell_type": "code",
   "execution_count": 145,
   "metadata": {},
   "outputs": [
    {
     "data": {
      "text/plain": [
       "8-element Vector{Any}:\n",
       " \"          FACTUUR             \" ⋯ 1556 bytes ⋯ \"LGEMENE VOORWAARDEN           \"\n",
       " \"          FACTUUR             \" ⋯ 1562 bytes ⋯ \"LGEMENE VOORWAARDEN           \"\n",
       " \"          FACTUUR             \" ⋯ 1564 bytes ⋯ \"LGEMENE VOORWAARDEN           \"\n",
       " \"        GOFACTUUR             \" ⋯ 1641 bytes ⋯ \"LGEMENE VOORWAARDEN           \"\n",
       " \"          FACTUUR             \" ⋯ 1511 bytes ⋯ \"                              \"\n",
       " \"          FACTUUR             \" ⋯ 1432 bytes ⋯ \"                              \"\n",
       " \"          FACTUUR             \" ⋯ 1470 bytes ⋯ \"                              \"\n",
       " \"         GOFACTUUR            \" ⋯ 1479 bytes ⋯ \"                              \""
      ]
     },
     "execution_count": 145,
     "metadata": {},
     "output_type": "execute_result"
    }
   ],
   "source": [
    "words=filter(contains(r\"a|b|c|d|e|f|g|h|i|j|k|l|m|n|o|p|q|r|s|t|u|v|w|x|y|z\"), l1st)"
   ]
  },
  {
   "cell_type": "code",
   "execution_count": 146,
   "metadata": {},
   "outputs": [
    {
     "data": {
      "text/plain": [
       "8-element Vector{Any}:\n",
       " \"          FACTUUR             \" ⋯ 1556 bytes ⋯ \"LGEMENE VOORWAARDEN           \"\n",
       " \"          FACTUUR             \" ⋯ 1562 bytes ⋯ \"LGEMENE VOORWAARDEN           \"\n",
       " \"          FACTUUR             \" ⋯ 1564 bytes ⋯ \"LGEMENE VOORWAARDEN           \"\n",
       " \"        GOFACTUUR             \" ⋯ 1641 bytes ⋯ \"LGEMENE VOORWAARDEN           \"\n",
       " \"          FACTUUR             \" ⋯ 1511 bytes ⋯ \"                              \"\n",
       " \"          FACTUUR             \" ⋯ 1432 bytes ⋯ \"                              \"\n",
       " \"          FACTUUR             \" ⋯ 1470 bytes ⋯ \"                              \"\n",
       " \"         GOFACTUUR            \" ⋯ 1479 bytes ⋯ \"                              \""
      ]
     },
     "execution_count": 146,
     "metadata": {},
     "output_type": "execute_result"
    }
   ],
   "source": [
    "euro=filter(contains(r\"[€]\"), l1st)\n",
    "email=filter(contains(r\"[@]\"), l1st)"
   ]
  },
  {
   "cell_type": "code",
   "execution_count": 147,
   "metadata": {},
   "outputs": [
    {
     "data": {
      "text/plain": [
       "8-element Vector{Any}:\n",
       " \"          FACTUUR             \" ⋯ 1556 bytes ⋯ \"LGEMENE VOORWAARDEN           \"\n",
       " \"          FACTUUR             \" ⋯ 1562 bytes ⋯ \"LGEMENE VOORWAARDEN           \"\n",
       " \"          FACTUUR             \" ⋯ 1564 bytes ⋯ \"LGEMENE VOORWAARDEN           \"\n",
       " \"        GOFACTUUR             \" ⋯ 1641 bytes ⋯ \"LGEMENE VOORWAARDEN           \"\n",
       " \"          FACTUUR             \" ⋯ 1511 bytes ⋯ \"                              \"\n",
       " \"          FACTUUR             \" ⋯ 1432 bytes ⋯ \"                              \"\n",
       " \"          FACTUUR             \" ⋯ 1470 bytes ⋯ \"                              \"\n",
       " \"         GOFACTUUR            \" ⋯ 1479 bytes ⋯ \"                              \""
      ]
     },
     "execution_count": 147,
     "metadata": {},
     "output_type": "execute_result"
    }
   ],
   "source": [
    "euro"
   ]
  },
  {
   "cell_type": "code",
   "execution_count": 55,
   "metadata": {},
   "outputs": [
    {
     "ename": "LoadError",
     "evalue": "ArgumentError: invalid index: ! of type typeof(!)",
     "output_type": "error",
     "traceback": [
      "ArgumentError: invalid index: ! of type typeof(!)",
      "",
      "Stacktrace:",
      " [1] to_index(i::Function)",
      "   @ Base ./indices.jl:300",
      " [2] to_index(A::Vector{String}, i::Function)",
      "   @ Base ./indices.jl:277",
      " [3] to_indices(A::Vector{String}, inds::Tuple{Base.OneTo{Int64}}, I::Tuple{typeof(!), Int64})",
      "   @ Base ./indices.jl:333",
      " [4] to_indices",
      "   @ ./indices.jl:324 [inlined]",
      " [5] getindex(::Vector{String}, ::Function, ::Int64)",
      "   @ Base ./abstractarray.jl:1218",
      " [6] top-level scope",
      "   @ In[55]:1",
      " [7] eval",
      "   @ ./boot.jl:373 [inlined]",
      " [8] include_string(mapexpr::typeof(REPL.softscope), mod::Module, code::String, filename::String)",
      "   @ Base ./loading.jl:1196"
     ]
    }
   ],
   "source": [
    "countries=countries[!,1]"
   ]
  },
  {
   "cell_type": "code",
   "execution_count": 56,
   "metadata": {},
   "outputs": [
    {
     "data": {
      "text/plain": [
       "41-element Vector{String}:\n",
       " \"Belgium\"\n",
       " \"Belize\"\n",
       " \"Benin\"\n",
       " \"Bermuda\"\n",
       " \"Bhutan\"\n",
       " \"Bolivia\"\n",
       " \"Bosnia&Herzegovina\"\n",
       " \"Botswana\"\n",
       " \"Brazil\"\n",
       " \"BritishVirginIs.\"\n",
       " \"Brunei\"\n",
       " \"Bulgaria\"\n",
       " \"BurkinaFaso\"\n",
       " ⋮\n",
       " \"CostaRica\"\n",
       " \"Coted'Ivoire\"\n",
       " \"Croatia\"\n",
       " \"Cuba\"\n",
       " \"Cyprus\"\n",
       " \"CzechRepublic\"\n",
       " \"Denmark\"\n",
       " \"Djibouti\"\n",
       " \"Dominica\"\n",
       " \"DominicanRepublic\"\n",
       " \"EastTimor\"\n",
       " \"Ecuador\""
      ]
     },
     "execution_count": 56,
     "metadata": {},
     "output_type": "execute_result"
    }
   ],
   "source": [
    "countries[20:60]"
   ]
  },
  {
   "cell_type": "code",
   "execution_count": 37,
   "metadata": {},
   "outputs": [
    {
     "data": {
      "text/plain": [
       "227-element Vector{String}:\n",
       " \"Afghanistan\"\n",
       " \"Albania\"\n",
       " \"Algeria\"\n",
       " \"AmericanSamoa\"\n",
       " \"Andorra\"\n",
       " \"Angola\"\n",
       " \"Anguilla\"\n",
       " \"Antigua&Barbuda\"\n",
       " \"Argentina\"\n",
       " \"Armenia\"\n",
       " \"Aruba\"\n",
       " \"Australia\"\n",
       " \"Austria\"\n",
       " ⋮\n",
       " \"Uruguay\"\n",
       " \"Uzbekistan\"\n",
       " \"Vanuatu\"\n",
       " \"Venezuela\"\n",
       " \"Vietnam\"\n",
       " \"VirginIslands\"\n",
       " \"WallisandFutuna\"\n",
       " \"WestBank\"\n",
       " \"WesternSahara\"\n",
       " \"Yemen\"\n",
       " \"Zambia\"\n",
       " \"Zimbabwe\""
      ]
     },
     "execution_count": 37,
     "metadata": {},
     "output_type": "execute_result"
    }
   ],
   "source": [
    "countries=replace.(countries, r\" \"=>\"\")"
   ]
  },
  {
   "cell_type": "code",
   "execution_count": null,
   "metadata": {},
   "outputs": [],
   "source": []
  },
  {
   "cell_type": "code",
   "execution_count": 38,
   "metadata": {},
   "outputs": [],
   "source": [
    "x=0\n",
    "postcode=[]\n",
    "tel=[]\n",
    "BTW=[]\n",
    "land=\"\"\n",
    "\n",
    "for i in l1st\n",
    "    for x in values(countries)\n",
    "        #println(i)\n",
    "        i=replace.(i, r\" \"=>\"\")\n",
    "        if uppercase(x)==uppercase(i)\n",
    "            land=x\n",
    "        end\n",
    "    end           \n",
    "        \n",
    "    if length(i)== 4\n",
    "            push!(postcode,i)\n",
    "    end\n",
    "    \n",
    "    if length(i)==10 || length(i)==12\n",
    "       if startswith(i,\"+32\") ==true || startswith(i,\"04\") ==true \n",
    "            push!(tel,i)\n",
    "        end \n",
    "        \n",
    "        if startswith(i,\"07\")==true || startswith(i,\"BE\") ==true \n",
    "            push!(BTW,i) \n",
    "        end \n",
    "        \n",
    "        \n",
    "    end \n",
    "        \n",
    "end\n",
    "\n",
    "\n"
   ]
  },
  {
   "cell_type": "code",
   "execution_count": 39,
   "metadata": {},
   "outputs": [
    {
     "data": {
      "text/plain": [
       "Any[]"
      ]
     },
     "execution_count": 39,
     "metadata": {},
     "output_type": "execute_result"
    }
   ],
   "source": [
    "tel"
   ]
  },
  {
   "cell_type": "code",
   "execution_count": 40,
   "metadata": {},
   "outputs": [
    {
     "data": {
      "text/plain": [
       "Any[]"
      ]
     },
     "execution_count": 40,
     "metadata": {},
     "output_type": "execute_result"
    }
   ],
   "source": [
    "BTW"
   ]
  },
  {
   "cell_type": "code",
   "execution_count": 54,
   "metadata": {},
   "outputs": [
    {
     "data": {
      "text/html": [
       "<div class=\"data-frame\"><p>1 rows × 5 columns</p><table class=\"data-frame\"><thead><tr><th></th><th>Email</th><th>Country</th><th>VAT</th><th>Telephone</th><th>Total_€</th></tr><tr><th></th><th title=\"Any\">Any</th><th title=\"Any\">Any</th><th title=\"Any\">Any</th><th title=\"Any\">Any</th><th title=\"Any\">Any</th></tr></thead><tbody><tr><th>1</th><td>0</td><td>0</td><td>0</td><td>0</td><td>0</td></tr></tbody></table></div>"
      ],
      "text/latex": [
       "\\begin{tabular}{r|ccccc}\n",
       "\t& Email & Country & VAT & Telephone & Total\\_€\\\\\n",
       "\t\\hline\n",
       "\t& Any & Any & Any & Any & Any\\\\\n",
       "\t\\hline\n",
       "\t1 & 0 & 0 & 0 & 0 & 0 \\\\\n",
       "\\end{tabular}\n"
      ],
      "text/plain": [
       "\u001b[1m1×5 DataFrame\u001b[0m\n",
       "\u001b[1m Row \u001b[0m│\u001b[1m Email \u001b[0m\u001b[1m Country \u001b[0m\u001b[1m VAT \u001b[0m\u001b[1m Telephone \u001b[0m\u001b[1m Total_€ \u001b[0m\n",
       "\u001b[1m     \u001b[0m│\u001b[90m Any   \u001b[0m\u001b[90m Any     \u001b[0m\u001b[90m Any \u001b[0m\u001b[90m Any       \u001b[0m\u001b[90m Any     \u001b[0m\n",
       "─────┼─────────────────────────────────────────\n",
       "   1 │ 0      0        0    0          0"
      ]
     },
     "execution_count": 54,
     "metadata": {},
     "output_type": "execute_result"
    }
   ],
   "source": [
    "push!(dataset,[0,0,0,0,0])"
   ]
  },
  {
   "cell_type": "code",
   "execution_count": null,
   "metadata": {},
   "outputs": [],
   "source": []
  },
  {
   "cell_type": "code",
   "execution_count": 270,
   "metadata": {},
   "outputs": [
    {
     "name": "stdout",
     "output_type": "stream",
     "text": [
      "NaiveBayesClassifier{String}([\"sewaest\", \"siebren\", \"verdonck\", \"bert\", \"factuur\", \"datum\", \"totaal\", \"22\", \"blb\"], [\"YES\", \"NO\"], [3 1; 3 1; 3 1; 3 1; 1 3; 1 3; 1 3; 1 2; 1 2])\n"
     ]
    }
   ],
   "source": [
    "using TextAnalysis: NaiveBayesClassifier, fit!, predict\n",
    "using TextAnalysis\n",
    "\n",
    "function create_string_doc(s)\n",
    "    sd = StringDocument(s)\n",
    "    op = 0x00\n",
    "    op |= strip_punctuation\n",
    "    op |= strip_stopwords\n",
    "    op |= strip_html_tags\n",
    "    prepare!(sd, op)\n",
    "    stem!(sd)\n",
    "    return sd\n",
    "end\n",
    "\n",
    "df2= DataFrame(Name=[\"siebren sewaest\",\"bert verdonck\",\"factuur\",\"datum\",\"totaal\",\"22\",\"siebren sewaest\",\"bert verdonck\",\"factuur\",\"datum\",\"totaal\",\"blb\"],Result=[\"YES\",\"YES\",\"NO\",\"NO\",\"NO\",\"NO\",\"YES\",\"YES\",\"NO\",\"NO\",\"NO\",\"NO\"])\n",
    "model = let\n",
    "    Results = unique(df2.Result)\n",
    "    nbc = NaiveBayesClassifier(Results)\n",
    "    for (Name, class) in zip(df2.Name , df2.Result)\n",
    "        sd = create_string_doc(Name)\n",
    "        fit!(nbc, sd, class)\n",
    "    end\n",
    "    println(nbc)\n",
    "    nbc\n",
    "end;\n"
   ]
  },
  {
   "cell_type": "code",
   "execution_count": 271,
   "metadata": {},
   "outputs": [
    {
     "data": {
      "text/html": [
       "<div class=\"data-frame\"><p>12 rows × 2 columns</p><table class=\"data-frame\"><thead><tr><th></th><th>Name</th><th>Result</th></tr><tr><th></th><th title=\"String\">String</th><th title=\"String\">String</th></tr></thead><tbody><tr><th>1</th><td>siebren sewaest</td><td>YES</td></tr><tr><th>2</th><td>bert verdonck</td><td>YES</td></tr><tr><th>3</th><td>factuur</td><td>NO</td></tr><tr><th>4</th><td>datum</td><td>NO</td></tr><tr><th>5</th><td>totaal</td><td>NO</td></tr><tr><th>6</th><td>22</td><td>NO</td></tr><tr><th>7</th><td>siebren sewaest</td><td>YES</td></tr><tr><th>8</th><td>bert verdonck</td><td>YES</td></tr><tr><th>9</th><td>factuur</td><td>NO</td></tr><tr><th>10</th><td>datum</td><td>NO</td></tr><tr><th>11</th><td>totaal</td><td>NO</td></tr><tr><th>12</th><td>blb</td><td>NO</td></tr></tbody></table></div>"
      ],
      "text/latex": [
       "\\begin{tabular}{r|cc}\n",
       "\t& Name & Result\\\\\n",
       "\t\\hline\n",
       "\t& String & String\\\\\n",
       "\t\\hline\n",
       "\t1 & siebren sewaest & YES \\\\\n",
       "\t2 & bert verdonck & YES \\\\\n",
       "\t3 & factuur & NO \\\\\n",
       "\t4 & datum & NO \\\\\n",
       "\t5 & totaal & NO \\\\\n",
       "\t6 & 22 & NO \\\\\n",
       "\t7 & siebren sewaest & YES \\\\\n",
       "\t8 & bert verdonck & YES \\\\\n",
       "\t9 & factuur & NO \\\\\n",
       "\t10 & datum & NO \\\\\n",
       "\t11 & totaal & NO \\\\\n",
       "\t12 & blb & NO \\\\\n",
       "\\end{tabular}\n"
      ],
      "text/plain": [
       "\u001b[1m12×2 DataFrame\u001b[0m\n",
       "\u001b[1m Row \u001b[0m│\u001b[1m Name            \u001b[0m\u001b[1m Result \u001b[0m\n",
       "\u001b[1m     \u001b[0m│\u001b[90m String          \u001b[0m\u001b[90m String \u001b[0m\n",
       "─────┼─────────────────────────\n",
       "   1 │ siebren sewaest  YES\n",
       "   2 │ bert verdonck    YES\n",
       "   3 │ factuur          NO\n",
       "   4 │ datum            NO\n",
       "   5 │ totaal           NO\n",
       "   6 │ 22               NO\n",
       "   7 │ siebren sewaest  YES\n",
       "   8 │ bert verdonck    YES\n",
       "   9 │ factuur          NO\n",
       "  10 │ datum            NO\n",
       "  11 │ totaal           NO\n",
       "  12 │ blb              NO"
      ]
     },
     "execution_count": 271,
     "metadata": {},
     "output_type": "execute_result"
    }
   ],
   "source": [
    "df2"
   ]
  },
  {
   "cell_type": "code",
   "execution_count": 272,
   "metadata": {},
   "outputs": [],
   "source": [
    "function test_model(model, l1st) # Bayes method\n",
    "    df = DataFrame(text = l1st)\n",
    "    df.doc = TextAnalysis.text.(create_string_doc.(l1st))\n",
    "    df.analysis = predict.(Ref(model), df.doc)\n",
    "    print(df.analysis)\n",
    "    df.YES = getindex.(df.analysis, \"YES\")\n",
    "    df.NO = getindex.(df.analysis, \"NO\")\n",
    "    select!(df, Not(:analysis))\n",
    "    return df\n",
    "end;"
   ]
  },
  {
   "cell_type": "code",
   "execution_count": 273,
   "metadata": {},
   "outputs": [
    {
     "name": "stdout",
     "output_type": "stream",
     "text": [
      "[Dict(\"NO\" => 0.25, \"YES\" => 0.7500000000000001), Dict(\"NO\" => 0.7500000000000001, \"YES\" => 0.25), Dict(\"NO\" => 0.5, \"YES\" => 0.5), Dict(\"NO\" => 0.5, \"YES\" => 0.5), Dict(\"NO\" => 0.5, \"YES\" => 0.5)]"
     ]
    },
    {
     "data": {
      "text/html": [
       "<div class=\"data-frame\"><p>5 rows × 4 columns</p><table class=\"data-frame\"><thead><tr><th></th><th>text</th><th>doc</th><th>YES</th><th>NO</th></tr><tr><th></th><th title=\"String\">String</th><th title=\"String\">String</th><th title=\"Float64\">Float64</th><th title=\"Float64\">Float64</th></tr></thead><tbody><tr><th>1</th><td>Bert</td><td>Bert</td><td>0.75</td><td>0.25</td></tr><tr><th>2</th><td>Factuur</td><td>Factuur</td><td>0.25</td><td>0.75</td></tr><tr><th>3</th><td>just ok</td><td>ok</td><td>0.5</td><td>0.5</td></tr><tr><th>4</th><td>Hai</td><td>Hai</td><td>0.5</td><td>0.5</td></tr><tr><th>5</th><td>i hate this game</td><td>hate game</td><td>0.5</td><td>0.5</td></tr></tbody></table></div>"
      ],
      "text/latex": [
       "\\begin{tabular}{r|cccc}\n",
       "\t& text & doc & YES & NO\\\\\n",
       "\t\\hline\n",
       "\t& String & String & Float64 & Float64\\\\\n",
       "\t\\hline\n",
       "\t1 & Bert & Bert & 0.75 & 0.25 \\\\\n",
       "\t2 & Factuur & Factuur & 0.25 & 0.75 \\\\\n",
       "\t3 & just ok & ok & 0.5 & 0.5 \\\\\n",
       "\t4 & Hai & Hai & 0.5 & 0.5 \\\\\n",
       "\t5 & i hate this game & hate game & 0.5 & 0.5 \\\\\n",
       "\\end{tabular}\n"
      ],
      "text/plain": [
       "\u001b[1m5×4 DataFrame\u001b[0m\n",
       "\u001b[1m Row \u001b[0m│\u001b[1m text             \u001b[0m\u001b[1m doc       \u001b[0m\u001b[1m YES     \u001b[0m\u001b[1m NO      \u001b[0m\n",
       "\u001b[1m     \u001b[0m│\u001b[90m String           \u001b[0m\u001b[90m String    \u001b[0m\u001b[90m Float64 \u001b[0m\u001b[90m Float64 \u001b[0m\n",
       "─────┼───────────────────────────────────────────────\n",
       "   1 │ Bert              Bert          0.75     0.25\n",
       "   2 │ Factuur           Factuur       0.25     0.75\n",
       "   3 │ just ok           ok            0.5      0.5\n",
       "   4 │ Hai               Hai           0.5      0.5\n",
       "   5 │ i hate this game  hate game     0.5      0.5"
      ]
     },
     "execution_count": 273,
     "metadata": {},
     "output_type": "execute_result"
    }
   ],
   "source": [
    "let\n",
    "tweets = [\n",
    "    \"Bert\",\n",
    "    \"Factuur\",\n",
    "    \"just ok\",\n",
    "    \"Hai\",\n",
    "    \"i hate this game\"]\n",
    "    test_model(model, tweets)\n",
    "end\n",
    "\n"
   ]
  },
  {
   "cell_type": "code",
   "execution_count": null,
   "metadata": {},
   "outputs": [],
   "source": []
  }
 ],
 "metadata": {
  "kernelspec": {
   "display_name": "Julia 1.7.2",
   "language": "julia",
   "name": "julia-1.7"
  },
  "language_info": {
   "file_extension": ".jl",
   "mimetype": "application/julia",
   "name": "julia",
   "version": "1.7.2"
  }
 },
 "nbformat": 4,
 "nbformat_minor": 5
}
